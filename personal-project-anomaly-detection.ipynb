{
 "cells": [
  {
   "cell_type": "code",
   "execution_count": 1,
   "id": "ee171aec",
   "metadata": {
    "_cell_guid": "b1076dfc-b9ad-4769-8c92-a6c4dae69d19",
    "_uuid": "8f2839f25d086af736a60e9eeb907d3b93b6e0e5",
    "execution": {
     "iopub.execute_input": "2023-02-07T11:59:13.849318Z",
     "iopub.status.busy": "2023-02-07T11:59:13.848744Z",
     "iopub.status.idle": "2023-02-07T11:59:13.935089Z",
     "shell.execute_reply": "2023-02-07T11:59:13.933882Z"
    },
    "papermill": {
     "duration": 0.102876,
     "end_time": "2023-02-07T11:59:13.939100",
     "exception": false,
     "start_time": "2023-02-07T11:59:13.836224",
     "status": "completed"
    },
    "tags": []
   },
   "outputs": [
    {
     "name": "stdout",
     "output_type": "stream",
     "text": [
      "/kaggle/input/skab-anomaly-detection/SKAB-master/LICENSE\n",
      "/kaggle/input/skab-anomaly-detection/SKAB-master/.gitignore\n",
      "/kaggle/input/skab-anomaly-detection/SKAB-master/README.md\n",
      "/kaggle/input/skab-anomaly-detection/SKAB-master/utils/t2.py\n",
      "/kaggle/input/skab-anomaly-detection/SKAB-master/utils/__init__.py\n",
      "/kaggle/input/skab-anomaly-detection/SKAB-master/docs/contributing.md\n",
      "/kaggle/input/skab-anomaly-detection/SKAB-master/docs/pictures/skab.png\n",
      "/kaggle/input/skab-anomaly-detection/SKAB-master/docs/pictures/testbed.png\n",
      "/kaggle/input/skab-anomaly-detection/SKAB-master/docs/pictures/nab-metric.jpg\n",
      "/kaggle/input/skab-anomaly-detection/SKAB-master/notebooks/hotelling_q.ipynb\n",
      "/kaggle/input/skab-anomaly-detection/SKAB-master/notebooks/mscred.ipynb\n",
      "/kaggle/input/skab-anomaly-detection/SKAB-master/notebooks/isolation_forest.ipynb\n",
      "/kaggle/input/skab-anomaly-detection/SKAB-master/notebooks/VAE.ipynb\n",
      "/kaggle/input/skab-anomaly-detection/SKAB-master/notebooks/LSTM-AE.ipynb\n",
      "/kaggle/input/skab-anomaly-detection/SKAB-master/notebooks/LSTM-VAE.ipynb\n",
      "/kaggle/input/skab-anomaly-detection/SKAB-master/notebooks/EDA.ipynb\n",
      "/kaggle/input/skab-anomaly-detection/SKAB-master/notebooks/README.md\n",
      "/kaggle/input/skab-anomaly-detection/SKAB-master/notebooks/hotelling.ipynb\n",
      "/kaggle/input/skab-anomaly-detection/SKAB-master/notebooks/autoencoder.ipynb\n",
      "/kaggle/input/skab-anomaly-detection/SKAB-master/notebooks/lstm.ipynb\n",
      "/kaggle/input/skab-anomaly-detection/SKAB-master/notebooks/Conv-AE.ipynb\n",
      "/kaggle/input/skab-anomaly-detection/SKAB-master/notebooks/requirements.txt\n",
      "/kaggle/input/skab-anomaly-detection/SKAB-master/notebooks/ArimaFD.ipynb\n",
      "/kaggle/input/skab-anomaly-detection/SKAB-master/notebooks/MSET.ipynb\n",
      "/kaggle/input/skab-anomaly-detection/SKAB-master/data/README.md\n",
      "/kaggle/input/skab-anomaly-detection/SKAB-master/data/Load data.ipynb\n",
      "/kaggle/input/skab-anomaly-detection/SKAB-master/data/valve2/1.csv\n",
      "/kaggle/input/skab-anomaly-detection/SKAB-master/data/valve2/3.csv\n",
      "/kaggle/input/skab-anomaly-detection/SKAB-master/data/valve2/2.csv\n",
      "/kaggle/input/skab-anomaly-detection/SKAB-master/data/valve2/0.csv\n",
      "/kaggle/input/skab-anomaly-detection/SKAB-master/data/other/1.csv\n",
      "/kaggle/input/skab-anomaly-detection/SKAB-master/data/other/11.csv\n",
      "/kaggle/input/skab-anomaly-detection/SKAB-master/data/other/3.csv\n",
      "/kaggle/input/skab-anomaly-detection/SKAB-master/data/other/5.csv\n",
      "/kaggle/input/skab-anomaly-detection/SKAB-master/data/other/2.csv\n",
      "/kaggle/input/skab-anomaly-detection/SKAB-master/data/other/13.csv\n",
      "/kaggle/input/skab-anomaly-detection/SKAB-master/data/other/14.csv\n",
      "/kaggle/input/skab-anomaly-detection/SKAB-master/data/other/4.csv\n",
      "/kaggle/input/skab-anomaly-detection/SKAB-master/data/other/8.csv\n",
      "/kaggle/input/skab-anomaly-detection/SKAB-master/data/other/12.csv\n",
      "/kaggle/input/skab-anomaly-detection/SKAB-master/data/other/9.csv\n",
      "/kaggle/input/skab-anomaly-detection/SKAB-master/data/other/7.csv\n",
      "/kaggle/input/skab-anomaly-detection/SKAB-master/data/other/6.csv\n",
      "/kaggle/input/skab-anomaly-detection/SKAB-master/data/other/10.csv\n",
      "/kaggle/input/skab-anomaly-detection/SKAB-master/data/valve1/1.csv\n",
      "/kaggle/input/skab-anomaly-detection/SKAB-master/data/valve1/11.csv\n",
      "/kaggle/input/skab-anomaly-detection/SKAB-master/data/valve1/3.csv\n",
      "/kaggle/input/skab-anomaly-detection/SKAB-master/data/valve1/5.csv\n",
      "/kaggle/input/skab-anomaly-detection/SKAB-master/data/valve1/2.csv\n",
      "/kaggle/input/skab-anomaly-detection/SKAB-master/data/valve1/13.csv\n",
      "/kaggle/input/skab-anomaly-detection/SKAB-master/data/valve1/14.csv\n",
      "/kaggle/input/skab-anomaly-detection/SKAB-master/data/valve1/4.csv\n",
      "/kaggle/input/skab-anomaly-detection/SKAB-master/data/valve1/8.csv\n",
      "/kaggle/input/skab-anomaly-detection/SKAB-master/data/valve1/12.csv\n",
      "/kaggle/input/skab-anomaly-detection/SKAB-master/data/valve1/9.csv\n",
      "/kaggle/input/skab-anomaly-detection/SKAB-master/data/valve1/7.csv\n",
      "/kaggle/input/skab-anomaly-detection/SKAB-master/data/valve1/0.csv\n",
      "/kaggle/input/skab-anomaly-detection/SKAB-master/data/valve1/15.csv\n",
      "/kaggle/input/skab-anomaly-detection/SKAB-master/data/valve1/6.csv\n",
      "/kaggle/input/skab-anomaly-detection/SKAB-master/data/valve1/10.csv\n",
      "/kaggle/input/skab-anomaly-detection/SKAB-master/data/anomaly-free/anomaly-free.csv\n"
     ]
    }
   ],
   "source": [
    "# This Python 3 environment comes with many helpful analytics libraries installed\n",
    "# It is defined by the kaggle/python Docker image: https://github.com/kaggle/docker-python\n",
    "# For example, here's several helpful packages to load\n",
    "\n",
    "import numpy as np # linear algebra\n",
    "import pandas as pd # data processing, CSV file I/O (e.g. pd.read_csv)\n",
    "\n",
    "# Input data files are available in the read-only \"../input/\" directory\n",
    "# For example, running this (by clicking run or pressing Shift+Enter) will list all files under the input directory\n",
    "\n",
    "import os\n",
    "for dirname, _, filenames in os.walk('/kaggle/input'):\n",
    "    for filename in filenames:\n",
    "        print(os.path.join(dirname, filename))\n",
    "\n",
    "# You can write up to 20GB to the current directory (/kaggle/working/) that gets preserved as output when you create a version using \"Save & Run All\" \n",
    "# You can also write temporary files to /kaggle/temp/, but they won't be saved outside of the current session"
   ]
  },
  {
   "cell_type": "code",
   "execution_count": 2,
   "id": "1db324ab",
   "metadata": {
    "execution": {
     "iopub.execute_input": "2023-02-07T11:59:13.954042Z",
     "iopub.status.busy": "2023-02-07T11:59:13.953611Z",
     "iopub.status.idle": "2023-02-07T11:59:22.507093Z",
     "shell.execute_reply": "2023-02-07T11:59:22.505263Z"
    },
    "papermill": {
     "duration": 8.564127,
     "end_time": "2023-02-07T11:59:22.510204",
     "exception": false,
     "start_time": "2023-02-07T11:59:13.946077",
     "status": "completed"
    },
    "tags": []
   },
   "outputs": [],
   "source": [
    "import pandas as pd\n",
    "import matplotlib.pyplot as plt\n",
    "import os\n",
    "import numpy as np\n",
    "\n",
    "from tensorflow import keras\n",
    "from tensorflow.keras import layers\n",
    "from sklearn.metrics import mean_absolute_error, mean_squared_error \n",
    "from sklearn.model_selection import train_test_split\n",
    "from sklearn.preprocessing import StandardScaler "
   ]
  },
  {
   "cell_type": "markdown",
   "id": "faedc8da",
   "metadata": {
    "papermill": {
     "duration": 0.005557,
     "end_time": "2023-02-07T11:59:22.521881",
     "exception": false,
     "start_time": "2023-02-07T11:59:22.516324",
     "status": "completed"
    },
    "tags": []
   },
   "source": [
    "# Introductory Summary\n",
    "\n",
    "1.  Dataset : SkoltechAnomaly Benchmark (SKAB)\n",
    "1.  Model : 1D Convolutional Autoencoder\n",
    "1.  Activation Function : ReLU\n",
    "1.  Framework : Keras"
   ]
  },
  {
   "cell_type": "markdown",
   "id": "71905490",
   "metadata": {
    "papermill": {
     "duration": 0.005476,
     "end_time": "2023-02-07T11:59:22.533831",
     "exception": false,
     "start_time": "2023-02-07T11:59:22.528355",
     "status": "completed"
    },
    "tags": []
   },
   "source": [
    "* ###  Data Summary"
   ]
  },
  {
   "cell_type": "code",
   "execution_count": 3,
   "id": "06c2afbb",
   "metadata": {
    "execution": {
     "iopub.execute_input": "2023-02-07T11:59:22.548236Z",
     "iopub.status.busy": "2023-02-07T11:59:22.547461Z",
     "iopub.status.idle": "2023-02-07T11:59:22.982444Z",
     "shell.execute_reply": "2023-02-07T11:59:22.981231Z"
    },
    "papermill": {
     "duration": 0.446353,
     "end_time": "2023-02-07T11:59:22.986146",
     "exception": false,
     "start_time": "2023-02-07T11:59:22.539793",
     "status": "completed"
    },
    "tags": []
   },
   "outputs": [],
   "source": [
    "#Paths of data files\n",
    "all_files =[]\n",
    "for root, dirs, files in os.walk('/kaggle/input/skab-anomaly-detection/SKAB-master/data/'):\n",
    "    for file in files:\n",
    "        if file.endswith('.csv'):\n",
    "            all_files.append(os.path.join(root,file))\n",
    "\n",
    "#Data with outliers included         \n",
    "list_of_df = [pd.read_csv(file,\n",
    "                            sep = ';',\n",
    "                            index_col = 'datetime',\n",
    "                            ) for file in all_files if 'anomaly-free' not in file]\n",
    "\n",
    "#Anomaly free data\n",
    "anomaly_free_df = pd.read_csv([file for file in all_files if 'anomaly-free' in file][0],\n",
    "                             sep = ';',\n",
    "                             index_col = 'datetime')\n",
    "\n"
   ]
  },
  {
   "cell_type": "code",
   "execution_count": 4,
   "id": "c442c091",
   "metadata": {
    "execution": {
     "iopub.execute_input": "2023-02-07T11:59:22.999468Z",
     "iopub.status.busy": "2023-02-07T11:59:22.999056Z",
     "iopub.status.idle": "2023-02-07T11:59:23.054164Z",
     "shell.execute_reply": "2023-02-07T11:59:23.052756Z"
    },
    "papermill": {
     "duration": 0.066941,
     "end_time": "2023-02-07T11:59:23.058895",
     "exception": false,
     "start_time": "2023-02-07T11:59:22.991954",
     "status": "completed"
    },
    "tags": []
   },
   "outputs": [
    {
     "name": "stdout",
     "output_type": "stream",
     "text": [
      "이상치 포함된 DataFrame 34개\n",
      "Index(['Accelerometer1RMS', 'Accelerometer2RMS', 'Current', 'Pressure',\n",
      "       'Temperature', 'Thermocouple', 'Voltage', 'Volume Flow RateRMS',\n",
      "       'anomaly', 'changepoint'],\n",
      "      dtype='object') (1063, 10)\n",
      "Index(['Accelerometer1RMS', 'Accelerometer2RMS', 'Current', 'Pressure',\n",
      "       'Temperature', 'Thermocouple', 'Voltage', 'Volume Flow RateRMS',\n",
      "       'anomaly', 'changepoint'],\n",
      "      dtype='object') (995, 10)\n",
      "Index(['Accelerometer1RMS', 'Accelerometer2RMS', 'Current', 'Pressure',\n",
      "       'Temperature', 'Thermocouple', 'Voltage', 'Volume Flow RateRMS',\n",
      "       'anomaly', 'changepoint'],\n",
      "      dtype='object') (1129, 10)\n",
      "Index(['Accelerometer1RMS', 'Accelerometer2RMS', 'Current', 'Pressure',\n",
      "       'Temperature', 'Thermocouple', 'Voltage', 'Volume Flow RateRMS',\n",
      "       'anomaly', 'changepoint'],\n",
      "      dtype='object') (1125, 10)\n",
      "Index(['Accelerometer1RMS', 'Accelerometer2RMS', 'Current', 'Pressure',\n",
      "       'Temperature', 'Thermocouple', 'Voltage', 'Volume Flow RateRMS',\n",
      "       'anomaly', 'changepoint'],\n",
      "      dtype='object') (745, 10)\n",
      "Index(['Accelerometer1RMS', 'Accelerometer2RMS', 'Current', 'Pressure',\n",
      "       'Temperature', 'Thermocouple', 'Voltage', 'Volume Flow RateRMS',\n",
      "       'anomaly', 'changepoint'],\n",
      "      dtype='object') (1190, 10)\n",
      "Index(['Accelerometer1RMS', 'Accelerometer2RMS', 'Current', 'Pressure',\n",
      "       'Temperature', 'Thermocouple', 'Voltage', 'Volume Flow RateRMS',\n",
      "       'anomaly', 'changepoint'],\n",
      "      dtype='object') (1137, 10)\n",
      "Index(['Accelerometer1RMS', 'Accelerometer2RMS', 'Current', 'Pressure',\n",
      "       'Temperature', 'Thermocouple', 'Voltage', 'Volume Flow RateRMS',\n",
      "       'anomaly', 'changepoint'],\n",
      "      dtype='object') (1155, 10)\n",
      "Index(['Accelerometer1RMS', 'Accelerometer2RMS', 'Current', 'Pressure',\n",
      "       'Temperature', 'Thermocouple', 'Voltage', 'Volume Flow RateRMS',\n",
      "       'anomaly', 'changepoint'],\n",
      "      dtype='object') (780, 10)\n",
      "Index(['Accelerometer1RMS', 'Accelerometer2RMS', 'Current', 'Pressure',\n",
      "       'Temperature', 'Thermocouple', 'Voltage', 'Volume Flow RateRMS',\n",
      "       'anomaly', 'changepoint'],\n",
      "      dtype='object') (923, 10)\n",
      "Index(['Accelerometer1RMS', 'Accelerometer2RMS', 'Current', 'Pressure',\n",
      "       'Temperature', 'Thermocouple', 'Voltage', 'Volume Flow RateRMS',\n",
      "       'anomaly', 'changepoint'],\n",
      "      dtype='object') (905, 10)\n",
      "Index(['Accelerometer1RMS', 'Accelerometer2RMS', 'Current', 'Pressure',\n",
      "       'Temperature', 'Thermocouple', 'Voltage', 'Volume Flow RateRMS',\n",
      "       'anomaly', 'changepoint'],\n",
      "      dtype='object') (1191, 10)\n",
      "Index(['Accelerometer1RMS', 'Accelerometer2RMS', 'Current', 'Pressure',\n",
      "       'Temperature', 'Thermocouple', 'Voltage', 'Volume Flow RateRMS',\n",
      "       'anomaly', 'changepoint'],\n",
      "      dtype='object') (1147, 10)\n",
      "Index(['Accelerometer1RMS', 'Accelerometer2RMS', 'Current', 'Pressure',\n",
      "       'Temperature', 'Thermocouple', 'Voltage', 'Volume Flow RateRMS',\n",
      "       'anomaly', 'changepoint'],\n",
      "      dtype='object') (1048, 10)\n",
      "Index(['Accelerometer1RMS', 'Accelerometer2RMS', 'Current', 'Pressure',\n",
      "       'Temperature', 'Thermocouple', 'Voltage', 'Volume Flow RateRMS',\n",
      "       'anomaly', 'changepoint'],\n",
      "      dtype='object') (1144, 10)\n",
      "Index(['Accelerometer1RMS', 'Accelerometer2RMS', 'Current', 'Pressure',\n",
      "       'Temperature', 'Thermocouple', 'Voltage', 'Volume Flow RateRMS',\n",
      "       'anomaly', 'changepoint'],\n",
      "      dtype='object') (1090, 10)\n",
      "Index(['Accelerometer1RMS', 'Accelerometer2RMS', 'Current', 'Pressure',\n",
      "       'Temperature', 'Thermocouple', 'Voltage', 'Volume Flow RateRMS',\n",
      "       'anomaly', 'changepoint'],\n",
      "      dtype='object') (1147, 10)\n",
      "Index(['Accelerometer1RMS', 'Accelerometer2RMS', 'Current', 'Pressure',\n",
      "       'Temperature', 'Thermocouple', 'Voltage', 'Volume Flow RateRMS',\n",
      "       'anomaly', 'changepoint'],\n",
      "      dtype='object') (1327, 10)\n",
      "Index(['Accelerometer1RMS', 'Accelerometer2RMS', 'Current', 'Pressure',\n",
      "       'Temperature', 'Thermocouple', 'Voltage', 'Volume Flow RateRMS',\n",
      "       'anomaly', 'changepoint'],\n",
      "      dtype='object') (1145, 10)\n",
      "Index(['Accelerometer1RMS', 'Accelerometer2RMS', 'Current', 'Pressure',\n",
      "       'Temperature', 'Thermocouple', 'Voltage', 'Volume Flow RateRMS',\n",
      "       'anomaly', 'changepoint'],\n",
      "      dtype='object') (1141, 10)\n",
      "Index(['Accelerometer1RMS', 'Accelerometer2RMS', 'Current', 'Pressure',\n",
      "       'Temperature', 'Thermocouple', 'Voltage', 'Volume Flow RateRMS',\n",
      "       'anomaly', 'changepoint'],\n",
      "      dtype='object') (1148, 10)\n",
      "Index(['Accelerometer1RMS', 'Accelerometer2RMS', 'Current', 'Pressure',\n",
      "       'Temperature', 'Thermocouple', 'Voltage', 'Volume Flow RateRMS',\n",
      "       'anomaly', 'changepoint'],\n",
      "      dtype='object') (1154, 10)\n",
      "Index(['Accelerometer1RMS', 'Accelerometer2RMS', 'Current', 'Pressure',\n",
      "       'Temperature', 'Thermocouple', 'Voltage', 'Volume Flow RateRMS',\n",
      "       'anomaly', 'changepoint'],\n",
      "      dtype='object') (1075, 10)\n",
      "Index(['Accelerometer1RMS', 'Accelerometer2RMS', 'Current', 'Pressure',\n",
      "       'Temperature', 'Thermocouple', 'Voltage', 'Volume Flow RateRMS',\n",
      "       'anomaly', 'changepoint'],\n",
      "      dtype='object') (1140, 10)\n",
      "Index(['Accelerometer1RMS', 'Accelerometer2RMS', 'Current', 'Pressure',\n",
      "       'Temperature', 'Thermocouple', 'Voltage', 'Volume Flow RateRMS',\n",
      "       'anomaly', 'changepoint'],\n",
      "      dtype='object') (1139, 10)\n",
      "Index(['Accelerometer1RMS', 'Accelerometer2RMS', 'Current', 'Pressure',\n",
      "       'Temperature', 'Thermocouple', 'Voltage', 'Volume Flow RateRMS',\n",
      "       'anomaly', 'changepoint'],\n",
      "      dtype='object') (1095, 10)\n",
      "Index(['Accelerometer1RMS', 'Accelerometer2RMS', 'Current', 'Pressure',\n",
      "       'Temperature', 'Thermocouple', 'Voltage', 'Volume Flow RateRMS',\n",
      "       'anomaly', 'changepoint'],\n",
      "      dtype='object') (1144, 10)\n",
      "Index(['Accelerometer1RMS', 'Accelerometer2RMS', 'Current', 'Pressure',\n",
      "       'Temperature', 'Thermocouple', 'Voltage', 'Volume Flow RateRMS',\n",
      "       'anomaly', 'changepoint'],\n",
      "      dtype='object') (1140, 10)\n",
      "Index(['Accelerometer1RMS', 'Accelerometer2RMS', 'Current', 'Pressure',\n",
      "       'Temperature', 'Thermocouple', 'Voltage', 'Volume Flow RateRMS',\n",
      "       'anomaly', 'changepoint'],\n",
      "      dtype='object') (1148, 10)\n",
      "Index(['Accelerometer1RMS', 'Accelerometer2RMS', 'Current', 'Pressure',\n",
      "       'Temperature', 'Thermocouple', 'Voltage', 'Volume Flow RateRMS',\n",
      "       'anomaly', 'changepoint'],\n",
      "      dtype='object') (1094, 10)\n",
      "Index(['Accelerometer1RMS', 'Accelerometer2RMS', 'Current', 'Pressure',\n",
      "       'Temperature', 'Thermocouple', 'Voltage', 'Volume Flow RateRMS',\n",
      "       'anomaly', 'changepoint'],\n",
      "      dtype='object') (1147, 10)\n",
      "Index(['Accelerometer1RMS', 'Accelerometer2RMS', 'Current', 'Pressure',\n",
      "       'Temperature', 'Thermocouple', 'Voltage', 'Volume Flow RateRMS',\n",
      "       'anomaly', 'changepoint'],\n",
      "      dtype='object') (1150, 10)\n",
      "Index(['Accelerometer1RMS', 'Accelerometer2RMS', 'Current', 'Pressure',\n",
      "       'Temperature', 'Thermocouple', 'Voltage', 'Volume Flow RateRMS',\n",
      "       'anomaly', 'changepoint'],\n",
      "      dtype='object') (1154, 10)\n",
      "Index(['Accelerometer1RMS', 'Accelerometer2RMS', 'Current', 'Pressure',\n",
      "       'Temperature', 'Thermocouple', 'Voltage', 'Volume Flow RateRMS',\n",
      "       'anomaly', 'changepoint'],\n",
      "      dtype='object') (1146, 10)\n",
      "\n",
      "이상치 없는 데이터\n",
      "                     Accelerometer1RMS  Accelerometer2RMS  Current  Pressure  \\\n",
      "datetime                                                                       \n",
      "2020-02-08 13:30:47           0.202394           0.275154  2.16975  0.382638   \n",
      "2020-02-08 13:30:48           0.203153           0.277857  2.07999 -0.273216   \n",
      "2020-02-08 13:30:50           0.202054           0.275790  2.52577  0.382638   \n",
      "2020-02-08 13:30:51           0.203595           0.278101  2.49742  0.054711   \n",
      "2020-02-08 13:30:52           0.201889           0.276363  2.29194  0.710565   \n",
      "...                                ...                ...      ...       ...   \n",
      "2020-02-08 16:16:43           0.225744           0.267921  2.91598  0.054711   \n",
      "2020-02-08 16:16:44           0.205870           0.258370  1.71505  0.710565   \n",
      "2020-02-08 16:16:45           0.219222           0.267244  2.35834 -0.273216   \n",
      "2020-02-08 16:16:46           0.219481           0.271278  2.49108  0.054711   \n",
      "2020-02-08 16:16:47           0.219436           0.270046  2.43108  0.382638   \n",
      "\n",
      "                     Temperature  Thermocouple  Voltage  Volume Flow RateRMS  \n",
      "datetime                                                                      \n",
      "2020-02-08 13:30:47      90.6454       26.8508  238.852              122.664  \n",
      "2020-02-08 13:30:48      90.7978       26.8639  227.943              122.338  \n",
      "2020-02-08 13:30:50      90.7730       26.8603  223.486              121.338  \n",
      "2020-02-08 13:30:51      90.8424       26.8616  244.904              121.664  \n",
      "2020-02-08 13:30:52      90.6664       26.8603  239.196              122.000  \n",
      "...                          ...           ...      ...                  ...  \n",
      "2020-02-08 16:16:43      88.8593       29.3792  219.542              126.000  \n",
      "2020-02-08 16:16:44      89.1754       29.3692  221.862              126.000  \n",
      "2020-02-08 16:16:45      89.1306       29.3674  226.050              126.679  \n",
      "2020-02-08 16:16:46      88.5447       29.3757  226.343              127.000  \n",
      "2020-02-08 16:16:47      89.1161       29.3687  205.473              125.648  \n",
      "\n",
      "[9405 rows x 8 columns]\n",
      "Number of change points : 129\n",
      "Number of outliers : 13067\n"
     ]
    }
   ],
   "source": [
    "print('이상치 포함된 DataFrame {}개'.format(len(list_of_df)))\n",
    "for i in range(len(list_of_df)) : print(list_of_df[i].columns, list_of_df[i].shape)\n",
    "print('\\n이상치 없는 데이터')\n",
    "print(anomaly_free_df)\n",
    "print('Number of change points :',sum([len(df[df.changepoint == 1.0])for df in list_of_df]) )\n",
    "print('Number of outliers :',sum([len(df[df.anomaly == 1.0])for df in list_of_df]) )\n",
    "\n",
    "df = list_of_df[0] #첫번째 데이터 사용!"
   ]
  },
  {
   "cell_type": "code",
   "execution_count": 5,
   "id": "9e9775ae",
   "metadata": {
    "execution": {
     "iopub.execute_input": "2023-02-07T11:59:23.073317Z",
     "iopub.status.busy": "2023-02-07T11:59:23.072431Z",
     "iopub.status.idle": "2023-02-07T11:59:23.532660Z",
     "shell.execute_reply": "2023-02-07T11:59:23.531406Z"
    },
    "papermill": {
     "duration": 0.470684,
     "end_time": "2023-02-07T11:59:23.535572",
     "exception": false,
     "start_time": "2023-02-07T11:59:23.064888",
     "status": "completed"
    },
    "tags": []
   },
   "outputs": [
    {
     "data": {
      "image/png": "[encoded data removed]",
      "text/plain": [
       "<Figure size 864x432 with 1 Axes>"
      ]
     },
     "metadata": {
      "needs_background": "light"
     },
     "output_type": "display_data"
    }
   ],
   "source": [
    "#시각화\n",
    "df.plot(figsize = (12,6))\n",
    "plt.xlabel('Time')\n",
    "plt.ylabel('Value')\n",
    "plt.title('Signals visualization')\n",
    "plt.show()"
   ]
  },
  {
   "cell_type": "code",
   "execution_count": 6,
   "id": "195b0fd1",
   "metadata": {
    "execution": {
     "iopub.execute_input": "2023-02-07T11:59:23.552202Z",
     "iopub.status.busy": "2023-02-07T11:59:23.551408Z",
     "iopub.status.idle": "2023-02-07T11:59:23.803355Z",
     "shell.execute_reply": "2023-02-07T11:59:23.801763Z"
    },
    "papermill": {
     "duration": 0.263665,
     "end_time": "2023-02-07T11:59:23.806713",
     "exception": false,
     "start_time": "2023-02-07T11:59:23.543048",
     "status": "completed"
    },
    "tags": []
   },
   "outputs": [
    {
     "data": {
      "image/png": "[encoded data removed]",
      "text/plain": [
       "<Figure size 864x216 with 1 Axes>"
      ]
     },
     "metadata": {
      "needs_background": "light"
     },
     "output_type": "display_data"
    }
   ],
   "source": [
    "#이상치 분포\n",
    "df.anomaly.plot(figsize = (12,3))\n",
    "df.changepoint.plot()\n",
    "plt.legend()\n",
    "plt.title('Distribution of Outliers ')\n",
    "plt.show()\n"
   ]
  },
  {
   "cell_type": "markdown",
   "id": "d679e025",
   "metadata": {
    "papermill": {
     "duration": 0.007092,
     "end_time": "2023-02-07T11:59:23.823288",
     "exception": false,
     "start_time": "2023-02-07T11:59:23.816196",
     "status": "completed"
    },
    "tags": []
   },
   "source": [
    "* ### Model Pipeline and Preprocessing\n"
   ]
  },
  {
   "cell_type": "code",
   "execution_count": 7,
   "id": "7a38d0c3",
   "metadata": {
    "execution": {
     "iopub.execute_input": "2023-02-07T11:59:23.841254Z",
     "iopub.status.busy": "2023-02-07T11:59:23.840029Z",
     "iopub.status.idle": "2023-02-07T11:59:23.847075Z",
     "shell.execute_reply": "2023-02-07T11:59:23.846110Z"
    },
    "papermill": {
     "duration": 0.018572,
     "end_time": "2023-02-07T11:59:23.849664",
     "exception": false,
     "start_time": "2023-02-07T11:59:23.831092",
     "status": "completed"
    },
    "tags": []
   },
   "outputs": [],
   "source": [
    "# Random Seed\n",
    "def Random(seed_value):\n",
    "    import os\n",
    "    os.environ['PYTHONHASHSEED'] = str(seed_value)\n",
    "    import random\n",
    "    random.seed(seed_value)\n",
    "    np.random.seed(seed_value)\n",
    "    import tensorflow as tf\n",
    "    tf.random.set_seed(seed_value)"
   ]
  },
  {
   "cell_type": "code",
   "execution_count": 8,
   "id": "9c6f9f7c",
   "metadata": {
    "execution": {
     "iopub.execute_input": "2023-02-07T11:59:23.868312Z",
     "iopub.status.busy": "2023-02-07T11:59:23.867217Z",
     "iopub.status.idle": "2023-02-07T11:59:23.879854Z",
     "shell.execute_reply": "2023-02-07T11:59:23.878430Z"
    },
    "papermill": {
     "duration": 0.025653,
     "end_time": "2023-02-07T11:59:23.883049",
     "exception": false,
     "start_time": "2023-02-07T11:59:23.857396",
     "status": "completed"
    },
    "tags": []
   },
   "outputs": [],
   "source": [
    "#Convolutional AutoEncoder\n",
    "def convae(data):\n",
    "\n",
    "    model = keras.Sequential([ \n",
    "        \n",
    "        layers.Input(shape = (data.shape[1], data.shape[2])),\n",
    "        layers.Conv1D(filters = 32, kernel_size = 7, padding = 'same', strides = 2, activation = 'relu' ),\n",
    "        layers.Conv1D(filters = 16, kernel_size = 7, padding = 'same', strides = 2, activation = 'relu' ),\n",
    "        layers.Conv1DTranspose(filters = 16, kernel_size = 7, padding = 'same', strides = 2, activation = 'relu' ),\n",
    "        layers.Conv1DTranspose(filters = 32, kernel_size = 7, padding = 'same', strides = 2, activation = 'relu' ),\n",
    "        layers.Conv1DTranspose(filters = 8, kernel_size = 7, padding = 'same'),  # shape 일치시키기 위한 layer(오토인코더 구조) \n",
    "    \n",
    "    ])\n",
    "\n",
    "    model.compile(optimizer = keras.optimizers.Adam(learning_rate = 0.001), loss = 'mse')\n",
    "    \n",
    "    model.summary()\n",
    "\n",
    "    # Training\n",
    "    history = model.fit(        \n",
    "        data,\n",
    "        data, # data X instead of Y because it's unsupervised learning\n",
    "        epochs = 100,\n",
    "        batch_size = 32,\n",
    "        verbose = 10,\n",
    "\n",
    "        # early stopping 자동 학습 중단. patience 5번 loss 상승시 중단\n",
    "        callbacks = [\n",
    "            keras.callbacks.EarlyStopping(monitor = 'val_loss', patience = 5, verbose = 0)\n",
    "        ]\n",
    "\n",
    "    )\n",
    "    return history, model"
   ]
  },
  {
   "cell_type": "code",
   "execution_count": 9,
   "id": "666c3e9e",
   "metadata": {
    "execution": {
     "iopub.execute_input": "2023-02-07T11:59:23.899749Z",
     "iopub.status.busy": "2023-02-07T11:59:23.899328Z",
     "iopub.status.idle": "2023-02-07T11:59:23.931117Z",
     "shell.execute_reply": "2023-02-07T11:59:23.929724Z"
    },
    "papermill": {
     "duration": 0.043618,
     "end_time": "2023-02-07T11:59:23.934127",
     "exception": false,
     "start_time": "2023-02-07T11:59:23.890509",
     "status": "completed"
    },
    "tags": []
   },
   "outputs": [
    {
     "data": {
      "text/html": [
       "<div>\n",
       "<style scoped>\n",
       "    .dataframe tbody tr th:only-of-type {\n",
       "        vertical-align: middle;\n",
       "    }\n",
       "\n",
       "    .dataframe tbody tr th {\n",
       "        vertical-align: top;\n",
       "    }\n",
       "\n",
       "    .dataframe thead th {\n",
       "        text-align: right;\n",
       "    }\n",
       "</style>\n",
       "<table border=\"1\" class=\"dataframe\">\n",
       "  <thead>\n",
       "    <tr style=\"text-align: right;\">\n",
       "      <th></th>\n",
       "      <th>Accelerometer1RMS</th>\n",
       "      <th>Accelerometer2RMS</th>\n",
       "      <th>Current</th>\n",
       "      <th>Pressure</th>\n",
       "      <th>Temperature</th>\n",
       "      <th>Thermocouple</th>\n",
       "      <th>Voltage</th>\n",
       "      <th>Volume Flow RateRMS</th>\n",
       "    </tr>\n",
       "    <tr>\n",
       "      <th>datetime</th>\n",
       "      <th></th>\n",
       "      <th></th>\n",
       "      <th></th>\n",
       "      <th></th>\n",
       "      <th></th>\n",
       "      <th></th>\n",
       "      <th></th>\n",
       "      <th></th>\n",
       "    </tr>\n",
       "  </thead>\n",
       "  <tbody>\n",
       "    <tr>\n",
       "      <th>2020-03-09 16:16:30</th>\n",
       "      <td>0.027545</td>\n",
       "      <td>0.041127</td>\n",
       "      <td>0.673506</td>\n",
       "      <td>0.054711</td>\n",
       "      <td>67.8345</td>\n",
       "      <td>24.3164</td>\n",
       "      <td>240.513</td>\n",
       "      <td>32.0000</td>\n",
       "    </tr>\n",
       "    <tr>\n",
       "      <th>2020-03-09 16:16:31</th>\n",
       "      <td>0.027997</td>\n",
       "      <td>0.039100</td>\n",
       "      <td>0.772264</td>\n",
       "      <td>0.054711</td>\n",
       "      <td>67.8704</td>\n",
       "      <td>24.3279</td>\n",
       "      <td>229.523</td>\n",
       "      <td>32.0000</td>\n",
       "    </tr>\n",
       "    <tr>\n",
       "      <th>2020-03-09 16:16:32</th>\n",
       "      <td>0.028418</td>\n",
       "      <td>0.038872</td>\n",
       "      <td>0.675520</td>\n",
       "      <td>0.054711</td>\n",
       "      <td>67.7882</td>\n",
       "      <td>24.3261</td>\n",
       "      <td>242.708</td>\n",
       "      <td>32.0000</td>\n",
       "    </tr>\n",
       "    <tr>\n",
       "      <th>2020-03-09 16:16:33</th>\n",
       "      <td>0.027625</td>\n",
       "      <td>0.039366</td>\n",
       "      <td>0.566279</td>\n",
       "      <td>-0.273216</td>\n",
       "      <td>67.7918</td>\n",
       "      <td>24.3323</td>\n",
       "      <td>229.709</td>\n",
       "      <td>32.0000</td>\n",
       "    </tr>\n",
       "    <tr>\n",
       "      <th>2020-03-09 16:16:34</th>\n",
       "      <td>0.027484</td>\n",
       "      <td>0.041854</td>\n",
       "      <td>1.292170</td>\n",
       "      <td>0.054711</td>\n",
       "      <td>67.7368</td>\n",
       "      <td>24.3250</td>\n",
       "      <td>242.746</td>\n",
       "      <td>32.0000</td>\n",
       "    </tr>\n",
       "    <tr>\n",
       "      <th>...</th>\n",
       "      <td>...</td>\n",
       "      <td>...</td>\n",
       "      <td>...</td>\n",
       "      <td>...</td>\n",
       "      <td>...</td>\n",
       "      <td>...</td>\n",
       "      <td>...</td>\n",
       "      <td>...</td>\n",
       "    </tr>\n",
       "    <tr>\n",
       "      <th>2020-03-09 16:23:34</th>\n",
       "      <td>0.027472</td>\n",
       "      <td>0.040456</td>\n",
       "      <td>1.492290</td>\n",
       "      <td>-0.273216</td>\n",
       "      <td>67.1832</td>\n",
       "      <td>24.2753</td>\n",
       "      <td>243.226</td>\n",
       "      <td>32.0394</td>\n",
       "    </tr>\n",
       "    <tr>\n",
       "      <th>2020-03-09 16:23:35</th>\n",
       "      <td>0.027264</td>\n",
       "      <td>0.040137</td>\n",
       "      <td>1.351580</td>\n",
       "      <td>0.382638</td>\n",
       "      <td>67.0627</td>\n",
       "      <td>24.2697</td>\n",
       "      <td>234.532</td>\n",
       "      <td>32.9617</td>\n",
       "    </tr>\n",
       "    <tr>\n",
       "      <th>2020-03-09 16:23:36</th>\n",
       "      <td>0.027883</td>\n",
       "      <td>0.040341</td>\n",
       "      <td>1.227560</td>\n",
       "      <td>0.054711</td>\n",
       "      <td>66.8029</td>\n",
       "      <td>24.2754</td>\n",
       "      <td>231.807</td>\n",
       "      <td>31.9618</td>\n",
       "    </tr>\n",
       "    <tr>\n",
       "      <th>2020-03-09 16:23:37</th>\n",
       "      <td>0.027925</td>\n",
       "      <td>0.040232</td>\n",
       "      <td>1.274870</td>\n",
       "      <td>0.054711</td>\n",
       "      <td>66.9010</td>\n",
       "      <td>24.2710</td>\n",
       "      <td>230.886</td>\n",
       "      <td>31.0800</td>\n",
       "    </tr>\n",
       "    <tr>\n",
       "      <th>2020-03-09 16:23:38</th>\n",
       "      <td>0.027822</td>\n",
       "      <td>0.040013</td>\n",
       "      <td>1.084970</td>\n",
       "      <td>0.382638</td>\n",
       "      <td>66.7929</td>\n",
       "      <td>24.2832</td>\n",
       "      <td>251.292</td>\n",
       "      <td>32.9617</td>\n",
       "    </tr>\n",
       "  </tbody>\n",
       "</table>\n",
       "<p>400 rows × 8 columns</p>\n",
       "</div>"
      ],
      "text/plain": [
       "                     Accelerometer1RMS  Accelerometer2RMS   Current  Pressure  \\\n",
       "datetime                                                                        \n",
       "2020-03-09 16:16:30           0.027545           0.041127  0.673506  0.054711   \n",
       "2020-03-09 16:16:31           0.027997           0.039100  0.772264  0.054711   \n",
       "2020-03-09 16:16:32           0.028418           0.038872  0.675520  0.054711   \n",
       "2020-03-09 16:16:33           0.027625           0.039366  0.566279 -0.273216   \n",
       "2020-03-09 16:16:34           0.027484           0.041854  1.292170  0.054711   \n",
       "...                                ...                ...       ...       ...   \n",
       "2020-03-09 16:23:34           0.027472           0.040456  1.492290 -0.273216   \n",
       "2020-03-09 16:23:35           0.027264           0.040137  1.351580  0.382638   \n",
       "2020-03-09 16:23:36           0.027883           0.040341  1.227560  0.054711   \n",
       "2020-03-09 16:23:37           0.027925           0.040232  1.274870  0.054711   \n",
       "2020-03-09 16:23:38           0.027822           0.040013  1.084970  0.382638   \n",
       "\n",
       "                     Temperature  Thermocouple  Voltage  Volume Flow RateRMS  \n",
       "datetime                                                                      \n",
       "2020-03-09 16:16:30      67.8345       24.3164  240.513              32.0000  \n",
       "2020-03-09 16:16:31      67.8704       24.3279  229.523              32.0000  \n",
       "2020-03-09 16:16:32      67.7882       24.3261  242.708              32.0000  \n",
       "2020-03-09 16:16:33      67.7918       24.3323  229.709              32.0000  \n",
       "2020-03-09 16:16:34      67.7368       24.3250  242.746              32.0000  \n",
       "...                          ...           ...      ...                  ...  \n",
       "2020-03-09 16:23:34      67.1832       24.2753  243.226              32.0394  \n",
       "2020-03-09 16:23:35      67.0627       24.2697  234.532              32.9617  \n",
       "2020-03-09 16:23:36      66.8029       24.2754  231.807              31.9618  \n",
       "2020-03-09 16:23:37      66.9010       24.2710  230.886              31.0800  \n",
       "2020-03-09 16:23:38      66.7929       24.2832  251.292              32.9617  \n",
       "\n",
       "[400 rows x 8 columns]"
      ]
     },
     "execution_count": 9,
     "metadata": {},
     "output_type": "execute_result"
    }
   ],
   "source": [
    "#Preprocessing\n",
    "X_train = df[:400].drop(columns = ['anomaly','changepoint']) ##0~400번까지 모두 정상데이터이므로 학습데이터로 선정\n",
    "\n",
    "StSc = StandardScaler()\n",
    "X_train_scale = StSc.fit(X_train)  ## Standardization(표준) : train data의 평균, 분산분포를 저장. 추후에 test data에도 똑같이 적용필요\n",
    "X_train_scale = StSc.transform(X_train)\n",
    "\n",
    "X_train"
   ]
  },
  {
   "cell_type": "code",
   "execution_count": 10,
   "id": "a54a1f31",
   "metadata": {
    "execution": {
     "iopub.execute_input": "2023-02-07T11:59:23.952127Z",
     "iopub.status.busy": "2023-02-07T11:59:23.951713Z",
     "iopub.status.idle": "2023-02-07T11:59:23.976787Z",
     "shell.execute_reply": "2023-02-07T11:59:23.975387Z"
    },
    "papermill": {
     "duration": 0.037361,
     "end_time": "2023-02-07T11:59:23.979710",
     "exception": false,
     "start_time": "2023-02-07T11:59:23.942349",
     "status": "completed"
    },
    "tags": []
   },
   "outputs": [
    {
     "data": {
      "text/plain": [
       "(341, 60, 8)"
      ]
     },
     "execution_count": 10,
     "metadata": {},
     "output_type": "execute_result"
    }
   ],
   "source": [
    "# sequence를 고려한 전처리\n",
    "# 데이터를 임의의 sequence 묶음\n",
    "def create_sequences(data, time_steps = 60):\n",
    "    out = []\n",
    "    for i in range(len(data) - time_steps + 1):\n",
    "        out.append(data[i : (i + time_steps)])\n",
    "    return np.stack(out)\n",
    "\n",
    "X_train_seq = create_sequences(X_train,60) #400의 정상데이터를 60개의 묶음으로 1씩 shift 하며 묶음 -> 341개 생성\n",
    "X_train_seq.shape "
   ]
  },
  {
   "cell_type": "code",
   "execution_count": 11,
   "id": "0af3766e",
   "metadata": {
    "execution": {
     "iopub.execute_input": "2023-02-07T11:59:23.997212Z",
     "iopub.status.busy": "2023-02-07T11:59:23.996760Z",
     "iopub.status.idle": "2023-02-07T11:59:32.475937Z",
     "shell.execute_reply": "2023-02-07T11:59:32.474319Z"
    },
    "papermill": {
     "duration": 8.49095,
     "end_time": "2023-02-07T11:59:32.478623",
     "exception": false,
     "start_time": "2023-02-07T11:59:23.987673",
     "status": "completed"
    },
    "tags": []
   },
   "outputs": [
    {
     "name": "stderr",
     "output_type": "stream",
     "text": [
      "2023-02-07 11:59:24.056102: I tensorflow/core/common_runtime/process_util.cc:146] Creating new thread pool with default inter op setting: 2. Tune using inter_op_parallelism_threads for best performance.\n"
     ]
    },
    {
     "name": "stdout",
     "output_type": "stream",
     "text": [
      "Model: \"sequential\"\n",
      "_________________________________________________________________\n",
      "Layer (type)                 Output Shape              Param #   \n",
      "=================================================================\n",
      "conv1d (Conv1D)              (None, 30, 32)            1824      \n",
      "_________________________________________________________________\n",
      "conv1d_1 (Conv1D)            (None, 15, 16)            3600      \n",
      "_________________________________________________________________\n",
      "conv1d_transpose (Conv1DTran (None, 30, 16)            1808      \n",
      "_________________________________________________________________\n",
      "conv1d_transpose_1 (Conv1DTr (None, 60, 32)            3616      \n",
      "_________________________________________________________________\n",
      "conv1d_transpose_2 (Conv1DTr (None, 60, 8)             1800      \n",
      "=================================================================\n",
      "Total params: 12,648\n",
      "Trainable params: 12,648\n",
      "Non-trainable params: 0\n",
      "_________________________________________________________________\n",
      "Epoch 1/100\n"
     ]
    },
    {
     "name": "stderr",
     "output_type": "stream",
     "text": [
      "2023-02-07 11:59:24.330462: I tensorflow/compiler/mlir/mlir_graph_optimization_pass.cc:185] None of the MLIR Optimization Passes are enabled (registered 2)\n"
     ]
    },
    {
     "name": "stdout",
     "output_type": "stream",
     "text": [
      "Epoch 2/100\n",
      "Epoch 3/100\n",
      "Epoch 4/100\n",
      "Epoch 5/100\n",
      "Epoch 6/100\n",
      "Epoch 7/100\n",
      "Epoch 8/100\n",
      "Epoch 9/100\n",
      "Epoch 10/100\n",
      "Epoch 11/100\n",
      "Epoch 12/100\n",
      "Epoch 13/100\n",
      "Epoch 14/100\n",
      "Epoch 15/100\n",
      "Epoch 16/100\n",
      "Epoch 17/100\n",
      "Epoch 18/100\n",
      "Epoch 19/100\n",
      "Epoch 20/100\n",
      "Epoch 21/100\n",
      "Epoch 22/100\n",
      "Epoch 23/100\n",
      "Epoch 24/100\n",
      "Epoch 25/100\n",
      "Epoch 26/100\n",
      "Epoch 27/100\n",
      "Epoch 28/100\n",
      "Epoch 29/100\n",
      "Epoch 30/100\n",
      "Epoch 31/100\n",
      "Epoch 32/100\n",
      "Epoch 33/100\n",
      "Epoch 34/100\n",
      "Epoch 35/100\n",
      "Epoch 36/100\n",
      "Epoch 37/100\n",
      "Epoch 38/100\n",
      "Epoch 39/100\n",
      "Epoch 40/100\n",
      "Epoch 41/100\n",
      "Epoch 42/100\n",
      "Epoch 43/100\n",
      "Epoch 44/100\n",
      "Epoch 45/100\n",
      "Epoch 46/100\n",
      "Epoch 47/100\n",
      "Epoch 48/100\n",
      "Epoch 49/100\n",
      "Epoch 50/100\n",
      "Epoch 51/100\n",
      "Epoch 52/100\n",
      "Epoch 53/100\n",
      "Epoch 54/100\n",
      "Epoch 55/100\n",
      "Epoch 56/100\n",
      "Epoch 57/100\n",
      "Epoch 58/100\n",
      "Epoch 59/100\n",
      "Epoch 60/100\n",
      "Epoch 61/100\n",
      "Epoch 62/100\n",
      "Epoch 63/100\n",
      "Epoch 64/100\n",
      "Epoch 65/100\n",
      "Epoch 66/100\n",
      "Epoch 67/100\n",
      "Epoch 68/100\n",
      "Epoch 69/100\n",
      "Epoch 70/100\n",
      "Epoch 71/100\n",
      "Epoch 72/100\n",
      "Epoch 73/100\n",
      "Epoch 74/100\n",
      "Epoch 75/100\n",
      "Epoch 76/100\n",
      "Epoch 77/100\n",
      "Epoch 78/100\n",
      "Epoch 79/100\n",
      "Epoch 80/100\n",
      "Epoch 81/100\n",
      "Epoch 82/100\n",
      "Epoch 83/100\n",
      "Epoch 84/100\n",
      "Epoch 85/100\n",
      "Epoch 86/100\n",
      "Epoch 87/100\n",
      "Epoch 88/100\n",
      "Epoch 89/100\n",
      "Epoch 90/100\n",
      "Epoch 91/100\n",
      "Epoch 92/100\n",
      "Epoch 93/100\n",
      "Epoch 94/100\n",
      "Epoch 95/100\n",
      "Epoch 96/100\n",
      "Epoch 97/100\n",
      "Epoch 98/100\n",
      "Epoch 99/100\n",
      "Epoch 100/100\n"
     ]
    }
   ],
   "source": [
    "history, model = convae(X_train_seq)"
   ]
  },
  {
   "cell_type": "markdown",
   "id": "207c25ed",
   "metadata": {
    "papermill": {
     "duration": 0.010202,
     "end_time": "2023-02-07T11:59:32.500715",
     "exception": false,
     "start_time": "2023-02-07T11:59:32.490513",
     "status": "completed"
    },
    "tags": []
   },
   "source": [
    "* ### Anomaly Score"
   ]
  },
  {
   "cell_type": "code",
   "execution_count": null,
   "id": "2ce3e195",
   "metadata": {
    "papermill": {
     "duration": 0.010139,
     "end_time": "2023-02-07T11:59:32.521059",
     "exception": false,
     "start_time": "2023-02-07T11:59:32.510920",
     "status": "completed"
    },
    "tags": []
   },
   "outputs": [],
   "source": []
  },
  {
   "cell_type": "code",
   "execution_count": null,
   "id": "20ff797c",
   "metadata": {
    "papermill": {
     "duration": 0.009689,
     "end_time": "2023-02-07T11:59:32.541055",
     "exception": false,
     "start_time": "2023-02-07T11:59:32.531366",
     "status": "completed"
    },
    "tags": []
   },
   "outputs": [],
   "source": []
  },
  {
   "cell_type": "code",
   "execution_count": null,
   "id": "88f44db9",
   "metadata": {
    "papermill": {
     "duration": 0.009698,
     "end_time": "2023-02-07T11:59:32.560776",
     "exception": false,
     "start_time": "2023-02-07T11:59:32.551078",
     "status": "completed"
    },
    "tags": []
   },
   "outputs": [],
   "source": []
  },
  {
   "cell_type": "code",
   "execution_count": null,
   "id": "1f0a2aa6",
   "metadata": {
    "papermill": {
     "duration": 0.010085,
     "end_time": "2023-02-07T11:59:32.580976",
     "exception": false,
     "start_time": "2023-02-07T11:59:32.570891",
     "status": "completed"
    },
    "tags": []
   },
   "outputs": [],
   "source": []
  },
  {
   "cell_type": "code",
   "execution_count": null,
   "id": "b78891f9",
   "metadata": {
    "papermill": {
     "duration": 0.009953,
     "end_time": "2023-02-07T11:59:32.601577",
     "exception": false,
     "start_time": "2023-02-07T11:59:32.591624",
     "status": "completed"
    },
    "tags": []
   },
   "outputs": [],
   "source": []
  },
  {
   "cell_type": "code",
   "execution_count": null,
   "id": "1b4cde5a",
   "metadata": {
    "papermill": {
     "duration": 0.010329,
     "end_time": "2023-02-07T11:59:32.622766",
     "exception": false,
     "start_time": "2023-02-07T11:59:32.612437",
     "status": "completed"
    },
    "tags": []
   },
   "outputs": [],
   "source": []
  },
  {
   "cell_type": "code",
   "execution_count": null,
   "id": "9cb45950",
   "metadata": {
    "papermill": {
     "duration": 0.010056,
     "end_time": "2023-02-07T11:59:32.643304",
     "exception": false,
     "start_time": "2023-02-07T11:59:32.633248",
     "status": "completed"
    },
    "tags": []
   },
   "outputs": [],
   "source": []
  }
 ],
 "metadata": {
  "kernelspec": {
   "display_name": "Python 3",
   "language": "python",
   "name": "python3"
  },
  "language_info": {
   "codemirror_mode": {
    "name": "ipython",
    "version": 3
   },
   "file_extension": ".py",
   "mimetype": "text/x-python",
   "name": "python",
   "nbconvert_exporter": "python",
   "pygments_lexer": "ipython3",
   "version": "3.7.12"
  },
  "papermill": {
   "default_parameters": {},
   "duration": 31.191598,
   "end_time": "2023-02-07T11:59:35.869613",
   "environment_variables": {},
   "exception": null,
   "input_path": "__notebook__.ipynb",
   "output_path": "__notebook__.ipynb",
   "parameters": {},
   "start_time": "2023-02-07T11:59:04.678015",
   "version": "2.3.4"
  }
 },
 "nbformat": 4,
 "nbformat_minor": 5
}
