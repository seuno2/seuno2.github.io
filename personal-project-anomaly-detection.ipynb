{
 "cells": [
  {
   "cell_type": "code",
   "execution_count": 1,
   "id": "f9c6b4fa",
   "metadata": {
    "_cell_guid": "b1076dfc-b9ad-4769-8c92-a6c4dae69d19",
    "_uuid": "8f2839f25d086af736a60e9eeb907d3b93b6e0e5",
    "execution": {
     "iopub.execute_input": "2023-02-08T12:33:43.185411Z",
     "iopub.status.busy": "2023-02-08T12:33:43.184664Z",
     "iopub.status.idle": "2023-02-08T12:33:43.245856Z",
     "shell.execute_reply": "2023-02-08T12:33:43.244984Z"
    },
    "papermill": {
     "duration": 0.072709,
     "end_time": "2023-02-08T12:33:43.249097",
     "exception": false,
     "start_time": "2023-02-08T12:33:43.176388",
     "status": "completed"
    },
    "tags": []
   },
   "outputs": [
    {
     "name": "stdout",
     "output_type": "stream",
     "text": [
      "/kaggle/input/skab-anomaly-detection/SKAB-master/LICENSE\n",
      "/kaggle/input/skab-anomaly-detection/SKAB-master/.gitignore\n",
      "/kaggle/input/skab-anomaly-detection/SKAB-master/README.md\n",
      "/kaggle/input/skab-anomaly-detection/SKAB-master/utils/t2.py\n",
      "/kaggle/input/skab-anomaly-detection/SKAB-master/utils/__init__.py\n",
      "/kaggle/input/skab-anomaly-detection/SKAB-master/docs/contributing.md\n",
      "/kaggle/input/skab-anomaly-detection/SKAB-master/docs/pictures/skab.png\n",
      "/kaggle/input/skab-anomaly-detection/SKAB-master/docs/pictures/testbed.png\n",
      "/kaggle/input/skab-anomaly-detection/SKAB-master/docs/pictures/nab-metric.jpg\n",
      "/kaggle/input/skab-anomaly-detection/SKAB-master/notebooks/hotelling_q.ipynb\n",
      "/kaggle/input/skab-anomaly-detection/SKAB-master/notebooks/mscred.ipynb\n",
      "/kaggle/input/skab-anomaly-detection/SKAB-master/notebooks/isolation_forest.ipynb\n",
      "/kaggle/input/skab-anomaly-detection/SKAB-master/notebooks/VAE.ipynb\n",
      "/kaggle/input/skab-anomaly-detection/SKAB-master/notebooks/LSTM-AE.ipynb\n",
      "/kaggle/input/skab-anomaly-detection/SKAB-master/notebooks/LSTM-VAE.ipynb\n",
      "/kaggle/input/skab-anomaly-detection/SKAB-master/notebooks/EDA.ipynb\n",
      "/kaggle/input/skab-anomaly-detection/SKAB-master/notebooks/README.md\n",
      "/kaggle/input/skab-anomaly-detection/SKAB-master/notebooks/hotelling.ipynb\n",
      "/kaggle/input/skab-anomaly-detection/SKAB-master/notebooks/autoencoder.ipynb\n",
      "/kaggle/input/skab-anomaly-detection/SKAB-master/notebooks/lstm.ipynb\n",
      "/kaggle/input/skab-anomaly-detection/SKAB-master/notebooks/Conv-AE.ipynb\n",
      "/kaggle/input/skab-anomaly-detection/SKAB-master/notebooks/requirements.txt\n",
      "/kaggle/input/skab-anomaly-detection/SKAB-master/notebooks/ArimaFD.ipynb\n",
      "/kaggle/input/skab-anomaly-detection/SKAB-master/notebooks/MSET.ipynb\n",
      "/kaggle/input/skab-anomaly-detection/SKAB-master/data/README.md\n",
      "/kaggle/input/skab-anomaly-detection/SKAB-master/data/Load data.ipynb\n",
      "/kaggle/input/skab-anomaly-detection/SKAB-master/data/valve2/1.csv\n",
      "/kaggle/input/skab-anomaly-detection/SKAB-master/data/valve2/3.csv\n",
      "/kaggle/input/skab-anomaly-detection/SKAB-master/data/valve2/2.csv\n",
      "/kaggle/input/skab-anomaly-detection/SKAB-master/data/valve2/0.csv\n",
      "/kaggle/input/skab-anomaly-detection/SKAB-master/data/other/1.csv\n",
      "/kaggle/input/skab-anomaly-detection/SKAB-master/data/other/11.csv\n",
      "/kaggle/input/skab-anomaly-detection/SKAB-master/data/other/3.csv\n",
      "/kaggle/input/skab-anomaly-detection/SKAB-master/data/other/5.csv\n",
      "/kaggle/input/skab-anomaly-detection/SKAB-master/data/other/2.csv\n",
      "/kaggle/input/skab-anomaly-detection/SKAB-master/data/other/13.csv\n",
      "/kaggle/input/skab-anomaly-detection/SKAB-master/data/other/14.csv\n",
      "/kaggle/input/skab-anomaly-detection/SKAB-master/data/other/4.csv\n",
      "/kaggle/input/skab-anomaly-detection/SKAB-master/data/other/8.csv\n",
      "/kaggle/input/skab-anomaly-detection/SKAB-master/data/other/12.csv\n",
      "/kaggle/input/skab-anomaly-detection/SKAB-master/data/other/9.csv\n",
      "/kaggle/input/skab-anomaly-detection/SKAB-master/data/other/7.csv\n",
      "/kaggle/input/skab-anomaly-detection/SKAB-master/data/other/6.csv\n",
      "/kaggle/input/skab-anomaly-detection/SKAB-master/data/other/10.csv\n",
      "/kaggle/input/skab-anomaly-detection/SKAB-master/data/valve1/1.csv\n",
      "/kaggle/input/skab-anomaly-detection/SKAB-master/data/valve1/11.csv\n",
      "/kaggle/input/skab-anomaly-detection/SKAB-master/data/valve1/3.csv\n",
      "/kaggle/input/skab-anomaly-detection/SKAB-master/data/valve1/5.csv\n",
      "/kaggle/input/skab-anomaly-detection/SKAB-master/data/valve1/2.csv\n",
      "/kaggle/input/skab-anomaly-detection/SKAB-master/data/valve1/13.csv\n",
      "/kaggle/input/skab-anomaly-detection/SKAB-master/data/valve1/14.csv\n",
      "/kaggle/input/skab-anomaly-detection/SKAB-master/data/valve1/4.csv\n",
      "/kaggle/input/skab-anomaly-detection/SKAB-master/data/valve1/8.csv\n",
      "/kaggle/input/skab-anomaly-detection/SKAB-master/data/valve1/12.csv\n",
      "/kaggle/input/skab-anomaly-detection/SKAB-master/data/valve1/9.csv\n",
      "/kaggle/input/skab-anomaly-detection/SKAB-master/data/valve1/7.csv\n",
      "/kaggle/input/skab-anomaly-detection/SKAB-master/data/valve1/0.csv\n",
      "/kaggle/input/skab-anomaly-detection/SKAB-master/data/valve1/15.csv\n",
      "/kaggle/input/skab-anomaly-detection/SKAB-master/data/valve1/6.csv\n",
      "/kaggle/input/skab-anomaly-detection/SKAB-master/data/valve1/10.csv\n",
      "/kaggle/input/skab-anomaly-detection/SKAB-master/data/anomaly-free/anomaly-free.csv\n"
     ]
    }
   ],
   "source": [
    "# This Python 3 environment comes with many helpful analytics libraries installed\n",
    "# It is defined by the kaggle/python Docker image: https://github.com/kaggle/docker-python\n",
    "# For example, here's several helpful packages to load\n",
    "\n",
    "import numpy as np # linear algebra\n",
    "import pandas as pd # data processing, CSV file I/O (e.g. pd.read_csv)\n",
    "\n",
    "# Input data files are available in the read-only \"../input/\" directory\n",
    "# For example, running this (by clicking run or pressing Shift+Enter) will list all files under the input directory\n",
    "\n",
    "import os\n",
    "for dirname, _, filenames in os.walk('/kaggle/input'):\n",
    "    for filename in filenames:\n",
    "        print(os.path.join(dirname, filename))\n",
    "\n",
    "# You can write up to 20GB to the current directory (/kaggle/working/) that gets preserved as output when you create a version using \"Save & Run All\" \n",
    "# You can also write temporary files to /kaggle/temp/, but they won't be saved outside of the current session"
   ]
  },
  {
   "cell_type": "code",
   "execution_count": 2,
   "id": "8b4c1fb0",
   "metadata": {
    "execution": {
     "iopub.execute_input": "2023-02-08T12:33:43.262456Z",
     "iopub.status.busy": "2023-02-08T12:33:43.261635Z",
     "iopub.status.idle": "2023-02-08T12:33:51.242760Z",
     "shell.execute_reply": "2023-02-08T12:33:51.241534Z"
    },
    "papermill": {
     "duration": 7.990958,
     "end_time": "2023-02-08T12:33:51.245719",
     "exception": false,
     "start_time": "2023-02-08T12:33:43.254761",
     "status": "completed"
    },
    "tags": []
   },
   "outputs": [],
   "source": [
    "import pandas as pd\n",
    "import matplotlib.pyplot as plt\n",
    "import os\n",
    "import numpy as np\n",
    "import seaborn as sns\n",
    "\n",
    "from tensorflow import keras\n",
    "from tensorflow.keras import layers\n",
    "from sklearn.metrics import mean_absolute_error, mean_squared_error \n",
    "from sklearn.model_selection import train_test_split\n",
    "from sklearn.preprocessing import StandardScaler "
   ]
  },
  {
   "cell_type": "markdown",
   "id": "703ff116",
   "metadata": {
    "papermill": {
     "duration": 0.004971,
     "end_time": "2023-02-08T12:33:51.256156",
     "exception": false,
     "start_time": "2023-02-08T12:33:51.251185",
     "status": "completed"
    },
    "tags": []
   },
   "source": [
    "# Introductory Summary\n",
    "\n",
    "1.  Dataset : SKAB (SkoltechAnomaly Benchmark) / Multivariate time series collected from the sensors on the testbed\n",
    "1.  Framework : Tensorflow Keras\n",
    "1.  Model : 1D Convolutional Autoencoder\n",
    "1.  Activation Function : ReLU\n"
   ]
  },
  {
   "cell_type": "markdown",
   "id": "1a133234",
   "metadata": {
    "papermill": {
     "duration": 0.004907,
     "end_time": "2023-02-08T12:33:51.266404",
     "exception": false,
     "start_time": "2023-02-08T12:33:51.261497",
     "status": "completed"
    },
    "tags": []
   },
   "source": [
    "* ###  Data Summary"
   ]
  },
  {
   "cell_type": "code",
   "execution_count": 3,
   "id": "d3c49cce",
   "metadata": {
    "execution": {
     "iopub.execute_input": "2023-02-08T12:33:51.279157Z",
     "iopub.status.busy": "2023-02-08T12:33:51.278447Z",
     "iopub.status.idle": "2023-02-08T12:33:51.709601Z",
     "shell.execute_reply": "2023-02-08T12:33:51.708680Z"
    },
    "papermill": {
     "duration": 0.440404,
     "end_time": "2023-02-08T12:33:51.712130",
     "exception": false,
     "start_time": "2023-02-08T12:33:51.271726",
     "status": "completed"
    },
    "tags": []
   },
   "outputs": [],
   "source": [
    "#Paths of data files\n",
    "all_files =[]\n",
    "for root, dirs, files in os.walk('/kaggle/input/skab-anomaly-detection/SKAB-master/data/'):\n",
    "    for file in files:\n",
    "        if file.endswith('.csv'):\n",
    "            all_files.append(os.path.join(root,file))\n",
    "\n",
    "#Data with outliers included         \n",
    "list_of_df = [pd.read_csv(file,\n",
    "                            sep = ';',\n",
    "                            index_col = 'datetime',\n",
    "                            ) for file in all_files if 'anomaly-free' not in file]\n",
    "\n",
    "#Anomaly free data\n",
    "anomaly_free_df = pd.read_csv([file for file in all_files if 'anomaly-free' in file][0],\n",
    "                             sep = ';',\n",
    "                             index_col = 'datetime')\n",
    "\n"
   ]
  },
  {
   "cell_type": "code",
   "execution_count": 4,
   "id": "a5a7d1c3",
   "metadata": {
    "execution": {
     "iopub.execute_input": "2023-02-08T12:33:51.724847Z",
     "iopub.status.busy": "2023-02-08T12:33:51.724201Z",
     "iopub.status.idle": "2023-02-08T12:33:51.776808Z",
     "shell.execute_reply": "2023-02-08T12:33:51.775592Z"
    },
    "papermill": {
     "duration": 0.062199,
     "end_time": "2023-02-08T12:33:51.779845",
     "exception": false,
     "start_time": "2023-02-08T12:33:51.717646",
     "status": "completed"
    },
    "tags": []
   },
   "outputs": [
    {
     "name": "stdout",
     "output_type": "stream",
     "text": [
      "이상치 포함된 DataFrame 34개\n",
      "Index(['Accelerometer1RMS', 'Accelerometer2RMS', 'Current', 'Pressure',\n",
      "       'Temperature', 'Thermocouple', 'Voltage', 'Volume Flow RateRMS',\n",
      "       'anomaly', 'changepoint'],\n",
      "      dtype='object') (1063, 10)\n",
      "Index(['Accelerometer1RMS', 'Accelerometer2RMS', 'Current', 'Pressure',\n",
      "       'Temperature', 'Thermocouple', 'Voltage', 'Volume Flow RateRMS',\n",
      "       'anomaly', 'changepoint'],\n",
      "      dtype='object') (995, 10)\n",
      "Index(['Accelerometer1RMS', 'Accelerometer2RMS', 'Current', 'Pressure',\n",
      "       'Temperature', 'Thermocouple', 'Voltage', 'Volume Flow RateRMS',\n",
      "       'anomaly', 'changepoint'],\n",
      "      dtype='object') (1129, 10)\n",
      "Index(['Accelerometer1RMS', 'Accelerometer2RMS', 'Current', 'Pressure',\n",
      "       'Temperature', 'Thermocouple', 'Voltage', 'Volume Flow RateRMS',\n",
      "       'anomaly', 'changepoint'],\n",
      "      dtype='object') (1125, 10)\n",
      "Index(['Accelerometer1RMS', 'Accelerometer2RMS', 'Current', 'Pressure',\n",
      "       'Temperature', 'Thermocouple', 'Voltage', 'Volume Flow RateRMS',\n",
      "       'anomaly', 'changepoint'],\n",
      "      dtype='object') (745, 10)\n",
      "Index(['Accelerometer1RMS', 'Accelerometer2RMS', 'Current', 'Pressure',\n",
      "       'Temperature', 'Thermocouple', 'Voltage', 'Volume Flow RateRMS',\n",
      "       'anomaly', 'changepoint'],\n",
      "      dtype='object') (1190, 10)\n",
      "Index(['Accelerometer1RMS', 'Accelerometer2RMS', 'Current', 'Pressure',\n",
      "       'Temperature', 'Thermocouple', 'Voltage', 'Volume Flow RateRMS',\n",
      "       'anomaly', 'changepoint'],\n",
      "      dtype='object') (1137, 10)\n",
      "Index(['Accelerometer1RMS', 'Accelerometer2RMS', 'Current', 'Pressure',\n",
      "       'Temperature', 'Thermocouple', 'Voltage', 'Volume Flow RateRMS',\n",
      "       'anomaly', 'changepoint'],\n",
      "      dtype='object') (1155, 10)\n",
      "Index(['Accelerometer1RMS', 'Accelerometer2RMS', 'Current', 'Pressure',\n",
      "       'Temperature', 'Thermocouple', 'Voltage', 'Volume Flow RateRMS',\n",
      "       'anomaly', 'changepoint'],\n",
      "      dtype='object') (780, 10)\n",
      "Index(['Accelerometer1RMS', 'Accelerometer2RMS', 'Current', 'Pressure',\n",
      "       'Temperature', 'Thermocouple', 'Voltage', 'Volume Flow RateRMS',\n",
      "       'anomaly', 'changepoint'],\n",
      "      dtype='object') (923, 10)\n",
      "Index(['Accelerometer1RMS', 'Accelerometer2RMS', 'Current', 'Pressure',\n",
      "       'Temperature', 'Thermocouple', 'Voltage', 'Volume Flow RateRMS',\n",
      "       'anomaly', 'changepoint'],\n",
      "      dtype='object') (905, 10)\n",
      "Index(['Accelerometer1RMS', 'Accelerometer2RMS', 'Current', 'Pressure',\n",
      "       'Temperature', 'Thermocouple', 'Voltage', 'Volume Flow RateRMS',\n",
      "       'anomaly', 'changepoint'],\n",
      "      dtype='object') (1191, 10)\n",
      "Index(['Accelerometer1RMS', 'Accelerometer2RMS', 'Current', 'Pressure',\n",
      "       'Temperature', 'Thermocouple', 'Voltage', 'Volume Flow RateRMS',\n",
      "       'anomaly', 'changepoint'],\n",
      "      dtype='object') (1147, 10)\n",
      "Index(['Accelerometer1RMS', 'Accelerometer2RMS', 'Current', 'Pressure',\n",
      "       'Temperature', 'Thermocouple', 'Voltage', 'Volume Flow RateRMS',\n",
      "       'anomaly', 'changepoint'],\n",
      "      dtype='object') (1048, 10)\n",
      "Index(['Accelerometer1RMS', 'Accelerometer2RMS', 'Current', 'Pressure',\n",
      "       'Temperature', 'Thermocouple', 'Voltage', 'Volume Flow RateRMS',\n",
      "       'anomaly', 'changepoint'],\n",
      "      dtype='object') (1144, 10)\n",
      "Index(['Accelerometer1RMS', 'Accelerometer2RMS', 'Current', 'Pressure',\n",
      "       'Temperature', 'Thermocouple', 'Voltage', 'Volume Flow RateRMS',\n",
      "       'anomaly', 'changepoint'],\n",
      "      dtype='object') (1090, 10)\n",
      "Index(['Accelerometer1RMS', 'Accelerometer2RMS', 'Current', 'Pressure',\n",
      "       'Temperature', 'Thermocouple', 'Voltage', 'Volume Flow RateRMS',\n",
      "       'anomaly', 'changepoint'],\n",
      "      dtype='object') (1147, 10)\n",
      "Index(['Accelerometer1RMS', 'Accelerometer2RMS', 'Current', 'Pressure',\n",
      "       'Temperature', 'Thermocouple', 'Voltage', 'Volume Flow RateRMS',\n",
      "       'anomaly', 'changepoint'],\n",
      "      dtype='object') (1327, 10)\n",
      "Index(['Accelerometer1RMS', 'Accelerometer2RMS', 'Current', 'Pressure',\n",
      "       'Temperature', 'Thermocouple', 'Voltage', 'Volume Flow RateRMS',\n",
      "       'anomaly', 'changepoint'],\n",
      "      dtype='object') (1145, 10)\n",
      "Index(['Accelerometer1RMS', 'Accelerometer2RMS', 'Current', 'Pressure',\n",
      "       'Temperature', 'Thermocouple', 'Voltage', 'Volume Flow RateRMS',\n",
      "       'anomaly', 'changepoint'],\n",
      "      dtype='object') (1141, 10)\n",
      "Index(['Accelerometer1RMS', 'Accelerometer2RMS', 'Current', 'Pressure',\n",
      "       'Temperature', 'Thermocouple', 'Voltage', 'Volume Flow RateRMS',\n",
      "       'anomaly', 'changepoint'],\n",
      "      dtype='object') (1148, 10)\n",
      "Index(['Accelerometer1RMS', 'Accelerometer2RMS', 'Current', 'Pressure',\n",
      "       'Temperature', 'Thermocouple', 'Voltage', 'Volume Flow RateRMS',\n",
      "       'anomaly', 'changepoint'],\n",
      "      dtype='object') (1154, 10)\n",
      "Index(['Accelerometer1RMS', 'Accelerometer2RMS', 'Current', 'Pressure',\n",
      "       'Temperature', 'Thermocouple', 'Voltage', 'Volume Flow RateRMS',\n",
      "       'anomaly', 'changepoint'],\n",
      "      dtype='object') (1075, 10)\n",
      "Index(['Accelerometer1RMS', 'Accelerometer2RMS', 'Current', 'Pressure',\n",
      "       'Temperature', 'Thermocouple', 'Voltage', 'Volume Flow RateRMS',\n",
      "       'anomaly', 'changepoint'],\n",
      "      dtype='object') (1140, 10)\n",
      "Index(['Accelerometer1RMS', 'Accelerometer2RMS', 'Current', 'Pressure',\n",
      "       'Temperature', 'Thermocouple', 'Voltage', 'Volume Flow RateRMS',\n",
      "       'anomaly', 'changepoint'],\n",
      "      dtype='object') (1139, 10)\n",
      "Index(['Accelerometer1RMS', 'Accelerometer2RMS', 'Current', 'Pressure',\n",
      "       'Temperature', 'Thermocouple', 'Voltage', 'Volume Flow RateRMS',\n",
      "       'anomaly', 'changepoint'],\n",
      "      dtype='object') (1095, 10)\n",
      "Index(['Accelerometer1RMS', 'Accelerometer2RMS', 'Current', 'Pressure',\n",
      "       'Temperature', 'Thermocouple', 'Voltage', 'Volume Flow RateRMS',\n",
      "       'anomaly', 'changepoint'],\n",
      "      dtype='object') (1144, 10)\n",
      "Index(['Accelerometer1RMS', 'Accelerometer2RMS', 'Current', 'Pressure',\n",
      "       'Temperature', 'Thermocouple', 'Voltage', 'Volume Flow RateRMS',\n",
      "       'anomaly', 'changepoint'],\n",
      "      dtype='object') (1140, 10)\n",
      "Index(['Accelerometer1RMS', 'Accelerometer2RMS', 'Current', 'Pressure',\n",
      "       'Temperature', 'Thermocouple', 'Voltage', 'Volume Flow RateRMS',\n",
      "       'anomaly', 'changepoint'],\n",
      "      dtype='object') (1148, 10)\n",
      "Index(['Accelerometer1RMS', 'Accelerometer2RMS', 'Current', 'Pressure',\n",
      "       'Temperature', 'Thermocouple', 'Voltage', 'Volume Flow RateRMS',\n",
      "       'anomaly', 'changepoint'],\n",
      "      dtype='object') (1094, 10)\n",
      "Index(['Accelerometer1RMS', 'Accelerometer2RMS', 'Current', 'Pressure',\n",
      "       'Temperature', 'Thermocouple', 'Voltage', 'Volume Flow RateRMS',\n",
      "       'anomaly', 'changepoint'],\n",
      "      dtype='object') (1147, 10)\n",
      "Index(['Accelerometer1RMS', 'Accelerometer2RMS', 'Current', 'Pressure',\n",
      "       'Temperature', 'Thermocouple', 'Voltage', 'Volume Flow RateRMS',\n",
      "       'anomaly', 'changepoint'],\n",
      "      dtype='object') (1150, 10)\n",
      "Index(['Accelerometer1RMS', 'Accelerometer2RMS', 'Current', 'Pressure',\n",
      "       'Temperature', 'Thermocouple', 'Voltage', 'Volume Flow RateRMS',\n",
      "       'anomaly', 'changepoint'],\n",
      "      dtype='object') (1154, 10)\n",
      "Index(['Accelerometer1RMS', 'Accelerometer2RMS', 'Current', 'Pressure',\n",
      "       'Temperature', 'Thermocouple', 'Voltage', 'Volume Flow RateRMS',\n",
      "       'anomaly', 'changepoint'],\n",
      "      dtype='object') (1146, 10)\n",
      "Number of change points : 129\n",
      "Number of outliers : 13067\n",
      "\n",
      "이상치 없는 데이터\n",
      "                     Accelerometer1RMS  Accelerometer2RMS  Current  Pressure  \\\n",
      "datetime                                                                       \n",
      "2020-02-08 13:30:47           0.202394           0.275154  2.16975  0.382638   \n",
      "2020-02-08 13:30:48           0.203153           0.277857  2.07999 -0.273216   \n",
      "2020-02-08 13:30:50           0.202054           0.275790  2.52577  0.382638   \n",
      "2020-02-08 13:30:51           0.203595           0.278101  2.49742  0.054711   \n",
      "2020-02-08 13:30:52           0.201889           0.276363  2.29194  0.710565   \n",
      "...                                ...                ...      ...       ...   \n",
      "2020-02-08 16:16:43           0.225744           0.267921  2.91598  0.054711   \n",
      "2020-02-08 16:16:44           0.205870           0.258370  1.71505  0.710565   \n",
      "2020-02-08 16:16:45           0.219222           0.267244  2.35834 -0.273216   \n",
      "2020-02-08 16:16:46           0.219481           0.271278  2.49108  0.054711   \n",
      "2020-02-08 16:16:47           0.219436           0.270046  2.43108  0.382638   \n",
      "\n",
      "                     Temperature  Thermocouple  Voltage  Volume Flow RateRMS  \n",
      "datetime                                                                      \n",
      "2020-02-08 13:30:47      90.6454       26.8508  238.852              122.664  \n",
      "2020-02-08 13:30:48      90.7978       26.8639  227.943              122.338  \n",
      "2020-02-08 13:30:50      90.7730       26.8603  223.486              121.338  \n",
      "2020-02-08 13:30:51      90.8424       26.8616  244.904              121.664  \n",
      "2020-02-08 13:30:52      90.6664       26.8603  239.196              122.000  \n",
      "...                          ...           ...      ...                  ...  \n",
      "2020-02-08 16:16:43      88.8593       29.3792  219.542              126.000  \n",
      "2020-02-08 16:16:44      89.1754       29.3692  221.862              126.000  \n",
      "2020-02-08 16:16:45      89.1306       29.3674  226.050              126.679  \n",
      "2020-02-08 16:16:46      88.5447       29.3757  226.343              127.000  \n",
      "2020-02-08 16:16:47      89.1161       29.3687  205.473              125.648  \n",
      "\n",
      "[9405 rows x 8 columns]\n"
     ]
    }
   ],
   "source": [
    "print('이상치 포함된 DataFrame {}개'.format(len(list_of_df)))\n",
    "for i in range(len(list_of_df)) : print(list_of_df[i].columns, list_of_df[i].shape)\n",
    "print('Number of change points :',sum([len(df[df.changepoint == 1.0])for df in list_of_df]) )\n",
    "print('Number of outliers :',sum([len(df[df.anomaly == 1.0])for df in list_of_df]) )\n",
    "print('\\n이상치 없는 데이터')\n",
    "print(anomaly_free_df)\n",
    "\n",
    "df = list_of_df[1] #두번째 데이터로 실험진행!"
   ]
  },
  {
   "cell_type": "code",
   "execution_count": 5,
   "id": "6cc959cb",
   "metadata": {
    "execution": {
     "iopub.execute_input": "2023-02-08T12:33:51.793053Z",
     "iopub.status.busy": "2023-02-08T12:33:51.792450Z",
     "iopub.status.idle": "2023-02-08T12:33:52.235594Z",
     "shell.execute_reply": "2023-02-08T12:33:52.234266Z"
    },
    "papermill": {
     "duration": 0.45325,
     "end_time": "2023-02-08T12:33:52.238779",
     "exception": false,
     "start_time": "2023-02-08T12:33:51.785529",
     "status": "completed"
    },
    "tags": []
   },
   "outputs": [
    {
     "data": {
      "image/png": "[encoded data removed]",
      "text/plain": [
       "<Figure size 864x432 with 1 Axes>"
      ]
     },
     "metadata": {
      "needs_background": "light"
     },
     "output_type": "display_data"
    }
   ],
   "source": [
    "#시각화\n",
    "df.plot(figsize = (12,6))\n",
    "plt.xlabel('Time')\n",
    "plt.ylabel('Value')\n",
    "plt.title('Signals Visualization')\n",
    "plt.show()"
   ]
  },
  {
   "cell_type": "code",
   "execution_count": 6,
   "id": "0dd458c5",
   "metadata": {
    "execution": {
     "iopub.execute_input": "2023-02-08T12:33:52.254925Z",
     "iopub.status.busy": "2023-02-08T12:33:52.254045Z",
     "iopub.status.idle": "2023-02-08T12:33:52.484665Z",
     "shell.execute_reply": "2023-02-08T12:33:52.483780Z"
    },
    "papermill": {
     "duration": 0.241289,
     "end_time": "2023-02-08T12:33:52.487103",
     "exception": false,
     "start_time": "2023-02-08T12:33:52.245814",
     "status": "completed"
    },
    "tags": []
   },
   "outputs": [
    {
     "data": {
      "image/png": "[encoded data removed]",
      "text/plain": [
       "<Figure size 864x216 with 1 Axes>"
      ]
     },
     "metadata": {
      "needs_background": "light"
     },
     "output_type": "display_data"
    }
   ],
   "source": [
    "#데이터 분포 확인\n",
    "df['anomaly'].plot(figsize = (12,3))\n",
    "df['changepoint'].plot()\n",
    "plt.legend()\n",
    "plt.title('Distribution of Outliers ')\n",
    "plt.show()\n"
   ]
  },
  {
   "cell_type": "markdown",
   "id": "f4137fb4",
   "metadata": {
    "papermill": {
     "duration": 0.006764,
     "end_time": "2023-02-08T12:33:52.501156",
     "exception": false,
     "start_time": "2023-02-08T12:33:52.494392",
     "status": "completed"
    },
    "tags": []
   },
   "source": [
    "* ### Model Pipeline and Preprocessing\n"
   ]
  },
  {
   "cell_type": "code",
   "execution_count": 7,
   "id": "98d9dd3f",
   "metadata": {
    "execution": {
     "iopub.execute_input": "2023-02-08T12:33:52.517590Z",
     "iopub.status.busy": "2023-02-08T12:33:52.516481Z",
     "iopub.status.idle": "2023-02-08T12:33:52.522551Z",
     "shell.execute_reply": "2023-02-08T12:33:52.521652Z"
    },
    "papermill": {
     "duration": 0.016693,
     "end_time": "2023-02-08T12:33:52.524815",
     "exception": false,
     "start_time": "2023-02-08T12:33:52.508122",
     "status": "completed"
    },
    "tags": []
   },
   "outputs": [],
   "source": [
    "# Random Seed\n",
    "def Random(seed_value):\n",
    "    import os\n",
    "    os.environ['PYTHONHASHSEED'] = str(seed_value)\n",
    "    import random\n",
    "    random.seed(seed_value)\n",
    "    np.random.seed(seed_value)\n",
    "    import tensorflow as tf\n",
    "    tf.random.set_seed(seed_value)"
   ]
  },
  {
   "cell_type": "code",
   "execution_count": 8,
   "id": "7d4c2925",
   "metadata": {
    "execution": {
     "iopub.execute_input": "2023-02-08T12:33:52.542154Z",
     "iopub.status.busy": "2023-02-08T12:33:52.541136Z",
     "iopub.status.idle": "2023-02-08T12:33:52.551843Z",
     "shell.execute_reply": "2023-02-08T12:33:52.550706Z"
    },
    "papermill": {
     "duration": 0.022011,
     "end_time": "2023-02-08T12:33:52.554314",
     "exception": false,
     "start_time": "2023-02-08T12:33:52.532303",
     "status": "completed"
    },
    "tags": []
   },
   "outputs": [],
   "source": [
    "#Convolutional AutoEncoder\n",
    "def convae(data):\n",
    "\n",
    "    model = keras.Sequential([ \n",
    "        \n",
    "        layers.Input(shape = (data.shape[1], data.shape[2])),\n",
    "        layers.Conv1D(filters = 32, kernel_size = 7, padding = 'same', strides = 2, activation = 'relu' ),\n",
    "        layers.Conv1D(filters = 16, kernel_size = 7, padding = 'same', strides = 2, activation = 'relu' ),\n",
    "        layers.Conv1DTranspose(filters = 16, kernel_size = 7, padding = 'same', strides = 2, activation = 'relu' ),\n",
    "        layers.Conv1DTranspose(filters = 32, kernel_size = 7, padding = 'same', strides = 2, activation = 'relu' ),\n",
    "        layers.Conv1DTranspose(filters = 8, kernel_size = 7, padding = 'same'),  # shape 일치시키기 위한 layer(오토인코더 구조) \n",
    "    \n",
    "    ])\n",
    "\n",
    "    model.compile(optimizer = keras.optimizers.Adam(learning_rate = 0.001), loss = 'mse')\n",
    "    \n",
    "    model.summary()\n",
    "\n",
    "    # Training\n",
    "    history = model.fit(        \n",
    "        data,\n",
    "        data, # data X instead of Y because it's unsupervised learning\n",
    "        epochs = 100,\n",
    "        batch_size = 32,\n",
    "        verbose = 0,\n",
    "\n",
    "        # early stopping 자동 학습 중단. patience 5번 loss 상승시 중단\n",
    "        callbacks = [\n",
    "            keras.callbacks.EarlyStopping(monitor = 'val_loss', patience = 5, verbose = 0)\n",
    "        ]\n",
    "\n",
    "    )\n",
    "    return history, model"
   ]
  },
  {
   "cell_type": "code",
   "execution_count": 9,
   "id": "0a0d9ecc",
   "metadata": {
    "execution": {
     "iopub.execute_input": "2023-02-08T12:33:52.571710Z",
     "iopub.status.busy": "2023-02-08T12:33:52.570842Z",
     "iopub.status.idle": "2023-02-08T12:33:52.582319Z",
     "shell.execute_reply": "2023-02-08T12:33:52.581072Z"
    },
    "papermill": {
     "duration": 0.023299,
     "end_time": "2023-02-08T12:33:52.584941",
     "exception": false,
     "start_time": "2023-02-08T12:33:52.561642",
     "status": "completed"
    },
    "tags": []
   },
   "outputs": [],
   "source": [
    "#Preprocessing\n",
    "X_train = df[:400].drop(columns = ['anomaly','changepoint'], axis = 1) ##0~400번까지 모두 정상데이터이므로 학습데이터로 선정\n",
    "StSc = StandardScaler()\n",
    "X_train_scale = StSc.fit(X_train)   ## Standardization(표준) : train data의 평균, 분산분포를 저장. 추후에 test data에도 똑같이 적용필요\n",
    "X_train_scale = StSc.transform(X_train)\n"
   ]
  },
  {
   "cell_type": "code",
   "execution_count": 10,
   "id": "70900b3c",
   "metadata": {
    "execution": {
     "iopub.execute_input": "2023-02-08T12:33:52.601112Z",
     "iopub.status.busy": "2023-02-08T12:33:52.600648Z",
     "iopub.status.idle": "2023-02-08T12:33:52.612064Z",
     "shell.execute_reply": "2023-02-08T12:33:52.610978Z"
    },
    "papermill": {
     "duration": 0.02247,
     "end_time": "2023-02-08T12:33:52.614576",
     "exception": false,
     "start_time": "2023-02-08T12:33:52.592106",
     "status": "completed"
    },
    "tags": []
   },
   "outputs": [
    {
     "data": {
      "text/plain": [
       "(341, 60, 8)"
      ]
     },
     "execution_count": 10,
     "metadata": {},
     "output_type": "execute_result"
    }
   ],
   "source": [
    "# sequence를 고려한 전처리\n",
    "def create_sequences(data, time_steps = 60):\n",
    "    out = []\n",
    "    for i in range(len(data) - time_steps + 1):\n",
    "        out.append(data[i : (i + time_steps)])\n",
    "    return np.stack(out)\n",
    "\n",
    "X_train_seq = create_sequences(X_train_scale,60) #400의 정상데이터를 60개의 묶음으로 1씩 shift 하며 묶음 -> 341개의 sequential data\n",
    "X_train_seq.shape "
   ]
  },
  {
   "cell_type": "code",
   "execution_count": 11,
   "id": "aff5c394",
   "metadata": {
    "execution": {
     "iopub.execute_input": "2023-02-08T12:33:52.630708Z",
     "iopub.status.busy": "2023-02-08T12:33:52.630209Z",
     "iopub.status.idle": "2023-02-08T12:34:04.099818Z",
     "shell.execute_reply": "2023-02-08T12:34:04.098584Z"
    },
    "papermill": {
     "duration": 11.481063,
     "end_time": "2023-02-08T12:34:04.102862",
     "exception": false,
     "start_time": "2023-02-08T12:33:52.621799",
     "status": "completed"
    },
    "tags": []
   },
   "outputs": [
    {
     "name": "stderr",
     "output_type": "stream",
     "text": [
      "2023-02-08 12:33:52.687151: I tensorflow/core/common_runtime/process_util.cc:146] Creating new thread pool with default inter op setting: 2. Tune using inter_op_parallelism_threads for best performance.\n"
     ]
    },
    {
     "name": "stdout",
     "output_type": "stream",
     "text": [
      "Model: \"sequential\"\n",
      "_________________________________________________________________\n",
      "Layer (type)                 Output Shape              Param #   \n",
      "=================================================================\n",
      "conv1d (Conv1D)              (None, 30, 32)            1824      \n",
      "_________________________________________________________________\n",
      "conv1d_1 (Conv1D)            (None, 15, 16)            3600      \n",
      "_________________________________________________________________\n",
      "conv1d_transpose (Conv1DTran (None, 30, 16)            1808      \n",
      "_________________________________________________________________\n",
      "conv1d_transpose_1 (Conv1DTr (None, 60, 32)            3616      \n",
      "_________________________________________________________________\n",
      "conv1d_transpose_2 (Conv1DTr (None, 60, 8)             1800      \n",
      "=================================================================\n",
      "Total params: 12,648\n",
      "Trainable params: 12,648\n",
      "Non-trainable params: 0\n",
      "_________________________________________________________________\n"
     ]
    },
    {
     "name": "stderr",
     "output_type": "stream",
     "text": [
      "2023-02-08 12:33:52.942621: I tensorflow/compiler/mlir/mlir_graph_optimization_pass.cc:185] None of the MLIR Optimization Passes are enabled (registered 2)\n"
     ]
    }
   ],
   "source": [
    "history, model = convae(X_train_seq)"
   ]
  },
  {
   "cell_type": "markdown",
   "id": "44e2ab82",
   "metadata": {
    "papermill": {
     "duration": 0.007333,
     "end_time": "2023-02-08T12:34:04.118092",
     "exception": false,
     "start_time": "2023-02-08T12:34:04.110759",
     "status": "completed"
    },
    "tags": []
   },
   "source": [
    "* ### Anomaly Scoring & Result"
   ]
  },
  {
   "cell_type": "code",
   "execution_count": 12,
   "id": "3dadc081",
   "metadata": {
    "execution": {
     "iopub.execute_input": "2023-02-08T12:34:04.135275Z",
     "iopub.status.busy": "2023-02-08T12:34:04.134845Z",
     "iopub.status.idle": "2023-02-08T12:34:04.661462Z",
     "shell.execute_reply": "2023-02-08T12:34:04.660213Z"
    },
    "papermill": {
     "duration": 0.53886,
     "end_time": "2023-02-08T12:34:04.664302",
     "exception": false,
     "start_time": "2023-02-08T12:34:04.125442",
     "status": "completed"
    },
    "tags": []
   },
   "outputs": [
    {
     "data": {
      "image/png": "[encoded data removed]",
      "text/plain": [
       "<Figure size 432x288 with 1 Axes>"
      ]
     },
     "metadata": {
      "needs_background": "light"
     },
     "output_type": "display_data"
    }
   ],
   "source": [
    "residuals = pd.Series(np.sum(np.mean(np.abs(X_train_seq - model.predict(X_train_seq)), axis = 1), axis = 1)) # input data와 reconstructed input의 차이값\n",
    "ucl = residuals.quantile(0.999) # 차이값의 전체 분포에서 상위 0.01% 지점을 upper control limit으로 지정\n",
    "plt.plot(residuals) ## value gap between original input and reconstructed input for anomaly-free data\n",
    "plt.show()"
   ]
  },
  {
   "cell_type": "code",
   "execution_count": 13,
   "id": "27074feb",
   "metadata": {
    "execution": {
     "iopub.execute_input": "2023-02-08T12:34:04.683022Z",
     "iopub.status.busy": "2023-02-08T12:34:04.682575Z",
     "iopub.status.idle": "2023-02-08T12:34:05.263695Z",
     "shell.execute_reply": "2023-02-08T12:34:05.262339Z"
    },
    "papermill": {
     "duration": 0.593712,
     "end_time": "2023-02-08T12:34:05.266537",
     "exception": false,
     "start_time": "2023-02-08T12:34:04.672825",
     "status": "completed"
    },
    "tags": []
   },
   "outputs": [
    {
     "data": {
      "text/plain": [
       "Text(0.5, 1.0, 'Actual Label')"
      ]
     },
     "execution_count": 13,
     "metadata": {},
     "output_type": "execute_result"
    },
    {
     "data": {
      "image/png": "[encoded data removed]",
      "text/plain": [
       "<Figure size 1080x360 with 2 Axes>"
      ]
     },
     "metadata": {
      "needs_background": "light"
     },
     "output_type": "display_data"
    }
   ],
   "source": [
    "X_test_sc = StSc.transform(df.drop(columns = ['anomaly','changepoint']))  #400번째 이후의 이상치 데이터 모두 포함하여 test data 지정\n",
    "X_test_seq = create_sequences(X_test_sc)\n",
    "test_residuals = pd.Series(np.sum(np.mean(np.abs(X_test_seq - model.predict(X_test_seq)), axis = 1), axis = 1))\n",
    "plt.figure(figsize = (15,5))\n",
    "plt.subplot(1,2,1)\n",
    "plt.plot(test_residuals)\n",
    "plt.axhline(y = ucl * 1.5 , xmin = 0, xmax=len(X_train_seq))  # upper control limit 의 1.5배를 Threshold 로 설정\n",
    "plt.title('Reconstructed Residual Error')\n",
    "plt.subplot(1,2,2)\n",
    "plt.plot(df['anomaly'].values)\n",
    "plt.title('Actual Label')"
   ]
  },
  {
   "cell_type": "code",
   "execution_count": 14,
   "id": "b109d4c3",
   "metadata": {
    "execution": {
     "iopub.execute_input": "2023-02-08T12:34:05.288082Z",
     "iopub.status.busy": "2023-02-08T12:34:05.286989Z",
     "iopub.status.idle": "2023-02-08T12:34:05.363677Z",
     "shell.execute_reply": "2023-02-08T12:34:05.362436Z"
    },
    "papermill": {
     "duration": 0.089987,
     "end_time": "2023-02-08T12:34:05.366592",
     "exception": false,
     "start_time": "2023-02-08T12:34:05.276605",
     "status": "completed"
    },
    "tags": []
   },
   "outputs": [],
   "source": [
    "# 비교를 위해 label값을 time 단위로 변경\n",
    "N_STEPS = 60\n",
    "anomalous_data = test_residuals > ucl * 1.5\n",
    "\n",
    "anomalous_data_indices = []\n",
    "for data_idx in range(N_STEPS - 1, len(X_test_seq) - N_STEPS + 1):\n",
    "    if np.all(anomalous_data[data_idx - N_STEPS + 1 : data_idx]):\n",
    "        anomalous_data_indices.append(data_idx)\n",
    "    "
   ]
  },
  {
   "cell_type": "code",
   "execution_count": 15,
   "id": "538fa154",
   "metadata": {
    "execution": {
     "iopub.execute_input": "2023-02-08T12:34:05.385815Z",
     "iopub.status.busy": "2023-02-08T12:34:05.385123Z",
     "iopub.status.idle": "2023-02-08T12:34:05.601832Z",
     "shell.execute_reply": "2023-02-08T12:34:05.600920Z"
    },
    "papermill": {
     "duration": 0.229171,
     "end_time": "2023-02-08T12:34:05.604252",
     "exception": false,
     "start_time": "2023-02-08T12:34:05.375081",
     "status": "completed"
    },
    "tags": []
   },
   "outputs": [
    {
     "data": {
      "image/png": "[encoded data removed]",
      "text/plain": [
       "<Figure size 432x288 with 1 Axes>"
      ]
     },
     "metadata": {
      "needs_background": "light"
     },
     "output_type": "display_data"
    }
   ],
   "source": [
    "prediction = pd.Series(data = 0, index = df.index)\n",
    "prediction.iloc[anomalous_data_indices] = 1\n",
    "\n",
    "plt.plot(prediction.values, label = 'pred')\n",
    "plt.plot(df['anomaly'].values, label = 'label')\n",
    "plt.legend()\n",
    "plt.show()"
   ]
  }
 ],
 "metadata": {
  "kernelspec": {
   "display_name": "Python 3",
   "language": "python",
   "name": "python3"
  },
  "language_info": {
   "codemirror_mode": {
    "name": "ipython",
    "version": 3
   },
   "file_extension": ".py",
   "mimetype": "text/x-python",
   "name": "python",
   "nbconvert_exporter": "python",
   "pygments_lexer": "ipython3",
   "version": "3.7.12"
  },
  "papermill": {
   "default_parameters": {},
   "duration": 34.150482,
   "end_time": "2023-02-08T12:34:08.468917",
   "environment_variables": {},
   "exception": null,
   "input_path": "__notebook__.ipynb",
   "output_path": "__notebook__.ipynb",
   "parameters": {},
   "start_time": "2023-02-08T12:33:34.318435",
   "version": "2.3.4"
  }
 },
 "nbformat": 4,
 "nbformat_minor": 5
}
