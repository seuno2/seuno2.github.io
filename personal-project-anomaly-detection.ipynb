{
 "cells": [
  {
   "cell_type": "code",
   "execution_count": 1,
   "id": "7bef6873",
   "metadata": {
    "_cell_guid": "b1076dfc-b9ad-4769-8c92-a6c4dae69d19",
    "_uuid": "8f2839f25d086af736a60e9eeb907d3b93b6e0e5",
    "execution": {
     "iopub.execute_input": "2023-02-07T14:29:34.597356Z",
     "iopub.status.busy": "2023-02-07T14:29:34.596920Z",
     "iopub.status.idle": "2023-02-07T14:29:34.668647Z",
     "shell.execute_reply": "2023-02-07T14:29:34.667411Z"
    },
    "papermill": {
     "duration": 0.085315,
     "end_time": "2023-02-07T14:29:34.673280",
     "exception": false,
     "start_time": "2023-02-07T14:29:34.587965",
     "status": "completed"
    },
    "tags": []
   },
   "outputs": [
    {
     "name": "stdout",
     "output_type": "stream",
     "text": [
      "/kaggle/input/skab-anomaly-detection/SKAB-master/LICENSE\n",
      "/kaggle/input/skab-anomaly-detection/SKAB-master/.gitignore\n",
      "/kaggle/input/skab-anomaly-detection/SKAB-master/README.md\n",
      "/kaggle/input/skab-anomaly-detection/SKAB-master/utils/t2.py\n",
      "/kaggle/input/skab-anomaly-detection/SKAB-master/utils/__init__.py\n",
      "/kaggle/input/skab-anomaly-detection/SKAB-master/docs/contributing.md\n",
      "/kaggle/input/skab-anomaly-detection/SKAB-master/docs/pictures/skab.png\n",
      "/kaggle/input/skab-anomaly-detection/SKAB-master/docs/pictures/testbed.png\n",
      "/kaggle/input/skab-anomaly-detection/SKAB-master/docs/pictures/nab-metric.jpg\n",
      "/kaggle/input/skab-anomaly-detection/SKAB-master/notebooks/hotelling_q.ipynb\n",
      "/kaggle/input/skab-anomaly-detection/SKAB-master/notebooks/mscred.ipynb\n",
      "/kaggle/input/skab-anomaly-detection/SKAB-master/notebooks/isolation_forest.ipynb\n",
      "/kaggle/input/skab-anomaly-detection/SKAB-master/notebooks/VAE.ipynb\n",
      "/kaggle/input/skab-anomaly-detection/SKAB-master/notebooks/LSTM-AE.ipynb\n",
      "/kaggle/input/skab-anomaly-detection/SKAB-master/notebooks/LSTM-VAE.ipynb\n",
      "/kaggle/input/skab-anomaly-detection/SKAB-master/notebooks/EDA.ipynb\n",
      "/kaggle/input/skab-anomaly-detection/SKAB-master/notebooks/README.md\n",
      "/kaggle/input/skab-anomaly-detection/SKAB-master/notebooks/hotelling.ipynb\n",
      "/kaggle/input/skab-anomaly-detection/SKAB-master/notebooks/autoencoder.ipynb\n",
      "/kaggle/input/skab-anomaly-detection/SKAB-master/notebooks/lstm.ipynb\n",
      "/kaggle/input/skab-anomaly-detection/SKAB-master/notebooks/Conv-AE.ipynb\n",
      "/kaggle/input/skab-anomaly-detection/SKAB-master/notebooks/requirements.txt\n",
      "/kaggle/input/skab-anomaly-detection/SKAB-master/notebooks/ArimaFD.ipynb\n",
      "/kaggle/input/skab-anomaly-detection/SKAB-master/notebooks/MSET.ipynb\n",
      "/kaggle/input/skab-anomaly-detection/SKAB-master/data/README.md\n",
      "/kaggle/input/skab-anomaly-detection/SKAB-master/data/Load data.ipynb\n",
      "/kaggle/input/skab-anomaly-detection/SKAB-master/data/valve2/1.csv\n",
      "/kaggle/input/skab-anomaly-detection/SKAB-master/data/valve2/3.csv\n",
      "/kaggle/input/skab-anomaly-detection/SKAB-master/data/valve2/2.csv\n",
      "/kaggle/input/skab-anomaly-detection/SKAB-master/data/valve2/0.csv\n",
      "/kaggle/input/skab-anomaly-detection/SKAB-master/data/other/1.csv\n",
      "/kaggle/input/skab-anomaly-detection/SKAB-master/data/other/11.csv\n",
      "/kaggle/input/skab-anomaly-detection/SKAB-master/data/other/3.csv\n",
      "/kaggle/input/skab-anomaly-detection/SKAB-master/data/other/5.csv\n",
      "/kaggle/input/skab-anomaly-detection/SKAB-master/data/other/2.csv\n",
      "/kaggle/input/skab-anomaly-detection/SKAB-master/data/other/13.csv\n",
      "/kaggle/input/skab-anomaly-detection/SKAB-master/data/other/14.csv\n",
      "/kaggle/input/skab-anomaly-detection/SKAB-master/data/other/4.csv\n",
      "/kaggle/input/skab-anomaly-detection/SKAB-master/data/other/8.csv\n",
      "/kaggle/input/skab-anomaly-detection/SKAB-master/data/other/12.csv\n",
      "/kaggle/input/skab-anomaly-detection/SKAB-master/data/other/9.csv\n",
      "/kaggle/input/skab-anomaly-detection/SKAB-master/data/other/7.csv\n",
      "/kaggle/input/skab-anomaly-detection/SKAB-master/data/other/6.csv\n",
      "/kaggle/input/skab-anomaly-detection/SKAB-master/data/other/10.csv\n",
      "/kaggle/input/skab-anomaly-detection/SKAB-master/data/valve1/1.csv\n",
      "/kaggle/input/skab-anomaly-detection/SKAB-master/data/valve1/11.csv\n",
      "/kaggle/input/skab-anomaly-detection/SKAB-master/data/valve1/3.csv\n",
      "/kaggle/input/skab-anomaly-detection/SKAB-master/data/valve1/5.csv\n",
      "/kaggle/input/skab-anomaly-detection/SKAB-master/data/valve1/2.csv\n",
      "/kaggle/input/skab-anomaly-detection/SKAB-master/data/valve1/13.csv\n",
      "/kaggle/input/skab-anomaly-detection/SKAB-master/data/valve1/14.csv\n",
      "/kaggle/input/skab-anomaly-detection/SKAB-master/data/valve1/4.csv\n",
      "/kaggle/input/skab-anomaly-detection/SKAB-master/data/valve1/8.csv\n",
      "/kaggle/input/skab-anomaly-detection/SKAB-master/data/valve1/12.csv\n",
      "/kaggle/input/skab-anomaly-detection/SKAB-master/data/valve1/9.csv\n",
      "/kaggle/input/skab-anomaly-detection/SKAB-master/data/valve1/7.csv\n",
      "/kaggle/input/skab-anomaly-detection/SKAB-master/data/valve1/0.csv\n",
      "/kaggle/input/skab-anomaly-detection/SKAB-master/data/valve1/15.csv\n",
      "/kaggle/input/skab-anomaly-detection/SKAB-master/data/valve1/6.csv\n",
      "/kaggle/input/skab-anomaly-detection/SKAB-master/data/valve1/10.csv\n",
      "/kaggle/input/skab-anomaly-detection/SKAB-master/data/anomaly-free/anomaly-free.csv\n"
     ]
    }
   ],
   "source": [
    "# This Python 3 environment comes with many helpful analytics libraries installed\n",
    "# It is defined by the kaggle/python Docker image: https://github.com/kaggle/docker-python\n",
    "# For example, here's several helpful packages to load\n",
    "\n",
    "import numpy as np # linear algebra\n",
    "import pandas as pd # data processing, CSV file I/O (e.g. pd.read_csv)\n",
    "\n",
    "# Input data files are available in the read-only \"../input/\" directory\n",
    "# For example, running this (by clicking run or pressing Shift+Enter) will list all files under the input directory\n",
    "\n",
    "import os\n",
    "for dirname, _, filenames in os.walk('/kaggle/input'):\n",
    "    for filename in filenames:\n",
    "        print(os.path.join(dirname, filename))\n",
    "\n",
    "# You can write up to 20GB to the current directory (/kaggle/working/) that gets preserved as output when you create a version using \"Save & Run All\" \n",
    "# You can also write temporary files to /kaggle/temp/, but they won't be saved outside of the current session"
   ]
  },
  {
   "cell_type": "code",
   "execution_count": 2,
   "id": "78fae52b",
   "metadata": {
    "execution": {
     "iopub.execute_input": "2023-02-07T14:29:34.687751Z",
     "iopub.status.busy": "2023-02-07T14:29:34.687355Z",
     "iopub.status.idle": "2023-02-07T14:29:42.718166Z",
     "shell.execute_reply": "2023-02-07T14:29:42.716940Z"
    },
    "papermill": {
     "duration": 8.040665,
     "end_time": "2023-02-07T14:29:42.720816",
     "exception": false,
     "start_time": "2023-02-07T14:29:34.680151",
     "status": "completed"
    },
    "tags": []
   },
   "outputs": [],
   "source": [
    "import pandas as pd\n",
    "import matplotlib.pyplot as plt\n",
    "import os\n",
    "import numpy as np\n",
    "import seaborn as sns\n",
    "\n",
    "from tensorflow import keras\n",
    "from tensorflow.keras import layers\n",
    "from sklearn.metrics import mean_absolute_error, mean_squared_error \n",
    "from sklearn.model_selection import train_test_split\n",
    "from sklearn.preprocessing import StandardScaler "
   ]
  },
  {
   "cell_type": "markdown",
   "id": "eebb527a",
   "metadata": {
    "papermill": {
     "duration": 0.004868,
     "end_time": "2023-02-07T14:29:42.731032",
     "exception": false,
     "start_time": "2023-02-07T14:29:42.726164",
     "status": "completed"
    },
    "tags": []
   },
   "source": [
    "# Introductory Summary\n",
    "\n",
    "1.  Dataset : SKAB (SkoltechAnomaly Benchmark) / Multivariate time series collected from the sensors on the testbed\n",
    "1.  Framework : Tensorflow Keras\n",
    "1.  Model : 1D Convolutional Autoencoder\n",
    "1.  Activation Function : ReLU\n"
   ]
  },
  {
   "cell_type": "markdown",
   "id": "b898a223",
   "metadata": {
    "papermill": {
     "duration": 0.00474,
     "end_time": "2023-02-07T14:29:42.740772",
     "exception": false,
     "start_time": "2023-02-07T14:29:42.736032",
     "status": "completed"
    },
    "tags": []
   },
   "source": [
    "* ###  Data Summary"
   ]
  },
  {
   "cell_type": "code",
   "execution_count": 3,
   "id": "935df873",
   "metadata": {
    "execution": {
     "iopub.execute_input": "2023-02-07T14:29:42.753268Z",
     "iopub.status.busy": "2023-02-07T14:29:42.752329Z",
     "iopub.status.idle": "2023-02-07T14:29:43.176751Z",
     "shell.execute_reply": "2023-02-07T14:29:43.175890Z"
    },
    "papermill": {
     "duration": 0.433534,
     "end_time": "2023-02-07T14:29:43.179369",
     "exception": false,
     "start_time": "2023-02-07T14:29:42.745835",
     "status": "completed"
    },
    "tags": []
   },
   "outputs": [],
   "source": [
    "#Paths of data files\n",
    "all_files =[]\n",
    "for root, dirs, files in os.walk('/kaggle/input/skab-anomaly-detection/SKAB-master/data/'):\n",
    "    for file in files:\n",
    "        if file.endswith('.csv'):\n",
    "            all_files.append(os.path.join(root,file))\n",
    "\n",
    "#Data with outliers included         \n",
    "list_of_df = [pd.read_csv(file,\n",
    "                            sep = ';',\n",
    "                            index_col = 'datetime',\n",
    "                            ) for file in all_files if 'anomaly-free' not in file]\n",
    "\n",
    "#Anomaly free data\n",
    "anomaly_free_df = pd.read_csv([file for file in all_files if 'anomaly-free' in file][0],\n",
    "                             sep = ';',\n",
    "                             index_col = 'datetime')\n",
    "\n"
   ]
  },
  {
   "cell_type": "code",
   "execution_count": 4,
   "id": "6d0bd990",
   "metadata": {
    "execution": {
     "iopub.execute_input": "2023-02-07T14:29:43.192431Z",
     "iopub.status.busy": "2023-02-07T14:29:43.191586Z",
     "iopub.status.idle": "2023-02-07T14:29:43.245509Z",
     "shell.execute_reply": "2023-02-07T14:29:43.244656Z"
    },
    "papermill": {
     "duration": 0.064346,
     "end_time": "2023-02-07T14:29:43.249150",
     "exception": false,
     "start_time": "2023-02-07T14:29:43.184804",
     "status": "completed"
    },
    "tags": []
   },
   "outputs": [
    {
     "name": "stdout",
     "output_type": "stream",
     "text": [
      "이상치 포함된 DataFrame 34개\n",
      "Index(['Accelerometer1RMS', 'Accelerometer2RMS', 'Current', 'Pressure',\n",
      "       'Temperature', 'Thermocouple', 'Voltage', 'Volume Flow RateRMS',\n",
      "       'anomaly', 'changepoint'],\n",
      "      dtype='object') (1063, 10)\n",
      "Index(['Accelerometer1RMS', 'Accelerometer2RMS', 'Current', 'Pressure',\n",
      "       'Temperature', 'Thermocouple', 'Voltage', 'Volume Flow RateRMS',\n",
      "       'anomaly', 'changepoint'],\n",
      "      dtype='object') (995, 10)\n",
      "Index(['Accelerometer1RMS', 'Accelerometer2RMS', 'Current', 'Pressure',\n",
      "       'Temperature', 'Thermocouple', 'Voltage', 'Volume Flow RateRMS',\n",
      "       'anomaly', 'changepoint'],\n",
      "      dtype='object') (1129, 10)\n",
      "Index(['Accelerometer1RMS', 'Accelerometer2RMS', 'Current', 'Pressure',\n",
      "       'Temperature', 'Thermocouple', 'Voltage', 'Volume Flow RateRMS',\n",
      "       'anomaly', 'changepoint'],\n",
      "      dtype='object') (1125, 10)\n",
      "Index(['Accelerometer1RMS', 'Accelerometer2RMS', 'Current', 'Pressure',\n",
      "       'Temperature', 'Thermocouple', 'Voltage', 'Volume Flow RateRMS',\n",
      "       'anomaly', 'changepoint'],\n",
      "      dtype='object') (745, 10)\n",
      "Index(['Accelerometer1RMS', 'Accelerometer2RMS', 'Current', 'Pressure',\n",
      "       'Temperature', 'Thermocouple', 'Voltage', 'Volume Flow RateRMS',\n",
      "       'anomaly', 'changepoint'],\n",
      "      dtype='object') (1190, 10)\n",
      "Index(['Accelerometer1RMS', 'Accelerometer2RMS', 'Current', 'Pressure',\n",
      "       'Temperature', 'Thermocouple', 'Voltage', 'Volume Flow RateRMS',\n",
      "       'anomaly', 'changepoint'],\n",
      "      dtype='object') (1137, 10)\n",
      "Index(['Accelerometer1RMS', 'Accelerometer2RMS', 'Current', 'Pressure',\n",
      "       'Temperature', 'Thermocouple', 'Voltage', 'Volume Flow RateRMS',\n",
      "       'anomaly', 'changepoint'],\n",
      "      dtype='object') (1155, 10)\n",
      "Index(['Accelerometer1RMS', 'Accelerometer2RMS', 'Current', 'Pressure',\n",
      "       'Temperature', 'Thermocouple', 'Voltage', 'Volume Flow RateRMS',\n",
      "       'anomaly', 'changepoint'],\n",
      "      dtype='object') (780, 10)\n",
      "Index(['Accelerometer1RMS', 'Accelerometer2RMS', 'Current', 'Pressure',\n",
      "       'Temperature', 'Thermocouple', 'Voltage', 'Volume Flow RateRMS',\n",
      "       'anomaly', 'changepoint'],\n",
      "      dtype='object') (923, 10)\n",
      "Index(['Accelerometer1RMS', 'Accelerometer2RMS', 'Current', 'Pressure',\n",
      "       'Temperature', 'Thermocouple', 'Voltage', 'Volume Flow RateRMS',\n",
      "       'anomaly', 'changepoint'],\n",
      "      dtype='object') (905, 10)\n",
      "Index(['Accelerometer1RMS', 'Accelerometer2RMS', 'Current', 'Pressure',\n",
      "       'Temperature', 'Thermocouple', 'Voltage', 'Volume Flow RateRMS',\n",
      "       'anomaly', 'changepoint'],\n",
      "      dtype='object') (1191, 10)\n",
      "Index(['Accelerometer1RMS', 'Accelerometer2RMS', 'Current', 'Pressure',\n",
      "       'Temperature', 'Thermocouple', 'Voltage', 'Volume Flow RateRMS',\n",
      "       'anomaly', 'changepoint'],\n",
      "      dtype='object') (1147, 10)\n",
      "Index(['Accelerometer1RMS', 'Accelerometer2RMS', 'Current', 'Pressure',\n",
      "       'Temperature', 'Thermocouple', 'Voltage', 'Volume Flow RateRMS',\n",
      "       'anomaly', 'changepoint'],\n",
      "      dtype='object') (1048, 10)\n",
      "Index(['Accelerometer1RMS', 'Accelerometer2RMS', 'Current', 'Pressure',\n",
      "       'Temperature', 'Thermocouple', 'Voltage', 'Volume Flow RateRMS',\n",
      "       'anomaly', 'changepoint'],\n",
      "      dtype='object') (1144, 10)\n",
      "Index(['Accelerometer1RMS', 'Accelerometer2RMS', 'Current', 'Pressure',\n",
      "       'Temperature', 'Thermocouple', 'Voltage', 'Volume Flow RateRMS',\n",
      "       'anomaly', 'changepoint'],\n",
      "      dtype='object') (1090, 10)\n",
      "Index(['Accelerometer1RMS', 'Accelerometer2RMS', 'Current', 'Pressure',\n",
      "       'Temperature', 'Thermocouple', 'Voltage', 'Volume Flow RateRMS',\n",
      "       'anomaly', 'changepoint'],\n",
      "      dtype='object') (1147, 10)\n",
      "Index(['Accelerometer1RMS', 'Accelerometer2RMS', 'Current', 'Pressure',\n",
      "       'Temperature', 'Thermocouple', 'Voltage', 'Volume Flow RateRMS',\n",
      "       'anomaly', 'changepoint'],\n",
      "      dtype='object') (1327, 10)\n",
      "Index(['Accelerometer1RMS', 'Accelerometer2RMS', 'Current', 'Pressure',\n",
      "       'Temperature', 'Thermocouple', 'Voltage', 'Volume Flow RateRMS',\n",
      "       'anomaly', 'changepoint'],\n",
      "      dtype='object') (1145, 10)\n",
      "Index(['Accelerometer1RMS', 'Accelerometer2RMS', 'Current', 'Pressure',\n",
      "       'Temperature', 'Thermocouple', 'Voltage', 'Volume Flow RateRMS',\n",
      "       'anomaly', 'changepoint'],\n",
      "      dtype='object') (1141, 10)\n",
      "Index(['Accelerometer1RMS', 'Accelerometer2RMS', 'Current', 'Pressure',\n",
      "       'Temperature', 'Thermocouple', 'Voltage', 'Volume Flow RateRMS',\n",
      "       'anomaly', 'changepoint'],\n",
      "      dtype='object') (1148, 10)\n",
      "Index(['Accelerometer1RMS', 'Accelerometer2RMS', 'Current', 'Pressure',\n",
      "       'Temperature', 'Thermocouple', 'Voltage', 'Volume Flow RateRMS',\n",
      "       'anomaly', 'changepoint'],\n",
      "      dtype='object') (1154, 10)\n",
      "Index(['Accelerometer1RMS', 'Accelerometer2RMS', 'Current', 'Pressure',\n",
      "       'Temperature', 'Thermocouple', 'Voltage', 'Volume Flow RateRMS',\n",
      "       'anomaly', 'changepoint'],\n",
      "      dtype='object') (1075, 10)\n",
      "Index(['Accelerometer1RMS', 'Accelerometer2RMS', 'Current', 'Pressure',\n",
      "       'Temperature', 'Thermocouple', 'Voltage', 'Volume Flow RateRMS',\n",
      "       'anomaly', 'changepoint'],\n",
      "      dtype='object') (1140, 10)\n",
      "Index(['Accelerometer1RMS', 'Accelerometer2RMS', 'Current', 'Pressure',\n",
      "       'Temperature', 'Thermocouple', 'Voltage', 'Volume Flow RateRMS',\n",
      "       'anomaly', 'changepoint'],\n",
      "      dtype='object') (1139, 10)\n",
      "Index(['Accelerometer1RMS', 'Accelerometer2RMS', 'Current', 'Pressure',\n",
      "       'Temperature', 'Thermocouple', 'Voltage', 'Volume Flow RateRMS',\n",
      "       'anomaly', 'changepoint'],\n",
      "      dtype='object') (1095, 10)\n",
      "Index(['Accelerometer1RMS', 'Accelerometer2RMS', 'Current', 'Pressure',\n",
      "       'Temperature', 'Thermocouple', 'Voltage', 'Volume Flow RateRMS',\n",
      "       'anomaly', 'changepoint'],\n",
      "      dtype='object') (1144, 10)\n",
      "Index(['Accelerometer1RMS', 'Accelerometer2RMS', 'Current', 'Pressure',\n",
      "       'Temperature', 'Thermocouple', 'Voltage', 'Volume Flow RateRMS',\n",
      "       'anomaly', 'changepoint'],\n",
      "      dtype='object') (1140, 10)\n",
      "Index(['Accelerometer1RMS', 'Accelerometer2RMS', 'Current', 'Pressure',\n",
      "       'Temperature', 'Thermocouple', 'Voltage', 'Volume Flow RateRMS',\n",
      "       'anomaly', 'changepoint'],\n",
      "      dtype='object') (1148, 10)\n",
      "Index(['Accelerometer1RMS', 'Accelerometer2RMS', 'Current', 'Pressure',\n",
      "       'Temperature', 'Thermocouple', 'Voltage', 'Volume Flow RateRMS',\n",
      "       'anomaly', 'changepoint'],\n",
      "      dtype='object') (1094, 10)\n",
      "Index(['Accelerometer1RMS', 'Accelerometer2RMS', 'Current', 'Pressure',\n",
      "       'Temperature', 'Thermocouple', 'Voltage', 'Volume Flow RateRMS',\n",
      "       'anomaly', 'changepoint'],\n",
      "      dtype='object') (1147, 10)\n",
      "Index(['Accelerometer1RMS', 'Accelerometer2RMS', 'Current', 'Pressure',\n",
      "       'Temperature', 'Thermocouple', 'Voltage', 'Volume Flow RateRMS',\n",
      "       'anomaly', 'changepoint'],\n",
      "      dtype='object') (1150, 10)\n",
      "Index(['Accelerometer1RMS', 'Accelerometer2RMS', 'Current', 'Pressure',\n",
      "       'Temperature', 'Thermocouple', 'Voltage', 'Volume Flow RateRMS',\n",
      "       'anomaly', 'changepoint'],\n",
      "      dtype='object') (1154, 10)\n",
      "Index(['Accelerometer1RMS', 'Accelerometer2RMS', 'Current', 'Pressure',\n",
      "       'Temperature', 'Thermocouple', 'Voltage', 'Volume Flow RateRMS',\n",
      "       'anomaly', 'changepoint'],\n",
      "      dtype='object') (1146, 10)\n",
      "\n",
      "이상치 없는 데이터\n",
      "                     Accelerometer1RMS  Accelerometer2RMS  Current  Pressure  \\\n",
      "datetime                                                                       \n",
      "2020-02-08 13:30:47           0.202394           0.275154  2.16975  0.382638   \n",
      "2020-02-08 13:30:48           0.203153           0.277857  2.07999 -0.273216   \n",
      "2020-02-08 13:30:50           0.202054           0.275790  2.52577  0.382638   \n",
      "2020-02-08 13:30:51           0.203595           0.278101  2.49742  0.054711   \n",
      "2020-02-08 13:30:52           0.201889           0.276363  2.29194  0.710565   \n",
      "...                                ...                ...      ...       ...   \n",
      "2020-02-08 16:16:43           0.225744           0.267921  2.91598  0.054711   \n",
      "2020-02-08 16:16:44           0.205870           0.258370  1.71505  0.710565   \n",
      "2020-02-08 16:16:45           0.219222           0.267244  2.35834 -0.273216   \n",
      "2020-02-08 16:16:46           0.219481           0.271278  2.49108  0.054711   \n",
      "2020-02-08 16:16:47           0.219436           0.270046  2.43108  0.382638   \n",
      "\n",
      "                     Temperature  Thermocouple  Voltage  Volume Flow RateRMS  \n",
      "datetime                                                                      \n",
      "2020-02-08 13:30:47      90.6454       26.8508  238.852              122.664  \n",
      "2020-02-08 13:30:48      90.7978       26.8639  227.943              122.338  \n",
      "2020-02-08 13:30:50      90.7730       26.8603  223.486              121.338  \n",
      "2020-02-08 13:30:51      90.8424       26.8616  244.904              121.664  \n",
      "2020-02-08 13:30:52      90.6664       26.8603  239.196              122.000  \n",
      "...                          ...           ...      ...                  ...  \n",
      "2020-02-08 16:16:43      88.8593       29.3792  219.542              126.000  \n",
      "2020-02-08 16:16:44      89.1754       29.3692  221.862              126.000  \n",
      "2020-02-08 16:16:45      89.1306       29.3674  226.050              126.679  \n",
      "2020-02-08 16:16:46      88.5447       29.3757  226.343              127.000  \n",
      "2020-02-08 16:16:47      89.1161       29.3687  205.473              125.648  \n",
      "\n",
      "[9405 rows x 8 columns]\n",
      "Number of change points : 129\n",
      "Number of outliers : 13067\n"
     ]
    }
   ],
   "source": [
    "print('이상치 포함된 DataFrame {}개'.format(len(list_of_df)))\n",
    "for i in range(len(list_of_df)) : print(list_of_df[i].columns, list_of_df[i].shape)\n",
    "print('\\n이상치 없는 데이터')\n",
    "print(anomaly_free_df)\n",
    "print('Number of change points :',sum([len(df[df.changepoint == 1.0])for df in list_of_df]) )\n",
    "print('Number of outliers :',sum([len(df[df.anomaly == 1.0])for df in list_of_df]) )\n",
    "\n",
    "df = list_of_df[1] #첫번째 데이터 사용!"
   ]
  },
  {
   "cell_type": "code",
   "execution_count": 5,
   "id": "366d0802",
   "metadata": {
    "execution": {
     "iopub.execute_input": "2023-02-07T14:29:43.262890Z",
     "iopub.status.busy": "2023-02-07T14:29:43.262434Z",
     "iopub.status.idle": "2023-02-07T14:29:43.712023Z",
     "shell.execute_reply": "2023-02-07T14:29:43.710678Z"
    },
    "papermill": {
     "duration": 0.460135,
     "end_time": "2023-02-07T14:29:43.715266",
     "exception": false,
     "start_time": "2023-02-07T14:29:43.255131",
     "status": "completed"
    },
    "tags": []
   },
   "outputs": [
    {
     "data": {
      "image/png": "[encoded data removed]",
      "text/plain": [
       "<Figure size 864x432 with 1 Axes>"
      ]
     },
     "metadata": {
      "needs_background": "light"
     },
     "output_type": "display_data"
    }
   ],
   "source": [
    "#시각화\n",
    "df.plot(figsize = (12,6))\n",
    "plt.xlabel('Time')\n",
    "plt.ylabel('Value')\n",
    "plt.title('Signals visualization')\n",
    "plt.show()"
   ]
  },
  {
   "cell_type": "code",
   "execution_count": 6,
   "id": "d3a33358",
   "metadata": {
    "execution": {
     "iopub.execute_input": "2023-02-07T14:29:43.732110Z",
     "iopub.status.busy": "2023-02-07T14:29:43.731194Z",
     "iopub.status.idle": "2023-02-07T14:29:43.957445Z",
     "shell.execute_reply": "2023-02-07T14:29:43.956640Z"
    },
    "papermill": {
     "duration": 0.237414,
     "end_time": "2023-02-07T14:29:43.959739",
     "exception": false,
     "start_time": "2023-02-07T14:29:43.722325",
     "status": "completed"
    },
    "tags": []
   },
   "outputs": [
    {
     "data": {
      "image/png": "[encoded data removed]",
      "text/plain": [
       "<Figure size 864x216 with 1 Axes>"
      ]
     },
     "metadata": {
      "needs_background": "light"
     },
     "output_type": "display_data"
    }
   ],
   "source": [
    "#이상치 분포\n",
    "df['anomaly'].plot(figsize = (12,3))\n",
    "df['changepoint'].plot()\n",
    "plt.legend()\n",
    "plt.title('Distribution of Outliers ')\n",
    "plt.show()\n"
   ]
  },
  {
   "cell_type": "markdown",
   "id": "33cde196",
   "metadata": {
    "papermill": {
     "duration": 0.006865,
     "end_time": "2023-02-07T14:29:43.974153",
     "exception": false,
     "start_time": "2023-02-07T14:29:43.967288",
     "status": "completed"
    },
    "tags": []
   },
   "source": [
    "* ### Model Pipeline and Preprocessing\n"
   ]
  },
  {
   "cell_type": "code",
   "execution_count": 7,
   "id": "39646f6f",
   "metadata": {
    "execution": {
     "iopub.execute_input": "2023-02-07T14:29:43.991022Z",
     "iopub.status.busy": "2023-02-07T14:29:43.990409Z",
     "iopub.status.idle": "2023-02-07T14:29:43.995316Z",
     "shell.execute_reply": "2023-02-07T14:29:43.994576Z"
    },
    "papermill": {
     "duration": 0.015628,
     "end_time": "2023-02-07T14:29:43.997460",
     "exception": false,
     "start_time": "2023-02-07T14:29:43.981832",
     "status": "completed"
    },
    "tags": []
   },
   "outputs": [],
   "source": [
    "# Random Seed\n",
    "def Random(seed_value):\n",
    "    import os\n",
    "    os.environ['PYTHONHASHSEED'] = str(seed_value)\n",
    "    import random\n",
    "    random.seed(seed_value)\n",
    "    np.random.seed(seed_value)\n",
    "    import tensorflow as tf\n",
    "    tf.random.set_seed(seed_value)"
   ]
  },
  {
   "cell_type": "code",
   "execution_count": 8,
   "id": "ca8fad64",
   "metadata": {
    "execution": {
     "iopub.execute_input": "2023-02-07T14:29:44.013729Z",
     "iopub.status.busy": "2023-02-07T14:29:44.013031Z",
     "iopub.status.idle": "2023-02-07T14:29:44.022158Z",
     "shell.execute_reply": "2023-02-07T14:29:44.021356Z"
    },
    "papermill": {
     "duration": 0.019956,
     "end_time": "2023-02-07T14:29:44.024651",
     "exception": false,
     "start_time": "2023-02-07T14:29:44.004695",
     "status": "completed"
    },
    "tags": []
   },
   "outputs": [],
   "source": [
    "#Convolutional AutoEncoder\n",
    "def convae(data):\n",
    "\n",
    "    model = keras.Sequential([ \n",
    "        \n",
    "        layers.Input(shape = (data.shape[1], data.shape[2])),\n",
    "        layers.Conv1D(filters = 32, kernel_size = 7, padding = 'same', strides = 2, activation = 'relu' ),\n",
    "        layers.Conv1D(filters = 16, kernel_size = 7, padding = 'same', strides = 2, activation = 'relu' ),\n",
    "        layers.Conv1DTranspose(filters = 16, kernel_size = 7, padding = 'same', strides = 2, activation = 'relu' ),\n",
    "        layers.Conv1DTranspose(filters = 32, kernel_size = 7, padding = 'same', strides = 2, activation = 'relu' ),\n",
    "        layers.Conv1DTranspose(filters = 8, kernel_size = 7, padding = 'same'),  # shape 일치시키기 위한 layer(오토인코더 구조) \n",
    "    \n",
    "    ])\n",
    "\n",
    "    model.compile(optimizer = keras.optimizers.Adam(learning_rate = 0.001), loss = 'mse')\n",
    "    \n",
    "    model.summary()\n",
    "\n",
    "    # Training\n",
    "    history = model.fit(        \n",
    "        data,\n",
    "        data, # data X instead of Y because it's unsupervised learning\n",
    "        epochs = 100,\n",
    "        batch_size = 32,\n",
    "        verbose = 2,\n",
    "\n",
    "        # early stopping 자동 학습 중단. patience 5번 loss 상승시 중단\n",
    "        callbacks = [\n",
    "            keras.callbacks.EarlyStopping(monitor = 'val_loss', patience = 5, verbose = 0)\n",
    "        ]\n",
    "\n",
    "    )\n",
    "    return history, model"
   ]
  },
  {
   "cell_type": "code",
   "execution_count": 9,
   "id": "001668f1",
   "metadata": {
    "execution": {
     "iopub.execute_input": "2023-02-07T14:29:44.041185Z",
     "iopub.status.busy": "2023-02-07T14:29:44.040594Z",
     "iopub.status.idle": "2023-02-07T14:29:44.049849Z",
     "shell.execute_reply": "2023-02-07T14:29:44.049012Z"
    },
    "papermill": {
     "duration": 0.020702,
     "end_time": "2023-02-07T14:29:44.052461",
     "exception": false,
     "start_time": "2023-02-07T14:29:44.031759",
     "status": "completed"
    },
    "tags": []
   },
   "outputs": [],
   "source": [
    "#Preprocessing\n",
    "X_train = df[:400].drop(columns = ['anomaly','changepoint'], axis = 1) ##0~400번까지 모두 정상데이터이므로 학습데이터로 선정\n",
    "StSc = StandardScaler()\n",
    "X_train_scale = StSc.fit(X_train)   ## Standardization(표준) : train data의 평균, 분산분포를 저장. 추후에 test data에도 똑같이 적용필요\n",
    "X_train_scale = StSc.transform(X_train)\n"
   ]
  },
  {
   "cell_type": "code",
   "execution_count": 10,
   "id": "a5e57a64",
   "metadata": {
    "execution": {
     "iopub.execute_input": "2023-02-07T14:29:44.068881Z",
     "iopub.status.busy": "2023-02-07T14:29:44.068454Z",
     "iopub.status.idle": "2023-02-07T14:29:44.079779Z",
     "shell.execute_reply": "2023-02-07T14:29:44.078458Z"
    },
    "papermill": {
     "duration": 0.02195,
     "end_time": "2023-02-07T14:29:44.082136",
     "exception": false,
     "start_time": "2023-02-07T14:29:44.060186",
     "status": "completed"
    },
    "tags": []
   },
   "outputs": [
    {
     "data": {
      "text/plain": [
       "(341, 60, 8)"
      ]
     },
     "execution_count": 10,
     "metadata": {},
     "output_type": "execute_result"
    }
   ],
   "source": [
    "# sequence를 고려한 전처리\n",
    "# 데이터를 임의의 sequence 묶음\n",
    "def create_sequences(data, time_steps = 60):\n",
    "    out = []\n",
    "    for i in range(len(data) - time_steps + 1):\n",
    "        out.append(data[i : (i + time_steps)])\n",
    "    return np.stack(out)\n",
    "\n",
    "X_train_seq = create_sequences(X_train_scale,60) #400의 정상데이터를 60개의 묶음으로 1씩 shift 하며 묶음 -> 341개 생성\n",
    "X_train_seq.shape "
   ]
  },
  {
   "cell_type": "code",
   "execution_count": 11,
   "id": "24efa98a",
   "metadata": {
    "execution": {
     "iopub.execute_input": "2023-02-07T14:29:44.099233Z",
     "iopub.status.busy": "2023-02-07T14:29:44.098414Z",
     "iopub.status.idle": "2023-02-07T14:29:52.354510Z",
     "shell.execute_reply": "2023-02-07T14:29:52.352747Z"
    },
    "papermill": {
     "duration": 8.267645,
     "end_time": "2023-02-07T14:29:52.357258",
     "exception": false,
     "start_time": "2023-02-07T14:29:44.089613",
     "status": "completed"
    },
    "tags": []
   },
   "outputs": [
    {
     "name": "stderr",
     "output_type": "stream",
     "text": [
      "2023-02-07 14:29:44.150258: I tensorflow/core/common_runtime/process_util.cc:146] Creating new thread pool with default inter op setting: 2. Tune using inter_op_parallelism_threads for best performance.\n"
     ]
    },
    {
     "name": "stdout",
     "output_type": "stream",
     "text": [
      "Model: \"sequential\"\n",
      "_________________________________________________________________\n",
      "Layer (type)                 Output Shape              Param #   \n",
      "=================================================================\n",
      "conv1d (Conv1D)              (None, 30, 32)            1824      \n",
      "_________________________________________________________________\n",
      "conv1d_1 (Conv1D)            (None, 15, 16)            3600      \n",
      "_________________________________________________________________\n",
      "conv1d_transpose (Conv1DTran (None, 30, 16)            1808      \n",
      "_________________________________________________________________\n",
      "conv1d_transpose_1 (Conv1DTr (None, 60, 32)            3616      \n",
      "_________________________________________________________________\n",
      "conv1d_transpose_2 (Conv1DTr (None, 60, 8)             1800      \n",
      "=================================================================\n",
      "Total params: 12,648\n",
      "Trainable params: 12,648\n",
      "Non-trainable params: 0\n",
      "_________________________________________________________________\n",
      "Epoch 1/100\n"
     ]
    },
    {
     "name": "stderr",
     "output_type": "stream",
     "text": [
      "2023-02-07 14:29:44.396086: I tensorflow/compiler/mlir/mlir_graph_optimization_pass.cc:185] None of the MLIR Optimization Passes are enabled (registered 2)\n"
     ]
    },
    {
     "name": "stdout",
     "output_type": "stream",
     "text": [
      "11/11 - 1s - loss: 0.9482\n",
      "Epoch 2/100\n",
      "11/11 - 0s - loss: 0.8875\n",
      "Epoch 3/100\n",
      "11/11 - 0s - loss: 0.7944\n",
      "Epoch 4/100\n",
      "11/11 - 0s - loss: 0.6830\n",
      "Epoch 5/100\n",
      "11/11 - 0s - loss: 0.6026\n",
      "Epoch 6/100\n",
      "11/11 - 0s - loss: 0.5436\n",
      "Epoch 7/100\n",
      "11/11 - 0s - loss: 0.5002\n",
      "Epoch 8/100\n",
      "11/11 - 0s - loss: 0.4687\n",
      "Epoch 9/100\n",
      "11/11 - 0s - loss: 0.4426\n",
      "Epoch 10/100\n",
      "11/11 - 0s - loss: 0.4206\n",
      "Epoch 11/100\n",
      "11/11 - 0s - loss: 0.4010\n",
      "Epoch 12/100\n",
      "11/11 - 0s - loss: 0.3842\n",
      "Epoch 13/100\n",
      "11/11 - 0s - loss: 0.3674\n",
      "Epoch 14/100\n",
      "11/11 - 0s - loss: 0.3517\n",
      "Epoch 15/100\n",
      "11/11 - 0s - loss: 0.3373\n",
      "Epoch 16/100\n",
      "11/11 - 0s - loss: 0.3239\n",
      "Epoch 17/100\n",
      "11/11 - 0s - loss: 0.3115\n",
      "Epoch 18/100\n",
      "11/11 - 0s - loss: 0.3001\n",
      "Epoch 19/100\n",
      "11/11 - 0s - loss: 0.2896\n",
      "Epoch 20/100\n",
      "11/11 - 0s - loss: 0.2793\n",
      "Epoch 21/100\n",
      "11/11 - 0s - loss: 0.2704\n",
      "Epoch 22/100\n",
      "11/11 - 0s - loss: 0.2627\n",
      "Epoch 23/100\n",
      "11/11 - 0s - loss: 0.2557\n",
      "Epoch 24/100\n",
      "11/11 - 0s - loss: 0.2485\n",
      "Epoch 25/100\n",
      "11/11 - 0s - loss: 0.2423\n",
      "Epoch 26/100\n",
      "11/11 - 0s - loss: 0.2377\n",
      "Epoch 27/100\n",
      "11/11 - 0s - loss: 0.2316\n",
      "Epoch 28/100\n",
      "11/11 - 0s - loss: 0.2268\n",
      "Epoch 29/100\n",
      "11/11 - 0s - loss: 0.2225\n",
      "Epoch 30/100\n",
      "11/11 - 0s - loss: 0.2173\n",
      "Epoch 31/100\n",
      "11/11 - 0s - loss: 0.2136\n",
      "Epoch 32/100\n",
      "11/11 - 0s - loss: 0.2096\n",
      "Epoch 33/100\n",
      "11/11 - 0s - loss: 0.2057\n",
      "Epoch 34/100\n",
      "11/11 - 0s - loss: 0.2024\n",
      "Epoch 35/100\n",
      "11/11 - 0s - loss: 0.1995\n",
      "Epoch 36/100\n",
      "11/11 - 0s - loss: 0.1964\n",
      "Epoch 37/100\n",
      "11/11 - 0s - loss: 0.1934\n",
      "Epoch 38/100\n",
      "11/11 - 0s - loss: 0.1904\n",
      "Epoch 39/100\n",
      "11/11 - 0s - loss: 0.1877\n",
      "Epoch 40/100\n",
      "11/11 - 0s - loss: 0.1851\n",
      "Epoch 41/100\n",
      "11/11 - 0s - loss: 0.1832\n",
      "Epoch 42/100\n",
      "11/11 - 0s - loss: 0.1809\n",
      "Epoch 43/100\n",
      "11/11 - 0s - loss: 0.1789\n",
      "Epoch 44/100\n",
      "11/11 - 0s - loss: 0.1771\n",
      "Epoch 45/100\n",
      "11/11 - 0s - loss: 0.1747\n",
      "Epoch 46/100\n",
      "11/11 - 0s - loss: 0.1728\n",
      "Epoch 47/100\n",
      "11/11 - 0s - loss: 0.1711\n",
      "Epoch 48/100\n",
      "11/11 - 0s - loss: 0.1687\n",
      "Epoch 49/100\n",
      "11/11 - 0s - loss: 0.1674\n",
      "Epoch 50/100\n",
      "11/11 - 0s - loss: 0.1657\n",
      "Epoch 51/100\n",
      "11/11 - 0s - loss: 0.1637\n",
      "Epoch 52/100\n",
      "11/11 - 0s - loss: 0.1624\n",
      "Epoch 53/100\n",
      "11/11 - 0s - loss: 0.1608\n",
      "Epoch 54/100\n",
      "11/11 - 0s - loss: 0.1599\n",
      "Epoch 55/100\n",
      "11/11 - 0s - loss: 0.1577\n",
      "Epoch 56/100\n",
      "11/11 - 0s - loss: 0.1561\n",
      "Epoch 57/100\n",
      "11/11 - 0s - loss: 0.1549\n",
      "Epoch 58/100\n",
      "11/11 - 0s - loss: 0.1536\n",
      "Epoch 59/100\n",
      "11/11 - 0s - loss: 0.1521\n",
      "Epoch 60/100\n",
      "11/11 - 0s - loss: 0.1518\n",
      "Epoch 61/100\n",
      "11/11 - 0s - loss: 0.1508\n",
      "Epoch 62/100\n",
      "11/11 - 0s - loss: 0.1493\n",
      "Epoch 63/100\n",
      "11/11 - 0s - loss: 0.1480\n",
      "Epoch 64/100\n",
      "11/11 - 0s - loss: 0.1472\n",
      "Epoch 65/100\n",
      "11/11 - 0s - loss: 0.1462\n",
      "Epoch 66/100\n",
      "11/11 - 0s - loss: 0.1453\n",
      "Epoch 67/100\n",
      "11/11 - 0s - loss: 0.1442\n",
      "Epoch 68/100\n",
      "11/11 - 0s - loss: 0.1434\n",
      "Epoch 69/100\n",
      "11/11 - 0s - loss: 0.1421\n",
      "Epoch 70/100\n",
      "11/11 - 0s - loss: 0.1412\n",
      "Epoch 71/100\n",
      "11/11 - 0s - loss: 0.1398\n",
      "Epoch 72/100\n",
      "11/11 - 0s - loss: 0.1389\n",
      "Epoch 73/100\n",
      "11/11 - 0s - loss: 0.1380\n",
      "Epoch 74/100\n",
      "11/11 - 0s - loss: 0.1371\n",
      "Epoch 75/100\n",
      "11/11 - 0s - loss: 0.1367\n",
      "Epoch 76/100\n",
      "11/11 - 0s - loss: 0.1360\n",
      "Epoch 77/100\n",
      "11/11 - 0s - loss: 0.1352\n",
      "Epoch 78/100\n",
      "11/11 - 0s - loss: 0.1344\n",
      "Epoch 79/100\n",
      "11/11 - 0s - loss: 0.1329\n",
      "Epoch 80/100\n",
      "11/11 - 0s - loss: 0.1326\n",
      "Epoch 81/100\n",
      "11/11 - 0s - loss: 0.1326\n",
      "Epoch 82/100\n",
      "11/11 - 0s - loss: 0.1313\n",
      "Epoch 83/100\n",
      "11/11 - 0s - loss: 0.1308\n",
      "Epoch 84/100\n",
      "11/11 - 0s - loss: 0.1297\n",
      "Epoch 85/100\n",
      "11/11 - 0s - loss: 0.1285\n",
      "Epoch 86/100\n",
      "11/11 - 0s - loss: 0.1279\n",
      "Epoch 87/100\n",
      "11/11 - 0s - loss: 0.1277\n",
      "Epoch 88/100\n",
      "11/11 - 0s - loss: 0.1272\n",
      "Epoch 89/100\n",
      "11/11 - 0s - loss: 0.1267\n",
      "Epoch 90/100\n",
      "11/11 - 0s - loss: 0.1253\n",
      "Epoch 91/100\n",
      "11/11 - 0s - loss: 0.1244\n",
      "Epoch 92/100\n",
      "11/11 - 0s - loss: 0.1235\n",
      "Epoch 93/100\n",
      "11/11 - 0s - loss: 0.1229\n",
      "Epoch 94/100\n",
      "11/11 - 0s - loss: 0.1224\n",
      "Epoch 95/100\n",
      "11/11 - 0s - loss: 0.1220\n",
      "Epoch 96/100\n",
      "11/11 - 0s - loss: 0.1211\n",
      "Epoch 97/100\n",
      "11/11 - 0s - loss: 0.1206\n",
      "Epoch 98/100\n",
      "11/11 - 0s - loss: 0.1205\n",
      "Epoch 99/100\n",
      "11/11 - 0s - loss: 0.1198\n",
      "Epoch 100/100\n",
      "11/11 - 0s - loss: 0.1191\n"
     ]
    }
   ],
   "source": [
    "history, model = convae(X_train_seq)"
   ]
  },
  {
   "cell_type": "markdown",
   "id": "b2ce0e75",
   "metadata": {
    "papermill": {
     "duration": 0.017521,
     "end_time": "2023-02-07T14:29:52.393963",
     "exception": false,
     "start_time": "2023-02-07T14:29:52.376442",
     "status": "completed"
    },
    "tags": []
   },
   "source": [
    "* ### Anomaly Scoring & Result"
   ]
  },
  {
   "cell_type": "code",
   "execution_count": 12,
   "id": "530a9df6",
   "metadata": {
    "execution": {
     "iopub.execute_input": "2023-02-07T14:29:52.431421Z",
     "iopub.status.busy": "2023-02-07T14:29:52.431011Z",
     "iopub.status.idle": "2023-02-07T14:29:52.936304Z",
     "shell.execute_reply": "2023-02-07T14:29:52.935105Z"
    },
    "papermill": {
     "duration": 0.527047,
     "end_time": "2023-02-07T14:29:52.938864",
     "exception": false,
     "start_time": "2023-02-07T14:29:52.411817",
     "status": "completed"
    },
    "tags": []
   },
   "outputs": [
    {
     "data": {
      "image/png": "[encoded data removed]",
      "text/plain": [
       "<Figure size 432x288 with 1 Axes>"
      ]
     },
     "metadata": {
      "needs_background": "light"
     },
     "output_type": "display_data"
    }
   ],
   "source": [
    "residuals = pd.Series(np.sum(np.mean(np.abs(X_train_seq - model.predict(X_train_seq)), axis = 1), axis = 1)) # input data와 reconstructed input의 차이값\n",
    "ucl = residuals.quantile(0.999) # 차이값의 전체 분포에서 상위 99.9%지점을 upper control limit으로 지정\n",
    "plt.plot(residuals) ## value gap between input VS reconstructed input for anomaly-free data\n",
    "plt.show()"
   ]
  },
  {
   "cell_type": "code",
   "execution_count": 13,
   "id": "d9e1d9f2",
   "metadata": {
    "execution": {
     "iopub.execute_input": "2023-02-07T14:29:52.979915Z",
     "iopub.status.busy": "2023-02-07T14:29:52.979466Z",
     "iopub.status.idle": "2023-02-07T14:29:53.463885Z",
     "shell.execute_reply": "2023-02-07T14:29:53.462739Z"
    },
    "papermill": {
     "duration": 0.507231,
     "end_time": "2023-02-07T14:29:53.466376",
     "exception": false,
     "start_time": "2023-02-07T14:29:52.959145",
     "status": "completed"
    },
    "tags": []
   },
   "outputs": [
    {
     "data": {
      "text/plain": [
       "[<matplotlib.lines.Line2D at 0x7f1502766890>]"
      ]
     },
     "execution_count": 13,
     "metadata": {},
     "output_type": "execute_result"
    },
    {
     "data": {
      "image/png": "[encoded data removed]",
      "text/plain": [
       "<Figure size 1080x360 with 2 Axes>"
      ]
     },
     "metadata": {
      "needs_background": "light"
     },
     "output_type": "display_data"
    }
   ],
   "source": [
    "X_test_sc = StSc.transform(df.drop(columns = ['anomaly','changepoint']))  #400번째 이후 이상치 데이터 모두 포함하여 test data 지정\n",
    "X_test_seq = create_sequences(X_test_sc)\n",
    "test_residuals = pd.Series(np.sum(np.mean(np.abs(X_test_seq - model.predict(X_test_seq)), axis = 1), axis = 1))\n",
    "plt.figure(figsize = (15,5))\n",
    "plt.subplot(1,2,1)\n",
    "plt.plot(test_residuals)\n",
    "plt.axhline(y = ucl * 1.5 , xmin = 0, xmax=len(X_train_seq))  # upper control limit 의 1.5배를 Threshold 로 설\n",
    "plt.subplot(1,2,2)\n",
    "plt.plot(df['anomaly'].values)"
   ]
  },
  {
   "cell_type": "code",
   "execution_count": 14,
   "id": "9aa821ce",
   "metadata": {
    "execution": {
     "iopub.execute_input": "2023-02-07T14:29:53.507740Z",
     "iopub.status.busy": "2023-02-07T14:29:53.507287Z",
     "iopub.status.idle": "2023-02-07T14:29:53.587249Z",
     "shell.execute_reply": "2023-02-07T14:29:53.586002Z"
    },
    "papermill": {
     "duration": 0.103529,
     "end_time": "2023-02-07T14:29:53.589932",
     "exception": false,
     "start_time": "2023-02-07T14:29:53.486403",
     "status": "completed"
    },
    "tags": []
   },
   "outputs": [],
   "source": [
    "# 비교를 위해 label값을 time 단위로 변경\n",
    "N_STEPS = 60\n",
    "anomalous_data = test_residuals > ucl * 1.5\n",
    "\n",
    "anomalous_data_indices = []\n",
    "for data_idx in range(N_STEPS - 1, len(X_test_seq) - N_STEPS + 1):\n",
    "    if np.all(anomalous_data[data_idx - N_STEPS + 1 : data_idx]):\n",
    "        anomalous_data_indices.append(data_idx)\n",
    "    "
   ]
  },
  {
   "cell_type": "code",
   "execution_count": 15,
   "id": "748ebf67",
   "metadata": {
    "execution": {
     "iopub.execute_input": "2023-02-07T14:29:53.631433Z",
     "iopub.status.busy": "2023-02-07T14:29:53.631012Z",
     "iopub.status.idle": "2023-02-07T14:29:53.845080Z",
     "shell.execute_reply": "2023-02-07T14:29:53.843971Z"
    },
    "papermill": {
     "duration": 0.238221,
     "end_time": "2023-02-07T14:29:53.847896",
     "exception": false,
     "start_time": "2023-02-07T14:29:53.609675",
     "status": "completed"
    },
    "tags": []
   },
   "outputs": [
    {
     "data": {
      "image/png": "[encoded data removed]",
      "text/plain": [
       "<Figure size 432x288 with 1 Axes>"
      ]
     },
     "metadata": {
      "needs_background": "light"
     },
     "output_type": "display_data"
    }
   ],
   "source": [
    "prediction = pd.Series(data = 0, index = df.index)\n",
    "prediction.iloc[anomalous_data_indices] = 1\n",
    "\n",
    "plt.plot(prediction.values, label = 'pred')\n",
    "plt.plot(df['anomaly'].values, label = 'label')\n",
    "plt.legend()\n",
    "plt.show()"
   ]
  }
 ],
 "metadata": {
  "kernelspec": {
   "display_name": "Python 3",
   "language": "python",
   "name": "python3"
  },
  "language_info": {
   "codemirror_mode": {
    "name": "ipython",
    "version": 3
   },
   "file_extension": ".py",
   "mimetype": "text/x-python",
   "name": "python",
   "nbconvert_exporter": "python",
   "pygments_lexer": "ipython3",
   "version": "3.7.12"
  },
  "papermill": {
   "default_parameters": {},
   "duration": 31.167834,
   "end_time": "2023-02-07T14:29:57.046320",
   "environment_variables": {},
   "exception": null,
   "input_path": "__notebook__.ipynb",
   "output_path": "__notebook__.ipynb",
   "parameters": {},
   "start_time": "2023-02-07T14:29:25.878486",
   "version": "2.3.4"
  }
 },
 "nbformat": 4,
 "nbformat_minor": 5
}
