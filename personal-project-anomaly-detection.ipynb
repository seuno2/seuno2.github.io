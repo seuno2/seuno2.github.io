{
 "cells": [
  {
   "cell_type": "code",
   "execution_count": 1,
   "id": "ad20e40f",
   "metadata": {
    "_cell_guid": "b1076dfc-b9ad-4769-8c92-a6c4dae69d19",
    "_uuid": "8f2839f25d086af736a60e9eeb907d3b93b6e0e5",
    "execution": {
     "iopub.execute_input": "2023-02-07T14:48:40.507697Z",
     "iopub.status.busy": "2023-02-07T14:48:40.507171Z",
     "iopub.status.idle": "2023-02-07T14:48:40.644285Z",
     "shell.execute_reply": "2023-02-07T14:48:40.643196Z"
    },
    "papermill": {
     "duration": 0.150192,
     "end_time": "2023-02-07T14:48:40.648663",
     "exception": false,
     "start_time": "2023-02-07T14:48:40.498471",
     "status": "completed"
    },
    "tags": []
   },
   "outputs": [
    {
     "name": "stdout",
     "output_type": "stream",
     "text": [
      "/kaggle/input/skab-anomaly-detection/SKAB-master/LICENSE\n",
      "/kaggle/input/skab-anomaly-detection/SKAB-master/.gitignore\n",
      "/kaggle/input/skab-anomaly-detection/SKAB-master/README.md\n",
      "/kaggle/input/skab-anomaly-detection/SKAB-master/utils/t2.py\n",
      "/kaggle/input/skab-anomaly-detection/SKAB-master/utils/__init__.py\n",
      "/kaggle/input/skab-anomaly-detection/SKAB-master/docs/contributing.md\n",
      "/kaggle/input/skab-anomaly-detection/SKAB-master/docs/pictures/skab.png\n",
      "/kaggle/input/skab-anomaly-detection/SKAB-master/docs/pictures/testbed.png\n",
      "/kaggle/input/skab-anomaly-detection/SKAB-master/docs/pictures/nab-metric.jpg\n",
      "/kaggle/input/skab-anomaly-detection/SKAB-master/notebooks/hotelling_q.ipynb\n",
      "/kaggle/input/skab-anomaly-detection/SKAB-master/notebooks/mscred.ipynb\n",
      "/kaggle/input/skab-anomaly-detection/SKAB-master/notebooks/isolation_forest.ipynb\n",
      "/kaggle/input/skab-anomaly-detection/SKAB-master/notebooks/VAE.ipynb\n",
      "/kaggle/input/skab-anomaly-detection/SKAB-master/notebooks/LSTM-AE.ipynb\n",
      "/kaggle/input/skab-anomaly-detection/SKAB-master/notebooks/LSTM-VAE.ipynb\n",
      "/kaggle/input/skab-anomaly-detection/SKAB-master/notebooks/EDA.ipynb\n",
      "/kaggle/input/skab-anomaly-detection/SKAB-master/notebooks/README.md\n",
      "/kaggle/input/skab-anomaly-detection/SKAB-master/notebooks/hotelling.ipynb\n",
      "/kaggle/input/skab-anomaly-detection/SKAB-master/notebooks/autoencoder.ipynb\n",
      "/kaggle/input/skab-anomaly-detection/SKAB-master/notebooks/lstm.ipynb\n",
      "/kaggle/input/skab-anomaly-detection/SKAB-master/notebooks/Conv-AE.ipynb\n",
      "/kaggle/input/skab-anomaly-detection/SKAB-master/notebooks/requirements.txt\n",
      "/kaggle/input/skab-anomaly-detection/SKAB-master/notebooks/ArimaFD.ipynb\n",
      "/kaggle/input/skab-anomaly-detection/SKAB-master/notebooks/MSET.ipynb\n",
      "/kaggle/input/skab-anomaly-detection/SKAB-master/data/README.md\n",
      "/kaggle/input/skab-anomaly-detection/SKAB-master/data/Load data.ipynb\n",
      "/kaggle/input/skab-anomaly-detection/SKAB-master/data/valve2/1.csv\n",
      "/kaggle/input/skab-anomaly-detection/SKAB-master/data/valve2/3.csv\n",
      "/kaggle/input/skab-anomaly-detection/SKAB-master/data/valve2/2.csv\n",
      "/kaggle/input/skab-anomaly-detection/SKAB-master/data/valve2/0.csv\n",
      "/kaggle/input/skab-anomaly-detection/SKAB-master/data/other/1.csv\n",
      "/kaggle/input/skab-anomaly-detection/SKAB-master/data/other/11.csv\n",
      "/kaggle/input/skab-anomaly-detection/SKAB-master/data/other/3.csv\n",
      "/kaggle/input/skab-anomaly-detection/SKAB-master/data/other/5.csv\n",
      "/kaggle/input/skab-anomaly-detection/SKAB-master/data/other/2.csv\n",
      "/kaggle/input/skab-anomaly-detection/SKAB-master/data/other/13.csv\n",
      "/kaggle/input/skab-anomaly-detection/SKAB-master/data/other/14.csv\n",
      "/kaggle/input/skab-anomaly-detection/SKAB-master/data/other/4.csv\n",
      "/kaggle/input/skab-anomaly-detection/SKAB-master/data/other/8.csv\n",
      "/kaggle/input/skab-anomaly-detection/SKAB-master/data/other/12.csv\n",
      "/kaggle/input/skab-anomaly-detection/SKAB-master/data/other/9.csv\n",
      "/kaggle/input/skab-anomaly-detection/SKAB-master/data/other/7.csv\n",
      "/kaggle/input/skab-anomaly-detection/SKAB-master/data/other/6.csv\n",
      "/kaggle/input/skab-anomaly-detection/SKAB-master/data/other/10.csv\n",
      "/kaggle/input/skab-anomaly-detection/SKAB-master/data/valve1/1.csv\n",
      "/kaggle/input/skab-anomaly-detection/SKAB-master/data/valve1/11.csv\n",
      "/kaggle/input/skab-anomaly-detection/SKAB-master/data/valve1/3.csv\n",
      "/kaggle/input/skab-anomaly-detection/SKAB-master/data/valve1/5.csv\n",
      "/kaggle/input/skab-anomaly-detection/SKAB-master/data/valve1/2.csv\n",
      "/kaggle/input/skab-anomaly-detection/SKAB-master/data/valve1/13.csv\n",
      "/kaggle/input/skab-anomaly-detection/SKAB-master/data/valve1/14.csv\n",
      "/kaggle/input/skab-anomaly-detection/SKAB-master/data/valve1/4.csv\n",
      "/kaggle/input/skab-anomaly-detection/SKAB-master/data/valve1/8.csv\n",
      "/kaggle/input/skab-anomaly-detection/SKAB-master/data/valve1/12.csv\n",
      "/kaggle/input/skab-anomaly-detection/SKAB-master/data/valve1/9.csv\n",
      "/kaggle/input/skab-anomaly-detection/SKAB-master/data/valve1/7.csv\n",
      "/kaggle/input/skab-anomaly-detection/SKAB-master/data/valve1/0.csv\n",
      "/kaggle/input/skab-anomaly-detection/SKAB-master/data/valve1/15.csv\n",
      "/kaggle/input/skab-anomaly-detection/SKAB-master/data/valve1/6.csv\n",
      "/kaggle/input/skab-anomaly-detection/SKAB-master/data/valve1/10.csv\n",
      "/kaggle/input/skab-anomaly-detection/SKAB-master/data/anomaly-free/anomaly-free.csv\n"
     ]
    }
   ],
   "source": [
    "# This Python 3 environment comes with many helpful analytics libraries installed\n",
    "# It is defined by the kaggle/python Docker image: https://github.com/kaggle/docker-python\n",
    "# For example, here's several helpful packages to load\n",
    "\n",
    "import numpy as np # linear algebra\n",
    "import pandas as pd # data processing, CSV file I/O (e.g. pd.read_csv)\n",
    "\n",
    "# Input data files are available in the read-only \"../input/\" directory\n",
    "# For example, running this (by clicking run or pressing Shift+Enter) will list all files under the input directory\n",
    "\n",
    "import os\n",
    "for dirname, _, filenames in os.walk('/kaggle/input'):\n",
    "    for filename in filenames:\n",
    "        print(os.path.join(dirname, filename))\n",
    "\n",
    "# You can write up to 20GB to the current directory (/kaggle/working/) that gets preserved as output when you create a version using \"Save & Run All\" \n",
    "# You can also write temporary files to /kaggle/temp/, but they won't be saved outside of the current session"
   ]
  },
  {
   "cell_type": "code",
   "execution_count": 2,
   "id": "c0a3054f",
   "metadata": {
    "execution": {
     "iopub.execute_input": "2023-02-07T14:48:40.663407Z",
     "iopub.status.busy": "2023-02-07T14:48:40.662610Z",
     "iopub.status.idle": "2023-02-07T14:48:48.459412Z",
     "shell.execute_reply": "2023-02-07T14:48:48.458321Z"
    },
    "papermill": {
     "duration": 7.807376,
     "end_time": "2023-02-07T14:48:48.462367",
     "exception": false,
     "start_time": "2023-02-07T14:48:40.654991",
     "status": "completed"
    },
    "tags": []
   },
   "outputs": [],
   "source": [
    "import pandas as pd\n",
    "import matplotlib.pyplot as plt\n",
    "import os\n",
    "import numpy as np\n",
    "import seaborn as sns\n",
    "\n",
    "from tensorflow import keras\n",
    "from tensorflow.keras import layers\n",
    "from sklearn.metrics import mean_absolute_error, mean_squared_error \n",
    "from sklearn.model_selection import train_test_split\n",
    "from sklearn.preprocessing import StandardScaler "
   ]
  },
  {
   "cell_type": "markdown",
   "id": "954bbd84",
   "metadata": {
    "papermill": {
     "duration": 0.005218,
     "end_time": "2023-02-07T14:48:48.473399",
     "exception": false,
     "start_time": "2023-02-07T14:48:48.468181",
     "status": "completed"
    },
    "tags": []
   },
   "source": [
    "# Introductory Summary\n",
    "\n",
    "1.  Dataset : SKAB (SkoltechAnomaly Benchmark) / Multivariate time series collected from the sensors on the testbed\n",
    "1.  Framework : Tensorflow Keras\n",
    "1.  Model : 1D Convolutional Autoencoder\n",
    "1.  Activation Function : ReLU\n"
   ]
  },
  {
   "cell_type": "markdown",
   "id": "fb7eaf79",
   "metadata": {
    "papermill": {
     "duration": 0.005082,
     "end_time": "2023-02-07T14:48:48.483810",
     "exception": false,
     "start_time": "2023-02-07T14:48:48.478728",
     "status": "completed"
    },
    "tags": []
   },
   "source": [
    "* ###  Data Summary"
   ]
  },
  {
   "cell_type": "code",
   "execution_count": 3,
   "id": "8141d8ab",
   "metadata": {
    "execution": {
     "iopub.execute_input": "2023-02-07T14:48:48.498047Z",
     "iopub.status.busy": "2023-02-07T14:48:48.496895Z",
     "iopub.status.idle": "2023-02-07T14:48:49.044562Z",
     "shell.execute_reply": "2023-02-07T14:48:49.043452Z"
    },
    "papermill": {
     "duration": 0.557995,
     "end_time": "2023-02-07T14:48:49.047464",
     "exception": false,
     "start_time": "2023-02-07T14:48:48.489469",
     "status": "completed"
    },
    "tags": []
   },
   "outputs": [],
   "source": [
    "#Paths of data files\n",
    "all_files =[]\n",
    "for root, dirs, files in os.walk('/kaggle/input/skab-anomaly-detection/SKAB-master/data/'):\n",
    "    for file in files:\n",
    "        if file.endswith('.csv'):\n",
    "            all_files.append(os.path.join(root,file))\n",
    "\n",
    "#Data with outliers included         \n",
    "list_of_df = [pd.read_csv(file,\n",
    "                            sep = ';',\n",
    "                            index_col = 'datetime',\n",
    "                            ) for file in all_files if 'anomaly-free' not in file]\n",
    "\n",
    "#Anomaly free data\n",
    "anomaly_free_df = pd.read_csv([file for file in all_files if 'anomaly-free' in file][0],\n",
    "                             sep = ';',\n",
    "                             index_col = 'datetime')\n",
    "\n"
   ]
  },
  {
   "cell_type": "code",
   "execution_count": 4,
   "id": "e18d41e7",
   "metadata": {
    "execution": {
     "iopub.execute_input": "2023-02-07T14:48:49.061634Z",
     "iopub.status.busy": "2023-02-07T14:48:49.060864Z",
     "iopub.status.idle": "2023-02-07T14:48:49.117280Z",
     "shell.execute_reply": "2023-02-07T14:48:49.115957Z"
    },
    "papermill": {
     "duration": 0.067961,
     "end_time": "2023-02-07T14:48:49.121188",
     "exception": false,
     "start_time": "2023-02-07T14:48:49.053227",
     "status": "completed"
    },
    "tags": []
   },
   "outputs": [
    {
     "name": "stdout",
     "output_type": "stream",
     "text": [
      "이상치 포함된 DataFrame 34개\n",
      "Index(['Accelerometer1RMS', 'Accelerometer2RMS', 'Current', 'Pressure',\n",
      "       'Temperature', 'Thermocouple', 'Voltage', 'Volume Flow RateRMS',\n",
      "       'anomaly', 'changepoint'],\n",
      "      dtype='object') (1063, 10)\n",
      "Index(['Accelerometer1RMS', 'Accelerometer2RMS', 'Current', 'Pressure',\n",
      "       'Temperature', 'Thermocouple', 'Voltage', 'Volume Flow RateRMS',\n",
      "       'anomaly', 'changepoint'],\n",
      "      dtype='object') (995, 10)\n",
      "Index(['Accelerometer1RMS', 'Accelerometer2RMS', 'Current', 'Pressure',\n",
      "       'Temperature', 'Thermocouple', 'Voltage', 'Volume Flow RateRMS',\n",
      "       'anomaly', 'changepoint'],\n",
      "      dtype='object') (1129, 10)\n",
      "Index(['Accelerometer1RMS', 'Accelerometer2RMS', 'Current', 'Pressure',\n",
      "       'Temperature', 'Thermocouple', 'Voltage', 'Volume Flow RateRMS',\n",
      "       'anomaly', 'changepoint'],\n",
      "      dtype='object') (1125, 10)\n",
      "Index(['Accelerometer1RMS', 'Accelerometer2RMS', 'Current', 'Pressure',\n",
      "       'Temperature', 'Thermocouple', 'Voltage', 'Volume Flow RateRMS',\n",
      "       'anomaly', 'changepoint'],\n",
      "      dtype='object') (745, 10)\n",
      "Index(['Accelerometer1RMS', 'Accelerometer2RMS', 'Current', 'Pressure',\n",
      "       'Temperature', 'Thermocouple', 'Voltage', 'Volume Flow RateRMS',\n",
      "       'anomaly', 'changepoint'],\n",
      "      dtype='object') (1190, 10)\n",
      "Index(['Accelerometer1RMS', 'Accelerometer2RMS', 'Current', 'Pressure',\n",
      "       'Temperature', 'Thermocouple', 'Voltage', 'Volume Flow RateRMS',\n",
      "       'anomaly', 'changepoint'],\n",
      "      dtype='object') (1137, 10)\n",
      "Index(['Accelerometer1RMS', 'Accelerometer2RMS', 'Current', 'Pressure',\n",
      "       'Temperature', 'Thermocouple', 'Voltage', 'Volume Flow RateRMS',\n",
      "       'anomaly', 'changepoint'],\n",
      "      dtype='object') (1155, 10)\n",
      "Index(['Accelerometer1RMS', 'Accelerometer2RMS', 'Current', 'Pressure',\n",
      "       'Temperature', 'Thermocouple', 'Voltage', 'Volume Flow RateRMS',\n",
      "       'anomaly', 'changepoint'],\n",
      "      dtype='object') (780, 10)\n",
      "Index(['Accelerometer1RMS', 'Accelerometer2RMS', 'Current', 'Pressure',\n",
      "       'Temperature', 'Thermocouple', 'Voltage', 'Volume Flow RateRMS',\n",
      "       'anomaly', 'changepoint'],\n",
      "      dtype='object') (923, 10)\n",
      "Index(['Accelerometer1RMS', 'Accelerometer2RMS', 'Current', 'Pressure',\n",
      "       'Temperature', 'Thermocouple', 'Voltage', 'Volume Flow RateRMS',\n",
      "       'anomaly', 'changepoint'],\n",
      "      dtype='object') (905, 10)\n",
      "Index(['Accelerometer1RMS', 'Accelerometer2RMS', 'Current', 'Pressure',\n",
      "       'Temperature', 'Thermocouple', 'Voltage', 'Volume Flow RateRMS',\n",
      "       'anomaly', 'changepoint'],\n",
      "      dtype='object') (1191, 10)\n",
      "Index(['Accelerometer1RMS', 'Accelerometer2RMS', 'Current', 'Pressure',\n",
      "       'Temperature', 'Thermocouple', 'Voltage', 'Volume Flow RateRMS',\n",
      "       'anomaly', 'changepoint'],\n",
      "      dtype='object') (1147, 10)\n",
      "Index(['Accelerometer1RMS', 'Accelerometer2RMS', 'Current', 'Pressure',\n",
      "       'Temperature', 'Thermocouple', 'Voltage', 'Volume Flow RateRMS',\n",
      "       'anomaly', 'changepoint'],\n",
      "      dtype='object') (1048, 10)\n",
      "Index(['Accelerometer1RMS', 'Accelerometer2RMS', 'Current', 'Pressure',\n",
      "       'Temperature', 'Thermocouple', 'Voltage', 'Volume Flow RateRMS',\n",
      "       'anomaly', 'changepoint'],\n",
      "      dtype='object') (1144, 10)\n",
      "Index(['Accelerometer1RMS', 'Accelerometer2RMS', 'Current', 'Pressure',\n",
      "       'Temperature', 'Thermocouple', 'Voltage', 'Volume Flow RateRMS',\n",
      "       'anomaly', 'changepoint'],\n",
      "      dtype='object') (1090, 10)\n",
      "Index(['Accelerometer1RMS', 'Accelerometer2RMS', 'Current', 'Pressure',\n",
      "       'Temperature', 'Thermocouple', 'Voltage', 'Volume Flow RateRMS',\n",
      "       'anomaly', 'changepoint'],\n",
      "      dtype='object') (1147, 10)\n",
      "Index(['Accelerometer1RMS', 'Accelerometer2RMS', 'Current', 'Pressure',\n",
      "       'Temperature', 'Thermocouple', 'Voltage', 'Volume Flow RateRMS',\n",
      "       'anomaly', 'changepoint'],\n",
      "      dtype='object') (1327, 10)\n",
      "Index(['Accelerometer1RMS', 'Accelerometer2RMS', 'Current', 'Pressure',\n",
      "       'Temperature', 'Thermocouple', 'Voltage', 'Volume Flow RateRMS',\n",
      "       'anomaly', 'changepoint'],\n",
      "      dtype='object') (1145, 10)\n",
      "Index(['Accelerometer1RMS', 'Accelerometer2RMS', 'Current', 'Pressure',\n",
      "       'Temperature', 'Thermocouple', 'Voltage', 'Volume Flow RateRMS',\n",
      "       'anomaly', 'changepoint'],\n",
      "      dtype='object') (1141, 10)\n",
      "Index(['Accelerometer1RMS', 'Accelerometer2RMS', 'Current', 'Pressure',\n",
      "       'Temperature', 'Thermocouple', 'Voltage', 'Volume Flow RateRMS',\n",
      "       'anomaly', 'changepoint'],\n",
      "      dtype='object') (1148, 10)\n",
      "Index(['Accelerometer1RMS', 'Accelerometer2RMS', 'Current', 'Pressure',\n",
      "       'Temperature', 'Thermocouple', 'Voltage', 'Volume Flow RateRMS',\n",
      "       'anomaly', 'changepoint'],\n",
      "      dtype='object') (1154, 10)\n",
      "Index(['Accelerometer1RMS', 'Accelerometer2RMS', 'Current', 'Pressure',\n",
      "       'Temperature', 'Thermocouple', 'Voltage', 'Volume Flow RateRMS',\n",
      "       'anomaly', 'changepoint'],\n",
      "      dtype='object') (1075, 10)\n",
      "Index(['Accelerometer1RMS', 'Accelerometer2RMS', 'Current', 'Pressure',\n",
      "       'Temperature', 'Thermocouple', 'Voltage', 'Volume Flow RateRMS',\n",
      "       'anomaly', 'changepoint'],\n",
      "      dtype='object') (1140, 10)\n",
      "Index(['Accelerometer1RMS', 'Accelerometer2RMS', 'Current', 'Pressure',\n",
      "       'Temperature', 'Thermocouple', 'Voltage', 'Volume Flow RateRMS',\n",
      "       'anomaly', 'changepoint'],\n",
      "      dtype='object') (1139, 10)\n",
      "Index(['Accelerometer1RMS', 'Accelerometer2RMS', 'Current', 'Pressure',\n",
      "       'Temperature', 'Thermocouple', 'Voltage', 'Volume Flow RateRMS',\n",
      "       'anomaly', 'changepoint'],\n",
      "      dtype='object') (1095, 10)\n",
      "Index(['Accelerometer1RMS', 'Accelerometer2RMS', 'Current', 'Pressure',\n",
      "       'Temperature', 'Thermocouple', 'Voltage', 'Volume Flow RateRMS',\n",
      "       'anomaly', 'changepoint'],\n",
      "      dtype='object') (1144, 10)\n",
      "Index(['Accelerometer1RMS', 'Accelerometer2RMS', 'Current', 'Pressure',\n",
      "       'Temperature', 'Thermocouple', 'Voltage', 'Volume Flow RateRMS',\n",
      "       'anomaly', 'changepoint'],\n",
      "      dtype='object') (1140, 10)\n",
      "Index(['Accelerometer1RMS', 'Accelerometer2RMS', 'Current', 'Pressure',\n",
      "       'Temperature', 'Thermocouple', 'Voltage', 'Volume Flow RateRMS',\n",
      "       'anomaly', 'changepoint'],\n",
      "      dtype='object') (1148, 10)\n",
      "Index(['Accelerometer1RMS', 'Accelerometer2RMS', 'Current', 'Pressure',\n",
      "       'Temperature', 'Thermocouple', 'Voltage', 'Volume Flow RateRMS',\n",
      "       'anomaly', 'changepoint'],\n",
      "      dtype='object') (1094, 10)\n",
      "Index(['Accelerometer1RMS', 'Accelerometer2RMS', 'Current', 'Pressure',\n",
      "       'Temperature', 'Thermocouple', 'Voltage', 'Volume Flow RateRMS',\n",
      "       'anomaly', 'changepoint'],\n",
      "      dtype='object') (1147, 10)\n",
      "Index(['Accelerometer1RMS', 'Accelerometer2RMS', 'Current', 'Pressure',\n",
      "       'Temperature', 'Thermocouple', 'Voltage', 'Volume Flow RateRMS',\n",
      "       'anomaly', 'changepoint'],\n",
      "      dtype='object') (1150, 10)\n",
      "Index(['Accelerometer1RMS', 'Accelerometer2RMS', 'Current', 'Pressure',\n",
      "       'Temperature', 'Thermocouple', 'Voltage', 'Volume Flow RateRMS',\n",
      "       'anomaly', 'changepoint'],\n",
      "      dtype='object') (1154, 10)\n",
      "Index(['Accelerometer1RMS', 'Accelerometer2RMS', 'Current', 'Pressure',\n",
      "       'Temperature', 'Thermocouple', 'Voltage', 'Volume Flow RateRMS',\n",
      "       'anomaly', 'changepoint'],\n",
      "      dtype='object') (1146, 10)\n",
      "Number of change points : 129\n",
      "Number of outliers : 13067\n",
      "\n",
      "이상치 없는 데이터\n",
      "                     Accelerometer1RMS  Accelerometer2RMS  Current  Pressure  \\\n",
      "datetime                                                                       \n",
      "2020-02-08 13:30:47           0.202394           0.275154  2.16975  0.382638   \n",
      "2020-02-08 13:30:48           0.203153           0.277857  2.07999 -0.273216   \n",
      "2020-02-08 13:30:50           0.202054           0.275790  2.52577  0.382638   \n",
      "2020-02-08 13:30:51           0.203595           0.278101  2.49742  0.054711   \n",
      "2020-02-08 13:30:52           0.201889           0.276363  2.29194  0.710565   \n",
      "...                                ...                ...      ...       ...   \n",
      "2020-02-08 16:16:43           0.225744           0.267921  2.91598  0.054711   \n",
      "2020-02-08 16:16:44           0.205870           0.258370  1.71505  0.710565   \n",
      "2020-02-08 16:16:45           0.219222           0.267244  2.35834 -0.273216   \n",
      "2020-02-08 16:16:46           0.219481           0.271278  2.49108  0.054711   \n",
      "2020-02-08 16:16:47           0.219436           0.270046  2.43108  0.382638   \n",
      "\n",
      "                     Temperature  Thermocouple  Voltage  Volume Flow RateRMS  \n",
      "datetime                                                                      \n",
      "2020-02-08 13:30:47      90.6454       26.8508  238.852              122.664  \n",
      "2020-02-08 13:30:48      90.7978       26.8639  227.943              122.338  \n",
      "2020-02-08 13:30:50      90.7730       26.8603  223.486              121.338  \n",
      "2020-02-08 13:30:51      90.8424       26.8616  244.904              121.664  \n",
      "2020-02-08 13:30:52      90.6664       26.8603  239.196              122.000  \n",
      "...                          ...           ...      ...                  ...  \n",
      "2020-02-08 16:16:43      88.8593       29.3792  219.542              126.000  \n",
      "2020-02-08 16:16:44      89.1754       29.3692  221.862              126.000  \n",
      "2020-02-08 16:16:45      89.1306       29.3674  226.050              126.679  \n",
      "2020-02-08 16:16:46      88.5447       29.3757  226.343              127.000  \n",
      "2020-02-08 16:16:47      89.1161       29.3687  205.473              125.648  \n",
      "\n",
      "[9405 rows x 8 columns]\n"
     ]
    }
   ],
   "source": [
    "print('이상치 포함된 DataFrame {}개'.format(len(list_of_df)))\n",
    "for i in range(len(list_of_df)) : print(list_of_df[i].columns, list_of_df[i].shape)\n",
    "print('Number of change points :',sum([len(df[df.changepoint == 1.0])for df in list_of_df]) )\n",
    "print('Number of outliers :',sum([len(df[df.anomaly == 1.0])for df in list_of_df]) )\n",
    "print('\\n이상치 없는 데이터')\n",
    "print(anomaly_free_df)\n",
    "\n",
    "df = list_of_df[1] #첫번째 데이터 사용!"
   ]
  },
  {
   "cell_type": "code",
   "execution_count": 5,
   "id": "d66f76a1",
   "metadata": {
    "execution": {
     "iopub.execute_input": "2023-02-07T14:48:49.135509Z",
     "iopub.status.busy": "2023-02-07T14:48:49.135035Z",
     "iopub.status.idle": "2023-02-07T14:48:49.584822Z",
     "shell.execute_reply": "2023-02-07T14:48:49.583765Z"
    },
    "papermill": {
     "duration": 0.460409,
     "end_time": "2023-02-07T14:48:49.587920",
     "exception": false,
     "start_time": "2023-02-07T14:48:49.127511",
     "status": "completed"
    },
    "tags": []
   },
   "outputs": [
    {
     "data": {
      "image/png": "[encoded data removed]",
      "text/plain": [
       "<Figure size 864x432 with 1 Axes>"
      ]
     },
     "metadata": {
      "needs_background": "light"
     },
     "output_type": "display_data"
    }
   ],
   "source": [
    "#시각화\n",
    "df.plot(figsize = (12,6))\n",
    "plt.xlabel('Time')\n",
    "plt.ylabel('Value')\n",
    "plt.title('Signals Visualization')\n",
    "plt.show()"
   ]
  },
  {
   "cell_type": "code",
   "execution_count": 6,
   "id": "4c8a317a",
   "metadata": {
    "execution": {
     "iopub.execute_input": "2023-02-07T14:48:49.604802Z",
     "iopub.status.busy": "2023-02-07T14:48:49.603626Z",
     "iopub.status.idle": "2023-02-07T14:48:49.841160Z",
     "shell.execute_reply": "2023-02-07T14:48:49.839979Z"
    },
    "papermill": {
     "duration": 0.248975,
     "end_time": "2023-02-07T14:48:49.844032",
     "exception": false,
     "start_time": "2023-02-07T14:48:49.595057",
     "status": "completed"
    },
    "tags": []
   },
   "outputs": [
    {
     "data": {
      "image/png": "[encoded data removed]",
      "text/plain": [
       "<Figure size 864x216 with 1 Axes>"
      ]
     },
     "metadata": {
      "needs_background": "light"
     },
     "output_type": "display_data"
    }
   ],
   "source": [
    "#이상치 분포\n",
    "df['anomaly'].plot(figsize = (12,3))\n",
    "df['changepoint'].plot()\n",
    "plt.legend()\n",
    "plt.title('Distribution of Outliers ')\n",
    "plt.show()\n"
   ]
  },
  {
   "cell_type": "markdown",
   "id": "e96a75c9",
   "metadata": {
    "papermill": {
     "duration": 0.007101,
     "end_time": "2023-02-07T14:48:49.858814",
     "exception": false,
     "start_time": "2023-02-07T14:48:49.851713",
     "status": "completed"
    },
    "tags": []
   },
   "source": [
    "* ### Model Pipeline and Preprocessing\n"
   ]
  },
  {
   "cell_type": "code",
   "execution_count": 7,
   "id": "60011dbd",
   "metadata": {
    "execution": {
     "iopub.execute_input": "2023-02-07T14:48:49.876163Z",
     "iopub.status.busy": "2023-02-07T14:48:49.875677Z",
     "iopub.status.idle": "2023-02-07T14:48:49.882037Z",
     "shell.execute_reply": "2023-02-07T14:48:49.880665Z"
    },
    "papermill": {
     "duration": 0.018382,
     "end_time": "2023-02-07T14:48:49.884689",
     "exception": false,
     "start_time": "2023-02-07T14:48:49.866307",
     "status": "completed"
    },
    "tags": []
   },
   "outputs": [],
   "source": [
    "# Random Seed\n",
    "def Random(seed_value):\n",
    "    import os\n",
    "    os.environ['PYTHONHASHSEED'] = str(seed_value)\n",
    "    import random\n",
    "    random.seed(seed_value)\n",
    "    np.random.seed(seed_value)\n",
    "    import tensorflow as tf\n",
    "    tf.random.set_seed(seed_value)"
   ]
  },
  {
   "cell_type": "code",
   "execution_count": 8,
   "id": "3f81e687",
   "metadata": {
    "execution": {
     "iopub.execute_input": "2023-02-07T14:48:49.902852Z",
     "iopub.status.busy": "2023-02-07T14:48:49.901343Z",
     "iopub.status.idle": "2023-02-07T14:48:49.912794Z",
     "shell.execute_reply": "2023-02-07T14:48:49.911670Z"
    },
    "papermill": {
     "duration": 0.023025,
     "end_time": "2023-02-07T14:48:49.915348",
     "exception": false,
     "start_time": "2023-02-07T14:48:49.892323",
     "status": "completed"
    },
    "tags": []
   },
   "outputs": [],
   "source": [
    "#Convolutional AutoEncoder\n",
    "def convae(data):\n",
    "\n",
    "    model = keras.Sequential([ \n",
    "        \n",
    "        layers.Input(shape = (data.shape[1], data.shape[2])),\n",
    "        layers.Conv1D(filters = 32, kernel_size = 7, padding = 'same', strides = 2, activation = 'relu' ),\n",
    "        layers.Conv1D(filters = 16, kernel_size = 7, padding = 'same', strides = 2, activation = 'relu' ),\n",
    "        layers.Conv1DTranspose(filters = 16, kernel_size = 7, padding = 'same', strides = 2, activation = 'relu' ),\n",
    "        layers.Conv1DTranspose(filters = 32, kernel_size = 7, padding = 'same', strides = 2, activation = 'relu' ),\n",
    "        layers.Conv1DTranspose(filters = 8, kernel_size = 7, padding = 'same'),  # shape 일치시키기 위한 layer(오토인코더 구조) \n",
    "    \n",
    "    ])\n",
    "\n",
    "    model.compile(optimizer = keras.optimizers.Adam(learning_rate = 0.001), loss = 'mse')\n",
    "    \n",
    "    model.summary()\n",
    "\n",
    "    # Training\n",
    "    history = model.fit(        \n",
    "        data,\n",
    "        data, # data X instead of Y because it's unsupervised learning\n",
    "        epochs = 100,\n",
    "        batch_size = 32,\n",
    "        verbose = 2,\n",
    "\n",
    "        # early stopping 자동 학습 중단. patience 5번 loss 상승시 중단\n",
    "        callbacks = [\n",
    "            keras.callbacks.EarlyStopping(monitor = 'val_loss', patience = 5, verbose = 0)\n",
    "        ]\n",
    "\n",
    "    )\n",
    "    return history, model"
   ]
  },
  {
   "cell_type": "code",
   "execution_count": 9,
   "id": "76bd3214",
   "metadata": {
    "execution": {
     "iopub.execute_input": "2023-02-07T14:48:49.932691Z",
     "iopub.status.busy": "2023-02-07T14:48:49.932173Z",
     "iopub.status.idle": "2023-02-07T14:48:49.944323Z",
     "shell.execute_reply": "2023-02-07T14:48:49.943253Z"
    },
    "papermill": {
     "duration": 0.024011,
     "end_time": "2023-02-07T14:48:49.947033",
     "exception": false,
     "start_time": "2023-02-07T14:48:49.923022",
     "status": "completed"
    },
    "tags": []
   },
   "outputs": [],
   "source": [
    "#Preprocessing\n",
    "X_train = df[:400].drop(columns = ['anomaly','changepoint'], axis = 1) ##0~400번까지 모두 정상데이터이므로 학습데이터로 선정\n",
    "StSc = StandardScaler()\n",
    "X_train_scale = StSc.fit(X_train)   ## Standardization(표준) : train data의 평균, 분산분포를 저장. 추후에 test data에도 똑같이 적용필요\n",
    "X_train_scale = StSc.transform(X_train)\n"
   ]
  },
  {
   "cell_type": "code",
   "execution_count": 10,
   "id": "610c4d37",
   "metadata": {
    "execution": {
     "iopub.execute_input": "2023-02-07T14:48:49.964158Z",
     "iopub.status.busy": "2023-02-07T14:48:49.963662Z",
     "iopub.status.idle": "2023-02-07T14:48:49.975132Z",
     "shell.execute_reply": "2023-02-07T14:48:49.973825Z"
    },
    "papermill": {
     "duration": 0.022901,
     "end_time": "2023-02-07T14:48:49.977613",
     "exception": false,
     "start_time": "2023-02-07T14:48:49.954712",
     "status": "completed"
    },
    "tags": []
   },
   "outputs": [
    {
     "data": {
      "text/plain": [
       "(341, 60, 8)"
      ]
     },
     "execution_count": 10,
     "metadata": {},
     "output_type": "execute_result"
    }
   ],
   "source": [
    "# sequence를 고려한 전처리\n",
    "# 데이터를 임의의 sequence 묶음\n",
    "def create_sequences(data, time_steps = 60):\n",
    "    out = []\n",
    "    for i in range(len(data) - time_steps + 1):\n",
    "        out.append(data[i : (i + time_steps)])\n",
    "    return np.stack(out)\n",
    "\n",
    "X_train_seq = create_sequences(X_train_scale,60) #400의 정상데이터를 60개의 묶음으로 1씩 shift 하며 묶음 -> 341개 생성\n",
    "X_train_seq.shape "
   ]
  },
  {
   "cell_type": "code",
   "execution_count": 11,
   "id": "a04f2141",
   "metadata": {
    "execution": {
     "iopub.execute_input": "2023-02-07T14:48:49.995198Z",
     "iopub.status.busy": "2023-02-07T14:48:49.994688Z",
     "iopub.status.idle": "2023-02-07T14:48:58.856941Z",
     "shell.execute_reply": "2023-02-07T14:48:58.855347Z"
    },
    "papermill": {
     "duration": 8.874889,
     "end_time": "2023-02-07T14:48:58.860097",
     "exception": false,
     "start_time": "2023-02-07T14:48:49.985208",
     "status": "completed"
    },
    "tags": []
   },
   "outputs": [
    {
     "name": "stderr",
     "output_type": "stream",
     "text": [
      "2023-02-07 14:48:50.049176: I tensorflow/core/common_runtime/process_util.cc:146] Creating new thread pool with default inter op setting: 2. Tune using inter_op_parallelism_threads for best performance.\n"
     ]
    },
    {
     "name": "stdout",
     "output_type": "stream",
     "text": [
      "Model: \"sequential\"\n",
      "_________________________________________________________________\n",
      "Layer (type)                 Output Shape              Param #   \n",
      "=================================================================\n",
      "conv1d (Conv1D)              (None, 30, 32)            1824      \n",
      "_________________________________________________________________\n",
      "conv1d_1 (Conv1D)            (None, 15, 16)            3600      \n",
      "_________________________________________________________________\n",
      "conv1d_transpose (Conv1DTran (None, 30, 16)            1808      \n",
      "_________________________________________________________________\n",
      "conv1d_transpose_1 (Conv1DTr (None, 60, 32)            3616      \n",
      "_________________________________________________________________\n",
      "conv1d_transpose_2 (Conv1DTr (None, 60, 8)             1800      \n",
      "=================================================================\n",
      "Total params: 12,648\n",
      "Trainable params: 12,648\n",
      "Non-trainable params: 0\n",
      "_________________________________________________________________\n",
      "Epoch 1/100\n"
     ]
    },
    {
     "name": "stderr",
     "output_type": "stream",
     "text": [
      "2023-02-07 14:48:50.305276: I tensorflow/compiler/mlir/mlir_graph_optimization_pass.cc:185] None of the MLIR Optimization Passes are enabled (registered 2)\n"
     ]
    },
    {
     "name": "stdout",
     "output_type": "stream",
     "text": [
      "11/11 - 1s - loss: 0.9404\n",
      "Epoch 2/100\n",
      "11/11 - 0s - loss: 0.8415\n",
      "Epoch 3/100\n",
      "11/11 - 0s - loss: 0.7691\n",
      "Epoch 4/100\n",
      "11/11 - 0s - loss: 0.7154\n",
      "Epoch 5/100\n",
      "11/11 - 0s - loss: 0.6457\n",
      "Epoch 6/100\n",
      "11/11 - 0s - loss: 0.5810\n",
      "Epoch 7/100\n",
      "11/11 - 0s - loss: 0.5228\n",
      "Epoch 8/100\n",
      "11/11 - 0s - loss: 0.4762\n",
      "Epoch 9/100\n",
      "11/11 - 0s - loss: 0.4353\n",
      "Epoch 10/100\n",
      "11/11 - 0s - loss: 0.4014\n",
      "Epoch 11/100\n",
      "11/11 - 0s - loss: 0.3726\n",
      "Epoch 12/100\n",
      "11/11 - 0s - loss: 0.3493\n",
      "Epoch 13/100\n",
      "11/11 - 0s - loss: 0.3293\n",
      "Epoch 14/100\n",
      "11/11 - 0s - loss: 0.3129\n",
      "Epoch 15/100\n",
      "11/11 - 0s - loss: 0.2986\n",
      "Epoch 16/100\n",
      "11/11 - 0s - loss: 0.2851\n",
      "Epoch 17/100\n",
      "11/11 - 0s - loss: 0.2735\n",
      "Epoch 18/100\n",
      "11/11 - 0s - loss: 0.2638\n",
      "Epoch 19/100\n",
      "11/11 - 0s - loss: 0.2550\n",
      "Epoch 20/100\n",
      "11/11 - 0s - loss: 0.2470\n",
      "Epoch 21/100\n",
      "11/11 - 0s - loss: 0.2393\n",
      "Epoch 22/100\n",
      "11/11 - 0s - loss: 0.2332\n",
      "Epoch 23/100\n",
      "11/11 - 0s - loss: 0.2260\n",
      "Epoch 24/100\n",
      "11/11 - 0s - loss: 0.2203\n",
      "Epoch 25/100\n",
      "11/11 - 0s - loss: 0.2153\n",
      "Epoch 26/100\n",
      "11/11 - 0s - loss: 0.2100\n",
      "Epoch 27/100\n",
      "11/11 - 0s - loss: 0.2058\n",
      "Epoch 28/100\n",
      "11/11 - 0s - loss: 0.2011\n",
      "Epoch 29/100\n",
      "11/11 - 0s - loss: 0.1967\n",
      "Epoch 30/100\n",
      "11/11 - 0s - loss: 0.1931\n",
      "Epoch 31/100\n",
      "11/11 - 0s - loss: 0.1898\n",
      "Epoch 32/100\n",
      "11/11 - 0s - loss: 0.1864\n",
      "Epoch 33/100\n",
      "11/11 - 0s - loss: 0.1828\n",
      "Epoch 34/100\n",
      "11/11 - 0s - loss: 0.1797\n",
      "Epoch 35/100\n",
      "11/11 - 0s - loss: 0.1764\n",
      "Epoch 36/100\n",
      "11/11 - 0s - loss: 0.1735\n",
      "Epoch 37/100\n",
      "11/11 - 0s - loss: 0.1709\n",
      "Epoch 38/100\n",
      "11/11 - 0s - loss: 0.1685\n",
      "Epoch 39/100\n",
      "11/11 - 0s - loss: 0.1663\n",
      "Epoch 40/100\n",
      "11/11 - 0s - loss: 0.1638\n",
      "Epoch 41/100\n",
      "11/11 - 0s - loss: 0.1615\n",
      "Epoch 42/100\n",
      "11/11 - 0s - loss: 0.1590\n",
      "Epoch 43/100\n",
      "11/11 - 0s - loss: 0.1568\n",
      "Epoch 44/100\n",
      "11/11 - 0s - loss: 0.1552\n",
      "Epoch 45/100\n",
      "11/11 - 0s - loss: 0.1531\n",
      "Epoch 46/100\n",
      "11/11 - 0s - loss: 0.1515\n",
      "Epoch 47/100\n",
      "11/11 - 0s - loss: 0.1491\n",
      "Epoch 48/100\n",
      "11/11 - 0s - loss: 0.1474\n",
      "Epoch 49/100\n",
      "11/11 - 0s - loss: 0.1458\n",
      "Epoch 50/100\n",
      "11/11 - 0s - loss: 0.1446\n",
      "Epoch 51/100\n",
      "11/11 - 0s - loss: 0.1426\n",
      "Epoch 52/100\n",
      "11/11 - 0s - loss: 0.1409\n",
      "Epoch 53/100\n",
      "11/11 - 0s - loss: 0.1395\n",
      "Epoch 54/100\n",
      "11/11 - 0s - loss: 0.1385\n",
      "Epoch 55/100\n",
      "11/11 - 0s - loss: 0.1368\n",
      "Epoch 56/100\n",
      "11/11 - 0s - loss: 0.1356\n",
      "Epoch 57/100\n",
      "11/11 - 0s - loss: 0.1343\n",
      "Epoch 58/100\n",
      "11/11 - 0s - loss: 0.1335\n",
      "Epoch 59/100\n",
      "11/11 - 0s - loss: 0.1317\n",
      "Epoch 60/100\n",
      "11/11 - 0s - loss: 0.1303\n",
      "Epoch 61/100\n",
      "11/11 - 0s - loss: 0.1289\n",
      "Epoch 62/100\n",
      "11/11 - 0s - loss: 0.1278\n",
      "Epoch 63/100\n",
      "11/11 - 0s - loss: 0.1266\n",
      "Epoch 64/100\n",
      "11/11 - 0s - loss: 0.1254\n",
      "Epoch 65/100\n",
      "11/11 - 0s - loss: 0.1248\n",
      "Epoch 66/100\n",
      "11/11 - 0s - loss: 0.1241\n",
      "Epoch 67/100\n",
      "11/11 - 0s - loss: 0.1230\n",
      "Epoch 68/100\n",
      "11/11 - 0s - loss: 0.1216\n",
      "Epoch 69/100\n",
      "11/11 - 0s - loss: 0.1205\n",
      "Epoch 70/100\n",
      "11/11 - 0s - loss: 0.1196\n",
      "Epoch 71/100\n",
      "11/11 - 0s - loss: 0.1187\n",
      "Epoch 72/100\n",
      "11/11 - 0s - loss: 0.1179\n",
      "Epoch 73/100\n",
      "11/11 - 0s - loss: 0.1174\n",
      "Epoch 74/100\n",
      "11/11 - 0s - loss: 0.1165\n",
      "Epoch 75/100\n",
      "11/11 - 0s - loss: 0.1158\n",
      "Epoch 76/100\n",
      "11/11 - 0s - loss: 0.1148\n",
      "Epoch 77/100\n",
      "11/11 - 0s - loss: 0.1137\n",
      "Epoch 78/100\n",
      "11/11 - 0s - loss: 0.1130\n",
      "Epoch 79/100\n",
      "11/11 - 0s - loss: 0.1126\n",
      "Epoch 80/100\n",
      "11/11 - 0s - loss: 0.1118\n",
      "Epoch 81/100\n",
      "11/11 - 0s - loss: 0.1106\n",
      "Epoch 82/100\n",
      "11/11 - 0s - loss: 0.1099\n",
      "Epoch 83/100\n",
      "11/11 - 0s - loss: 0.1091\n",
      "Epoch 84/100\n",
      "11/11 - 0s - loss: 0.1085\n",
      "Epoch 85/100\n",
      "11/11 - 0s - loss: 0.1078\n",
      "Epoch 86/100\n",
      "11/11 - 0s - loss: 0.1072\n",
      "Epoch 87/100\n",
      "11/11 - 0s - loss: 0.1067\n",
      "Epoch 88/100\n",
      "11/11 - 0s - loss: 0.1060\n",
      "Epoch 89/100\n",
      "11/11 - 0s - loss: 0.1060\n",
      "Epoch 90/100\n",
      "11/11 - 0s - loss: 0.1048\n",
      "Epoch 91/100\n",
      "11/11 - 0s - loss: 0.1046\n",
      "Epoch 92/100\n",
      "11/11 - 0s - loss: 0.1039\n",
      "Epoch 93/100\n",
      "11/11 - 0s - loss: 0.1030\n",
      "Epoch 94/100\n",
      "11/11 - 0s - loss: 0.1026\n",
      "Epoch 95/100\n",
      "11/11 - 0s - loss: 0.1017\n",
      "Epoch 96/100\n",
      "11/11 - 0s - loss: 0.1016\n",
      "Epoch 97/100\n",
      "11/11 - 0s - loss: 0.1007\n",
      "Epoch 98/100\n",
      "11/11 - 0s - loss: 0.0997\n",
      "Epoch 99/100\n",
      "11/11 - 0s - loss: 0.0993\n",
      "Epoch 100/100\n",
      "11/11 - 0s - loss: 0.0988\n"
     ]
    }
   ],
   "source": [
    "history, model = convae(X_train_seq)"
   ]
  },
  {
   "cell_type": "markdown",
   "id": "6b296cde",
   "metadata": {
    "papermill": {
     "duration": 0.01855,
     "end_time": "2023-02-07T14:48:58.899326",
     "exception": false,
     "start_time": "2023-02-07T14:48:58.880776",
     "status": "completed"
    },
    "tags": []
   },
   "source": [
    "* ### Anomaly Scoring & Result"
   ]
  },
  {
   "cell_type": "code",
   "execution_count": 12,
   "id": "f99ff307",
   "metadata": {
    "execution": {
     "iopub.execute_input": "2023-02-07T14:48:58.940943Z",
     "iopub.status.busy": "2023-02-07T14:48:58.940188Z",
     "iopub.status.idle": "2023-02-07T14:48:59.464637Z",
     "shell.execute_reply": "2023-02-07T14:48:59.463684Z"
    },
    "papermill": {
     "duration": 0.547865,
     "end_time": "2023-02-07T14:48:59.467196",
     "exception": false,
     "start_time": "2023-02-07T14:48:58.919331",
     "status": "completed"
    },
    "tags": []
   },
   "outputs": [
    {
     "data": {
      "image/png": "[encoded data removed]",
      "text/plain": [
       "<Figure size 432x288 with 1 Axes>"
      ]
     },
     "metadata": {
      "needs_background": "light"
     },
     "output_type": "display_data"
    }
   ],
   "source": [
    "residuals = pd.Series(np.sum(np.mean(np.abs(X_train_seq - model.predict(X_train_seq)), axis = 1), axis = 1)) # input data와 reconstructed input의 차이값\n",
    "ucl = residuals.quantile(0.999) # 차이값의 전체 분포에서 상위 99.9%지점을 upper control limit으로 지정\n",
    "plt.plot(residuals) ## value gap between input VS reconstructed input for anomaly-free data\n",
    "plt.show()"
   ]
  },
  {
   "cell_type": "code",
   "execution_count": 13,
   "id": "b2c6d572",
   "metadata": {
    "execution": {
     "iopub.execute_input": "2023-02-07T14:48:59.509688Z",
     "iopub.status.busy": "2023-02-07T14:48:59.508973Z",
     "iopub.status.idle": "2023-02-07T14:48:59.959442Z",
     "shell.execute_reply": "2023-02-07T14:48:59.958222Z"
    },
    "papermill": {
     "duration": 0.475178,
     "end_time": "2023-02-07T14:48:59.962015",
     "exception": false,
     "start_time": "2023-02-07T14:48:59.486837",
     "status": "completed"
    },
    "tags": []
   },
   "outputs": [
    {
     "data": {
      "text/plain": [
       "Text(0.5, 1.0, 'Actual Label')"
      ]
     },
     "execution_count": 13,
     "metadata": {},
     "output_type": "execute_result"
    },
    {
     "data": {
      "image/png": "[encoded data removed]",
      "text/plain": [
       "<Figure size 1080x360 with 2 Axes>"
      ]
     },
     "metadata": {
      "needs_background": "light"
     },
     "output_type": "display_data"
    }
   ],
   "source": [
    "X_test_sc = StSc.transform(df.drop(columns = ['anomaly','changepoint']))  #400번째 이후 이상치 데이터 모두 포함하여 test data 지정\n",
    "X_test_seq = create_sequences(X_test_sc)\n",
    "test_residuals = pd.Series(np.sum(np.mean(np.abs(X_test_seq - model.predict(X_test_seq)), axis = 1), axis = 1))\n",
    "plt.figure(figsize = (15,5))\n",
    "plt.subplot(1,2,1)\n",
    "plt.plot(test_residuals)\n",
    "plt.axhline(y = ucl * 1.5 , xmin = 0, xmax=len(X_train_seq))  # upper control limit 의 1.5배를 Threshold 로 설정\n",
    "plt.title('Reconstructed Residual Error')\n",
    "plt.subplot(1,2,2)\n",
    "plt.plot(df['anomaly'].values)\n",
    "plt.title('Actual Label')"
   ]
  },
  {
   "cell_type": "code",
   "execution_count": 14,
   "id": "3ba73065",
   "metadata": {
    "execution": {
     "iopub.execute_input": "2023-02-07T14:49:00.006339Z",
     "iopub.status.busy": "2023-02-07T14:49:00.005062Z",
     "iopub.status.idle": "2023-02-07T14:49:00.081568Z",
     "shell.execute_reply": "2023-02-07T14:49:00.080554Z"
    },
    "papermill": {
     "duration": 0.10136,
     "end_time": "2023-02-07T14:49:00.084387",
     "exception": false,
     "start_time": "2023-02-07T14:48:59.983027",
     "status": "completed"
    },
    "tags": []
   },
   "outputs": [],
   "source": [
    "# 비교를 위해 label값을 time 단위로 변경\n",
    "N_STEPS = 60\n",
    "anomalous_data = test_residuals > ucl * 1.5\n",
    "\n",
    "anomalous_data_indices = []\n",
    "for data_idx in range(N_STEPS - 1, len(X_test_seq) - N_STEPS + 1):\n",
    "    if np.all(anomalous_data[data_idx - N_STEPS + 1 : data_idx]):\n",
    "        anomalous_data_indices.append(data_idx)\n",
    "    "
   ]
  },
  {
   "cell_type": "code",
   "execution_count": 15,
   "id": "e626f50c",
   "metadata": {
    "execution": {
     "iopub.execute_input": "2023-02-07T14:49:00.127445Z",
     "iopub.status.busy": "2023-02-07T14:49:00.126935Z",
     "iopub.status.idle": "2023-02-07T14:49:00.345817Z",
     "shell.execute_reply": "2023-02-07T14:49:00.344570Z"
    },
    "papermill": {
     "duration": 0.244024,
     "end_time": "2023-02-07T14:49:00.349180",
     "exception": false,
     "start_time": "2023-02-07T14:49:00.105156",
     "status": "completed"
    },
    "tags": []
   },
   "outputs": [
    {
     "data": {
      "image/png": "[encoded data removed]",
      "text/plain": [
       "<Figure size 432x288 with 1 Axes>"
      ]
     },
     "metadata": {
      "needs_background": "light"
     },
     "output_type": "display_data"
    }
   ],
   "source": [
    "prediction = pd.Series(data = 0, index = df.index)\n",
    "prediction.iloc[anomalous_data_indices] = 1\n",
    "\n",
    "plt.plot(prediction.values, label = 'pred')\n",
    "plt.plot(df['anomaly'].values, label = 'label')\n",
    "plt.legend()\n",
    "plt.show()"
   ]
  }
 ],
 "metadata": {
  "kernelspec": {
   "display_name": "Python 3",
   "language": "python",
   "name": "python3"
  },
  "language_info": {
   "codemirror_mode": {
    "name": "ipython",
    "version": 3
   },
   "file_extension": ".py",
   "mimetype": "text/x-python",
   "name": "python",
   "nbconvert_exporter": "python",
   "pygments_lexer": "ipython3",
   "version": "3.7.12"
  },
  "papermill": {
   "default_parameters": {},
   "duration": 32.255699,
   "end_time": "2023-02-07T14:49:03.922616",
   "environment_variables": {},
   "exception": null,
   "input_path": "__notebook__.ipynb",
   "output_path": "__notebook__.ipynb",
   "parameters": {},
   "start_time": "2023-02-07T14:48:31.666917",
   "version": "2.3.4"
  }
 },
 "nbformat": 4,
 "nbformat_minor": 5
}
