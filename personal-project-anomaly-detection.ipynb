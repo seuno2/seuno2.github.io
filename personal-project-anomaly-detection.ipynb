{
 "cells": [
  {
   "cell_type": "code",
   "execution_count": 1,
   "id": "0683b790",
   "metadata": {
    "_cell_guid": "b1076dfc-b9ad-4769-8c92-a6c4dae69d19",
    "_uuid": "8f2839f25d086af736a60e9eeb907d3b93b6e0e5",
    "execution": {
     "iopub.execute_input": "2023-02-07T14:38:06.904354Z",
     "iopub.status.busy": "2023-02-07T14:38:06.903578Z",
     "iopub.status.idle": "2023-02-07T14:38:06.977130Z",
     "shell.execute_reply": "2023-02-07T14:38:06.975857Z"
    },
    "papermill": {
     "duration": 0.08547,
     "end_time": "2023-02-07T14:38:06.980835",
     "exception": false,
     "start_time": "2023-02-07T14:38:06.895365",
     "status": "completed"
    },
    "tags": []
   },
   "outputs": [
    {
     "name": "stdout",
     "output_type": "stream",
     "text": [
      "/kaggle/input/skab-anomaly-detection/SKAB-master/LICENSE\n",
      "/kaggle/input/skab-anomaly-detection/SKAB-master/.gitignore\n",
      "/kaggle/input/skab-anomaly-detection/SKAB-master/README.md\n",
      "/kaggle/input/skab-anomaly-detection/SKAB-master/utils/t2.py\n",
      "/kaggle/input/skab-anomaly-detection/SKAB-master/utils/__init__.py\n",
      "/kaggle/input/skab-anomaly-detection/SKAB-master/docs/contributing.md\n",
      "/kaggle/input/skab-anomaly-detection/SKAB-master/docs/pictures/skab.png\n",
      "/kaggle/input/skab-anomaly-detection/SKAB-master/docs/pictures/testbed.png\n",
      "/kaggle/input/skab-anomaly-detection/SKAB-master/docs/pictures/nab-metric.jpg\n",
      "/kaggle/input/skab-anomaly-detection/SKAB-master/notebooks/hotelling_q.ipynb\n",
      "/kaggle/input/skab-anomaly-detection/SKAB-master/notebooks/mscred.ipynb\n",
      "/kaggle/input/skab-anomaly-detection/SKAB-master/notebooks/isolation_forest.ipynb\n",
      "/kaggle/input/skab-anomaly-detection/SKAB-master/notebooks/VAE.ipynb\n",
      "/kaggle/input/skab-anomaly-detection/SKAB-master/notebooks/LSTM-AE.ipynb\n",
      "/kaggle/input/skab-anomaly-detection/SKAB-master/notebooks/LSTM-VAE.ipynb\n",
      "/kaggle/input/skab-anomaly-detection/SKAB-master/notebooks/EDA.ipynb\n",
      "/kaggle/input/skab-anomaly-detection/SKAB-master/notebooks/README.md\n",
      "/kaggle/input/skab-anomaly-detection/SKAB-master/notebooks/hotelling.ipynb\n",
      "/kaggle/input/skab-anomaly-detection/SKAB-master/notebooks/autoencoder.ipynb\n",
      "/kaggle/input/skab-anomaly-detection/SKAB-master/notebooks/lstm.ipynb\n",
      "/kaggle/input/skab-anomaly-detection/SKAB-master/notebooks/Conv-AE.ipynb\n",
      "/kaggle/input/skab-anomaly-detection/SKAB-master/notebooks/requirements.txt\n",
      "/kaggle/input/skab-anomaly-detection/SKAB-master/notebooks/ArimaFD.ipynb\n",
      "/kaggle/input/skab-anomaly-detection/SKAB-master/notebooks/MSET.ipynb\n",
      "/kaggle/input/skab-anomaly-detection/SKAB-master/data/README.md\n",
      "/kaggle/input/skab-anomaly-detection/SKAB-master/data/Load data.ipynb\n",
      "/kaggle/input/skab-anomaly-detection/SKAB-master/data/valve2/1.csv\n",
      "/kaggle/input/skab-anomaly-detection/SKAB-master/data/valve2/3.csv\n",
      "/kaggle/input/skab-anomaly-detection/SKAB-master/data/valve2/2.csv\n",
      "/kaggle/input/skab-anomaly-detection/SKAB-master/data/valve2/0.csv\n",
      "/kaggle/input/skab-anomaly-detection/SKAB-master/data/other/1.csv\n",
      "/kaggle/input/skab-anomaly-detection/SKAB-master/data/other/11.csv\n",
      "/kaggle/input/skab-anomaly-detection/SKAB-master/data/other/3.csv\n",
      "/kaggle/input/skab-anomaly-detection/SKAB-master/data/other/5.csv\n",
      "/kaggle/input/skab-anomaly-detection/SKAB-master/data/other/2.csv\n",
      "/kaggle/input/skab-anomaly-detection/SKAB-master/data/other/13.csv\n",
      "/kaggle/input/skab-anomaly-detection/SKAB-master/data/other/14.csv\n",
      "/kaggle/input/skab-anomaly-detection/SKAB-master/data/other/4.csv\n",
      "/kaggle/input/skab-anomaly-detection/SKAB-master/data/other/8.csv\n",
      "/kaggle/input/skab-anomaly-detection/SKAB-master/data/other/12.csv\n",
      "/kaggle/input/skab-anomaly-detection/SKAB-master/data/other/9.csv\n",
      "/kaggle/input/skab-anomaly-detection/SKAB-master/data/other/7.csv\n",
      "/kaggle/input/skab-anomaly-detection/SKAB-master/data/other/6.csv\n",
      "/kaggle/input/skab-anomaly-detection/SKAB-master/data/other/10.csv\n",
      "/kaggle/input/skab-anomaly-detection/SKAB-master/data/valve1/1.csv\n",
      "/kaggle/input/skab-anomaly-detection/SKAB-master/data/valve1/11.csv\n",
      "/kaggle/input/skab-anomaly-detection/SKAB-master/data/valve1/3.csv\n",
      "/kaggle/input/skab-anomaly-detection/SKAB-master/data/valve1/5.csv\n",
      "/kaggle/input/skab-anomaly-detection/SKAB-master/data/valve1/2.csv\n",
      "/kaggle/input/skab-anomaly-detection/SKAB-master/data/valve1/13.csv\n",
      "/kaggle/input/skab-anomaly-detection/SKAB-master/data/valve1/14.csv\n",
      "/kaggle/input/skab-anomaly-detection/SKAB-master/data/valve1/4.csv\n",
      "/kaggle/input/skab-anomaly-detection/SKAB-master/data/valve1/8.csv\n",
      "/kaggle/input/skab-anomaly-detection/SKAB-master/data/valve1/12.csv\n",
      "/kaggle/input/skab-anomaly-detection/SKAB-master/data/valve1/9.csv\n",
      "/kaggle/input/skab-anomaly-detection/SKAB-master/data/valve1/7.csv\n",
      "/kaggle/input/skab-anomaly-detection/SKAB-master/data/valve1/0.csv\n",
      "/kaggle/input/skab-anomaly-detection/SKAB-master/data/valve1/15.csv\n",
      "/kaggle/input/skab-anomaly-detection/SKAB-master/data/valve1/6.csv\n",
      "/kaggle/input/skab-anomaly-detection/SKAB-master/data/valve1/10.csv\n",
      "/kaggle/input/skab-anomaly-detection/SKAB-master/data/anomaly-free/anomaly-free.csv\n"
     ]
    }
   ],
   "source": [
    "# This Python 3 environment comes with many helpful analytics libraries installed\n",
    "# It is defined by the kaggle/python Docker image: https://github.com/kaggle/docker-python\n",
    "# For example, here's several helpful packages to load\n",
    "\n",
    "import numpy as np # linear algebra\n",
    "import pandas as pd # data processing, CSV file I/O (e.g. pd.read_csv)\n",
    "\n",
    "# Input data files are available in the read-only \"../input/\" directory\n",
    "# For example, running this (by clicking run or pressing Shift+Enter) will list all files under the input directory\n",
    "\n",
    "import os\n",
    "for dirname, _, filenames in os.walk('/kaggle/input'):\n",
    "    for filename in filenames:\n",
    "        print(os.path.join(dirname, filename))\n",
    "\n",
    "# You can write up to 20GB to the current directory (/kaggle/working/) that gets preserved as output when you create a version using \"Save & Run All\" \n",
    "# You can also write temporary files to /kaggle/temp/, but they won't be saved outside of the current session"
   ]
  },
  {
   "cell_type": "code",
   "execution_count": 2,
   "id": "9490d590",
   "metadata": {
    "execution": {
     "iopub.execute_input": "2023-02-07T14:38:06.993875Z",
     "iopub.status.busy": "2023-02-07T14:38:06.993479Z",
     "iopub.status.idle": "2023-02-07T14:38:15.199531Z",
     "shell.execute_reply": "2023-02-07T14:38:15.198016Z"
    },
    "papermill": {
     "duration": 8.21584,
     "end_time": "2023-02-07T14:38:15.202472",
     "exception": false,
     "start_time": "2023-02-07T14:38:06.986632",
     "status": "completed"
    },
    "tags": []
   },
   "outputs": [],
   "source": [
    "import pandas as pd\n",
    "import matplotlib.pyplot as plt\n",
    "import os\n",
    "import numpy as np\n",
    "import seaborn as sns\n",
    "\n",
    "from tensorflow import keras\n",
    "from tensorflow.keras import layers\n",
    "from sklearn.metrics import mean_absolute_error, mean_squared_error \n",
    "from sklearn.model_selection import train_test_split\n",
    "from sklearn.preprocessing import StandardScaler "
   ]
  },
  {
   "cell_type": "markdown",
   "id": "6b7edb37",
   "metadata": {
    "papermill": {
     "duration": 0.005036,
     "end_time": "2023-02-07T14:38:15.213206",
     "exception": false,
     "start_time": "2023-02-07T14:38:15.208170",
     "status": "completed"
    },
    "tags": []
   },
   "source": [
    "# Introductory Summary\n",
    "\n",
    "1.  Dataset : SKAB (SkoltechAnomaly Benchmark) / Multivariate time series collected from the sensors on the testbed\n",
    "1.  Framework : Tensorflow Keras\n",
    "1.  Model : 1D Convolutional Autoencoder\n",
    "1.  Activation Function : ReLU\n"
   ]
  },
  {
   "cell_type": "markdown",
   "id": "2313a7d1",
   "metadata": {
    "papermill": {
     "duration": 0.004995,
     "end_time": "2023-02-07T14:38:15.223513",
     "exception": false,
     "start_time": "2023-02-07T14:38:15.218518",
     "status": "completed"
    },
    "tags": []
   },
   "source": [
    "* ###  Data Summary"
   ]
  },
  {
   "cell_type": "code",
   "execution_count": 3,
   "id": "5a6bcc1c",
   "metadata": {
    "execution": {
     "iopub.execute_input": "2023-02-07T14:38:15.236882Z",
     "iopub.status.busy": "2023-02-07T14:38:15.236171Z",
     "iopub.status.idle": "2023-02-07T14:38:15.615306Z",
     "shell.execute_reply": "2023-02-07T14:38:15.614308Z"
    },
    "papermill": {
     "duration": 0.388704,
     "end_time": "2023-02-07T14:38:15.617963",
     "exception": false,
     "start_time": "2023-02-07T14:38:15.229259",
     "status": "completed"
    },
    "tags": []
   },
   "outputs": [],
   "source": [
    "#Paths of data files\n",
    "all_files =[]\n",
    "for root, dirs, files in os.walk('/kaggle/input/skab-anomaly-detection/SKAB-master/data/'):\n",
    "    for file in files:\n",
    "        if file.endswith('.csv'):\n",
    "            all_files.append(os.path.join(root,file))\n",
    "\n",
    "#Data with outliers included         \n",
    "list_of_df = [pd.read_csv(file,\n",
    "                            sep = ';',\n",
    "                            index_col = 'datetime',\n",
    "                            ) for file in all_files if 'anomaly-free' not in file]\n",
    "\n",
    "#Anomaly free data\n",
    "anomaly_free_df = pd.read_csv([file for file in all_files if 'anomaly-free' in file][0],\n",
    "                             sep = ';',\n",
    "                             index_col = 'datetime')\n",
    "\n"
   ]
  },
  {
   "cell_type": "code",
   "execution_count": 4,
   "id": "d88582cd",
   "metadata": {
    "execution": {
     "iopub.execute_input": "2023-02-07T14:38:15.631623Z",
     "iopub.status.busy": "2023-02-07T14:38:15.630392Z",
     "iopub.status.idle": "2023-02-07T14:38:15.685583Z",
     "shell.execute_reply": "2023-02-07T14:38:15.684298Z"
    },
    "papermill": {
     "duration": 0.065279,
     "end_time": "2023-02-07T14:38:15.688821",
     "exception": false,
     "start_time": "2023-02-07T14:38:15.623542",
     "status": "completed"
    },
    "tags": []
   },
   "outputs": [
    {
     "name": "stdout",
     "output_type": "stream",
     "text": [
      "이상치 포함된 DataFrame 34개\n",
      "Index(['Accelerometer1RMS', 'Accelerometer2RMS', 'Current', 'Pressure',\n",
      "       'Temperature', 'Thermocouple', 'Voltage', 'Volume Flow RateRMS',\n",
      "       'anomaly', 'changepoint'],\n",
      "      dtype='object') (1063, 10)\n",
      "Index(['Accelerometer1RMS', 'Accelerometer2RMS', 'Current', 'Pressure',\n",
      "       'Temperature', 'Thermocouple', 'Voltage', 'Volume Flow RateRMS',\n",
      "       'anomaly', 'changepoint'],\n",
      "      dtype='object') (995, 10)\n",
      "Index(['Accelerometer1RMS', 'Accelerometer2RMS', 'Current', 'Pressure',\n",
      "       'Temperature', 'Thermocouple', 'Voltage', 'Volume Flow RateRMS',\n",
      "       'anomaly', 'changepoint'],\n",
      "      dtype='object') (1129, 10)\n",
      "Index(['Accelerometer1RMS', 'Accelerometer2RMS', 'Current', 'Pressure',\n",
      "       'Temperature', 'Thermocouple', 'Voltage', 'Volume Flow RateRMS',\n",
      "       'anomaly', 'changepoint'],\n",
      "      dtype='object') (1125, 10)\n",
      "Index(['Accelerometer1RMS', 'Accelerometer2RMS', 'Current', 'Pressure',\n",
      "       'Temperature', 'Thermocouple', 'Voltage', 'Volume Flow RateRMS',\n",
      "       'anomaly', 'changepoint'],\n",
      "      dtype='object') (745, 10)\n",
      "Index(['Accelerometer1RMS', 'Accelerometer2RMS', 'Current', 'Pressure',\n",
      "       'Temperature', 'Thermocouple', 'Voltage', 'Volume Flow RateRMS',\n",
      "       'anomaly', 'changepoint'],\n",
      "      dtype='object') (1190, 10)\n",
      "Index(['Accelerometer1RMS', 'Accelerometer2RMS', 'Current', 'Pressure',\n",
      "       'Temperature', 'Thermocouple', 'Voltage', 'Volume Flow RateRMS',\n",
      "       'anomaly', 'changepoint'],\n",
      "      dtype='object') (1137, 10)\n",
      "Index(['Accelerometer1RMS', 'Accelerometer2RMS', 'Current', 'Pressure',\n",
      "       'Temperature', 'Thermocouple', 'Voltage', 'Volume Flow RateRMS',\n",
      "       'anomaly', 'changepoint'],\n",
      "      dtype='object') (1155, 10)\n",
      "Index(['Accelerometer1RMS', 'Accelerometer2RMS', 'Current', 'Pressure',\n",
      "       'Temperature', 'Thermocouple', 'Voltage', 'Volume Flow RateRMS',\n",
      "       'anomaly', 'changepoint'],\n",
      "      dtype='object') (780, 10)\n",
      "Index(['Accelerometer1RMS', 'Accelerometer2RMS', 'Current', 'Pressure',\n",
      "       'Temperature', 'Thermocouple', 'Voltage', 'Volume Flow RateRMS',\n",
      "       'anomaly', 'changepoint'],\n",
      "      dtype='object') (923, 10)\n",
      "Index(['Accelerometer1RMS', 'Accelerometer2RMS', 'Current', 'Pressure',\n",
      "       'Temperature', 'Thermocouple', 'Voltage', 'Volume Flow RateRMS',\n",
      "       'anomaly', 'changepoint'],\n",
      "      dtype='object') (905, 10)\n",
      "Index(['Accelerometer1RMS', 'Accelerometer2RMS', 'Current', 'Pressure',\n",
      "       'Temperature', 'Thermocouple', 'Voltage', 'Volume Flow RateRMS',\n",
      "       'anomaly', 'changepoint'],\n",
      "      dtype='object') (1191, 10)\n",
      "Index(['Accelerometer1RMS', 'Accelerometer2RMS', 'Current', 'Pressure',\n",
      "       'Temperature', 'Thermocouple', 'Voltage', 'Volume Flow RateRMS',\n",
      "       'anomaly', 'changepoint'],\n",
      "      dtype='object') (1147, 10)\n",
      "Index(['Accelerometer1RMS', 'Accelerometer2RMS', 'Current', 'Pressure',\n",
      "       'Temperature', 'Thermocouple', 'Voltage', 'Volume Flow RateRMS',\n",
      "       'anomaly', 'changepoint'],\n",
      "      dtype='object') (1048, 10)\n",
      "Index(['Accelerometer1RMS', 'Accelerometer2RMS', 'Current', 'Pressure',\n",
      "       'Temperature', 'Thermocouple', 'Voltage', 'Volume Flow RateRMS',\n",
      "       'anomaly', 'changepoint'],\n",
      "      dtype='object') (1144, 10)\n",
      "Index(['Accelerometer1RMS', 'Accelerometer2RMS', 'Current', 'Pressure',\n",
      "       'Temperature', 'Thermocouple', 'Voltage', 'Volume Flow RateRMS',\n",
      "       'anomaly', 'changepoint'],\n",
      "      dtype='object') (1090, 10)\n",
      "Index(['Accelerometer1RMS', 'Accelerometer2RMS', 'Current', 'Pressure',\n",
      "       'Temperature', 'Thermocouple', 'Voltage', 'Volume Flow RateRMS',\n",
      "       'anomaly', 'changepoint'],\n",
      "      dtype='object') (1147, 10)\n",
      "Index(['Accelerometer1RMS', 'Accelerometer2RMS', 'Current', 'Pressure',\n",
      "       'Temperature', 'Thermocouple', 'Voltage', 'Volume Flow RateRMS',\n",
      "       'anomaly', 'changepoint'],\n",
      "      dtype='object') (1327, 10)\n",
      "Index(['Accelerometer1RMS', 'Accelerometer2RMS', 'Current', 'Pressure',\n",
      "       'Temperature', 'Thermocouple', 'Voltage', 'Volume Flow RateRMS',\n",
      "       'anomaly', 'changepoint'],\n",
      "      dtype='object') (1145, 10)\n",
      "Index(['Accelerometer1RMS', 'Accelerometer2RMS', 'Current', 'Pressure',\n",
      "       'Temperature', 'Thermocouple', 'Voltage', 'Volume Flow RateRMS',\n",
      "       'anomaly', 'changepoint'],\n",
      "      dtype='object') (1141, 10)\n",
      "Index(['Accelerometer1RMS', 'Accelerometer2RMS', 'Current', 'Pressure',\n",
      "       'Temperature', 'Thermocouple', 'Voltage', 'Volume Flow RateRMS',\n",
      "       'anomaly', 'changepoint'],\n",
      "      dtype='object') (1148, 10)\n",
      "Index(['Accelerometer1RMS', 'Accelerometer2RMS', 'Current', 'Pressure',\n",
      "       'Temperature', 'Thermocouple', 'Voltage', 'Volume Flow RateRMS',\n",
      "       'anomaly', 'changepoint'],\n",
      "      dtype='object') (1154, 10)\n",
      "Index(['Accelerometer1RMS', 'Accelerometer2RMS', 'Current', 'Pressure',\n",
      "       'Temperature', 'Thermocouple', 'Voltage', 'Volume Flow RateRMS',\n",
      "       'anomaly', 'changepoint'],\n",
      "      dtype='object') (1075, 10)\n",
      "Index(['Accelerometer1RMS', 'Accelerometer2RMS', 'Current', 'Pressure',\n",
      "       'Temperature', 'Thermocouple', 'Voltage', 'Volume Flow RateRMS',\n",
      "       'anomaly', 'changepoint'],\n",
      "      dtype='object') (1140, 10)\n",
      "Index(['Accelerometer1RMS', 'Accelerometer2RMS', 'Current', 'Pressure',\n",
      "       'Temperature', 'Thermocouple', 'Voltage', 'Volume Flow RateRMS',\n",
      "       'anomaly', 'changepoint'],\n",
      "      dtype='object') (1139, 10)\n",
      "Index(['Accelerometer1RMS', 'Accelerometer2RMS', 'Current', 'Pressure',\n",
      "       'Temperature', 'Thermocouple', 'Voltage', 'Volume Flow RateRMS',\n",
      "       'anomaly', 'changepoint'],\n",
      "      dtype='object') (1095, 10)\n",
      "Index(['Accelerometer1RMS', 'Accelerometer2RMS', 'Current', 'Pressure',\n",
      "       'Temperature', 'Thermocouple', 'Voltage', 'Volume Flow RateRMS',\n",
      "       'anomaly', 'changepoint'],\n",
      "      dtype='object') (1144, 10)\n",
      "Index(['Accelerometer1RMS', 'Accelerometer2RMS', 'Current', 'Pressure',\n",
      "       'Temperature', 'Thermocouple', 'Voltage', 'Volume Flow RateRMS',\n",
      "       'anomaly', 'changepoint'],\n",
      "      dtype='object') (1140, 10)\n",
      "Index(['Accelerometer1RMS', 'Accelerometer2RMS', 'Current', 'Pressure',\n",
      "       'Temperature', 'Thermocouple', 'Voltage', 'Volume Flow RateRMS',\n",
      "       'anomaly', 'changepoint'],\n",
      "      dtype='object') (1148, 10)\n",
      "Index(['Accelerometer1RMS', 'Accelerometer2RMS', 'Current', 'Pressure',\n",
      "       'Temperature', 'Thermocouple', 'Voltage', 'Volume Flow RateRMS',\n",
      "       'anomaly', 'changepoint'],\n",
      "      dtype='object') (1094, 10)\n",
      "Index(['Accelerometer1RMS', 'Accelerometer2RMS', 'Current', 'Pressure',\n",
      "       'Temperature', 'Thermocouple', 'Voltage', 'Volume Flow RateRMS',\n",
      "       'anomaly', 'changepoint'],\n",
      "      dtype='object') (1147, 10)\n",
      "Index(['Accelerometer1RMS', 'Accelerometer2RMS', 'Current', 'Pressure',\n",
      "       'Temperature', 'Thermocouple', 'Voltage', 'Volume Flow RateRMS',\n",
      "       'anomaly', 'changepoint'],\n",
      "      dtype='object') (1150, 10)\n",
      "Index(['Accelerometer1RMS', 'Accelerometer2RMS', 'Current', 'Pressure',\n",
      "       'Temperature', 'Thermocouple', 'Voltage', 'Volume Flow RateRMS',\n",
      "       'anomaly', 'changepoint'],\n",
      "      dtype='object') (1154, 10)\n",
      "Index(['Accelerometer1RMS', 'Accelerometer2RMS', 'Current', 'Pressure',\n",
      "       'Temperature', 'Thermocouple', 'Voltage', 'Volume Flow RateRMS',\n",
      "       'anomaly', 'changepoint'],\n",
      "      dtype='object') (1146, 10)\n",
      "\n",
      "이상치 없는 데이터\n",
      "                     Accelerometer1RMS  Accelerometer2RMS  Current  Pressure  \\\n",
      "datetime                                                                       \n",
      "2020-02-08 13:30:47           0.202394           0.275154  2.16975  0.382638   \n",
      "2020-02-08 13:30:48           0.203153           0.277857  2.07999 -0.273216   \n",
      "2020-02-08 13:30:50           0.202054           0.275790  2.52577  0.382638   \n",
      "2020-02-08 13:30:51           0.203595           0.278101  2.49742  0.054711   \n",
      "2020-02-08 13:30:52           0.201889           0.276363  2.29194  0.710565   \n",
      "...                                ...                ...      ...       ...   \n",
      "2020-02-08 16:16:43           0.225744           0.267921  2.91598  0.054711   \n",
      "2020-02-08 16:16:44           0.205870           0.258370  1.71505  0.710565   \n",
      "2020-02-08 16:16:45           0.219222           0.267244  2.35834 -0.273216   \n",
      "2020-02-08 16:16:46           0.219481           0.271278  2.49108  0.054711   \n",
      "2020-02-08 16:16:47           0.219436           0.270046  2.43108  0.382638   \n",
      "\n",
      "                     Temperature  Thermocouple  Voltage  Volume Flow RateRMS  \n",
      "datetime                                                                      \n",
      "2020-02-08 13:30:47      90.6454       26.8508  238.852              122.664  \n",
      "2020-02-08 13:30:48      90.7978       26.8639  227.943              122.338  \n",
      "2020-02-08 13:30:50      90.7730       26.8603  223.486              121.338  \n",
      "2020-02-08 13:30:51      90.8424       26.8616  244.904              121.664  \n",
      "2020-02-08 13:30:52      90.6664       26.8603  239.196              122.000  \n",
      "...                          ...           ...      ...                  ...  \n",
      "2020-02-08 16:16:43      88.8593       29.3792  219.542              126.000  \n",
      "2020-02-08 16:16:44      89.1754       29.3692  221.862              126.000  \n",
      "2020-02-08 16:16:45      89.1306       29.3674  226.050              126.679  \n",
      "2020-02-08 16:16:46      88.5447       29.3757  226.343              127.000  \n",
      "2020-02-08 16:16:47      89.1161       29.3687  205.473              125.648  \n",
      "\n",
      "[9405 rows x 8 columns]\n",
      "Number of change points : 129\n",
      "Number of outliers : 13067\n"
     ]
    }
   ],
   "source": [
    "print('이상치 포함된 DataFrame {}개'.format(len(list_of_df)))\n",
    "for i in range(len(list_of_df)) : print(list_of_df[i].columns, list_of_df[i].shape)\n",
    "print('\\n이상치 없는 데이터')\n",
    "print(anomaly_free_df)\n",
    "print('Number of change points :',sum([len(df[df.changepoint == 1.0])for df in list_of_df]) )\n",
    "print('Number of outliers :',sum([len(df[df.anomaly == 1.0])for df in list_of_df]) )\n",
    "\n",
    "df = list_of_df[1] #첫번째 데이터 사용!"
   ]
  },
  {
   "cell_type": "code",
   "execution_count": 5,
   "id": "5b88fe35",
   "metadata": {
    "execution": {
     "iopub.execute_input": "2023-02-07T14:38:15.702248Z",
     "iopub.status.busy": "2023-02-07T14:38:15.701826Z",
     "iopub.status.idle": "2023-02-07T14:38:16.095777Z",
     "shell.execute_reply": "2023-02-07T14:38:16.094761Z"
    },
    "papermill": {
     "duration": 0.403901,
     "end_time": "2023-02-07T14:38:16.098694",
     "exception": false,
     "start_time": "2023-02-07T14:38:15.694793",
     "status": "completed"
    },
    "tags": []
   },
   "outputs": [
    {
     "data": {
      "image/png": "[encoded data removed]",
      "text/plain": [
       "<Figure size 864x432 with 1 Axes>"
      ]
     },
     "metadata": {
      "needs_background": "light"
     },
     "output_type": "display_data"
    }
   ],
   "source": [
    "#시각화\n",
    "df.plot(figsize = (12,6))\n",
    "plt.xlabel('Time')\n",
    "plt.ylabel('Value')\n",
    "plt.title('Signals visualization')\n",
    "plt.show()"
   ]
  },
  {
   "cell_type": "code",
   "execution_count": 6,
   "id": "738c32aa",
   "metadata": {
    "execution": {
     "iopub.execute_input": "2023-02-07T14:38:16.115112Z",
     "iopub.status.busy": "2023-02-07T14:38:16.114323Z",
     "iopub.status.idle": "2023-02-07T14:38:16.291507Z",
     "shell.execute_reply": "2023-02-07T14:38:16.290138Z"
    },
    "papermill": {
     "duration": 0.188465,
     "end_time": "2023-02-07T14:38:16.294394",
     "exception": false,
     "start_time": "2023-02-07T14:38:16.105929",
     "status": "completed"
    },
    "tags": []
   },
   "outputs": [
    {
     "data": {
      "image/png": "[encoded data removed]",
      "text/plain": [
       "<Figure size 864x216 with 1 Axes>"
      ]
     },
     "metadata": {
      "needs_background": "light"
     },
     "output_type": "display_data"
    }
   ],
   "source": [
    "#이상치 분포\n",
    "df['anomaly'].plot(figsize = (12,3))\n",
    "df['changepoint'].plot()\n",
    "plt.legend()\n",
    "plt.title('Distribution of Outliers ')\n",
    "plt.show()\n"
   ]
  },
  {
   "cell_type": "markdown",
   "id": "62ae3e17",
   "metadata": {
    "papermill": {
     "duration": 0.006994,
     "end_time": "2023-02-07T14:38:16.308906",
     "exception": false,
     "start_time": "2023-02-07T14:38:16.301912",
     "status": "completed"
    },
    "tags": []
   },
   "source": [
    "* ### Model Pipeline and Preprocessing\n"
   ]
  },
  {
   "cell_type": "code",
   "execution_count": 7,
   "id": "f2c36127",
   "metadata": {
    "execution": {
     "iopub.execute_input": "2023-02-07T14:38:16.325877Z",
     "iopub.status.busy": "2023-02-07T14:38:16.325440Z",
     "iopub.status.idle": "2023-02-07T14:38:16.331971Z",
     "shell.execute_reply": "2023-02-07T14:38:16.330655Z"
    },
    "papermill": {
     "duration": 0.01851,
     "end_time": "2023-02-07T14:38:16.334789",
     "exception": false,
     "start_time": "2023-02-07T14:38:16.316279",
     "status": "completed"
    },
    "tags": []
   },
   "outputs": [],
   "source": [
    "# Random Seed\n",
    "def Random(seed_value):\n",
    "    import os\n",
    "    os.environ['PYTHONHASHSEED'] = str(seed_value)\n",
    "    import random\n",
    "    random.seed(seed_value)\n",
    "    np.random.seed(seed_value)\n",
    "    import tensorflow as tf\n",
    "    tf.random.set_seed(seed_value)"
   ]
  },
  {
   "cell_type": "code",
   "execution_count": 8,
   "id": "e7bc1fcb",
   "metadata": {
    "execution": {
     "iopub.execute_input": "2023-02-07T14:38:16.352164Z",
     "iopub.status.busy": "2023-02-07T14:38:16.351143Z",
     "iopub.status.idle": "2023-02-07T14:38:16.362920Z",
     "shell.execute_reply": "2023-02-07T14:38:16.361875Z"
    },
    "papermill": {
     "duration": 0.02321,
     "end_time": "2023-02-07T14:38:16.365329",
     "exception": false,
     "start_time": "2023-02-07T14:38:16.342119",
     "status": "completed"
    },
    "tags": []
   },
   "outputs": [],
   "source": [
    "#Convolutional AutoEncoder\n",
    "def convae(data):\n",
    "\n",
    "    model = keras.Sequential([ \n",
    "        \n",
    "        layers.Input(shape = (data.shape[1], data.shape[2])),\n",
    "        layers.Conv1D(filters = 32, kernel_size = 7, padding = 'same', strides = 2, activation = 'relu' ),\n",
    "        layers.Conv1D(filters = 16, kernel_size = 7, padding = 'same', strides = 2, activation = 'relu' ),\n",
    "        layers.Conv1DTranspose(filters = 16, kernel_size = 7, padding = 'same', strides = 2, activation = 'relu' ),\n",
    "        layers.Conv1DTranspose(filters = 32, kernel_size = 7, padding = 'same', strides = 2, activation = 'relu' ),\n",
    "        layers.Conv1DTranspose(filters = 8, kernel_size = 7, padding = 'same'),  # shape 일치시키기 위한 layer(오토인코더 구조) \n",
    "    \n",
    "    ])\n",
    "\n",
    "    model.compile(optimizer = keras.optimizers.Adam(learning_rate = 0.001), loss = 'mse')\n",
    "    \n",
    "    model.summary()\n",
    "\n",
    "    # Training\n",
    "    history = model.fit(        \n",
    "        data,\n",
    "        data, # data X instead of Y because it's unsupervised learning\n",
    "        epochs = 100,\n",
    "        batch_size = 32,\n",
    "        verbose = 2,\n",
    "\n",
    "        # early stopping 자동 학습 중단. patience 5번 loss 상승시 중단\n",
    "        callbacks = [\n",
    "            keras.callbacks.EarlyStopping(monitor = 'val_loss', patience = 5, verbose = 0)\n",
    "        ]\n",
    "\n",
    "    )\n",
    "    return history, model"
   ]
  },
  {
   "cell_type": "code",
   "execution_count": 9,
   "id": "f1ac4e53",
   "metadata": {
    "execution": {
     "iopub.execute_input": "2023-02-07T14:38:16.382949Z",
     "iopub.status.busy": "2023-02-07T14:38:16.381814Z",
     "iopub.status.idle": "2023-02-07T14:38:16.393143Z",
     "shell.execute_reply": "2023-02-07T14:38:16.391823Z"
    },
    "papermill": {
     "duration": 0.022996,
     "end_time": "2023-02-07T14:38:16.396106",
     "exception": false,
     "start_time": "2023-02-07T14:38:16.373110",
     "status": "completed"
    },
    "tags": []
   },
   "outputs": [],
   "source": [
    "#Preprocessing\n",
    "X_train = df[:400].drop(columns = ['anomaly','changepoint'], axis = 1) ##0~400번까지 모두 정상데이터이므로 학습데이터로 선정\n",
    "StSc = StandardScaler()\n",
    "X_train_scale = StSc.fit(X_train)   ## Standardization(표준) : train data의 평균, 분산분포를 저장. 추후에 test data에도 똑같이 적용필요\n",
    "X_train_scale = StSc.transform(X_train)\n"
   ]
  },
  {
   "cell_type": "code",
   "execution_count": 10,
   "id": "c9e502de",
   "metadata": {
    "execution": {
     "iopub.execute_input": "2023-02-07T14:38:16.413051Z",
     "iopub.status.busy": "2023-02-07T14:38:16.412566Z",
     "iopub.status.idle": "2023-02-07T14:38:16.424293Z",
     "shell.execute_reply": "2023-02-07T14:38:16.423115Z"
    },
    "papermill": {
     "duration": 0.022982,
     "end_time": "2023-02-07T14:38:16.426750",
     "exception": false,
     "start_time": "2023-02-07T14:38:16.403768",
     "status": "completed"
    },
    "tags": []
   },
   "outputs": [
    {
     "data": {
      "text/plain": [
       "(341, 60, 8)"
      ]
     },
     "execution_count": 10,
     "metadata": {},
     "output_type": "execute_result"
    }
   ],
   "source": [
    "# sequence를 고려한 전처리\n",
    "# 데이터를 임의의 sequence 묶음\n",
    "def create_sequences(data, time_steps = 60):\n",
    "    out = []\n",
    "    for i in range(len(data) - time_steps + 1):\n",
    "        out.append(data[i : (i + time_steps)])\n",
    "    return np.stack(out)\n",
    "\n",
    "X_train_seq = create_sequences(X_train_scale,60) #400의 정상데이터를 60개의 묶음으로 1씩 shift 하며 묶음 -> 341개 생성\n",
    "X_train_seq.shape "
   ]
  },
  {
   "cell_type": "code",
   "execution_count": 11,
   "id": "d23dc3bb",
   "metadata": {
    "execution": {
     "iopub.execute_input": "2023-02-07T14:38:16.443458Z",
     "iopub.status.busy": "2023-02-07T14:38:16.442978Z",
     "iopub.status.idle": "2023-02-07T14:38:25.161525Z",
     "shell.execute_reply": "2023-02-07T14:38:25.160059Z"
    },
    "papermill": {
     "duration": 8.730254,
     "end_time": "2023-02-07T14:38:25.164457",
     "exception": false,
     "start_time": "2023-02-07T14:38:16.434203",
     "status": "completed"
    },
    "tags": []
   },
   "outputs": [
    {
     "name": "stderr",
     "output_type": "stream",
     "text": [
      "2023-02-07 14:38:16.498139: I tensorflow/core/common_runtime/process_util.cc:146] Creating new thread pool with default inter op setting: 2. Tune using inter_op_parallelism_threads for best performance.\n"
     ]
    },
    {
     "name": "stdout",
     "output_type": "stream",
     "text": [
      "Model: \"sequential\"\n",
      "_________________________________________________________________\n",
      "Layer (type)                 Output Shape              Param #   \n",
      "=================================================================\n",
      "conv1d (Conv1D)              (None, 30, 32)            1824      \n",
      "_________________________________________________________________\n",
      "conv1d_1 (Conv1D)            (None, 15, 16)            3600      \n",
      "_________________________________________________________________\n",
      "conv1d_transpose (Conv1DTran (None, 30, 16)            1808      \n",
      "_________________________________________________________________\n",
      "conv1d_transpose_1 (Conv1DTr (None, 60, 32)            3616      \n",
      "_________________________________________________________________\n",
      "conv1d_transpose_2 (Conv1DTr (None, 60, 8)             1800      \n",
      "=================================================================\n",
      "Total params: 12,648\n",
      "Trainable params: 12,648\n",
      "Non-trainable params: 0\n",
      "_________________________________________________________________\n",
      "Epoch 1/100\n"
     ]
    },
    {
     "name": "stderr",
     "output_type": "stream",
     "text": [
      "2023-02-07 14:38:16.744957: I tensorflow/compiler/mlir/mlir_graph_optimization_pass.cc:185] None of the MLIR Optimization Passes are enabled (registered 2)\n"
     ]
    },
    {
     "name": "stdout",
     "output_type": "stream",
     "text": [
      "11/11 - 1s - loss: 0.9347\n",
      "Epoch 2/100\n",
      "11/11 - 0s - loss: 0.8228\n",
      "Epoch 3/100\n",
      "11/11 - 0s - loss: 0.7206\n",
      "Epoch 4/100\n",
      "11/11 - 0s - loss: 0.6672\n",
      "Epoch 5/100\n",
      "11/11 - 0s - loss: 0.6206\n",
      "Epoch 6/100\n",
      "11/11 - 0s - loss: 0.5796\n",
      "Epoch 7/100\n",
      "11/11 - 0s - loss: 0.5403\n",
      "Epoch 8/100\n",
      "11/11 - 0s - loss: 0.5050\n",
      "Epoch 9/100\n",
      "11/11 - 0s - loss: 0.4702\n",
      "Epoch 10/100\n",
      "11/11 - 0s - loss: 0.4378\n",
      "Epoch 11/100\n",
      "11/11 - 0s - loss: 0.4094\n",
      "Epoch 12/100\n",
      "11/11 - 0s - loss: 0.3851\n",
      "Epoch 13/100\n",
      "11/11 - 0s - loss: 0.3645\n",
      "Epoch 14/100\n",
      "11/11 - 0s - loss: 0.3462\n",
      "Epoch 15/100\n",
      "11/11 - 0s - loss: 0.3303\n",
      "Epoch 16/100\n",
      "11/11 - 0s - loss: 0.3158\n",
      "Epoch 17/100\n",
      "11/11 - 0s - loss: 0.3023\n",
      "Epoch 18/100\n",
      "11/11 - 0s - loss: 0.2899\n",
      "Epoch 19/100\n",
      "11/11 - 0s - loss: 0.2786\n",
      "Epoch 20/100\n",
      "11/11 - 0s - loss: 0.2681\n",
      "Epoch 21/100\n",
      "11/11 - 0s - loss: 0.2591\n",
      "Epoch 22/100\n",
      "11/11 - 0s - loss: 0.2503\n",
      "Epoch 23/100\n",
      "11/11 - 0s - loss: 0.2426\n",
      "Epoch 24/100\n",
      "11/11 - 0s - loss: 0.2358\n",
      "Epoch 25/100\n",
      "11/11 - 0s - loss: 0.2293\n",
      "Epoch 26/100\n",
      "11/11 - 0s - loss: 0.2242\n",
      "Epoch 27/100\n",
      "11/11 - 0s - loss: 0.2184\n",
      "Epoch 28/100\n",
      "11/11 - 0s - loss: 0.2135\n",
      "Epoch 29/100\n",
      "11/11 - 0s - loss: 0.2083\n",
      "Epoch 30/100\n",
      "11/11 - 0s - loss: 0.2035\n",
      "Epoch 31/100\n",
      "11/11 - 0s - loss: 0.1994\n",
      "Epoch 32/100\n",
      "11/11 - 0s - loss: 0.1953\n",
      "Epoch 33/100\n",
      "11/11 - 0s - loss: 0.1927\n",
      "Epoch 34/100\n",
      "11/11 - 0s - loss: 0.1884\n",
      "Epoch 35/100\n",
      "11/11 - 0s - loss: 0.1855\n",
      "Epoch 36/100\n",
      "11/11 - 0s - loss: 0.1823\n",
      "Epoch 37/100\n",
      "11/11 - 0s - loss: 0.1786\n",
      "Epoch 38/100\n",
      "11/11 - 0s - loss: 0.1754\n",
      "Epoch 39/100\n",
      "11/11 - 0s - loss: 0.1727\n",
      "Epoch 40/100\n",
      "11/11 - 0s - loss: 0.1700\n",
      "Epoch 41/100\n",
      "11/11 - 0s - loss: 0.1676\n",
      "Epoch 42/100\n",
      "11/11 - 0s - loss: 0.1652\n",
      "Epoch 43/100\n",
      "11/11 - 0s - loss: 0.1630\n",
      "Epoch 44/100\n",
      "11/11 - 0s - loss: 0.1604\n",
      "Epoch 45/100\n",
      "11/11 - 0s - loss: 0.1582\n",
      "Epoch 46/100\n",
      "11/11 - 0s - loss: 0.1562\n",
      "Epoch 47/100\n",
      "11/11 - 0s - loss: 0.1546\n",
      "Epoch 48/100\n",
      "11/11 - 0s - loss: 0.1535\n",
      "Epoch 49/100\n",
      "11/11 - 0s - loss: 0.1512\n",
      "Epoch 50/100\n",
      "11/11 - 0s - loss: 0.1492\n",
      "Epoch 51/100\n",
      "11/11 - 0s - loss: 0.1470\n",
      "Epoch 52/100\n",
      "11/11 - 0s - loss: 0.1451\n",
      "Epoch 53/100\n",
      "11/11 - 0s - loss: 0.1433\n",
      "Epoch 54/100\n",
      "11/11 - 0s - loss: 0.1420\n",
      "Epoch 55/100\n",
      "11/11 - 0s - loss: 0.1409\n",
      "Epoch 56/100\n",
      "11/11 - 0s - loss: 0.1392\n",
      "Epoch 57/100\n",
      "11/11 - 0s - loss: 0.1372\n",
      "Epoch 58/100\n",
      "11/11 - 0s - loss: 0.1358\n",
      "Epoch 59/100\n",
      "11/11 - 0s - loss: 0.1345\n",
      "Epoch 60/100\n",
      "11/11 - 0s - loss: 0.1332\n",
      "Epoch 61/100\n",
      "11/11 - 0s - loss: 0.1321\n",
      "Epoch 62/100\n",
      "11/11 - 0s - loss: 0.1310\n",
      "Epoch 63/100\n",
      "11/11 - 0s - loss: 0.1295\n",
      "Epoch 64/100\n",
      "11/11 - 0s - loss: 0.1290\n",
      "Epoch 65/100\n",
      "11/11 - 0s - loss: 0.1276\n",
      "Epoch 66/100\n",
      "11/11 - 0s - loss: 0.1266\n",
      "Epoch 67/100\n",
      "11/11 - 0s - loss: 0.1257\n",
      "Epoch 68/100\n",
      "11/11 - 0s - loss: 0.1243\n",
      "Epoch 69/100\n",
      "11/11 - 0s - loss: 0.1237\n",
      "Epoch 70/100\n",
      "11/11 - 0s - loss: 0.1222\n",
      "Epoch 71/100\n",
      "11/11 - 0s - loss: 0.1212\n",
      "Epoch 72/100\n",
      "11/11 - 0s - loss: 0.1205\n",
      "Epoch 73/100\n",
      "11/11 - 0s - loss: 0.1197\n",
      "Epoch 74/100\n",
      "11/11 - 0s - loss: 0.1188\n",
      "Epoch 75/100\n",
      "11/11 - 0s - loss: 0.1177\n",
      "Epoch 76/100\n",
      "11/11 - 0s - loss: 0.1171\n",
      "Epoch 77/100\n",
      "11/11 - 0s - loss: 0.1164\n",
      "Epoch 78/100\n",
      "11/11 - 0s - loss: 0.1152\n",
      "Epoch 79/100\n",
      "11/11 - 0s - loss: 0.1145\n",
      "Epoch 80/100\n",
      "11/11 - 0s - loss: 0.1136\n",
      "Epoch 81/100\n",
      "11/11 - 0s - loss: 0.1130\n",
      "Epoch 82/100\n",
      "11/11 - 0s - loss: 0.1122\n",
      "Epoch 83/100\n",
      "11/11 - 0s - loss: 0.1115\n",
      "Epoch 84/100\n",
      "11/11 - 0s - loss: 0.1108\n",
      "Epoch 85/100\n",
      "11/11 - 0s - loss: 0.1102\n",
      "Epoch 86/100\n",
      "11/11 - 0s - loss: 0.1099\n",
      "Epoch 87/100\n",
      "11/11 - 0s - loss: 0.1090\n",
      "Epoch 88/100\n",
      "11/11 - 0s - loss: 0.1087\n",
      "Epoch 89/100\n",
      "11/11 - 0s - loss: 0.1082\n",
      "Epoch 90/100\n",
      "11/11 - 0s - loss: 0.1072\n",
      "Epoch 91/100\n",
      "11/11 - 0s - loss: 0.1066\n",
      "Epoch 92/100\n",
      "11/11 - 0s - loss: 0.1059\n",
      "Epoch 93/100\n",
      "11/11 - 0s - loss: 0.1054\n",
      "Epoch 94/100\n",
      "11/11 - 0s - loss: 0.1050\n",
      "Epoch 95/100\n",
      "11/11 - 0s - loss: 0.1044\n",
      "Epoch 96/100\n",
      "11/11 - 0s - loss: 0.1038\n",
      "Epoch 97/100\n",
      "11/11 - 0s - loss: 0.1033\n",
      "Epoch 98/100\n",
      "11/11 - 0s - loss: 0.1030\n",
      "Epoch 99/100\n",
      "11/11 - 0s - loss: 0.1030\n",
      "Epoch 100/100\n",
      "11/11 - 0s - loss: 0.1021\n"
     ]
    }
   ],
   "source": [
    "history, model = convae(X_train_seq)"
   ]
  },
  {
   "cell_type": "markdown",
   "id": "dcb49b8b",
   "metadata": {
    "papermill": {
     "duration": 0.019172,
     "end_time": "2023-02-07T14:38:25.204094",
     "exception": false,
     "start_time": "2023-02-07T14:38:25.184922",
     "status": "completed"
    },
    "tags": []
   },
   "source": [
    "* ### Anomaly Scoring & Result"
   ]
  },
  {
   "cell_type": "code",
   "execution_count": 12,
   "id": "5cce5142",
   "metadata": {
    "execution": {
     "iopub.execute_input": "2023-02-07T14:38:25.244920Z",
     "iopub.status.busy": "2023-02-07T14:38:25.244279Z",
     "iopub.status.idle": "2023-02-07T14:38:25.689332Z",
     "shell.execute_reply": "2023-02-07T14:38:25.688128Z"
    },
    "papermill": {
     "duration": 0.471795,
     "end_time": "2023-02-07T14:38:25.694912",
     "exception": false,
     "start_time": "2023-02-07T14:38:25.223117",
     "status": "completed"
    },
    "tags": []
   },
   "outputs": [
    {
     "data": {
      "image/png": "[encoded data removed]",
      "text/plain": [
       "<Figure size 432x288 with 1 Axes>"
      ]
     },
     "metadata": {
      "needs_background": "light"
     },
     "output_type": "display_data"
    }
   ],
   "source": [
    "residuals = pd.Series(np.sum(np.mean(np.abs(X_train_seq - model.predict(X_train_seq)), axis = 1), axis = 1)) # input data와 reconstructed input의 차이값\n",
    "ucl = residuals.quantile(0.999) # 차이값의 전체 분포에서 상위 99.9%지점을 upper control limit으로 지정\n",
    "plt.plot(residuals) ## value gap between input VS reconstructed input for anomaly-free data\n",
    "plt.show()"
   ]
  },
  {
   "cell_type": "code",
   "execution_count": 13,
   "id": "e6c4e2c1",
   "metadata": {
    "execution": {
     "iopub.execute_input": "2023-02-07T14:38:25.740266Z",
     "iopub.status.busy": "2023-02-07T14:38:25.739783Z",
     "iopub.status.idle": "2023-02-07T14:38:26.235667Z",
     "shell.execute_reply": "2023-02-07T14:38:26.234300Z"
    },
    "papermill": {
     "duration": 0.520108,
     "end_time": "2023-02-07T14:38:26.238504",
     "exception": false,
     "start_time": "2023-02-07T14:38:25.718396",
     "status": "completed"
    },
    "tags": []
   },
   "outputs": [
    {
     "data": {
      "text/plain": [
       "[<matplotlib.lines.Line2D at 0x7fc4bdf63a10>]"
      ]
     },
     "execution_count": 13,
     "metadata": {},
     "output_type": "execute_result"
    },
    {
     "data": {
      "image/png": "[encoded data removed]",
      "text/plain": [
       "<Figure size 1080x360 with 2 Axes>"
      ]
     },
     "metadata": {
      "needs_background": "light"
     },
     "output_type": "display_data"
    }
   ],
   "source": [
    "X_test_sc = StSc.transform(df.drop(columns = ['anomaly','changepoint']))  #400번째 이후 이상치 데이터 모두 포함하여 test data 지정\n",
    "X_test_seq = create_sequences(X_test_sc)\n",
    "test_residuals = pd.Series(np.sum(np.mean(np.abs(X_test_seq - model.predict(X_test_seq)), axis = 1), axis = 1))\n",
    "plt.figure(figsize = (15,5))\n",
    "plt.subplot(1,2,1)\n",
    "plt.plot(test_residuals)\n",
    "plt.axhline(y = ucl * 1.5 , xmin = 0, xmax=len(X_train_seq))  # upper control limit 의 1.5배를 Threshold 로 설정\n",
    "plt.subplot(1,2,2)\n",
    "plt.plot(df['anomaly'].values)"
   ]
  },
  {
   "cell_type": "code",
   "execution_count": 14,
   "id": "4c7c1dba",
   "metadata": {
    "execution": {
     "iopub.execute_input": "2023-02-07T14:38:26.282059Z",
     "iopub.status.busy": "2023-02-07T14:38:26.281620Z",
     "iopub.status.idle": "2023-02-07T14:38:26.361346Z",
     "shell.execute_reply": "2023-02-07T14:38:26.359853Z"
    },
    "papermill": {
     "duration": 0.104374,
     "end_time": "2023-02-07T14:38:26.364123",
     "exception": false,
     "start_time": "2023-02-07T14:38:26.259749",
     "status": "completed"
    },
    "tags": []
   },
   "outputs": [],
   "source": [
    "# 비교를 위해 label값을 time 단위로 변경\n",
    "N_STEPS = 60\n",
    "anomalous_data = test_residuals > ucl * 1.5\n",
    "\n",
    "anomalous_data_indices = []\n",
    "for data_idx in range(N_STEPS - 1, len(X_test_seq) - N_STEPS + 1):\n",
    "    if np.all(anomalous_data[data_idx - N_STEPS + 1 : data_idx]):\n",
    "        anomalous_data_indices.append(data_idx)\n",
    "    "
   ]
  },
  {
   "cell_type": "code",
   "execution_count": 15,
   "id": "74bb875b",
   "metadata": {
    "execution": {
     "iopub.execute_input": "2023-02-07T14:38:26.409648Z",
     "iopub.status.busy": "2023-02-07T14:38:26.409086Z",
     "iopub.status.idle": "2023-02-07T14:38:26.565143Z",
     "shell.execute_reply": "2023-02-07T14:38:26.563847Z"
    },
    "papermill": {
     "duration": 0.183603,
     "end_time": "2023-02-07T14:38:26.567749",
     "exception": false,
     "start_time": "2023-02-07T14:38:26.384146",
     "status": "completed"
    },
    "tags": []
   },
   "outputs": [
    {
     "data": {
      "image/png": "[encoded data removed]",
      "text/plain": [
       "<Figure size 432x288 with 1 Axes>"
      ]
     },
     "metadata": {
      "needs_background": "light"
     },
     "output_type": "display_data"
    }
   ],
   "source": [
    "prediction = pd.Series(data = 0, index = df.index)\n",
    "prediction.iloc[anomalous_data_indices] = 1\n",
    "\n",
    "plt.plot(prediction.values, label = 'pred')\n",
    "plt.plot(df['anomaly'].values, label = 'label')\n",
    "plt.legend()\n",
    "plt.show()"
   ]
  }
 ],
 "metadata": {
  "kernelspec": {
   "display_name": "Python 3",
   "language": "python",
   "name": "python3"
  },
  "language_info": {
   "codemirror_mode": {
    "name": "ipython",
    "version": 3
   },
   "file_extension": ".py",
   "mimetype": "text/x-python",
   "name": "python",
   "nbconvert_exporter": "python",
   "pygments_lexer": "ipython3",
   "version": "3.7.12"
  },
  "papermill": {
   "default_parameters": {},
   "duration": 31.212465,
   "end_time": "2023-02-07T14:38:29.246920",
   "environment_variables": {},
   "exception": null,
   "input_path": "__notebook__.ipynb",
   "output_path": "__notebook__.ipynb",
   "parameters": {},
   "start_time": "2023-02-07T14:37:58.034455",
   "version": "2.3.4"
  }
 },
 "nbformat": 4,
 "nbformat_minor": 5
}
