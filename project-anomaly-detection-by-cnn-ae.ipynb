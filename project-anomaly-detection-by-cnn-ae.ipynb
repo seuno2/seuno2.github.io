{
 "cells": [
  {
   "cell_type": "code",
   "execution_count": 1,
   "id": "2bf6f3bc",
   "metadata": {
    "_cell_guid": "b1076dfc-b9ad-4769-8c92-a6c4dae69d19",
    "_uuid": "8f2839f25d086af736a60e9eeb907d3b93b6e0e5",
    "execution": {
     "iopub.execute_input": "2023-01-08T10:55:56.837001Z",
     "iopub.status.busy": "2023-01-08T10:55:56.836613Z",
     "iopub.status.idle": "2023-01-08T10:55:56.892684Z",
     "shell.execute_reply": "2023-01-08T10:55:56.891567Z"
    },
    "papermill": {
     "duration": 0.067797,
     "end_time": "2023-01-08T10:55:56.895186",
     "exception": false,
     "start_time": "2023-01-08T10:55:56.827389",
     "status": "completed"
    },
    "tags": []
   },
   "outputs": [
    {
     "name": "stdout",
     "output_type": "stream",
     "text": [
      "/kaggle/input/skab-anomaly-detection/SKAB-master/LICENSE\n",
      "/kaggle/input/skab-anomaly-detection/SKAB-master/.gitignore\n",
      "/kaggle/input/skab-anomaly-detection/SKAB-master/README.md\n",
      "/kaggle/input/skab-anomaly-detection/SKAB-master/utils/t2.py\n",
      "/kaggle/input/skab-anomaly-detection/SKAB-master/utils/__init__.py\n",
      "/kaggle/input/skab-anomaly-detection/SKAB-master/docs/contributing.md\n",
      "/kaggle/input/skab-anomaly-detection/SKAB-master/docs/pictures/skab.png\n",
      "/kaggle/input/skab-anomaly-detection/SKAB-master/docs/pictures/testbed.png\n",
      "/kaggle/input/skab-anomaly-detection/SKAB-master/docs/pictures/nab-metric.jpg\n",
      "/kaggle/input/skab-anomaly-detection/SKAB-master/notebooks/hotelling_q.ipynb\n",
      "/kaggle/input/skab-anomaly-detection/SKAB-master/notebooks/mscred.ipynb\n",
      "/kaggle/input/skab-anomaly-detection/SKAB-master/notebooks/isolation_forest.ipynb\n",
      "/kaggle/input/skab-anomaly-detection/SKAB-master/notebooks/VAE.ipynb\n",
      "/kaggle/input/skab-anomaly-detection/SKAB-master/notebooks/LSTM-AE.ipynb\n",
      "/kaggle/input/skab-anomaly-detection/SKAB-master/notebooks/LSTM-VAE.ipynb\n",
      "/kaggle/input/skab-anomaly-detection/SKAB-master/notebooks/EDA.ipynb\n",
      "/kaggle/input/skab-anomaly-detection/SKAB-master/notebooks/README.md\n",
      "/kaggle/input/skab-anomaly-detection/SKAB-master/notebooks/hotelling.ipynb\n",
      "/kaggle/input/skab-anomaly-detection/SKAB-master/notebooks/autoencoder.ipynb\n",
      "/kaggle/input/skab-anomaly-detection/SKAB-master/notebooks/lstm.ipynb\n",
      "/kaggle/input/skab-anomaly-detection/SKAB-master/notebooks/Conv-AE.ipynb\n",
      "/kaggle/input/skab-anomaly-detection/SKAB-master/notebooks/requirements.txt\n",
      "/kaggle/input/skab-anomaly-detection/SKAB-master/notebooks/ArimaFD.ipynb\n",
      "/kaggle/input/skab-anomaly-detection/SKAB-master/notebooks/MSET.ipynb\n",
      "/kaggle/input/skab-anomaly-detection/SKAB-master/data/README.md\n",
      "/kaggle/input/skab-anomaly-detection/SKAB-master/data/Load data.ipynb\n",
      "/kaggle/input/skab-anomaly-detection/SKAB-master/data/valve2/1.csv\n",
      "/kaggle/input/skab-anomaly-detection/SKAB-master/data/valve2/3.csv\n",
      "/kaggle/input/skab-anomaly-detection/SKAB-master/data/valve2/2.csv\n",
      "/kaggle/input/skab-anomaly-detection/SKAB-master/data/valve2/0.csv\n",
      "/kaggle/input/skab-anomaly-detection/SKAB-master/data/other/1.csv\n",
      "/kaggle/input/skab-anomaly-detection/SKAB-master/data/other/11.csv\n",
      "/kaggle/input/skab-anomaly-detection/SKAB-master/data/other/3.csv\n",
      "/kaggle/input/skab-anomaly-detection/SKAB-master/data/other/5.csv\n",
      "/kaggle/input/skab-anomaly-detection/SKAB-master/data/other/2.csv\n",
      "/kaggle/input/skab-anomaly-detection/SKAB-master/data/other/13.csv\n",
      "/kaggle/input/skab-anomaly-detection/SKAB-master/data/other/14.csv\n",
      "/kaggle/input/skab-anomaly-detection/SKAB-master/data/other/4.csv\n",
      "/kaggle/input/skab-anomaly-detection/SKAB-master/data/other/8.csv\n",
      "/kaggle/input/skab-anomaly-detection/SKAB-master/data/other/12.csv\n",
      "/kaggle/input/skab-anomaly-detection/SKAB-master/data/other/9.csv\n",
      "/kaggle/input/skab-anomaly-detection/SKAB-master/data/other/7.csv\n",
      "/kaggle/input/skab-anomaly-detection/SKAB-master/data/other/6.csv\n",
      "/kaggle/input/skab-anomaly-detection/SKAB-master/data/other/10.csv\n",
      "/kaggle/input/skab-anomaly-detection/SKAB-master/data/valve1/1.csv\n",
      "/kaggle/input/skab-anomaly-detection/SKAB-master/data/valve1/11.csv\n",
      "/kaggle/input/skab-anomaly-detection/SKAB-master/data/valve1/3.csv\n",
      "/kaggle/input/skab-anomaly-detection/SKAB-master/data/valve1/5.csv\n",
      "/kaggle/input/skab-anomaly-detection/SKAB-master/data/valve1/2.csv\n",
      "/kaggle/input/skab-anomaly-detection/SKAB-master/data/valve1/13.csv\n",
      "/kaggle/input/skab-anomaly-detection/SKAB-master/data/valve1/14.csv\n",
      "/kaggle/input/skab-anomaly-detection/SKAB-master/data/valve1/4.csv\n",
      "/kaggle/input/skab-anomaly-detection/SKAB-master/data/valve1/8.csv\n",
      "/kaggle/input/skab-anomaly-detection/SKAB-master/data/valve1/12.csv\n",
      "/kaggle/input/skab-anomaly-detection/SKAB-master/data/valve1/9.csv\n",
      "/kaggle/input/skab-anomaly-detection/SKAB-master/data/valve1/7.csv\n",
      "/kaggle/input/skab-anomaly-detection/SKAB-master/data/valve1/0.csv\n",
      "/kaggle/input/skab-anomaly-detection/SKAB-master/data/valve1/15.csv\n",
      "/kaggle/input/skab-anomaly-detection/SKAB-master/data/valve1/6.csv\n",
      "/kaggle/input/skab-anomaly-detection/SKAB-master/data/valve1/10.csv\n",
      "/kaggle/input/skab-anomaly-detection/SKAB-master/data/anomaly-free/anomaly-free.csv\n"
     ]
    }
   ],
   "source": [
    "# This Python 3 environment comes with many helpful analytics libraries installed\n",
    "# It is defined by the kaggle/python Docker image: https://github.com/kaggle/docker-python\n",
    "# For example, here's several helpful packages to load\n",
    "\n",
    "import numpy as np # linear algebra\n",
    "import pandas as pd # data processing, CSV file I/O (e.g. pd.read_csv)\n",
    "\n",
    "\n",
    "# Input data files are available in the read-only \"../input/\" directory\n",
    "# For example, running this (by clicking run or pressing Shift+Enter) will list all files under the input directory\n",
    "\n",
    "import os\n",
    "for dirname, _, filenames in os.walk('/kaggle/input'):\n",
    "    for filename in filenames:\n",
    "        print(os.path.join(dirname, filename))\n",
    "\n",
    "# You can write up to 20GB to the current directory (/kaggle/working/) that gets preserved as output when you create a version using \"Save & Run All\" \n",
    "# You can also write temporary files to /kaggle/temp/, but they won't be saved outside of the current session"
   ]
  },
  {
   "cell_type": "markdown",
   "id": "4093218e",
   "metadata": {
    "papermill": {
     "duration": 0.00635,
     "end_time": "2023-01-08T10:55:56.908422",
     "exception": false,
     "start_time": "2023-01-08T10:55:56.902072",
     "status": "completed"
    },
    "tags": []
   },
   "source": [
    "# Introductory Summary\n",
    "\n",
    "1. Dataset : SKAB\n",
    "\n",
    "2. Sturcture : Input - 1D Conv - 1D Conv - 1D DeConv - 1D DeConv - 1D DeConv - Recontructed Input\n",
    "\n",
    "3. Activation Function : ReLU\n",
    "\n",
    "4. Framework : Keras\n",
    "\n"
   ]
  },
  {
   "cell_type": "code",
   "execution_count": 2,
   "id": "babad64e",
   "metadata": {
    "execution": {
     "iopub.execute_input": "2023-01-08T10:55:56.923805Z",
     "iopub.status.busy": "2023-01-08T10:55:56.923410Z",
     "iopub.status.idle": "2023-01-08T10:55:56.927618Z",
     "shell.execute_reply": "2023-01-08T10:55:56.926800Z"
    },
    "papermill": {
     "duration": 0.014148,
     "end_time": "2023-01-08T10:55:56.929396",
     "exception": false,
     "start_time": "2023-01-08T10:55:56.915248",
     "status": "completed"
    },
    "tags": []
   },
   "outputs": [],
   "source": [
    "import pandas as pd\n",
    "import matplotlib.pyplot as plt\n",
    "import os"
   ]
  },
  {
   "cell_type": "code",
   "execution_count": 3,
   "id": "0ee51831",
   "metadata": {
    "execution": {
     "iopub.execute_input": "2023-01-08T10:55:56.944185Z",
     "iopub.status.busy": "2023-01-08T10:55:56.943862Z",
     "iopub.status.idle": "2023-01-08T10:55:56.950769Z",
     "shell.execute_reply": "2023-01-08T10:55:56.949979Z"
    },
    "papermill": {
     "duration": 0.016185,
     "end_time": "2023-01-08T10:55:56.952418",
     "exception": false,
     "start_time": "2023-01-08T10:55:56.936233",
     "status": "completed"
    },
    "tags": []
   },
   "outputs": [
    {
     "data": {
      "text/plain": [
       "<generator object walk at 0x7fcbb554d050>"
      ]
     },
     "execution_count": 3,
     "metadata": {},
     "output_type": "execute_result"
    }
   ],
   "source": [
    "#경로 마지막에 /data 폴더 추가\n",
    "os.walk('/kaggle/input/skab-anomaly-detection/SKAB-master/data/')"
   ]
  },
  {
   "cell_type": "code",
   "execution_count": 4,
   "id": "2d5d273b",
   "metadata": {
    "execution": {
     "iopub.execute_input": "2023-01-08T10:55:56.967647Z",
     "iopub.status.busy": "2023-01-08T10:55:56.967287Z",
     "iopub.status.idle": "2023-01-08T10:55:56.975227Z",
     "shell.execute_reply": "2023-01-08T10:55:56.973925Z"
    },
    "papermill": {
     "duration": 0.017712,
     "end_time": "2023-01-08T10:55:56.977124",
     "exception": false,
     "start_time": "2023-01-08T10:55:56.959412",
     "status": "completed"
    },
    "tags": []
   },
   "outputs": [
    {
     "data": {
      "text/plain": [
       "('/kaggle/input/skab-anomaly-detection/SKAB-master/data/',\n",
       " ['valve2', 'other', 'valve1', 'anomaly-free'],\n",
       " ['README.md', 'Load data.ipynb'])"
      ]
     },
     "execution_count": 4,
     "metadata": {},
     "output_type": "execute_result"
    }
   ],
   "source": [
    "list(os.walk('/kaggle/input/skab-anomaly-detection/SKAB-master/data/'))[0]"
   ]
  },
  {
   "cell_type": "code",
   "execution_count": 5,
   "id": "cbbf0979",
   "metadata": {
    "execution": {
     "iopub.execute_input": "2023-01-08T10:55:56.993966Z",
     "iopub.status.busy": "2023-01-08T10:55:56.993614Z",
     "iopub.status.idle": "2023-01-08T10:55:57.000359Z",
     "shell.execute_reply": "2023-01-08T10:55:56.999795Z"
    },
    "papermill": {
     "duration": 0.016264,
     "end_time": "2023-01-08T10:55:57.001844",
     "exception": false,
     "start_time": "2023-01-08T10:55:56.985580",
     "status": "completed"
    },
    "tags": []
   },
   "outputs": [
    {
     "data": {
      "text/plain": [
       "('/kaggle/input/skab-anomaly-detection/SKAB-master/data/valve2',\n",
       " [],\n",
       " ['1.csv', '3.csv', '2.csv', '0.csv'])"
      ]
     },
     "execution_count": 5,
     "metadata": {},
     "output_type": "execute_result"
    }
   ],
   "source": [
    "list(os.walk('/kaggle/input/skab-anomaly-detection/SKAB-master/data/'))[1]"
   ]
  },
  {
   "cell_type": "code",
   "execution_count": 6,
   "id": "651ae418",
   "metadata": {
    "execution": {
     "iopub.execute_input": "2023-01-08T10:55:57.016601Z",
     "iopub.status.busy": "2023-01-08T10:55:57.016097Z",
     "iopub.status.idle": "2023-01-08T10:55:57.023545Z",
     "shell.execute_reply": "2023-01-08T10:55:57.022637Z"
    },
    "papermill": {
     "duration": 0.016639,
     "end_time": "2023-01-08T10:55:57.025203",
     "exception": false,
     "start_time": "2023-01-08T10:55:57.008564",
     "status": "completed"
    },
    "tags": []
   },
   "outputs": [
    {
     "data": {
      "text/plain": [
       "('/kaggle/input/skab-anomaly-detection/SKAB-master/data/anomaly-free',\n",
       " [],\n",
       " ['anomaly-free.csv'])"
      ]
     },
     "execution_count": 6,
     "metadata": {},
     "output_type": "execute_result"
    }
   ],
   "source": [
    "list(os.walk('/kaggle/input/skab-anomaly-detection/SKAB-master/data/'))[4]"
   ]
  },
  {
   "cell_type": "code",
   "execution_count": 7,
   "id": "8ea25931",
   "metadata": {
    "execution": {
     "iopub.execute_input": "2023-01-08T10:55:57.040405Z",
     "iopub.status.busy": "2023-01-08T10:55:57.040087Z",
     "iopub.status.idle": "2023-01-08T10:55:57.051829Z",
     "shell.execute_reply": "2023-01-08T10:55:57.050775Z"
    },
    "papermill": {
     "duration": 0.022111,
     "end_time": "2023-01-08T10:55:57.054197",
     "exception": false,
     "start_time": "2023-01-08T10:55:57.032086",
     "status": "completed"
    },
    "tags": []
   },
   "outputs": [],
   "source": [
    "# make a list(all_files) of csv files\n",
    "# search the all dirs,files for every root(Top-Down approach)\n",
    "\n",
    "all_files =[]\n",
    "for root, dirs, files in os.walk('/kaggle/input/skab-anomaly-detection/SKAB-master/data/'):\n",
    "    for file in files:\n",
    "        if file.endswith('.csv'):\n",
    "            all_files.append(os.path.join(root,file))\n",
    "        "
   ]
  },
  {
   "cell_type": "code",
   "execution_count": 8,
   "id": "92d75bd8",
   "metadata": {
    "execution": {
     "iopub.execute_input": "2023-01-08T10:55:57.070644Z",
     "iopub.status.busy": "2023-01-08T10:55:57.070271Z",
     "iopub.status.idle": "2023-01-08T10:55:57.076606Z",
     "shell.execute_reply": "2023-01-08T10:55:57.075471Z"
    },
    "papermill": {
     "duration": 0.016759,
     "end_time": "2023-01-08T10:55:57.078479",
     "exception": false,
     "start_time": "2023-01-08T10:55:57.061720",
     "status": "completed"
    },
    "tags": []
   },
   "outputs": [
    {
     "data": {
      "text/plain": [
       "['/kaggle/input/skab-anomaly-detection/SKAB-master/data/valve2/1.csv',\n",
       " '/kaggle/input/skab-anomaly-detection/SKAB-master/data/valve2/3.csv',\n",
       " '/kaggle/input/skab-anomaly-detection/SKAB-master/data/valve2/2.csv',\n",
       " '/kaggle/input/skab-anomaly-detection/SKAB-master/data/valve2/0.csv',\n",
       " '/kaggle/input/skab-anomaly-detection/SKAB-master/data/other/1.csv',\n",
       " '/kaggle/input/skab-anomaly-detection/SKAB-master/data/other/11.csv',\n",
       " '/kaggle/input/skab-anomaly-detection/SKAB-master/data/other/3.csv',\n",
       " '/kaggle/input/skab-anomaly-detection/SKAB-master/data/other/5.csv',\n",
       " '/kaggle/input/skab-anomaly-detection/SKAB-master/data/other/2.csv',\n",
       " '/kaggle/input/skab-anomaly-detection/SKAB-master/data/other/13.csv',\n",
       " '/kaggle/input/skab-anomaly-detection/SKAB-master/data/other/14.csv',\n",
       " '/kaggle/input/skab-anomaly-detection/SKAB-master/data/other/4.csv',\n",
       " '/kaggle/input/skab-anomaly-detection/SKAB-master/data/other/8.csv',\n",
       " '/kaggle/input/skab-anomaly-detection/SKAB-master/data/other/12.csv',\n",
       " '/kaggle/input/skab-anomaly-detection/SKAB-master/data/other/9.csv',\n",
       " '/kaggle/input/skab-anomaly-detection/SKAB-master/data/other/7.csv',\n",
       " '/kaggle/input/skab-anomaly-detection/SKAB-master/data/other/6.csv',\n",
       " '/kaggle/input/skab-anomaly-detection/SKAB-master/data/other/10.csv',\n",
       " '/kaggle/input/skab-anomaly-detection/SKAB-master/data/valve1/1.csv',\n",
       " '/kaggle/input/skab-anomaly-detection/SKAB-master/data/valve1/11.csv',\n",
       " '/kaggle/input/skab-anomaly-detection/SKAB-master/data/valve1/3.csv',\n",
       " '/kaggle/input/skab-anomaly-detection/SKAB-master/data/valve1/5.csv',\n",
       " '/kaggle/input/skab-anomaly-detection/SKAB-master/data/valve1/2.csv',\n",
       " '/kaggle/input/skab-anomaly-detection/SKAB-master/data/valve1/13.csv',\n",
       " '/kaggle/input/skab-anomaly-detection/SKAB-master/data/valve1/14.csv',\n",
       " '/kaggle/input/skab-anomaly-detection/SKAB-master/data/valve1/4.csv',\n",
       " '/kaggle/input/skab-anomaly-detection/SKAB-master/data/valve1/8.csv',\n",
       " '/kaggle/input/skab-anomaly-detection/SKAB-master/data/valve1/12.csv',\n",
       " '/kaggle/input/skab-anomaly-detection/SKAB-master/data/valve1/9.csv',\n",
       " '/kaggle/input/skab-anomaly-detection/SKAB-master/data/valve1/7.csv',\n",
       " '/kaggle/input/skab-anomaly-detection/SKAB-master/data/valve1/0.csv',\n",
       " '/kaggle/input/skab-anomaly-detection/SKAB-master/data/valve1/15.csv',\n",
       " '/kaggle/input/skab-anomaly-detection/SKAB-master/data/valve1/6.csv',\n",
       " '/kaggle/input/skab-anomaly-detection/SKAB-master/data/valve1/10.csv',\n",
       " '/kaggle/input/skab-anomaly-detection/SKAB-master/data/anomaly-free/anomaly-free.csv']"
      ]
     },
     "execution_count": 8,
     "metadata": {},
     "output_type": "execute_result"
    }
   ],
   "source": [
    "all_files"
   ]
  },
  {
   "cell_type": "code",
   "execution_count": 9,
   "id": "86c4b0bd",
   "metadata": {
    "execution": {
     "iopub.execute_input": "2023-01-08T10:55:57.094620Z",
     "iopub.status.busy": "2023-01-08T10:55:57.094242Z",
     "iopub.status.idle": "2023-01-08T10:55:57.393896Z",
     "shell.execute_reply": "2023-01-08T10:55:57.392996Z"
    },
    "papermill": {
     "duration": 0.310281,
     "end_time": "2023-01-08T10:55:57.396062",
     "exception": false,
     "start_time": "2023-01-08T10:55:57.085781",
     "status": "completed"
    },
    "tags": []
   },
   "outputs": [],
   "source": [
    "list_of_df = [pd.read_csv(file,\n",
    "                            #seperated with ';' in csv file\n",
    "                            sep = ';',\n",
    "                            index_col = 'datetime',\n",
    "                            ) for file in all_files if 'anomaly-free' not in file]\n"
   ]
  },
  {
   "cell_type": "code",
   "execution_count": 10,
   "id": "00c23ed1",
   "metadata": {
    "execution": {
     "iopub.execute_input": "2023-01-08T10:55:57.412854Z",
     "iopub.status.busy": "2023-01-08T10:55:57.411937Z",
     "iopub.status.idle": "2023-01-08T10:55:57.418581Z",
     "shell.execute_reply": "2023-01-08T10:55:57.417637Z"
    },
    "papermill": {
     "duration": 0.016895,
     "end_time": "2023-01-08T10:55:57.420700",
     "exception": false,
     "start_time": "2023-01-08T10:55:57.403805",
     "status": "completed"
    },
    "tags": []
   },
   "outputs": [
    {
     "data": {
      "text/plain": [
       "['/kaggle/input/skab-anomaly-detection/SKAB-master/data/valve2/1.csv',\n",
       " '/kaggle/input/skab-anomaly-detection/SKAB-master/data/valve2/3.csv',\n",
       " '/kaggle/input/skab-anomaly-detection/SKAB-master/data/valve2/2.csv',\n",
       " '/kaggle/input/skab-anomaly-detection/SKAB-master/data/valve2/0.csv',\n",
       " '/kaggle/input/skab-anomaly-detection/SKAB-master/data/other/1.csv',\n",
       " '/kaggle/input/skab-anomaly-detection/SKAB-master/data/other/11.csv',\n",
       " '/kaggle/input/skab-anomaly-detection/SKAB-master/data/other/3.csv',\n",
       " '/kaggle/input/skab-anomaly-detection/SKAB-master/data/other/5.csv',\n",
       " '/kaggle/input/skab-anomaly-detection/SKAB-master/data/other/2.csv',\n",
       " '/kaggle/input/skab-anomaly-detection/SKAB-master/data/other/13.csv',\n",
       " '/kaggle/input/skab-anomaly-detection/SKAB-master/data/other/14.csv',\n",
       " '/kaggle/input/skab-anomaly-detection/SKAB-master/data/other/4.csv',\n",
       " '/kaggle/input/skab-anomaly-detection/SKAB-master/data/other/8.csv',\n",
       " '/kaggle/input/skab-anomaly-detection/SKAB-master/data/other/12.csv',\n",
       " '/kaggle/input/skab-anomaly-detection/SKAB-master/data/other/9.csv',\n",
       " '/kaggle/input/skab-anomaly-detection/SKAB-master/data/other/7.csv',\n",
       " '/kaggle/input/skab-anomaly-detection/SKAB-master/data/other/6.csv',\n",
       " '/kaggle/input/skab-anomaly-detection/SKAB-master/data/other/10.csv',\n",
       " '/kaggle/input/skab-anomaly-detection/SKAB-master/data/valve1/1.csv',\n",
       " '/kaggle/input/skab-anomaly-detection/SKAB-master/data/valve1/11.csv',\n",
       " '/kaggle/input/skab-anomaly-detection/SKAB-master/data/valve1/3.csv',\n",
       " '/kaggle/input/skab-anomaly-detection/SKAB-master/data/valve1/5.csv',\n",
       " '/kaggle/input/skab-anomaly-detection/SKAB-master/data/valve1/2.csv',\n",
       " '/kaggle/input/skab-anomaly-detection/SKAB-master/data/valve1/13.csv',\n",
       " '/kaggle/input/skab-anomaly-detection/SKAB-master/data/valve1/14.csv',\n",
       " '/kaggle/input/skab-anomaly-detection/SKAB-master/data/valve1/4.csv',\n",
       " '/kaggle/input/skab-anomaly-detection/SKAB-master/data/valve1/8.csv',\n",
       " '/kaggle/input/skab-anomaly-detection/SKAB-master/data/valve1/12.csv',\n",
       " '/kaggle/input/skab-anomaly-detection/SKAB-master/data/valve1/9.csv',\n",
       " '/kaggle/input/skab-anomaly-detection/SKAB-master/data/valve1/7.csv',\n",
       " '/kaggle/input/skab-anomaly-detection/SKAB-master/data/valve1/0.csv',\n",
       " '/kaggle/input/skab-anomaly-detection/SKAB-master/data/valve1/15.csv',\n",
       " '/kaggle/input/skab-anomaly-detection/SKAB-master/data/valve1/6.csv',\n",
       " '/kaggle/input/skab-anomaly-detection/SKAB-master/data/valve1/10.csv']"
      ]
     },
     "execution_count": 10,
     "metadata": {},
     "output_type": "execute_result"
    }
   ],
   "source": [
    "[file for file in all_files if 'anomaly-free' not in file]    #list of 'anomaly-free' data "
   ]
  },
  {
   "cell_type": "code",
   "execution_count": 11,
   "id": "79f8856e",
   "metadata": {
    "execution": {
     "iopub.execute_input": "2023-01-08T10:55:57.437229Z",
     "iopub.status.busy": "2023-01-08T10:55:57.436692Z",
     "iopub.status.idle": "2023-01-08T10:55:57.462841Z",
     "shell.execute_reply": "2023-01-08T10:55:57.461947Z"
    },
    "papermill": {
     "duration": 0.036853,
     "end_time": "2023-01-08T10:55:57.464866",
     "exception": false,
     "start_time": "2023-01-08T10:55:57.428013",
     "status": "completed"
    },
    "tags": []
   },
   "outputs": [
    {
     "data": {
      "text/html": [
       "<div>\n",
       "<style scoped>\n",
       "    .dataframe tbody tr th:only-of-type {\n",
       "        vertical-align: middle;\n",
       "    }\n",
       "\n",
       "    .dataframe tbody tr th {\n",
       "        vertical-align: top;\n",
       "    }\n",
       "\n",
       "    .dataframe thead th {\n",
       "        text-align: right;\n",
       "    }\n",
       "</style>\n",
       "<table border=\"1\" class=\"dataframe\">\n",
       "  <thead>\n",
       "    <tr style=\"text-align: right;\">\n",
       "      <th></th>\n",
       "      <th>Accelerometer1RMS</th>\n",
       "      <th>Accelerometer2RMS</th>\n",
       "      <th>Current</th>\n",
       "      <th>Pressure</th>\n",
       "      <th>Temperature</th>\n",
       "      <th>Thermocouple</th>\n",
       "      <th>Voltage</th>\n",
       "      <th>Volume Flow RateRMS</th>\n",
       "      <th>anomaly</th>\n",
       "      <th>changepoint</th>\n",
       "    </tr>\n",
       "    <tr>\n",
       "      <th>datetime</th>\n",
       "      <th></th>\n",
       "      <th></th>\n",
       "      <th></th>\n",
       "      <th></th>\n",
       "      <th></th>\n",
       "      <th></th>\n",
       "      <th></th>\n",
       "      <th></th>\n",
       "      <th></th>\n",
       "      <th></th>\n",
       "    </tr>\n",
       "  </thead>\n",
       "  <tbody>\n",
       "    <tr>\n",
       "      <th>2020-03-09 16:16:30</th>\n",
       "      <td>0.027545</td>\n",
       "      <td>0.041127</td>\n",
       "      <td>0.673506</td>\n",
       "      <td>0.054711</td>\n",
       "      <td>67.8345</td>\n",
       "      <td>24.3164</td>\n",
       "      <td>240.513</td>\n",
       "      <td>32.0000</td>\n",
       "      <td>0.0</td>\n",
       "      <td>0.0</td>\n",
       "    </tr>\n",
       "    <tr>\n",
       "      <th>2020-03-09 16:16:31</th>\n",
       "      <td>0.027997</td>\n",
       "      <td>0.039100</td>\n",
       "      <td>0.772264</td>\n",
       "      <td>0.054711</td>\n",
       "      <td>67.8704</td>\n",
       "      <td>24.3279</td>\n",
       "      <td>229.523</td>\n",
       "      <td>32.0000</td>\n",
       "      <td>0.0</td>\n",
       "      <td>0.0</td>\n",
       "    </tr>\n",
       "    <tr>\n",
       "      <th>2020-03-09 16:16:32</th>\n",
       "      <td>0.028418</td>\n",
       "      <td>0.038872</td>\n",
       "      <td>0.675520</td>\n",
       "      <td>0.054711</td>\n",
       "      <td>67.7882</td>\n",
       "      <td>24.3261</td>\n",
       "      <td>242.708</td>\n",
       "      <td>32.0000</td>\n",
       "      <td>0.0</td>\n",
       "      <td>0.0</td>\n",
       "    </tr>\n",
       "    <tr>\n",
       "      <th>2020-03-09 16:16:33</th>\n",
       "      <td>0.027625</td>\n",
       "      <td>0.039366</td>\n",
       "      <td>0.566279</td>\n",
       "      <td>-0.273216</td>\n",
       "      <td>67.7918</td>\n",
       "      <td>24.3323</td>\n",
       "      <td>229.709</td>\n",
       "      <td>32.0000</td>\n",
       "      <td>0.0</td>\n",
       "      <td>0.0</td>\n",
       "    </tr>\n",
       "    <tr>\n",
       "      <th>2020-03-09 16:16:34</th>\n",
       "      <td>0.027484</td>\n",
       "      <td>0.041854</td>\n",
       "      <td>1.292170</td>\n",
       "      <td>0.054711</td>\n",
       "      <td>67.7368</td>\n",
       "      <td>24.3250</td>\n",
       "      <td>242.746</td>\n",
       "      <td>32.0000</td>\n",
       "      <td>0.0</td>\n",
       "      <td>0.0</td>\n",
       "    </tr>\n",
       "    <tr>\n",
       "      <th>...</th>\n",
       "      <td>...</td>\n",
       "      <td>...</td>\n",
       "      <td>...</td>\n",
       "      <td>...</td>\n",
       "      <td>...</td>\n",
       "      <td>...</td>\n",
       "      <td>...</td>\n",
       "      <td>...</td>\n",
       "      <td>...</td>\n",
       "      <td>...</td>\n",
       "    </tr>\n",
       "    <tr>\n",
       "      <th>2020-03-09 16:36:26</th>\n",
       "      <td>0.026954</td>\n",
       "      <td>0.040592</td>\n",
       "      <td>1.200720</td>\n",
       "      <td>0.054711</td>\n",
       "      <td>67.6181</td>\n",
       "      <td>24.2314</td>\n",
       "      <td>245.247</td>\n",
       "      <td>32.0000</td>\n",
       "      <td>0.0</td>\n",
       "      <td>0.0</td>\n",
       "    </tr>\n",
       "    <tr>\n",
       "      <th>2020-03-09 16:36:27</th>\n",
       "      <td>0.027371</td>\n",
       "      <td>0.040530</td>\n",
       "      <td>1.318550</td>\n",
       "      <td>-0.273216</td>\n",
       "      <td>67.8733</td>\n",
       "      <td>24.2234</td>\n",
       "      <td>243.576</td>\n",
       "      <td>32.0000</td>\n",
       "      <td>0.0</td>\n",
       "      <td>0.0</td>\n",
       "    </tr>\n",
       "    <tr>\n",
       "      <th>2020-03-09 16:36:28</th>\n",
       "      <td>0.027557</td>\n",
       "      <td>0.039432</td>\n",
       "      <td>1.068740</td>\n",
       "      <td>0.054711</td>\n",
       "      <td>67.6173</td>\n",
       "      <td>24.2315</td>\n",
       "      <td>239.957</td>\n",
       "      <td>31.9603</td>\n",
       "      <td>0.0</td>\n",
       "      <td>0.0</td>\n",
       "    </tr>\n",
       "    <tr>\n",
       "      <th>2020-03-09 16:36:29</th>\n",
       "      <td>0.027456</td>\n",
       "      <td>0.038556</td>\n",
       "      <td>1.127880</td>\n",
       "      <td>0.054711</td>\n",
       "      <td>67.9696</td>\n",
       "      <td>24.2272</td>\n",
       "      <td>221.236</td>\n",
       "      <td>31.0409</td>\n",
       "      <td>0.0</td>\n",
       "      <td>0.0</td>\n",
       "    </tr>\n",
       "    <tr>\n",
       "      <th>2020-03-09 16:36:30</th>\n",
       "      <td>0.028026</td>\n",
       "      <td>0.038939</td>\n",
       "      <td>1.321820</td>\n",
       "      <td>0.054711</td>\n",
       "      <td>67.7130</td>\n",
       "      <td>24.2220</td>\n",
       "      <td>241.674</td>\n",
       "      <td>31.9603</td>\n",
       "      <td>0.0</td>\n",
       "      <td>0.0</td>\n",
       "    </tr>\n",
       "  </tbody>\n",
       "</table>\n",
       "<p>1063 rows × 10 columns</p>\n",
       "</div>"
      ],
      "text/plain": [
       "                     Accelerometer1RMS  Accelerometer2RMS   Current  Pressure  \\\n",
       "datetime                                                                        \n",
       "2020-03-09 16:16:30           0.027545           0.041127  0.673506  0.054711   \n",
       "2020-03-09 16:16:31           0.027997           0.039100  0.772264  0.054711   \n",
       "2020-03-09 16:16:32           0.028418           0.038872  0.675520  0.054711   \n",
       "2020-03-09 16:16:33           0.027625           0.039366  0.566279 -0.273216   \n",
       "2020-03-09 16:16:34           0.027484           0.041854  1.292170  0.054711   \n",
       "...                                ...                ...       ...       ...   \n",
       "2020-03-09 16:36:26           0.026954           0.040592  1.200720  0.054711   \n",
       "2020-03-09 16:36:27           0.027371           0.040530  1.318550 -0.273216   \n",
       "2020-03-09 16:36:28           0.027557           0.039432  1.068740  0.054711   \n",
       "2020-03-09 16:36:29           0.027456           0.038556  1.127880  0.054711   \n",
       "2020-03-09 16:36:30           0.028026           0.038939  1.321820  0.054711   \n",
       "\n",
       "                     Temperature  Thermocouple  Voltage  Volume Flow RateRMS  \\\n",
       "datetime                                                                       \n",
       "2020-03-09 16:16:30      67.8345       24.3164  240.513              32.0000   \n",
       "2020-03-09 16:16:31      67.8704       24.3279  229.523              32.0000   \n",
       "2020-03-09 16:16:32      67.7882       24.3261  242.708              32.0000   \n",
       "2020-03-09 16:16:33      67.7918       24.3323  229.709              32.0000   \n",
       "2020-03-09 16:16:34      67.7368       24.3250  242.746              32.0000   \n",
       "...                          ...           ...      ...                  ...   \n",
       "2020-03-09 16:36:26      67.6181       24.2314  245.247              32.0000   \n",
       "2020-03-09 16:36:27      67.8733       24.2234  243.576              32.0000   \n",
       "2020-03-09 16:36:28      67.6173       24.2315  239.957              31.9603   \n",
       "2020-03-09 16:36:29      67.9696       24.2272  221.236              31.0409   \n",
       "2020-03-09 16:36:30      67.7130       24.2220  241.674              31.9603   \n",
       "\n",
       "                     anomaly  changepoint  \n",
       "datetime                                   \n",
       "2020-03-09 16:16:30      0.0          0.0  \n",
       "2020-03-09 16:16:31      0.0          0.0  \n",
       "2020-03-09 16:16:32      0.0          0.0  \n",
       "2020-03-09 16:16:33      0.0          0.0  \n",
       "2020-03-09 16:16:34      0.0          0.0  \n",
       "...                      ...          ...  \n",
       "2020-03-09 16:36:26      0.0          0.0  \n",
       "2020-03-09 16:36:27      0.0          0.0  \n",
       "2020-03-09 16:36:28      0.0          0.0  \n",
       "2020-03-09 16:36:29      0.0          0.0  \n",
       "2020-03-09 16:36:30      0.0          0.0  \n",
       "\n",
       "[1063 rows x 10 columns]"
      ]
     },
     "execution_count": 11,
     "metadata": {},
     "output_type": "execute_result"
    }
   ],
   "source": [
    "list_of_df[0]"
   ]
  },
  {
   "cell_type": "code",
   "execution_count": 12,
   "id": "3c1afb22",
   "metadata": {
    "execution": {
     "iopub.execute_input": "2023-01-08T10:55:57.481334Z",
     "iopub.status.busy": "2023-01-08T10:55:57.481024Z",
     "iopub.status.idle": "2023-01-08T10:55:57.513650Z",
     "shell.execute_reply": "2023-01-08T10:55:57.512770Z"
    },
    "papermill": {
     "duration": 0.043461,
     "end_time": "2023-01-08T10:55:57.515855",
     "exception": false,
     "start_time": "2023-01-08T10:55:57.472394",
     "status": "completed"
    },
    "tags": []
   },
   "outputs": [],
   "source": [
    "anomaly_free_df = pd.read_csv([file for file in all_files if 'anomaly-free' in file][0],\n",
    "                             sep = ';',\n",
    "                             index_col = 'datetime')"
   ]
  },
  {
   "cell_type": "code",
   "execution_count": 13,
   "id": "6f95786b",
   "metadata": {
    "execution": {
     "iopub.execute_input": "2023-01-08T10:55:57.533353Z",
     "iopub.status.busy": "2023-01-08T10:55:57.532789Z",
     "iopub.status.idle": "2023-01-08T10:55:57.549141Z",
     "shell.execute_reply": "2023-01-08T10:55:57.548490Z"
    },
    "papermill": {
     "duration": 0.02697,
     "end_time": "2023-01-08T10:55:57.550881",
     "exception": false,
     "start_time": "2023-01-08T10:55:57.523911",
     "status": "completed"
    },
    "tags": []
   },
   "outputs": [
    {
     "data": {
      "text/html": [
       "<div>\n",
       "<style scoped>\n",
       "    .dataframe tbody tr th:only-of-type {\n",
       "        vertical-align: middle;\n",
       "    }\n",
       "\n",
       "    .dataframe tbody tr th {\n",
       "        vertical-align: top;\n",
       "    }\n",
       "\n",
       "    .dataframe thead th {\n",
       "        text-align: right;\n",
       "    }\n",
       "</style>\n",
       "<table border=\"1\" class=\"dataframe\">\n",
       "  <thead>\n",
       "    <tr style=\"text-align: right;\">\n",
       "      <th></th>\n",
       "      <th>Accelerometer1RMS</th>\n",
       "      <th>Accelerometer2RMS</th>\n",
       "      <th>Current</th>\n",
       "      <th>Pressure</th>\n",
       "      <th>Temperature</th>\n",
       "      <th>Thermocouple</th>\n",
       "      <th>Voltage</th>\n",
       "      <th>Volume Flow RateRMS</th>\n",
       "    </tr>\n",
       "    <tr>\n",
       "      <th>datetime</th>\n",
       "      <th></th>\n",
       "      <th></th>\n",
       "      <th></th>\n",
       "      <th></th>\n",
       "      <th></th>\n",
       "      <th></th>\n",
       "      <th></th>\n",
       "      <th></th>\n",
       "    </tr>\n",
       "  </thead>\n",
       "  <tbody>\n",
       "    <tr>\n",
       "      <th>2020-02-08 13:30:47</th>\n",
       "      <td>0.202394</td>\n",
       "      <td>0.275154</td>\n",
       "      <td>2.16975</td>\n",
       "      <td>0.382638</td>\n",
       "      <td>90.6454</td>\n",
       "      <td>26.8508</td>\n",
       "      <td>238.852</td>\n",
       "      <td>122.664</td>\n",
       "    </tr>\n",
       "    <tr>\n",
       "      <th>2020-02-08 13:30:48</th>\n",
       "      <td>0.203153</td>\n",
       "      <td>0.277857</td>\n",
       "      <td>2.07999</td>\n",
       "      <td>-0.273216</td>\n",
       "      <td>90.7978</td>\n",
       "      <td>26.8639</td>\n",
       "      <td>227.943</td>\n",
       "      <td>122.338</td>\n",
       "    </tr>\n",
       "    <tr>\n",
       "      <th>2020-02-08 13:30:50</th>\n",
       "      <td>0.202054</td>\n",
       "      <td>0.275790</td>\n",
       "      <td>2.52577</td>\n",
       "      <td>0.382638</td>\n",
       "      <td>90.7730</td>\n",
       "      <td>26.8603</td>\n",
       "      <td>223.486</td>\n",
       "      <td>121.338</td>\n",
       "    </tr>\n",
       "    <tr>\n",
       "      <th>2020-02-08 13:30:51</th>\n",
       "      <td>0.203595</td>\n",
       "      <td>0.278101</td>\n",
       "      <td>2.49742</td>\n",
       "      <td>0.054711</td>\n",
       "      <td>90.8424</td>\n",
       "      <td>26.8616</td>\n",
       "      <td>244.904</td>\n",
       "      <td>121.664</td>\n",
       "    </tr>\n",
       "    <tr>\n",
       "      <th>2020-02-08 13:30:52</th>\n",
       "      <td>0.201889</td>\n",
       "      <td>0.276363</td>\n",
       "      <td>2.29194</td>\n",
       "      <td>0.710565</td>\n",
       "      <td>90.6664</td>\n",
       "      <td>26.8603</td>\n",
       "      <td>239.196</td>\n",
       "      <td>122.000</td>\n",
       "    </tr>\n",
       "    <tr>\n",
       "      <th>...</th>\n",
       "      <td>...</td>\n",
       "      <td>...</td>\n",
       "      <td>...</td>\n",
       "      <td>...</td>\n",
       "      <td>...</td>\n",
       "      <td>...</td>\n",
       "      <td>...</td>\n",
       "      <td>...</td>\n",
       "    </tr>\n",
       "    <tr>\n",
       "      <th>2020-02-08 16:16:43</th>\n",
       "      <td>0.225744</td>\n",
       "      <td>0.267921</td>\n",
       "      <td>2.91598</td>\n",
       "      <td>0.054711</td>\n",
       "      <td>88.8593</td>\n",
       "      <td>29.3792</td>\n",
       "      <td>219.542</td>\n",
       "      <td>126.000</td>\n",
       "    </tr>\n",
       "    <tr>\n",
       "      <th>2020-02-08 16:16:44</th>\n",
       "      <td>0.205870</td>\n",
       "      <td>0.258370</td>\n",
       "      <td>1.71505</td>\n",
       "      <td>0.710565</td>\n",
       "      <td>89.1754</td>\n",
       "      <td>29.3692</td>\n",
       "      <td>221.862</td>\n",
       "      <td>126.000</td>\n",
       "    </tr>\n",
       "    <tr>\n",
       "      <th>2020-02-08 16:16:45</th>\n",
       "      <td>0.219222</td>\n",
       "      <td>0.267244</td>\n",
       "      <td>2.35834</td>\n",
       "      <td>-0.273216</td>\n",
       "      <td>89.1306</td>\n",
       "      <td>29.3674</td>\n",
       "      <td>226.050</td>\n",
       "      <td>126.679</td>\n",
       "    </tr>\n",
       "    <tr>\n",
       "      <th>2020-02-08 16:16:46</th>\n",
       "      <td>0.219481</td>\n",
       "      <td>0.271278</td>\n",
       "      <td>2.49108</td>\n",
       "      <td>0.054711</td>\n",
       "      <td>88.5447</td>\n",
       "      <td>29.3757</td>\n",
       "      <td>226.343</td>\n",
       "      <td>127.000</td>\n",
       "    </tr>\n",
       "    <tr>\n",
       "      <th>2020-02-08 16:16:47</th>\n",
       "      <td>0.219436</td>\n",
       "      <td>0.270046</td>\n",
       "      <td>2.43108</td>\n",
       "      <td>0.382638</td>\n",
       "      <td>89.1161</td>\n",
       "      <td>29.3687</td>\n",
       "      <td>205.473</td>\n",
       "      <td>125.648</td>\n",
       "    </tr>\n",
       "  </tbody>\n",
       "</table>\n",
       "<p>9405 rows × 8 columns</p>\n",
       "</div>"
      ],
      "text/plain": [
       "                     Accelerometer1RMS  Accelerometer2RMS  Current  Pressure  \\\n",
       "datetime                                                                       \n",
       "2020-02-08 13:30:47           0.202394           0.275154  2.16975  0.382638   \n",
       "2020-02-08 13:30:48           0.203153           0.277857  2.07999 -0.273216   \n",
       "2020-02-08 13:30:50           0.202054           0.275790  2.52577  0.382638   \n",
       "2020-02-08 13:30:51           0.203595           0.278101  2.49742  0.054711   \n",
       "2020-02-08 13:30:52           0.201889           0.276363  2.29194  0.710565   \n",
       "...                                ...                ...      ...       ...   \n",
       "2020-02-08 16:16:43           0.225744           0.267921  2.91598  0.054711   \n",
       "2020-02-08 16:16:44           0.205870           0.258370  1.71505  0.710565   \n",
       "2020-02-08 16:16:45           0.219222           0.267244  2.35834 -0.273216   \n",
       "2020-02-08 16:16:46           0.219481           0.271278  2.49108  0.054711   \n",
       "2020-02-08 16:16:47           0.219436           0.270046  2.43108  0.382638   \n",
       "\n",
       "                     Temperature  Thermocouple  Voltage  Volume Flow RateRMS  \n",
       "datetime                                                                      \n",
       "2020-02-08 13:30:47      90.6454       26.8508  238.852              122.664  \n",
       "2020-02-08 13:30:48      90.7978       26.8639  227.943              122.338  \n",
       "2020-02-08 13:30:50      90.7730       26.8603  223.486              121.338  \n",
       "2020-02-08 13:30:51      90.8424       26.8616  244.904              121.664  \n",
       "2020-02-08 13:30:52      90.6664       26.8603  239.196              122.000  \n",
       "...                          ...           ...      ...                  ...  \n",
       "2020-02-08 16:16:43      88.8593       29.3792  219.542              126.000  \n",
       "2020-02-08 16:16:44      89.1754       29.3692  221.862              126.000  \n",
       "2020-02-08 16:16:45      89.1306       29.3674  226.050              126.679  \n",
       "2020-02-08 16:16:46      88.5447       29.3757  226.343              127.000  \n",
       "2020-02-08 16:16:47      89.1161       29.3687  205.473              125.648  \n",
       "\n",
       "[9405 rows x 8 columns]"
      ]
     },
     "execution_count": 13,
     "metadata": {},
     "output_type": "execute_result"
    }
   ],
   "source": [
    "anomaly_free_df"
   ]
  },
  {
   "cell_type": "code",
   "execution_count": 14,
   "id": "d8d9da5c",
   "metadata": {
    "execution": {
     "iopub.execute_input": "2023-01-08T10:55:57.568282Z",
     "iopub.status.busy": "2023-01-08T10:55:57.567783Z",
     "iopub.status.idle": "2023-01-08T10:55:57.572058Z",
     "shell.execute_reply": "2023-01-08T10:55:57.571541Z"
    },
    "papermill": {
     "duration": 0.014889,
     "end_time": "2023-01-08T10:55:57.573610",
     "exception": false,
     "start_time": "2023-01-08T10:55:57.558721",
     "status": "completed"
    },
    "tags": []
   },
   "outputs": [
    {
     "data": {
      "text/plain": [
       "34"
      ]
     },
     "execution_count": 14,
     "metadata": {},
     "output_type": "execute_result"
    }
   ],
   "source": [
    "#size\n",
    "len(list_of_df)"
   ]
  },
  {
   "cell_type": "code",
   "execution_count": 15,
   "id": "0d5fd3cb",
   "metadata": {
    "execution": {
     "iopub.execute_input": "2023-01-08T10:55:57.590884Z",
     "iopub.status.busy": "2023-01-08T10:55:57.590366Z",
     "iopub.status.idle": "2023-01-08T10:55:57.595115Z",
     "shell.execute_reply": "2023-01-08T10:55:57.594335Z"
    },
    "papermill": {
     "duration": 0.015636,
     "end_time": "2023-01-08T10:55:57.597187",
     "exception": false,
     "start_time": "2023-01-08T10:55:57.581551",
     "status": "completed"
    },
    "tags": []
   },
   "outputs": [
    {
     "data": {
      "text/plain": [
       "(1063, 10)"
      ]
     },
     "execution_count": 15,
     "metadata": {},
     "output_type": "execute_result"
    }
   ],
   "source": [
    "# data shape\n",
    "list_of_df[0].shape"
   ]
  },
  {
   "cell_type": "code",
   "execution_count": 16,
   "id": "7606bc10",
   "metadata": {
    "execution": {
     "iopub.execute_input": "2023-01-08T10:55:57.615754Z",
     "iopub.status.busy": "2023-01-08T10:55:57.615362Z",
     "iopub.status.idle": "2023-01-08T10:55:57.621067Z",
     "shell.execute_reply": "2023-01-08T10:55:57.620311Z"
    },
    "papermill": {
     "duration": 0.016459,
     "end_time": "2023-01-08T10:55:57.622637",
     "exception": false,
     "start_time": "2023-01-08T10:55:57.606178",
     "status": "completed"
    },
    "tags": []
   },
   "outputs": [
    {
     "data": {
      "text/plain": [
       "(995, 10)"
      ]
     },
     "execution_count": 16,
     "metadata": {},
     "output_type": "execute_result"
    }
   ],
   "source": [
    "list_of_df[1].shape"
   ]
  },
  {
   "cell_type": "code",
   "execution_count": 17,
   "id": "aba79df1",
   "metadata": {
    "execution": {
     "iopub.execute_input": "2023-01-08T10:55:57.641097Z",
     "iopub.status.busy": "2023-01-08T10:55:57.640201Z",
     "iopub.status.idle": "2023-01-08T10:55:57.660868Z",
     "shell.execute_reply": "2023-01-08T10:55:57.659986Z"
    },
    "papermill": {
     "duration": 0.032082,
     "end_time": "2023-01-08T10:55:57.662669",
     "exception": false,
     "start_time": "2023-01-08T10:55:57.630587",
     "status": "completed"
    },
    "tags": []
   },
   "outputs": [
    {
     "data": {
      "text/plain": [
       "129"
      ]
     },
     "execution_count": 17,
     "metadata": {},
     "output_type": "execute_result"
    }
   ],
   "source": [
    "#change_point number\n",
    "sum([len(df[df.changepoint == 1.0])for df in list_of_df])"
   ]
  },
  {
   "cell_type": "code",
   "execution_count": 18,
   "id": "e2150ea7",
   "metadata": {
    "execution": {
     "iopub.execute_input": "2023-01-08T10:55:57.680489Z",
     "iopub.status.busy": "2023-01-08T10:55:57.679935Z",
     "iopub.status.idle": "2023-01-08T10:55:57.695142Z",
     "shell.execute_reply": "2023-01-08T10:55:57.694559Z"
    },
    "papermill": {
     "duration": 0.025957,
     "end_time": "2023-01-08T10:55:57.696817",
     "exception": false,
     "start_time": "2023-01-08T10:55:57.670860",
     "status": "completed"
    },
    "tags": []
   },
   "outputs": [
    {
     "data": {
      "text/plain": [
       "13067"
      ]
     },
     "execution_count": 18,
     "metadata": {},
     "output_type": "execute_result"
    }
   ],
   "source": [
    "# outlier number\n",
    "sum([len(df[df.anomaly == 1.0]) for df in list_of_df])"
   ]
  },
  {
   "cell_type": "code",
   "execution_count": 19,
   "id": "d26dd99e",
   "metadata": {
    "execution": {
     "iopub.execute_input": "2023-01-08T10:55:57.715215Z",
     "iopub.status.busy": "2023-01-08T10:55:57.714651Z",
     "iopub.status.idle": "2023-01-08T10:55:58.059237Z",
     "shell.execute_reply": "2023-01-08T10:55:58.058487Z"
    },
    "papermill": {
     "duration": 0.355774,
     "end_time": "2023-01-08T10:55:58.061065",
     "exception": false,
     "start_time": "2023-01-08T10:55:57.705291",
     "status": "completed"
    },
    "tags": []
   },
   "outputs": [
    {
     "data": {
      "image/png": "[encoded data removed]",
      "text/plain": [
       "<Figure size 864x432 with 1 Axes>"
      ]
     },
     "metadata": {
      "needs_background": "light"
     },
     "output_type": "display_data"
    }
   ],
   "source": [
    "#visualization\n",
    "list_of_df[0].plot(figsize = (12,6))\n",
    "plt.xlabel('Time')\n",
    "plt.ylabel('Value')\n",
    "plt.title('Signals visualization')\n",
    "plt.show()"
   ]
  },
  {
   "cell_type": "code",
   "execution_count": 20,
   "id": "4af20afb",
   "metadata": {
    "execution": {
     "iopub.execute_input": "2023-01-08T10:55:58.081376Z",
     "iopub.status.busy": "2023-01-08T10:55:58.080852Z",
     "iopub.status.idle": "2023-01-08T10:55:58.084020Z",
     "shell.execute_reply": "2023-01-08T10:55:58.083462Z"
    },
    "papermill": {
     "duration": 0.015111,
     "end_time": "2023-01-08T10:55:58.085601",
     "exception": false,
     "start_time": "2023-01-08T10:55:58.070490",
     "status": "completed"
    },
    "tags": []
   },
   "outputs": [],
   "source": [
    "#preprocessing(integrating scales), since the scales are different for each sensors\n",
    "#standardization(표준화)- subtract AVG then dividie by STD / normalization(정규화)- converting to a value between 0 and 1"
   ]
  },
  {
   "cell_type": "code",
   "execution_count": 21,
   "id": "6913c37d",
   "metadata": {
    "execution": {
     "iopub.execute_input": "2023-01-08T10:55:58.105478Z",
     "iopub.status.busy": "2023-01-08T10:55:58.104973Z",
     "iopub.status.idle": "2023-01-08T10:55:58.250462Z",
     "shell.execute_reply": "2023-01-08T10:55:58.249844Z"
    },
    "papermill": {
     "duration": 0.15733,
     "end_time": "2023-01-08T10:55:58.252061",
     "exception": false,
     "start_time": "2023-01-08T10:55:58.094731",
     "status": "completed"
    },
    "tags": []
   },
   "outputs": [
    {
     "data": {
      "image/png": "[encoded data removed]",
      "text/plain": [
       "<Figure size 864x216 with 1 Axes>"
      ]
     },
     "metadata": {
      "needs_background": "light"
     },
     "output_type": "display_data"
    }
   ],
   "source": [
    "list_of_df[0].anomaly.plot(figsize = (12,3))\n",
    "list_of_df[0].changepoint.plot()\n",
    "plt.legend()\n",
    "plt.show()"
   ]
  },
  {
   "cell_type": "markdown",
   "id": "a8317034",
   "metadata": {
    "papermill": {
     "duration": 0.009554,
     "end_time": "2023-01-08T10:55:58.270905",
     "exception": false,
     "start_time": "2023-01-08T10:55:58.261351",
     "status": "completed"
    },
    "tags": []
   },
   "source": [
    "## Preprocessing & Model Pipeline"
   ]
  },
  {
   "cell_type": "code",
   "execution_count": 22,
   "id": "1eae5967",
   "metadata": {
    "execution": {
     "iopub.execute_input": "2023-01-08T10:55:58.290970Z",
     "iopub.status.busy": "2023-01-08T10:55:58.290423Z",
     "iopub.status.idle": "2023-01-08T10:56:04.605324Z",
     "shell.execute_reply": "2023-01-08T10:56:04.604044Z"
    },
    "papermill": {
     "duration": 6.327735,
     "end_time": "2023-01-08T10:56:04.607888",
     "exception": false,
     "start_time": "2023-01-08T10:55:58.280153",
     "status": "completed"
    },
    "tags": []
   },
   "outputs": [],
   "source": [
    "import numpy as np\n",
    "from tensorflow import keras\n",
    "from tensorflow.keras import layers\n",
    "#functions for calculating errors\n",
    "from sklearn.metrics import mean_absolute_error, mean_squared_error #mean_squared - emphasizes its error when it's larger than 1\n",
    "#spliting data\n",
    "from sklearn.model_selection import train_test_split\n",
    "#standardization\n",
    "from sklearn.preprocessing import StandardScaler\n"
   ]
  },
  {
   "cell_type": "code",
   "execution_count": 23,
   "id": "b7b11d0c",
   "metadata": {
    "execution": {
     "iopub.execute_input": "2023-01-08T10:56:04.628343Z",
     "iopub.status.busy": "2023-01-08T10:56:04.627759Z",
     "iopub.status.idle": "2023-01-08T10:56:04.633122Z",
     "shell.execute_reply": "2023-01-08T10:56:04.632181Z"
    },
    "papermill": {
     "duration": 0.017676,
     "end_time": "2023-01-08T10:56:04.635004",
     "exception": false,
     "start_time": "2023-01-08T10:56:04.617328",
     "status": "completed"
    },
    "tags": []
   },
   "outputs": [],
   "source": [
    "# seed값 맞춰주기\n",
    "# 모델을 사용하거나 데이터 shuffle or random 사용\n",
    "# the performanc may vary, dependant on the random(seed) value\n",
    "# must use the same seed value\n",
    "# 모델 성능 비교할 때 seed값을 같게하여야 한다\n",
    "def Random(seed_value):\n",
    "    import os\n",
    "    os.environ['PYTHONHASHSEED'] = str(seed_value)\n",
    "    import random\n",
    "    random.seed(seed_value)\n",
    "    np.random.seed(seed_value)\n",
    "    import tensorflow as tf\n",
    "    tf.random.set_seed(seed_value)"
   ]
  },
  {
   "cell_type": "markdown",
   "id": "9d553509",
   "metadata": {
    "papermill": {
     "duration": 0.009797,
     "end_time": "2023-01-08T10:56:04.654410",
     "exception": false,
     "start_time": "2023-01-08T10:56:04.644613",
     "status": "completed"
    },
    "tags": []
   },
   "source": [
    "## Modeling"
   ]
  },
  {
   "cell_type": "code",
   "execution_count": 24,
   "id": "4bb297db",
   "metadata": {
    "execution": {
     "iopub.execute_input": "2023-01-08T10:56:04.675351Z",
     "iopub.status.busy": "2023-01-08T10:56:04.675005Z",
     "iopub.status.idle": "2023-01-08T10:56:04.683991Z",
     "shell.execute_reply": "2023-01-08T10:56:04.683359Z"
    },
    "papermill": {
     "duration": 0.021767,
     "end_time": "2023-01-08T10:56:04.686164",
     "exception": false,
     "start_time": "2023-01-08T10:56:04.664397",
     "status": "completed"
    },
    "tags": []
   },
   "outputs": [],
   "source": [
    "#Convolutional Auto Encoder\n",
    "def convae(data):\n",
    "\n",
    "    model = keras.Sequential([\n",
    "        #data input의 shape 명시 \n",
    "        layers.Input(shape = (data.shape[1], data.shape[2])),\n",
    "        #1D는 signal에서 주로 사용, 2D는 이미지에서 사용\n",
    "        # filters : 필터 개수, 특징을 얼마나 많이 뽑을 것인가?\n",
    "        # kernal_size : 필터 크기, 필터 크기가 클수록 만들어지는 feature size 작아짐\n",
    "        # padding : 'same' or 'valid' valid는 padding 없는것, same 쓰면 input,output 크기 똑같아짐(단 stride =1 일때)\n",
    "        #layer 거칠수록 shape 줄어드는걸 방지하기 위해 padding 사용\n",
    "        #Activation Function : ReLU 연산 빠르고 gradient vanishing 적음\n",
    "        layers.Conv1D(filters = 32, kernal_size = 7, padding = 'same', strides = 2, activation = 'relu' ),\n",
    "        layers.Conv1D(filters = 16, kernal_size = 7, padding = 'same', strides = 2, activation = 'relu' ),\n",
    "\n",
    "        layers.Conv1DTranspose(filters = 16, kernal_size = 7, padding = 'same', strides = 2, activation = 'relu' ),\n",
    "        layers.Conv1DTranspose(filters = 32, kernal_size = 7, padding = 'same', strides = 2, activation = 'relu' ),\n",
    "\n",
    "        # model 맨처음에 들어가는 input 크기만 맞춰주기 위해 넣는 layer\n",
    "        layers.Conv1DTranspose(filters = 1, kernal_size = 7, padding = 'same'),\n",
    "\n",
    "    ])\n",
    "\n",
    "    #compile (최적화 optimizer 설정)\n",
    "    # optimizer 는 adam이 제일 무난, learning rate은 보통 1e-3 ~ 1e-5\n",
    "    # learning rate 이 가장 중요한 hyper parameter. 제일 먼저 바꾸면서 조정\n",
    "    # 모델을 떠나서 데이터와 가장 관련이 깊은 hyper parameter 임\n",
    "    model.compile(optimizer = keras.optimizers.Adam(learning_rate = 0.001), loss = 'mse')\n",
    "\n",
    "    # 학습\n",
    "    history = model.fit(\n",
    "        # data X (데이터 값), data y(정답값) : supervised learning\n",
    "        # data X(데이터 값), data X(데이터 값) : unsupervised learning\n",
    "        data,\n",
    "        data,\n",
    "        epochs = 100,\n",
    "        #gradient 계산할 때 데이터를 몇개를 한묶음으로 볼지,\n",
    "        # 수치가 클수록 빠르지만 덜정확\n",
    "        batch_size = 32,\n",
    "        verbose = 10,\n",
    "        #학습할때 scheduler 걸거나 언제 학습중단할건지\n",
    "        # scheduler 는 중간에 학습율 바뀌게 하는 것\n",
    "        # early stopping 자동 학습 중단. patience 5번 loss 상승시 중단\n",
    "        callbacks = [\n",
    "            keras.callbacks.EarlyStropping(monitor = 'val_loss', patience = 5, verbose = 0)\n",
    "        ]\n",
    "\n",
    "    )\n",
    "    return history, model"
   ]
  },
  {
   "cell_type": "code",
   "execution_count": null,
   "id": "a313b249",
   "metadata": {
    "papermill": {
     "duration": 0.008986,
     "end_time": "2023-01-08T10:56:04.704666",
     "exception": false,
     "start_time": "2023-01-08T10:56:04.695680",
     "status": "completed"
    },
    "tags": []
   },
   "outputs": [],
   "source": []
  },
  {
   "cell_type": "markdown",
   "id": "b57644e7",
   "metadata": {
    "papermill": {
     "duration": 0.00884,
     "end_time": "2023-01-08T10:56:04.722605",
     "exception": false,
     "start_time": "2023-01-08T10:56:04.713765",
     "status": "completed"
    },
    "tags": []
   },
   "source": [
    "## Anomaly Score"
   ]
  },
  {
   "cell_type": "code",
   "execution_count": null,
   "id": "0cf46131",
   "metadata": {
    "papermill": {
     "duration": 0.008955,
     "end_time": "2023-01-08T10:56:04.740706",
     "exception": false,
     "start_time": "2023-01-08T10:56:04.731751",
     "status": "completed"
    },
    "tags": []
   },
   "outputs": [],
   "source": []
  },
  {
   "cell_type": "code",
   "execution_count": null,
   "id": "cea2d49c",
   "metadata": {
    "papermill": {
     "duration": 0.008868,
     "end_time": "2023-01-08T10:56:04.758757",
     "exception": false,
     "start_time": "2023-01-08T10:56:04.749889",
     "status": "completed"
    },
    "tags": []
   },
   "outputs": [],
   "source": []
  },
  {
   "cell_type": "code",
   "execution_count": null,
   "id": "4bfc2bed",
   "metadata": {
    "papermill": {
     "duration": 0.008856,
     "end_time": "2023-01-08T10:56:04.776653",
     "exception": false,
     "start_time": "2023-01-08T10:56:04.767797",
     "status": "completed"
    },
    "tags": []
   },
   "outputs": [],
   "source": []
  }
 ],
 "metadata": {
  "kernelspec": {
   "display_name": "Python 3",
   "language": "python",
   "name": "python3"
  },
  "language_info": {
   "codemirror_mode": {
    "name": "ipython",
    "version": 3
   },
   "file_extension": ".py",
   "mimetype": "text/x-python",
   "name": "python",
   "nbconvert_exporter": "python",
   "pygments_lexer": "ipython3",
   "version": "3.7.12"
  },
  "papermill": {
   "default_parameters": {},
   "duration": 17.95191,
   "end_time": "2023-01-08T10:56:07.839926",
   "environment_variables": {},
   "exception": null,
   "input_path": "__notebook__.ipynb",
   "output_path": "__notebook__.ipynb",
   "parameters": {},
   "start_time": "2023-01-08T10:55:49.888016",
   "version": "2.3.4"
  }
 },
 "nbformat": 4,
 "nbformat_minor": 5
}
