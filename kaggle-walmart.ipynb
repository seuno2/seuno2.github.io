{
 "cells": [
  {
   "cell_type": "code",
   "execution_count": 1,
   "id": "83415900",
   "metadata": {
    "_cell_guid": "b1076dfc-b9ad-4769-8c92-a6c4dae69d19",
    "_uuid": "8f2839f25d086af736a60e9eeb907d3b93b6e0e5",
    "execution": {
     "iopub.execute_input": "2023-01-07T03:53:49.407231Z",
     "iopub.status.busy": "2023-01-07T03:53:49.406784Z",
     "iopub.status.idle": "2023-01-07T03:53:49.420760Z",
     "shell.execute_reply": "2023-01-07T03:53:49.419510Z"
    },
    "papermill": {
     "duration": 0.02433,
     "end_time": "2023-01-07T03:53:49.424500",
     "exception": false,
     "start_time": "2023-01-07T03:53:49.400170",
     "status": "completed"
    },
    "tags": []
   },
   "outputs": [
    {
     "name": "stdout",
     "output_type": "stream",
     "text": [
      "/kaggle/input/walmart-recruiting-store-sales-forecasting/train.csv.zip\n",
      "/kaggle/input/walmart-recruiting-store-sales-forecasting/sampleSubmission.csv.zip\n",
      "/kaggle/input/walmart-recruiting-store-sales-forecasting/stores.csv\n",
      "/kaggle/input/walmart-recruiting-store-sales-forecasting/features.csv.zip\n",
      "/kaggle/input/walmart-recruiting-store-sales-forecasting/test.csv.zip\n"
     ]
    }
   ],
   "source": [
    "# This Python 3 environment comes with many helpful analytics libraries installed\n",
    "# It is defined by the kaggle/python Docker image: https://github.com/kaggle/docker-python\n",
    "# For example, here's several helpful packages to load\n",
    "\n",
    "import numpy as np # linear algebra\n",
    "import pandas as pd # data processing, CSV file I/O (e.g. pd.read_csv)\n",
    "\n",
    "# Input data files are available in the read-only \"../input/\" directory\n",
    "# For example, running this (by clicking run or pressing Shift+Enter) will list all files under the input directory\n",
    "\n",
    "import os\n",
    "for dirname, _, filenames in os.walk('/kaggle/input'):\n",
    "    for filename in filenames:\n",
    "        print(os.path.join(dirname, filename))\n",
    "\n",
    "# You can write up to 20GB to the current directory (/kaggle/working/) that gets preserved as output when you create a version using \"Save & Run All\" \n",
    "# You can also write temporary files to /kaggle/temp/, but they won't be saved outside of the current session"
   ]
  },
  {
   "cell_type": "markdown",
   "id": "d48c797a",
   "metadata": {
    "papermill": {
     "duration": 0.003313,
     "end_time": "2023-01-07T03:53:49.432359",
     "exception": false,
     "start_time": "2023-01-07T03:53:49.429046",
     "status": "completed"
    },
    "tags": []
   },
   "source": [
    "# Introductory Summary\n",
    "\n",
    "1. Rank : 70th / 688 ( late submission)\n",
    "\n",
    "2. Feature Engineering of DateTime Variables\n",
    "\n",
    "3. Model : Random Forest"
   ]
  },
  {
   "cell_type": "code",
   "execution_count": 2,
   "id": "d14dd20c",
   "metadata": {
    "execution": {
     "iopub.execute_input": "2023-01-07T03:53:49.441426Z",
     "iopub.status.busy": "2023-01-07T03:53:49.440999Z",
     "iopub.status.idle": "2023-01-07T03:53:49.798167Z",
     "shell.execute_reply": "2023-01-07T03:53:49.796706Z"
    },
    "papermill": {
     "duration": 0.365354,
     "end_time": "2023-01-07T03:53:49.801347",
     "exception": false,
     "start_time": "2023-01-07T03:53:49.435993",
     "status": "completed"
    },
    "tags": []
   },
   "outputs": [],
   "source": [
    "train = pd.read_csv('/kaggle/input/walmart-recruiting-store-sales-forecasting/train.csv.zip')\n",
    "test = pd.read_csv('/kaggle/input/walmart-recruiting-store-sales-forecasting/test.csv.zip')"
   ]
  },
  {
   "cell_type": "code",
   "execution_count": 3,
   "id": "e377a58e",
   "metadata": {
    "execution": {
     "iopub.execute_input": "2023-01-07T03:53:49.810045Z",
     "iopub.status.busy": "2023-01-07T03:53:49.809640Z",
     "iopub.status.idle": "2023-01-07T03:53:49.840720Z",
     "shell.execute_reply": "2023-01-07T03:53:49.839259Z"
    },
    "papermill": {
     "duration": 0.038139,
     "end_time": "2023-01-07T03:53:49.843312",
     "exception": false,
     "start_time": "2023-01-07T03:53:49.805173",
     "status": "completed"
    },
    "tags": []
   },
   "outputs": [
    {
     "data": {
      "text/html": [
       "<div>\n",
       "<style scoped>\n",
       "    .dataframe tbody tr th:only-of-type {\n",
       "        vertical-align: middle;\n",
       "    }\n",
       "\n",
       "    .dataframe tbody tr th {\n",
       "        vertical-align: top;\n",
       "    }\n",
       "\n",
       "    .dataframe thead th {\n",
       "        text-align: right;\n",
       "    }\n",
       "</style>\n",
       "<table border=\"1\" class=\"dataframe\">\n",
       "  <thead>\n",
       "    <tr style=\"text-align: right;\">\n",
       "      <th></th>\n",
       "      <th>Store</th>\n",
       "      <th>Dept</th>\n",
       "      <th>Date</th>\n",
       "      <th>Weekly_Sales</th>\n",
       "      <th>IsHoliday</th>\n",
       "    </tr>\n",
       "  </thead>\n",
       "  <tbody>\n",
       "    <tr>\n",
       "      <th>0</th>\n",
       "      <td>1</td>\n",
       "      <td>1</td>\n",
       "      <td>2010-02-05</td>\n",
       "      <td>24924.50</td>\n",
       "      <td>False</td>\n",
       "    </tr>\n",
       "    <tr>\n",
       "      <th>1</th>\n",
       "      <td>1</td>\n",
       "      <td>1</td>\n",
       "      <td>2010-02-12</td>\n",
       "      <td>46039.49</td>\n",
       "      <td>True</td>\n",
       "    </tr>\n",
       "    <tr>\n",
       "      <th>2</th>\n",
       "      <td>1</td>\n",
       "      <td>1</td>\n",
       "      <td>2010-02-19</td>\n",
       "      <td>41595.55</td>\n",
       "      <td>False</td>\n",
       "    </tr>\n",
       "    <tr>\n",
       "      <th>3</th>\n",
       "      <td>1</td>\n",
       "      <td>1</td>\n",
       "      <td>2010-02-26</td>\n",
       "      <td>19403.54</td>\n",
       "      <td>False</td>\n",
       "    </tr>\n",
       "    <tr>\n",
       "      <th>4</th>\n",
       "      <td>1</td>\n",
       "      <td>1</td>\n",
       "      <td>2010-03-05</td>\n",
       "      <td>21827.90</td>\n",
       "      <td>False</td>\n",
       "    </tr>\n",
       "    <tr>\n",
       "      <th>...</th>\n",
       "      <td>...</td>\n",
       "      <td>...</td>\n",
       "      <td>...</td>\n",
       "      <td>...</td>\n",
       "      <td>...</td>\n",
       "    </tr>\n",
       "    <tr>\n",
       "      <th>421565</th>\n",
       "      <td>45</td>\n",
       "      <td>98</td>\n",
       "      <td>2012-09-28</td>\n",
       "      <td>508.37</td>\n",
       "      <td>False</td>\n",
       "    </tr>\n",
       "    <tr>\n",
       "      <th>421566</th>\n",
       "      <td>45</td>\n",
       "      <td>98</td>\n",
       "      <td>2012-10-05</td>\n",
       "      <td>628.10</td>\n",
       "      <td>False</td>\n",
       "    </tr>\n",
       "    <tr>\n",
       "      <th>421567</th>\n",
       "      <td>45</td>\n",
       "      <td>98</td>\n",
       "      <td>2012-10-12</td>\n",
       "      <td>1061.02</td>\n",
       "      <td>False</td>\n",
       "    </tr>\n",
       "    <tr>\n",
       "      <th>421568</th>\n",
       "      <td>45</td>\n",
       "      <td>98</td>\n",
       "      <td>2012-10-19</td>\n",
       "      <td>760.01</td>\n",
       "      <td>False</td>\n",
       "    </tr>\n",
       "    <tr>\n",
       "      <th>421569</th>\n",
       "      <td>45</td>\n",
       "      <td>98</td>\n",
       "      <td>2012-10-26</td>\n",
       "      <td>1076.80</td>\n",
       "      <td>False</td>\n",
       "    </tr>\n",
       "  </tbody>\n",
       "</table>\n",
       "<p>421570 rows × 5 columns</p>\n",
       "</div>"
      ],
      "text/plain": [
       "        Store  Dept        Date  Weekly_Sales  IsHoliday\n",
       "0           1     1  2010-02-05      24924.50      False\n",
       "1           1     1  2010-02-12      46039.49       True\n",
       "2           1     1  2010-02-19      41595.55      False\n",
       "3           1     1  2010-02-26      19403.54      False\n",
       "4           1     1  2010-03-05      21827.90      False\n",
       "...       ...   ...         ...           ...        ...\n",
       "421565     45    98  2012-09-28        508.37      False\n",
       "421566     45    98  2012-10-05        628.10      False\n",
       "421567     45    98  2012-10-12       1061.02      False\n",
       "421568     45    98  2012-10-19        760.01      False\n",
       "421569     45    98  2012-10-26       1076.80      False\n",
       "\n",
       "[421570 rows x 5 columns]"
      ]
     },
     "execution_count": 3,
     "metadata": {},
     "output_type": "execute_result"
    }
   ],
   "source": [
    "train"
   ]
  },
  {
   "cell_type": "code",
   "execution_count": 4,
   "id": "19c7ff51",
   "metadata": {
    "execution": {
     "iopub.execute_input": "2023-01-07T03:53:49.852953Z",
     "iopub.status.busy": "2023-01-07T03:53:49.852078Z",
     "iopub.status.idle": "2023-01-07T03:53:49.866195Z",
     "shell.execute_reply": "2023-01-07T03:53:49.865040Z"
    },
    "papermill": {
     "duration": 0.021142,
     "end_time": "2023-01-07T03:53:49.868303",
     "exception": false,
     "start_time": "2023-01-07T03:53:49.847161",
     "status": "completed"
    },
    "tags": []
   },
   "outputs": [
    {
     "data": {
      "text/html": [
       "<div>\n",
       "<style scoped>\n",
       "    .dataframe tbody tr th:only-of-type {\n",
       "        vertical-align: middle;\n",
       "    }\n",
       "\n",
       "    .dataframe tbody tr th {\n",
       "        vertical-align: top;\n",
       "    }\n",
       "\n",
       "    .dataframe thead th {\n",
       "        text-align: right;\n",
       "    }\n",
       "</style>\n",
       "<table border=\"1\" class=\"dataframe\">\n",
       "  <thead>\n",
       "    <tr style=\"text-align: right;\">\n",
       "      <th></th>\n",
       "      <th>Store</th>\n",
       "      <th>Dept</th>\n",
       "      <th>Date</th>\n",
       "      <th>IsHoliday</th>\n",
       "    </tr>\n",
       "  </thead>\n",
       "  <tbody>\n",
       "    <tr>\n",
       "      <th>0</th>\n",
       "      <td>1</td>\n",
       "      <td>1</td>\n",
       "      <td>2012-11-02</td>\n",
       "      <td>False</td>\n",
       "    </tr>\n",
       "    <tr>\n",
       "      <th>1</th>\n",
       "      <td>1</td>\n",
       "      <td>1</td>\n",
       "      <td>2012-11-09</td>\n",
       "      <td>False</td>\n",
       "    </tr>\n",
       "    <tr>\n",
       "      <th>2</th>\n",
       "      <td>1</td>\n",
       "      <td>1</td>\n",
       "      <td>2012-11-16</td>\n",
       "      <td>False</td>\n",
       "    </tr>\n",
       "    <tr>\n",
       "      <th>3</th>\n",
       "      <td>1</td>\n",
       "      <td>1</td>\n",
       "      <td>2012-11-23</td>\n",
       "      <td>True</td>\n",
       "    </tr>\n",
       "    <tr>\n",
       "      <th>4</th>\n",
       "      <td>1</td>\n",
       "      <td>1</td>\n",
       "      <td>2012-11-30</td>\n",
       "      <td>False</td>\n",
       "    </tr>\n",
       "    <tr>\n",
       "      <th>...</th>\n",
       "      <td>...</td>\n",
       "      <td>...</td>\n",
       "      <td>...</td>\n",
       "      <td>...</td>\n",
       "    </tr>\n",
       "    <tr>\n",
       "      <th>115059</th>\n",
       "      <td>45</td>\n",
       "      <td>98</td>\n",
       "      <td>2013-06-28</td>\n",
       "      <td>False</td>\n",
       "    </tr>\n",
       "    <tr>\n",
       "      <th>115060</th>\n",
       "      <td>45</td>\n",
       "      <td>98</td>\n",
       "      <td>2013-07-05</td>\n",
       "      <td>False</td>\n",
       "    </tr>\n",
       "    <tr>\n",
       "      <th>115061</th>\n",
       "      <td>45</td>\n",
       "      <td>98</td>\n",
       "      <td>2013-07-12</td>\n",
       "      <td>False</td>\n",
       "    </tr>\n",
       "    <tr>\n",
       "      <th>115062</th>\n",
       "      <td>45</td>\n",
       "      <td>98</td>\n",
       "      <td>2013-07-19</td>\n",
       "      <td>False</td>\n",
       "    </tr>\n",
       "    <tr>\n",
       "      <th>115063</th>\n",
       "      <td>45</td>\n",
       "      <td>98</td>\n",
       "      <td>2013-07-26</td>\n",
       "      <td>False</td>\n",
       "    </tr>\n",
       "  </tbody>\n",
       "</table>\n",
       "<p>115064 rows × 4 columns</p>\n",
       "</div>"
      ],
      "text/plain": [
       "        Store  Dept        Date  IsHoliday\n",
       "0           1     1  2012-11-02      False\n",
       "1           1     1  2012-11-09      False\n",
       "2           1     1  2012-11-16      False\n",
       "3           1     1  2012-11-23       True\n",
       "4           1     1  2012-11-30      False\n",
       "...       ...   ...         ...        ...\n",
       "115059     45    98  2013-06-28      False\n",
       "115060     45    98  2013-07-05      False\n",
       "115061     45    98  2013-07-12      False\n",
       "115062     45    98  2013-07-19      False\n",
       "115063     45    98  2013-07-26      False\n",
       "\n",
       "[115064 rows x 4 columns]"
      ]
     },
     "execution_count": 4,
     "metadata": {},
     "output_type": "execute_result"
    }
   ],
   "source": [
    "test"
   ]
  },
  {
   "cell_type": "code",
   "execution_count": 5,
   "id": "6703ffe0",
   "metadata": {
    "execution": {
     "iopub.execute_input": "2023-01-07T03:53:49.879128Z",
     "iopub.status.busy": "2023-01-07T03:53:49.878056Z",
     "iopub.status.idle": "2023-01-07T03:53:50.196943Z",
     "shell.execute_reply": "2023-01-07T03:53:50.196030Z"
    },
    "papermill": {
     "duration": 0.327337,
     "end_time": "2023-01-07T03:53:50.199693",
     "exception": false,
     "start_time": "2023-01-07T03:53:49.872356",
     "status": "completed"
    },
    "tags": []
   },
   "outputs": [],
   "source": [
    "alldata = pd.concat([train,test])\n",
    "\n",
    "alldata['Date'] = pd.to_datetime(alldata['Date'])\n",
    "alldata['Year'] = alldata['Date'].dt.year\n",
    "alldata['Month'] = alldata['Date'].dt.month\n",
    "alldata['Day'] = alldata['Date'].dt.day\n",
    "\n",
    "alldata = alldata.drop(columns = ['Weekly_Sales','Date'])"
   ]
  },
  {
   "cell_type": "code",
   "execution_count": 6,
   "id": "5018afbe",
   "metadata": {
    "execution": {
     "iopub.execute_input": "2023-01-07T03:53:50.209335Z",
     "iopub.status.busy": "2023-01-07T03:53:50.208951Z",
     "iopub.status.idle": "2023-01-07T03:53:50.214493Z",
     "shell.execute_reply": "2023-01-07T03:53:50.213250Z"
    },
    "papermill": {
     "duration": 0.01302,
     "end_time": "2023-01-07T03:53:50.216857",
     "exception": false,
     "start_time": "2023-01-07T03:53:50.203837",
     "status": "completed"
    },
    "tags": []
   },
   "outputs": [],
   "source": [
    "train2 = alldata[:len(train)]\n",
    "test2 = alldata[len(train):]"
   ]
  },
  {
   "cell_type": "code",
   "execution_count": 7,
   "id": "f7504a33",
   "metadata": {
    "execution": {
     "iopub.execute_input": "2023-01-07T03:53:50.226877Z",
     "iopub.status.busy": "2023-01-07T03:53:50.226460Z",
     "iopub.status.idle": "2023-01-07T03:54:32.187939Z",
     "shell.execute_reply": "2023-01-07T03:54:32.186957Z"
    },
    "papermill": {
     "duration": 41.969777,
     "end_time": "2023-01-07T03:54:32.190606",
     "exception": false,
     "start_time": "2023-01-07T03:53:50.220829",
     "status": "completed"
    },
    "tags": []
   },
   "outputs": [],
   "source": [
    "from sklearn.ensemble import RandomForestRegressor\n",
    "rf = RandomForestRegressor(n_jobs = 4)\n",
    "rf.fit(train2, train['Weekly_Sales'])\n",
    "result = rf.predict(test2)"
   ]
  },
  {
   "cell_type": "code",
   "execution_count": 8,
   "id": "bf556757",
   "metadata": {
    "execution": {
     "iopub.execute_input": "2023-01-07T03:54:32.200646Z",
     "iopub.status.busy": "2023-01-07T03:54:32.200160Z",
     "iopub.status.idle": "2023-01-07T03:54:32.569682Z",
     "shell.execute_reply": "2023-01-07T03:54:32.568790Z"
    },
    "papermill": {
     "duration": 0.377166,
     "end_time": "2023-01-07T03:54:32.572150",
     "exception": false,
     "start_time": "2023-01-07T03:54:32.194984",
     "status": "completed"
    },
    "tags": []
   },
   "outputs": [],
   "source": [
    "sub = pd.read_csv('/kaggle/input/walmart-recruiting-store-sales-forecasting/sampleSubmission.csv.zip')\n",
    "sub['Weekly_Sales'] = result\n",
    "sub.to_csv('sub.csv', index = 0)"
   ]
  },
  {
   "cell_type": "code",
   "execution_count": 9,
   "id": "d7e67986",
   "metadata": {
    "execution": {
     "iopub.execute_input": "2023-01-07T03:54:32.582556Z",
     "iopub.status.busy": "2023-01-07T03:54:32.581460Z",
     "iopub.status.idle": "2023-01-07T03:54:32.587029Z",
     "shell.execute_reply": "2023-01-07T03:54:32.586110Z"
    },
    "papermill": {
     "duration": 0.013069,
     "end_time": "2023-01-07T03:54:32.589326",
     "exception": false,
     "start_time": "2023-01-07T03:54:32.576257",
     "status": "completed"
    },
    "tags": []
   },
   "outputs": [],
   "source": [
    "# train = pd.read_csv('/kaggle/input/walmart-recruiting-store-sales-forecasting/train.csv.zip')\n",
    "# test = pd.read_csv('/kaggle/input/walmart-recruiting-store-sales-forecasting/test.csv.zip')\n",
    "\n",
    "# alldata = pd.concat([train,test])\n",
    "\n",
    "# alldata['Date'] = pd.to_datetime(alldata['Date'])\n",
    "# alldata['Year'] = alldata['Date'].dt.year\n",
    "# alldata['Month'] = alldata['Date'].dt.month\n",
    "# alldata['Day'] = alldata['Date'].dt.day\n",
    "\n",
    "# alldata = alldata.drop(columns = ['Weekly_Sales','Date'])\n",
    "\n",
    "# train2 = alldata[:len(train)]\n",
    "# test2 = alldata[len(train):]\n",
    "\n",
    "# from sklearn.ensemble import RandomForestRegressor\n",
    "# rf = RandomForestRegressor(n_jobs = 4)\n",
    "# rf.fit(train2, train['Weekly_Sales'])\n",
    "# result = rf.predict(test2)\n",
    "\n",
    "# sub = pd.read_csv('/kaggle/input/walmart-recruiting-store-sales-forecasting/sampleSubmission.csv.zip')\n",
    "# sub['Weekly_Sales'] = result\n",
    "# sub.to_csv('sub.csv', index = 0)"
   ]
  },
  {
   "cell_type": "code",
   "execution_count": null,
   "id": "1f050348",
   "metadata": {
    "papermill": {
     "duration": 0.003591,
     "end_time": "2023-01-07T03:54:32.596964",
     "exception": false,
     "start_time": "2023-01-07T03:54:32.593373",
     "status": "completed"
    },
    "tags": []
   },
   "outputs": [],
   "source": []
  }
 ],
 "metadata": {
  "kernelspec": {
   "display_name": "Python 3",
   "language": "python",
   "name": "python3"
  },
  "language_info": {
   "codemirror_mode": {
    "name": "ipython",
    "version": 3
   },
   "file_extension": ".py",
   "mimetype": "text/x-python",
   "name": "python",
   "nbconvert_exporter": "python",
   "pygments_lexer": "ipython3",
   "version": "3.7.12"
  },
  "papermill": {
   "default_parameters": {},
   "duration": 52.679771,
   "end_time": "2023-01-07T03:54:33.623980",
   "environment_variables": {},
   "exception": null,
   "input_path": "__notebook__.ipynb",
   "output_path": "__notebook__.ipynb",
   "parameters": {},
   "start_time": "2023-01-07T03:53:40.944209",
   "version": "2.3.4"
  }
 },
 "nbformat": 4,
 "nbformat_minor": 5
}
