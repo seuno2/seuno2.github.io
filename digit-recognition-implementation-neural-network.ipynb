{
 "cells": [
  {
   "cell_type": "code",
   "execution_count": 1,
   "id": "9ae78d9a",
   "metadata": {
    "_cell_guid": "b1076dfc-b9ad-4769-8c92-a6c4dae69d19",
    "_uuid": "8f2839f25d086af736a60e9eeb907d3b93b6e0e5",
    "execution": {
     "iopub.execute_input": "2023-01-08T08:48:31.548245Z",
     "iopub.status.busy": "2023-01-08T08:48:31.547806Z",
     "iopub.status.idle": "2023-01-08T08:48:31.561861Z",
     "shell.execute_reply": "2023-01-08T08:48:31.559893Z"
    },
    "papermill": {
     "duration": 0.024448,
     "end_time": "2023-01-08T08:48:31.564799",
     "exception": false,
     "start_time": "2023-01-08T08:48:31.540351",
     "status": "completed"
    },
    "tags": []
   },
   "outputs": [
    {
     "name": "stdout",
     "output_type": "stream",
     "text": [
      "/kaggle/input/digit-recognizer/sample_submission.csv\n",
      "/kaggle/input/digit-recognizer/train.csv\n",
      "/kaggle/input/digit-recognizer/test.csv\n"
     ]
    }
   ],
   "source": [
    "# This Python 3 environment comes with many helpful analytics libraries installed\n",
    "# It is defined by the kaggle/python Docker image: https://github.com/kaggle/docker-python\n",
    "# For example, here's several helpful packages to load\n",
    "\n",
    "import numpy as np # linear algebra\n",
    "import pandas as pd # data processing, CSV file I/O (e.g. pd.read_csv)\n",
    "from matplotlib import pyplot as plt\n",
    "\n",
    "# Input data files are available in the read-only \"../input/\" directory\n",
    "# For example, running this (by clicking run or pressing Shift+Enter) will list all files under the input directory\n",
    "\n",
    "import os\n",
    "for dirname, _, filenames in os.walk('/kaggle/input'):\n",
    "    for filename in filenames:\n",
    "        print(os.path.join(dirname, filename))\n",
    "\n",
    "# You can write up to 20GB to the current directory (/kaggle/working/) that gets preserved as output when you create a version using \"Save & Run All\" \n",
    "# You can also write temporary files to /kaggle/temp/, but they won't be saved outside of the current session"
   ]
  },
  {
   "cell_type": "markdown",
   "id": "ca92c656",
   "metadata": {
    "papermill": {
     "duration": 0.004291,
     "end_time": "2023-01-08T08:48:31.574477",
     "exception": false,
     "start_time": "2023-01-08T08:48:31.570186",
     "status": "completed"
    },
    "tags": []
   },
   "source": [
    "# Introductory Summary\n",
    "\n",
    "1. Dataset : MNIST \n",
    "\n",
    "2. Structure : Input Layer - Hidden Layer1 - Hidden Layer2 - Output Layer\n",
    "\n",
    "#### $$X \\longrightarrow 𝑍[1]=𝑊[1]𝑋+𝑏[1] \\longrightarrow 𝐴[1]=𝑅𝑒𝐿𝑈(𝑍[1])) \\longrightarrow 𝑍[2]=𝑊[2]𝐴[1]+𝑏[2] \\longrightarrow 𝐴[2]=𝑠𝑜𝑓𝑡𝑚𝑎𝑥(𝑍[2]) $$\n",
    "\n",
    "3. Activation Function : ReLU\n",
    "\n",
    "4. "
   ]
  },
  {
   "cell_type": "markdown",
   "id": "454016f9",
   "metadata": {
    "papermill": {
     "duration": 0.004204,
     "end_time": "2023-01-08T08:48:31.583295",
     "exception": false,
     "start_time": "2023-01-08T08:48:31.579091",
     "status": "completed"
    },
    "tags": []
   },
   "source": [
    "# Data Input & Split"
   ]
  },
  {
   "cell_type": "code",
   "execution_count": 2,
   "id": "737a31a7",
   "metadata": {
    "execution": {
     "iopub.execute_input": "2023-01-08T08:48:31.594359Z",
     "iopub.status.busy": "2023-01-08T08:48:31.593936Z",
     "iopub.status.idle": "2023-01-08T08:48:31.600001Z",
     "shell.execute_reply": "2023-01-08T08:48:31.598843Z"
    },
    "papermill": {
     "duration": 0.014279,
     "end_time": "2023-01-08T08:48:31.602327",
     "exception": false,
     "start_time": "2023-01-08T08:48:31.588048",
     "status": "completed"
    },
    "tags": []
   },
   "outputs": [],
   "source": [
    "def one_hot(Y):\n",
    "    one_hot_Y = np.zeros((Y.size,Y.max()+1))\n",
    "    one_hot_Y[np.arange(Y.size),Y] = 1\n",
    "    one_hot_Y = one_hot_Y.T\n",
    "    return one_hot_Y"
   ]
  },
  {
   "cell_type": "code",
   "execution_count": 3,
   "id": "5d077bd3",
   "metadata": {
    "execution": {
     "iopub.execute_input": "2023-01-08T08:48:31.613674Z",
     "iopub.status.busy": "2023-01-08T08:48:31.612843Z",
     "iopub.status.idle": "2023-01-08T08:48:36.116684Z",
     "shell.execute_reply": "2023-01-08T08:48:36.115524Z"
    },
    "papermill": {
     "duration": 4.512375,
     "end_time": "2023-01-08T08:48:36.119323",
     "exception": false,
     "start_time": "2023-01-08T08:48:31.606948",
     "status": "completed"
    },
    "tags": []
   },
   "outputs": [],
   "source": [
    "data = pd.read_csv('/kaggle/input/digit-recognizer/train.csv')\n",
    "data1 = data\n",
    "data = np.array(data)\n",
    "m, n = data.shape\n",
    "np.random.shuffle(data)\n",
    "\n",
    "\n",
    "data_train = data[:m].T\n",
    "Y_train = data_train[0]\n",
    "X_train = data_train[1:n]\n",
    "X_train = X_train / 255.\n",
    "#_,m_train = X_train.shape\n"
   ]
  },
  {
   "cell_type": "markdown",
   "id": "0666efc0",
   "metadata": {
    "papermill": {
     "duration": 0.004194,
     "end_time": "2023-01-08T08:48:36.128589",
     "exception": false,
     "start_time": "2023-01-08T08:48:36.124395",
     "status": "completed"
    },
    "tags": []
   },
   "source": [
    "# Forward Propagation\n",
    "\n",
    "$Z^{[1]} = W^{[1]} X + b^{[1]}$\n",
    "\n",
    "$A^{[1]} = ReLU(Z^{[1]}))$\n",
    "\n",
    "$Z^{[2]} = W^{[2]} A^{[1]} + b^{[2]}$\n",
    "\n",
    "$A^{[2]} = softmax(Z^{[2]})$"
   ]
  },
  {
   "cell_type": "markdown",
   "id": "7ae4226a",
   "metadata": {
    "papermill": {
     "duration": 0.004144,
     "end_time": "2023-01-08T08:48:36.137186",
     "exception": false,
     "start_time": "2023-01-08T08:48:36.133042",
     "status": "completed"
    },
    "tags": []
   },
   "source": [
    "# Backward Propagation\n",
    "\n",
    "$Loss = - \\Sigma[{y_{[k]} *log(a_{[k]})]}$\n",
    "\n",
    "$Cost = - \\frac{1}{m}\\Sigma\\Sigma[{y_{[k]} *log(a_{[k]})]}$\n",
    "\n",
    "$dZ^{[2]} = A^{[2]} - Y$  : Derivative of Loss Function with respect to Z\n",
    "\n",
    "$dW^{[2]} = \\frac{1}{m} dZ^{[2]} A^{[1]T}$ : Derivative of Cost Function with respect to W\n",
    "\n",
    "$dB^{[2]} = \\frac{1}{m} \\Sigma {dZ^{[2]}}$\n",
    "\n",
    "$dZ^{[1]} = W^{[2]T} dZ^{[2]} .* g^{[1]\\prime} (z^{[1]})$\n",
    "\n",
    "$dW^{[1]} = \\frac{1}{m} dZ^{[1]} A^{[0]T}$\n",
    "\n",
    "$dB^{[1]} = \\frac{1}{m} \\Sigma {dZ^{[1]}}$\n"
   ]
  },
  {
   "cell_type": "markdown",
   "id": "4392ed0a",
   "metadata": {
    "papermill": {
     "duration": 0.003941,
     "end_time": "2023-01-08T08:48:36.145404",
     "exception": false,
     "start_time": "2023-01-08T08:48:36.141463",
     "status": "completed"
    },
    "tags": []
   },
   "source": [
    "# Updating Parameters\n",
    "\n",
    "$\\alpha $  : learning  rate\n",
    "\n",
    "$W^{[2]} := W^{[2]} - \\alpha dW^{[2]}$\n",
    "\n",
    "$b^{[2]} := b^{[2]} - \\alpha db^{[2]}$\n",
    "\n",
    "$W^{[1]} := W^{[1]} - \\alpha dW^{[1]}$\n",
    "\n",
    "$b^{[1]} := b^{[1]} - \\alpha db^{[1]}$"
   ]
  },
  {
   "cell_type": "code",
   "execution_count": 4,
   "id": "94083a13",
   "metadata": {
    "execution": {
     "iopub.execute_input": "2023-01-08T08:48:36.155756Z",
     "iopub.status.busy": "2023-01-08T08:48:36.155347Z",
     "iopub.status.idle": "2023-01-08T08:48:36.172634Z",
     "shell.execute_reply": "2023-01-08T08:48:36.171438Z"
    },
    "papermill": {
     "duration": 0.025338,
     "end_time": "2023-01-08T08:48:36.175012",
     "exception": false,
     "start_time": "2023-01-08T08:48:36.149674",
     "status": "completed"
    },
    "tags": []
   },
   "outputs": [],
   "source": [
    "def init_params():\n",
    "    W1 = np.random.rand(10,784) - 0.5\n",
    "    b1 = np.random.rand(10,1) - 0.5\n",
    "    W2 = np.random.rand(10,10) - 0.5\n",
    "    b2 = np.random.rand(10,1) - 0.5\n",
    "    return W1,b1,W2,b2\n",
    "\n",
    "def ReLU(Z):\n",
    "    return np.maximum(Z,0)\n",
    "\n",
    "def softmax(Z):\n",
    "    return np.exp(Z)/sum(np.exp(Z), 0)\n",
    "    \n",
    "\n",
    "def forward_prop(W1,b1,W2,b2,X):\n",
    "    Z1 = W1.dot(X) + b1\n",
    "    A1 = ReLU(Z1)\n",
    "    Z2 = W2.dot(A1) + b2\n",
    "    A2 = softmax(Z2)\n",
    "    return Z1,A1,Z2,A2\n",
    "\n",
    "#cost function\n",
    "def cost_function(A2,one_hot_Y):\n",
    "    m = Y.shape[1]\n",
    "    cost = -(1/m)*np.sum(Y*np.log(A2))\n",
    "    return cost\n",
    "\n",
    "\n",
    "def one_hot(Y):\n",
    "    one_hot_Y = np.zeros((Y.size,Y.max()+1))\n",
    "    one_hot_Y[np.arange(Y.size),Y] = 1       # for every observation(row), access to the column specified by the label in Y\n",
    "    one_hot_Y = one_hot_Y.T\n",
    "    return one_hot_Y\n",
    "    \n",
    "\n",
    "def deriv_ReLU(Z):\n",
    "    return Z>0\n",
    "    \n",
    "    \n",
    "def back_prop(Z1,A1,Z2,A2,W1,W2,X,Y):\n",
    "    #m = Y.size\n",
    "    one_hot_Y = one_hot(Y)\n",
    "    dZ2 = A2 - one_hot_Y\n",
    "    dW2 = 1 / m * dZ2.dot(A1.T)\n",
    "    db2 = 1 / m * np.sum(dZ2, axis = 1, keepdims = True)\n",
    "    dZ1 = W2.T.dot(dZ2)*deriv_ReLU(Z1)\n",
    "    dW1 = 1 / m * dZ1.dot(X.T)\n",
    "    db1 = 1 / m * np.sum(dZ1, axis = 1, keepdims = True)\n",
    "    \n",
    "    return dW1, db1, dW2, db2\n",
    "\n",
    "def update_params(W1, b1, W2, b2, dW1, db1, dW2, db2, alpha):\n",
    "        \n",
    "    W1 = W1 - alpha * dW1\n",
    "    b1 = b1 - alpha * db1\n",
    "    W2 = W2 - alpha * dW2\n",
    "    b2 = b2 - alpha * db2\n",
    "    return W1, b1, W2, b2\n",
    "\n",
    "\n",
    "\n",
    "    "
   ]
  },
  {
   "cell_type": "markdown",
   "id": "0bf64530",
   "metadata": {
    "papermill": {
     "duration": 0.004126,
     "end_time": "2023-01-08T08:48:36.183889",
     "exception": false,
     "start_time": "2023-01-08T08:48:36.179763",
     "status": "completed"
    },
    "tags": []
   },
   "source": [
    "# Performance"
   ]
  },
  {
   "cell_type": "code",
   "execution_count": 5,
   "id": "570ee2d9",
   "metadata": {
    "execution": {
     "iopub.execute_input": "2023-01-08T08:48:36.194703Z",
     "iopub.status.busy": "2023-01-08T08:48:36.193728Z",
     "iopub.status.idle": "2023-01-08T08:48:36.201788Z",
     "shell.execute_reply": "2023-01-08T08:48:36.200997Z"
    },
    "papermill": {
     "duration": 0.015784,
     "end_time": "2023-01-08T08:48:36.204006",
     "exception": false,
     "start_time": "2023-01-08T08:48:36.188222",
     "status": "completed"
    },
    "tags": []
   },
   "outputs": [],
   "source": [
    "def get_accuracy(predictions, Y):\n",
    "    print(predictions, Y)\n",
    "    return np.sum(predictions == Y) / Y.size\n",
    "\n",
    "def get_predictions(A2):\n",
    "    return np.argmax(A2, 0)\n",
    "\n",
    "def gradient_descent(X, Y, alpha,iterations):\n",
    "    W1, b1, W2, b2 = init_params()\n",
    "    for i in range(iterations):\n",
    "        Z1, A1, Z2, A2 = forward_prop(W1, b1, W2, b2, X)\n",
    "        dW1, db1, dW2, db2 = back_prop(Z1, A1, Z2, A2, W1, W2, X, Y)\n",
    "        W1, b1, W2, b2 = update_params(W1, b1, W2, b2, dW1, db1, dW2, db2, alpha)\n",
    "        if i % 20 == 0:\n",
    "            print('Iterations : ', i)\n",
    "            print('Accuracy : ', get_accuracy(get_predictions(A2),Y))\n",
    "    return W1, b1, W2, b2"
   ]
  },
  {
   "cell_type": "markdown",
   "id": "5b643374",
   "metadata": {
    "papermill": {
     "duration": 0.004202,
     "end_time": "2023-01-08T08:48:36.212948",
     "exception": false,
     "start_time": "2023-01-08T08:48:36.208746",
     "status": "completed"
    },
    "tags": []
   },
   "source": [
    "# Train & Test"
   ]
  },
  {
   "cell_type": "code",
   "execution_count": 6,
   "id": "aa5b1cb1",
   "metadata": {
    "execution": {
     "iopub.execute_input": "2023-01-08T08:48:36.223656Z",
     "iopub.status.busy": "2023-01-08T08:48:36.223229Z",
     "iopub.status.idle": "2023-01-08T08:48:36.230911Z",
     "shell.execute_reply": "2023-01-08T08:48:36.229759Z"
    },
    "papermill": {
     "duration": 0.015682,
     "end_time": "2023-01-08T08:48:36.233035",
     "exception": false,
     "start_time": "2023-01-08T08:48:36.217353",
     "status": "completed"
    },
    "tags": []
   },
   "outputs": [],
   "source": [
    "def make_predictions(X, W1, b1, W2, b2):\n",
    "    _, _, _, A2 = forward_prop(W1, b1, W2, b2, X)\n",
    "    predictions = get_predictions(A2)\n",
    "    return predictions\n",
    "\n",
    "def test_prediction(index, W1, b1, W2, b2):\n",
    "    current_image = X_train[:, index, None]\n",
    "    prediction = make_predictions(X_train[:, index, None], W1, b1, W2, b2)\n",
    "    label = Y_train[index]\n",
    "    print(\"Prediction: \", prediction)\n",
    "    print(\"Label: \", label)\n",
    "    \n",
    "    current_image = current_image.reshape((28, 28)) * 255\n",
    "    plt.gray()\n",
    "    plt.imshow(current_image, interpolation='nearest')\n",
    "    plt.show()"
   ]
  },
  {
   "cell_type": "code",
   "execution_count": 7,
   "id": "9c705e92",
   "metadata": {
    "execution": {
     "iopub.execute_input": "2023-01-08T08:48:36.244641Z",
     "iopub.status.busy": "2023-01-08T08:48:36.243930Z",
     "iopub.status.idle": "2023-01-08T08:49:53.647699Z",
     "shell.execute_reply": "2023-01-08T08:49:53.645873Z"
    },
    "papermill": {
     "duration": 77.414502,
     "end_time": "2023-01-08T08:49:53.652099",
     "exception": false,
     "start_time": "2023-01-08T08:48:36.237597",
     "status": "completed"
    },
    "tags": []
   },
   "outputs": [
    {
     "name": "stdout",
     "output_type": "stream",
     "text": [
      "Iterations :  0\n",
      "[1 6 1 ... 1 1 1] [9 1 9 ... 3 6 0]\n",
      "Accuracy :  0.0705\n",
      "Iterations :  20\n",
      "[8 6 7 ... 1 1 3] [9 1 9 ... 3 6 0]\n",
      "Accuracy :  0.2893809523809524\n",
      "Iterations :  40\n",
      "[8 1 7 ... 3 1 5] [9 1 9 ... 3 6 0]\n",
      "Accuracy :  0.41578571428571426\n",
      "Iterations :  60\n",
      "[7 1 1 ... 3 1 5] [9 1 9 ... 3 6 0]\n",
      "Accuracy :  0.5415238095238095\n",
      "Iterations :  80\n",
      "[7 1 1 ... 3 1 5] [9 1 9 ... 3 6 0]\n",
      "Accuracy :  0.6393809523809524\n",
      "Iterations :  100\n",
      "[7 1 5 ... 3 6 0] [9 1 9 ... 3 6 0]\n",
      "Accuracy :  0.6954523809523809\n",
      "Iterations :  120\n",
      "[7 1 5 ... 3 6 0] [9 1 9 ... 3 6 0]\n",
      "Accuracy :  0.7296428571428571\n",
      "Iterations :  140\n",
      "[7 1 5 ... 3 6 0] [9 1 9 ... 3 6 0]\n",
      "Accuracy :  0.7542142857142857\n",
      "Iterations :  160\n",
      "[7 1 5 ... 3 6 0] [9 1 9 ... 3 6 0]\n",
      "Accuracy :  0.7741190476190476\n",
      "Iterations :  180\n",
      "[7 1 5 ... 3 6 0] [9 1 9 ... 3 6 0]\n",
      "Accuracy :  0.7883809523809524\n",
      "Iterations :  200\n",
      "[7 1 5 ... 3 6 0] [9 1 9 ... 3 6 0]\n",
      "Accuracy :  0.7997857142857143\n",
      "Iterations :  220\n",
      "[7 1 5 ... 3 6 0] [9 1 9 ... 3 6 0]\n",
      "Accuracy :  0.8100238095238095\n",
      "Iterations :  240\n",
      "[7 1 5 ... 3 6 0] [9 1 9 ... 3 6 0]\n",
      "Accuracy :  0.8187619047619048\n",
      "Iterations :  260\n",
      "[7 1 5 ... 3 6 0] [9 1 9 ... 3 6 0]\n",
      "Accuracy :  0.8254047619047619\n",
      "Iterations :  280\n",
      "[7 1 5 ... 3 6 0] [9 1 9 ... 3 6 0]\n",
      "Accuracy :  0.8310714285714286\n",
      "Iterations :  300\n",
      "[7 1 5 ... 3 6 0] [9 1 9 ... 3 6 0]\n",
      "Accuracy :  0.8362857142857143\n",
      "Iterations :  320\n",
      "[7 1 5 ... 3 6 0] [9 1 9 ... 3 6 0]\n",
      "Accuracy :  0.8408333333333333\n",
      "Iterations :  340\n",
      "[7 1 5 ... 3 6 0] [9 1 9 ... 3 6 0]\n",
      "Accuracy :  0.8447380952380953\n",
      "Iterations :  360\n",
      "[7 1 5 ... 3 6 0] [9 1 9 ... 3 6 0]\n",
      "Accuracy :  0.8483333333333334\n",
      "Iterations :  380\n",
      "[7 1 5 ... 3 6 0] [9 1 9 ... 3 6 0]\n",
      "Accuracy :  0.8511904761904762\n",
      "Iterations :  400\n",
      "[7 1 5 ... 3 6 0] [9 1 9 ... 3 6 0]\n",
      "Accuracy :  0.8541428571428571\n",
      "Iterations :  420\n",
      "[7 1 5 ... 3 6 0] [9 1 9 ... 3 6 0]\n",
      "Accuracy :  0.856547619047619\n",
      "Iterations :  440\n",
      "[7 1 5 ... 3 6 0] [9 1 9 ... 3 6 0]\n",
      "Accuracy :  0.8592380952380952\n",
      "Iterations :  460\n",
      "[7 1 5 ... 3 6 0] [9 1 9 ... 3 6 0]\n",
      "Accuracy :  0.8611904761904762\n",
      "Iterations :  480\n",
      "[7 1 5 ... 3 6 0] [9 1 9 ... 3 6 0]\n",
      "Accuracy :  0.8635238095238095\n"
     ]
    }
   ],
   "source": [
    "W1, b1, W2, b2 = gradient_descent(X_train, Y_train, 0.15, 500)"
   ]
  },
  {
   "cell_type": "code",
   "execution_count": 8,
   "id": "577f87cd",
   "metadata": {
    "execution": {
     "iopub.execute_input": "2023-01-08T08:49:53.684523Z",
     "iopub.status.busy": "2023-01-08T08:49:53.683828Z",
     "iopub.status.idle": "2023-01-08T08:49:54.717214Z",
     "shell.execute_reply": "2023-01-08T08:49:54.715714Z"
    },
    "papermill": {
     "duration": 1.052836,
     "end_time": "2023-01-08T08:49:54.719948",
     "exception": false,
     "start_time": "2023-01-08T08:49:53.667112",
     "status": "completed"
    },
    "tags": []
   },
   "outputs": [
    {
     "name": "stdout",
     "output_type": "stream",
     "text": [
      "Prediction:  [3]\n",
      "Label:  3\n"
     ]
    },
    {
     "data": {
      "image/png": "[encoded data removed]",
      "text/plain": [
       "<Figure size 432x288 with 1 Axes>"
      ]
     },
     "metadata": {
      "needs_background": "light"
     },
     "output_type": "display_data"
    },
    {
     "name": "stdout",
     "output_type": "stream",
     "text": [
      "Prediction:  [1]\n",
      "Label:  1\n"
     ]
    },
    {
     "data": {
      "image/png": "[encoded data removed]",
      "text/plain": [
       "<Figure size 432x288 with 1 Axes>"
      ]
     },
     "metadata": {
      "needs_background": "light"
     },
     "output_type": "display_data"
    },
    {
     "name": "stdout",
     "output_type": "stream",
     "text": [
      "Prediction:  [8]\n",
      "Label:  8\n"
     ]
    },
    {
     "data": {
      "image/png": "[encoded data removed]",
      "text/plain": [
       "<Figure size 432x288 with 1 Axes>"
      ]
     },
     "metadata": {
      "needs_background": "light"
     },
     "output_type": "display_data"
    },
    {
     "name": "stdout",
     "output_type": "stream",
     "text": [
      "Prediction:  [4]\n",
      "Label:  4\n"
     ]
    },
    {
     "data": {
      "image/png": "[encoded data removed]",
      "text/plain": [
       "<Figure size 432x288 with 1 Axes>"
      ]
     },
     "metadata": {
      "needs_background": "light"
     },
     "output_type": "display_data"
    },
    {
     "name": "stdout",
     "output_type": "stream",
     "text": [
      "Prediction:  [7]\n",
      "Label:  7\n"
     ]
    },
    {
     "data": {
      "image/png": "[encoded data removed]",
      "text/plain": [
       "<Figure size 432x288 with 1 Axes>"
      ]
     },
     "metadata": {
      "needs_background": "light"
     },
     "output_type": "display_data"
    },
    {
     "name": "stdout",
     "output_type": "stream",
     "text": [
      "Prediction:  [0]\n",
      "Label:  0\n"
     ]
    },
    {
     "data": {
      "image/png": "[encoded data removed]",
      "text/plain": [
       "<Figure size 432x288 with 1 Axes>"
      ]
     },
     "metadata": {
      "needs_background": "light"
     },
     "output_type": "display_data"
    },
    {
     "name": "stdout",
     "output_type": "stream",
     "text": [
      "Prediction:  [4]\n",
      "Label:  4\n"
     ]
    },
    {
     "data": {
      "image/png": "[encoded data removed]",
      "text/plain": [
       "<Figure size 432x288 with 1 Axes>"
      ]
     },
     "metadata": {
      "needs_background": "light"
     },
     "output_type": "display_data"
    }
   ],
   "source": [
    "test_prediction(37, W1, b1, W2, b2)\n",
    "test_prediction(1, W1, b1, W2, b2)\n",
    "test_prediction(7, W1, b1, W2, b2)\n",
    "test_prediction(34, W1, b1, W2, b2)\n",
    "test_prediction(24, W1, b1, W2, b2)\n",
    "test_prediction(6, W1, b1, W2, b2)\n",
    "test_prediction(97, W1, b1, W2, b2)"
   ]
  },
  {
   "cell_type": "markdown",
   "id": "f252c170",
   "metadata": {
    "papermill": {
     "duration": 0.00752,
     "end_time": "2023-01-08T08:49:54.735756",
     "exception": false,
     "start_time": "2023-01-08T08:49:54.728236",
     "status": "completed"
    },
    "tags": []
   },
   "source": [
    "# Insights\n",
    "\n",
    "1. Few number of layers - it would have performed better with more hidden layers.\n",
    "\n",
    "2. Parameters(weights) Initialization - the optimal value depends on the initial value of W.\n",
    "\n",
    "3. Vanishing Gradient - vanishing gradient may have led to lack of training, even though the training dataset was large enough."
   ]
  },
  {
   "cell_type": "code",
   "execution_count": null,
   "id": "5dba6cf7",
   "metadata": {
    "papermill": {
     "duration": 0.00847,
     "end_time": "2023-01-08T08:49:54.752092",
     "exception": false,
     "start_time": "2023-01-08T08:49:54.743622",
     "status": "completed"
    },
    "tags": []
   },
   "outputs": [],
   "source": []
  }
 ],
 "metadata": {
  "kernelspec": {
   "display_name": "Python 3",
   "language": "python",
   "name": "python3"
  },
  "language_info": {
   "codemirror_mode": {
    "name": "ipython",
    "version": 3
   },
   "file_extension": ".py",
   "mimetype": "text/x-python",
   "name": "python",
   "nbconvert_exporter": "python",
   "pygments_lexer": "ipython3",
   "version": "3.7.12"
  },
  "papermill": {
   "default_parameters": {},
   "duration": 92.567383,
   "end_time": "2023-01-08T08:49:55.483275",
   "environment_variables": {},
   "exception": null,
   "input_path": "__notebook__.ipynb",
   "output_path": "__notebook__.ipynb",
   "parameters": {},
   "start_time": "2023-01-08T08:48:22.915892",
   "version": "2.3.4"
  }
 },
 "nbformat": 4,
 "nbformat_minor": 5
}
