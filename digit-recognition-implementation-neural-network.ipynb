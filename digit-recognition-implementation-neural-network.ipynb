{
 "cells": [
  {
   "cell_type": "code",
   "execution_count": 1,
   "id": "aea11c6d",
   "metadata": {
    "_cell_guid": "b1076dfc-b9ad-4769-8c92-a6c4dae69d19",
    "_uuid": "8f2839f25d086af736a60e9eeb907d3b93b6e0e5",
    "execution": {
     "iopub.execute_input": "2023-01-08T09:17:50.255270Z",
     "iopub.status.busy": "2023-01-08T09:17:50.254396Z",
     "iopub.status.idle": "2023-01-08T09:17:50.267904Z",
     "shell.execute_reply": "2023-01-08T09:17:50.266772Z"
    },
    "papermill": {
     "duration": 0.024376,
     "end_time": "2023-01-08T09:17:50.271291",
     "exception": false,
     "start_time": "2023-01-08T09:17:50.246915",
     "status": "completed"
    },
    "tags": []
   },
   "outputs": [
    {
     "name": "stdout",
     "output_type": "stream",
     "text": [
      "/kaggle/input/digit-recognizer/sample_submission.csv\n",
      "/kaggle/input/digit-recognizer/train.csv\n",
      "/kaggle/input/digit-recognizer/test.csv\n"
     ]
    }
   ],
   "source": [
    "# This Python 3 environment comes with many helpful analytics libraries installed\n",
    "# It is defined by the kaggle/python Docker image: https://github.com/kaggle/docker-python\n",
    "# For example, here's several helpful packages to load\n",
    "\n",
    "import numpy as np # linear algebra\n",
    "import pandas as pd # data processing, CSV file I/O (e.g. pd.read_csv)\n",
    "from matplotlib import pyplot as plt\n",
    "\n",
    "# Input data files are available in the read-only \"../input/\" directory\n",
    "# For example, running this (by clicking run or pressing Shift+Enter) will list all files under the input directory\n",
    "\n",
    "import os\n",
    "for dirname, _, filenames in os.walk('/kaggle/input'):\n",
    "    for filename in filenames:\n",
    "        print(os.path.join(dirname, filename))\n",
    "\n",
    "# You can write up to 20GB to the current directory (/kaggle/working/) that gets preserved as output when you create a version using \"Save & Run All\" \n",
    "# You can also write temporary files to /kaggle/temp/, but they won't be saved outside of the current session"
   ]
  },
  {
   "cell_type": "markdown",
   "id": "71366d41",
   "metadata": {
    "papermill": {
     "duration": 0.003922,
     "end_time": "2023-01-08T09:17:50.279806",
     "exception": false,
     "start_time": "2023-01-08T09:17:50.275884",
     "status": "completed"
    },
    "tags": []
   },
   "source": [
    "# Introductory Summary\n",
    "\n",
    "1. Dataset : MNIST \n",
    "\n",
    "2. Structure : Input Layer - Hidden Layer1 - Hidden Layer2 - Output Layer\n",
    "\n",
    "#### $$X \\longrightarrow 𝑍[1]=𝑊[1]𝑋+𝑏[1] \\longrightarrow 𝐴[1]=𝑅𝑒𝐿𝑈(𝑍[1])) \\longrightarrow 𝑍[2]=𝑊[2]𝐴[1]+𝑏[2] \\longrightarrow 𝐴[2]=𝑠𝑜𝑓𝑡𝑚𝑎𝑥(𝑍[2]) $$\n",
    "\n",
    "3. Activation Function : ReLU\n",
    "\n",
    "4. Framework : X (only pandas & numpy)"
   ]
  },
  {
   "cell_type": "markdown",
   "id": "9cf1b462",
   "metadata": {
    "papermill": {
     "duration": 0.00417,
     "end_time": "2023-01-08T09:17:50.288198",
     "exception": false,
     "start_time": "2023-01-08T09:17:50.284028",
     "status": "completed"
    },
    "tags": []
   },
   "source": [
    "# Data Input & Split"
   ]
  },
  {
   "cell_type": "code",
   "execution_count": 2,
   "id": "28ab4fbd",
   "metadata": {
    "execution": {
     "iopub.execute_input": "2023-01-08T09:17:50.298657Z",
     "iopub.status.busy": "2023-01-08T09:17:50.297523Z",
     "iopub.status.idle": "2023-01-08T09:17:50.303788Z",
     "shell.execute_reply": "2023-01-08T09:17:50.302955Z"
    },
    "papermill": {
     "duration": 0.013432,
     "end_time": "2023-01-08T09:17:50.305893",
     "exception": false,
     "start_time": "2023-01-08T09:17:50.292461",
     "status": "completed"
    },
    "tags": []
   },
   "outputs": [],
   "source": [
    "def one_hot(Y):\n",
    "    one_hot_Y = np.zeros((Y.size,Y.max()+1))\n",
    "    one_hot_Y[np.arange(Y.size),Y] = 1\n",
    "    one_hot_Y = one_hot_Y.T\n",
    "    return one_hot_Y"
   ]
  },
  {
   "cell_type": "code",
   "execution_count": 3,
   "id": "cc33f84d",
   "metadata": {
    "execution": {
     "iopub.execute_input": "2023-01-08T09:17:50.315960Z",
     "iopub.status.busy": "2023-01-08T09:17:50.315575Z",
     "iopub.status.idle": "2023-01-08T09:17:54.696679Z",
     "shell.execute_reply": "2023-01-08T09:17:54.695599Z"
    },
    "papermill": {
     "duration": 4.388824,
     "end_time": "2023-01-08T09:17:54.699205",
     "exception": false,
     "start_time": "2023-01-08T09:17:50.310381",
     "status": "completed"
    },
    "tags": []
   },
   "outputs": [],
   "source": [
    "data = pd.read_csv('/kaggle/input/digit-recognizer/train.csv')\n",
    "data1 = data\n",
    "data = np.array(data)\n",
    "m, n = data.shape\n",
    "np.random.shuffle(data)\n",
    "\n",
    "\n",
    "data_train = data[:m].T\n",
    "Y_train = data_train[0]\n",
    "X_train = data_train[1:n]\n",
    "X_train = X_train / 255.\n",
    "#_,m_train = X_train.shape\n"
   ]
  },
  {
   "cell_type": "markdown",
   "id": "79d45a83",
   "metadata": {
    "papermill": {
     "duration": 0.004057,
     "end_time": "2023-01-08T09:17:54.707611",
     "exception": false,
     "start_time": "2023-01-08T09:17:54.703554",
     "status": "completed"
    },
    "tags": []
   },
   "source": [
    "# Forward Propagation\n",
    "\n",
    "$Z^{[1]} = W^{[1]} X + b^{[1]}$\n",
    "\n",
    "$A^{[1]} = ReLU(Z^{[1]}))$\n",
    "\n",
    "$Z^{[2]} = W^{[2]} A^{[1]} + b^{[2]}$\n",
    "\n",
    "$A^{[2]} = softmax(Z^{[2]})$"
   ]
  },
  {
   "cell_type": "markdown",
   "id": "798486ba",
   "metadata": {
    "papermill": {
     "duration": 0.003869,
     "end_time": "2023-01-08T09:17:54.715671",
     "exception": false,
     "start_time": "2023-01-08T09:17:54.711802",
     "status": "completed"
    },
    "tags": []
   },
   "source": [
    "# Backward Propagation\n",
    "\n",
    "$Loss = - \\Sigma[{y_{[k]} *log(a_{[k]})]}$\n",
    "\n",
    "$Cost = - \\frac{1}{m}\\Sigma\\Sigma[{y_{[k]} *log(a_{[k]})]}$\n",
    "\n",
    "$dZ^{[2]} = A^{[2]} - Y$  : Derivative of Loss Function with respect to Z\n",
    "\n",
    "$dW^{[2]} = \\frac{1}{m} dZ^{[2]} A^{[1]T}$ : Derivative of Cost Function with respect to W\n",
    "\n",
    "$dB^{[2]} = \\frac{1}{m} \\Sigma {dZ^{[2]}}$\n",
    "\n",
    "$dZ^{[1]} = W^{[2]T} dZ^{[2]} .* g^{[1]\\prime} (z^{[1]})$\n",
    "\n",
    "$dW^{[1]} = \\frac{1}{m} dZ^{[1]} A^{[0]T}$\n",
    "\n",
    "$dB^{[1]} = \\frac{1}{m} \\Sigma {dZ^{[1]}}$\n"
   ]
  },
  {
   "cell_type": "markdown",
   "id": "cb1a0061",
   "metadata": {
    "papermill": {
     "duration": 0.003831,
     "end_time": "2023-01-08T09:17:54.723526",
     "exception": false,
     "start_time": "2023-01-08T09:17:54.719695",
     "status": "completed"
    },
    "tags": []
   },
   "source": [
    "# Updating Parameters\n",
    "\n",
    "$\\alpha $  : learning  rate\n",
    "\n",
    "$W^{[2]} := W^{[2]} - \\alpha dW^{[2]}$\n",
    "\n",
    "$b^{[2]} := b^{[2]} - \\alpha db^{[2]}$\n",
    "\n",
    "$W^{[1]} := W^{[1]} - \\alpha dW^{[1]}$\n",
    "\n",
    "$b^{[1]} := b^{[1]} - \\alpha db^{[1]}$"
   ]
  },
  {
   "cell_type": "code",
   "execution_count": 4,
   "id": "7bfa083f",
   "metadata": {
    "execution": {
     "iopub.execute_input": "2023-01-08T09:17:54.733437Z",
     "iopub.status.busy": "2023-01-08T09:17:54.733074Z",
     "iopub.status.idle": "2023-01-08T09:17:54.748747Z",
     "shell.execute_reply": "2023-01-08T09:17:54.747760Z"
    },
    "papermill": {
     "duration": 0.024015,
     "end_time": "2023-01-08T09:17:54.751528",
     "exception": false,
     "start_time": "2023-01-08T09:17:54.727513",
     "status": "completed"
    },
    "tags": []
   },
   "outputs": [],
   "source": [
    "def init_params():\n",
    "    W1 = np.random.rand(10,784) - 0.5\n",
    "    b1 = np.random.rand(10,1) - 0.5\n",
    "    W2 = np.random.rand(10,10) - 0.5\n",
    "    b2 = np.random.rand(10,1) - 0.5\n",
    "    return W1,b1,W2,b2\n",
    "\n",
    "def ReLU(Z):\n",
    "    return np.maximum(Z,0)\n",
    "\n",
    "def softmax(Z):\n",
    "    return np.exp(Z)/sum(np.exp(Z), 0)\n",
    "    \n",
    "\n",
    "def forward_prop(W1,b1,W2,b2,X):\n",
    "    Z1 = W1.dot(X) + b1\n",
    "    A1 = ReLU(Z1)\n",
    "    Z2 = W2.dot(A1) + b2\n",
    "    A2 = softmax(Z2)\n",
    "    return Z1,A1,Z2,A2\n",
    "\n",
    "#cost function\n",
    "def cost_function(A2,one_hot_Y):\n",
    "    m = Y.shape[1]\n",
    "    cost = -(1/m)*np.sum(Y*np.log(A2))\n",
    "    return cost\n",
    "\n",
    "\n",
    "def one_hot(Y):\n",
    "    one_hot_Y = np.zeros((Y.size,Y.max()+1))\n",
    "    one_hot_Y[np.arange(Y.size),Y] = 1       # for every observation(row), access to the column specified by the label in Y\n",
    "    one_hot_Y = one_hot_Y.T\n",
    "    return one_hot_Y\n",
    "    \n",
    "\n",
    "def deriv_ReLU(Z):\n",
    "    return Z>0\n",
    "    \n",
    "    \n",
    "def back_prop(Z1,A1,Z2,A2,W1,W2,X,Y):\n",
    "    #m = Y.size\n",
    "    one_hot_Y = one_hot(Y)\n",
    "    dZ2 = A2 - one_hot_Y\n",
    "    dW2 = 1 / m * dZ2.dot(A1.T)\n",
    "    db2 = 1 / m * np.sum(dZ2, axis = 1, keepdims = True)\n",
    "    dZ1 = W2.T.dot(dZ2)*deriv_ReLU(Z1)\n",
    "    dW1 = 1 / m * dZ1.dot(X.T)\n",
    "    db1 = 1 / m * np.sum(dZ1, axis = 1, keepdims = True)\n",
    "    \n",
    "    return dW1, db1, dW2, db2\n",
    "\n",
    "def update_params(W1, b1, W2, b2, dW1, db1, dW2, db2, alpha):\n",
    "        \n",
    "    W1 = W1 - alpha * dW1\n",
    "    b1 = b1 - alpha * db1\n",
    "    W2 = W2 - alpha * dW2\n",
    "    b2 = b2 - alpha * db2\n",
    "    return W1, b1, W2, b2\n",
    "\n",
    "\n",
    "\n",
    "    "
   ]
  },
  {
   "cell_type": "markdown",
   "id": "8b6288ed",
   "metadata": {
    "papermill": {
     "duration": 0.003927,
     "end_time": "2023-01-08T09:17:54.759957",
     "exception": false,
     "start_time": "2023-01-08T09:17:54.756030",
     "status": "completed"
    },
    "tags": []
   },
   "source": [
    "# Performance"
   ]
  },
  {
   "cell_type": "code",
   "execution_count": 5,
   "id": "39c2fc93",
   "metadata": {
    "execution": {
     "iopub.execute_input": "2023-01-08T09:17:54.769937Z",
     "iopub.status.busy": "2023-01-08T09:17:54.769189Z",
     "iopub.status.idle": "2023-01-08T09:17:54.777048Z",
     "shell.execute_reply": "2023-01-08T09:17:54.776121Z"
    },
    "papermill": {
     "duration": 0.015156,
     "end_time": "2023-01-08T09:17:54.779178",
     "exception": false,
     "start_time": "2023-01-08T09:17:54.764022",
     "status": "completed"
    },
    "tags": []
   },
   "outputs": [],
   "source": [
    "def get_accuracy(predictions, Y):\n",
    "    print(predictions, Y)\n",
    "    return np.sum(predictions == Y) / Y.size\n",
    "\n",
    "def get_predictions(A2):\n",
    "    return np.argmax(A2, 0)\n",
    "\n",
    "def gradient_descent(X, Y, alpha,iterations):\n",
    "    W1, b1, W2, b2 = init_params()\n",
    "    for i in range(iterations):\n",
    "        Z1, A1, Z2, A2 = forward_prop(W1, b1, W2, b2, X)\n",
    "        dW1, db1, dW2, db2 = back_prop(Z1, A1, Z2, A2, W1, W2, X, Y)\n",
    "        W1, b1, W2, b2 = update_params(W1, b1, W2, b2, dW1, db1, dW2, db2, alpha)\n",
    "        if i % 20 == 0:\n",
    "            print('Iterations : ', i)\n",
    "            print('Accuracy : ', get_accuracy(get_predictions(A2),Y))\n",
    "    return W1, b1, W2, b2"
   ]
  },
  {
   "cell_type": "markdown",
   "id": "714a3323",
   "metadata": {
    "papermill": {
     "duration": 0.0041,
     "end_time": "2023-01-08T09:17:54.787575",
     "exception": false,
     "start_time": "2023-01-08T09:17:54.783475",
     "status": "completed"
    },
    "tags": []
   },
   "source": [
    "# Train & Test"
   ]
  },
  {
   "cell_type": "code",
   "execution_count": 6,
   "id": "8dc4b92d",
   "metadata": {
    "execution": {
     "iopub.execute_input": "2023-01-08T09:17:54.797755Z",
     "iopub.status.busy": "2023-01-08T09:17:54.797092Z",
     "iopub.status.idle": "2023-01-08T09:17:54.803781Z",
     "shell.execute_reply": "2023-01-08T09:17:54.803052Z"
    },
    "papermill": {
     "duration": 0.014012,
     "end_time": "2023-01-08T09:17:54.805819",
     "exception": false,
     "start_time": "2023-01-08T09:17:54.791807",
     "status": "completed"
    },
    "tags": []
   },
   "outputs": [],
   "source": [
    "def make_predictions(X, W1, b1, W2, b2):\n",
    "    _, _, _, A2 = forward_prop(W1, b1, W2, b2, X)\n",
    "    predictions = get_predictions(A2)\n",
    "    return predictions\n",
    "\n",
    "def test_prediction(index, W1, b1, W2, b2):\n",
    "    current_image = X_train[:, index, None]\n",
    "    prediction = make_predictions(X_train[:, index, None], W1, b1, W2, b2)\n",
    "    label = Y_train[index]\n",
    "    print(\"Prediction: \", prediction)\n",
    "    print(\"Label: \", label)\n",
    "    \n",
    "    current_image = current_image.reshape((28, 28)) * 255\n",
    "    plt.gray()\n",
    "    plt.imshow(current_image, interpolation='nearest')\n",
    "    plt.show()"
   ]
  },
  {
   "cell_type": "code",
   "execution_count": 7,
   "id": "d60973f2",
   "metadata": {
    "execution": {
     "iopub.execute_input": "2023-01-08T09:17:54.815893Z",
     "iopub.status.busy": "2023-01-08T09:17:54.815319Z",
     "iopub.status.idle": "2023-01-08T09:19:09.793738Z",
     "shell.execute_reply": "2023-01-08T09:19:09.792178Z"
    },
    "papermill": {
     "duration": 74.9883,
     "end_time": "2023-01-08T09:19:09.798398",
     "exception": false,
     "start_time": "2023-01-08T09:17:54.810098",
     "status": "completed"
    },
    "tags": []
   },
   "outputs": [
    {
     "name": "stdout",
     "output_type": "stream",
     "text": [
      "Iterations :  0\n",
      "[2 2 2 ... 1 2 2] [7 5 7 ... 4 2 3]\n",
      "Accuracy :  0.09435714285714286\n",
      "Iterations :  20\n",
      "[7 0 7 ... 4 3 3] [7 5 7 ... 4 2 3]\n",
      "Accuracy :  0.3937857142857143\n",
      "Iterations :  40\n",
      "[7 0 7 ... 4 2 3] [7 5 7 ... 4 2 3]\n",
      "Accuracy :  0.5414285714285715\n",
      "Iterations :  60\n",
      "[7 0 7 ... 4 2 3] [7 5 7 ... 4 2 3]\n",
      "Accuracy :  0.6344047619047619\n",
      "Iterations :  80\n",
      "[7 0 7 ... 4 2 3] [7 5 7 ... 4 2 3]\n",
      "Accuracy :  0.6890714285714286\n",
      "Iterations :  100\n",
      "[7 0 7 ... 4 2 3] [7 5 7 ... 4 2 3]\n",
      "Accuracy :  0.7279523809523809\n",
      "Iterations :  120\n",
      "[7 0 7 ... 4 2 3] [7 5 7 ... 4 2 3]\n",
      "Accuracy :  0.7555714285714286\n",
      "Iterations :  140\n",
      "[7 0 7 ... 4 2 3] [7 5 7 ... 4 2 3]\n",
      "Accuracy :  0.7757142857142857\n",
      "Iterations :  160\n",
      "[7 0 7 ... 4 2 3] [7 5 7 ... 4 2 3]\n",
      "Accuracy :  0.7911904761904762\n",
      "Iterations :  180\n",
      "[7 0 7 ... 4 2 3] [7 5 7 ... 4 2 3]\n",
      "Accuracy :  0.8042857142857143\n",
      "Iterations :  200\n",
      "[7 0 7 ... 4 2 3] [7 5 7 ... 4 2 3]\n",
      "Accuracy :  0.8144523809523809\n",
      "Iterations :  220\n",
      "[7 0 7 ... 4 2 3] [7 5 7 ... 4 2 3]\n",
      "Accuracy :  0.8228333333333333\n",
      "Iterations :  240\n",
      "[7 0 7 ... 4 2 3] [7 5 7 ... 4 2 3]\n",
      "Accuracy :  0.83\n",
      "Iterations :  260\n",
      "[7 0 7 ... 4 2 3] [7 5 7 ... 4 2 3]\n",
      "Accuracy :  0.8357380952380953\n",
      "Iterations :  280\n",
      "[7 0 7 ... 4 2 3] [7 5 7 ... 4 2 3]\n",
      "Accuracy :  0.8403571428571428\n",
      "Iterations :  300\n",
      "[7 0 7 ... 4 2 3] [7 5 7 ... 4 2 3]\n",
      "Accuracy :  0.8449523809523809\n",
      "Iterations :  320\n",
      "[7 0 7 ... 4 2 3] [7 5 7 ... 4 2 3]\n",
      "Accuracy :  0.8489761904761904\n",
      "Iterations :  340\n",
      "[7 0 7 ... 4 2 3] [7 5 7 ... 4 2 3]\n",
      "Accuracy :  0.8523571428571428\n",
      "Iterations :  360\n",
      "[7 0 7 ... 4 2 3] [7 5 7 ... 4 2 3]\n",
      "Accuracy :  0.8552380952380952\n",
      "Iterations :  380\n",
      "[7 0 7 ... 4 2 3] [7 5 7 ... 4 2 3]\n",
      "Accuracy :  0.858547619047619\n",
      "Iterations :  400\n",
      "[7 0 7 ... 4 2 3] [7 5 7 ... 4 2 3]\n",
      "Accuracy :  0.8609523809523809\n",
      "Iterations :  420\n",
      "[7 0 7 ... 4 2 3] [7 5 7 ... 4 2 3]\n",
      "Accuracy :  0.8633095238095239\n",
      "Iterations :  440\n",
      "[7 0 7 ... 4 2 3] [7 5 7 ... 4 2 3]\n",
      "Accuracy :  0.8658809523809524\n",
      "Iterations :  460\n",
      "[7 0 7 ... 4 2 3] [7 5 7 ... 4 2 3]\n",
      "Accuracy :  0.867904761904762\n",
      "Iterations :  480\n",
      "[7 0 7 ... 4 2 3] [7 5 7 ... 4 2 3]\n",
      "Accuracy :  0.8695238095238095\n"
     ]
    }
   ],
   "source": [
    "W1, b1, W2, b2 = gradient_descent(X_train, Y_train, 0.15, 500)"
   ]
  },
  {
   "cell_type": "code",
   "execution_count": 8,
   "id": "4931171f",
   "metadata": {
    "execution": {
     "iopub.execute_input": "2023-01-08T09:19:09.831068Z",
     "iopub.status.busy": "2023-01-08T09:19:09.829340Z",
     "iopub.status.idle": "2023-01-08T09:19:11.227741Z",
     "shell.execute_reply": "2023-01-08T09:19:11.226763Z"
    },
    "papermill": {
     "duration": 1.417179,
     "end_time": "2023-01-08T09:19:11.229910",
     "exception": false,
     "start_time": "2023-01-08T09:19:09.812731",
     "status": "completed"
    },
    "tags": []
   },
   "outputs": [
    {
     "name": "stdout",
     "output_type": "stream",
     "text": [
      "Prediction:  [2]\n",
      "Label:  2\n"
     ]
    },
    {
     "data": {
      "image/png": "[encoded data removed]",
      "text/plain": [
       "<Figure size 432x288 with 1 Axes>"
      ]
     },
     "metadata": {
      "needs_background": "light"
     },
     "output_type": "display_data"
    },
    {
     "name": "stdout",
     "output_type": "stream",
     "text": [
      "Prediction:  [0]\n",
      "Label:  5\n"
     ]
    },
    {
     "data": {
      "image/png": "[encoded data removed]",
      "text/plain": [
       "<Figure size 432x288 with 1 Axes>"
      ]
     },
     "metadata": {
      "needs_background": "light"
     },
     "output_type": "display_data"
    },
    {
     "name": "stdout",
     "output_type": "stream",
     "text": [
      "Prediction:  [7]\n",
      "Label:  7\n"
     ]
    },
    {
     "data": {
      "image/png": "[encoded data removed]",
      "text/plain": [
       "<Figure size 432x288 with 1 Axes>"
      ]
     },
     "metadata": {
      "needs_background": "light"
     },
     "output_type": "display_data"
    },
    {
     "name": "stdout",
     "output_type": "stream",
     "text": [
      "Prediction:  [4]\n",
      "Label:  4\n"
     ]
    },
    {
     "data": {
      "image/png": "[encoded data removed]",
      "text/plain": [
       "<Figure size 432x288 with 1 Axes>"
      ]
     },
     "metadata": {
      "needs_background": "light"
     },
     "output_type": "display_data"
    },
    {
     "name": "stdout",
     "output_type": "stream",
     "text": [
      "Prediction:  [7]\n",
      "Label:  7\n"
     ]
    },
    {
     "data": {
      "image/png": "[encoded data removed]",
      "text/plain": [
       "<Figure size 432x288 with 1 Axes>"
      ]
     },
     "metadata": {
      "needs_background": "light"
     },
     "output_type": "display_data"
    },
    {
     "name": "stdout",
     "output_type": "stream",
     "text": [
      "Prediction:  [1]\n",
      "Label:  1\n"
     ]
    },
    {
     "data": {
      "image/png": "[encoded data removed]",
      "text/plain": [
       "<Figure size 432x288 with 1 Axes>"
      ]
     },
     "metadata": {
      "needs_background": "light"
     },
     "output_type": "display_data"
    },
    {
     "name": "stdout",
     "output_type": "stream",
     "text": [
      "Prediction:  [8]\n",
      "Label:  8\n"
     ]
    },
    {
     "data": {
      "image/png": "[encoded data removed]",
      "text/plain": [
       "<Figure size 432x288 with 1 Axes>"
      ]
     },
     "metadata": {
      "needs_background": "light"
     },
     "output_type": "display_data"
    }
   ],
   "source": [
    "test_prediction(37, W1, b1, W2, b2)\n",
    "test_prediction(1, W1, b1, W2, b2)\n",
    "test_prediction(7, W1, b1, W2, b2)\n",
    "test_prediction(34, W1, b1, W2, b2)\n",
    "test_prediction(24, W1, b1, W2, b2)\n",
    "test_prediction(6, W1, b1, W2, b2)\n",
    "test_prediction(97, W1, b1, W2, b2)"
   ]
  },
  {
   "cell_type": "markdown",
   "id": "c6269f8d",
   "metadata": {
    "papermill": {
     "duration": 0.007491,
     "end_time": "2023-01-08T09:19:11.245651",
     "exception": false,
     "start_time": "2023-01-08T09:19:11.238160",
     "status": "completed"
    },
    "tags": []
   },
   "source": [
    "# Insights\n",
    "\n",
    "1. Few number of layers - it would have performed better with more hidden layers.\n",
    "\n",
    "2. Parameters(weights) Initialization - the optimal value depends on the initial value of W.\n",
    "\n",
    "3. Vanishing Gradient - vanishing gradient may have led to lack of training, even though the training dataset was large enough."
   ]
  },
  {
   "cell_type": "code",
   "execution_count": null,
   "id": "805cb7d5",
   "metadata": {
    "papermill": {
     "duration": 0.007508,
     "end_time": "2023-01-08T09:19:11.261287",
     "exception": false,
     "start_time": "2023-01-08T09:19:11.253779",
     "status": "completed"
    },
    "tags": []
   },
   "outputs": [],
   "source": []
  }
 ],
 "metadata": {
  "kernelspec": {
   "display_name": "Python 3",
   "language": "python",
   "name": "python3"
  },
  "language_info": {
   "codemirror_mode": {
    "name": "ipython",
    "version": 3
   },
   "file_extension": ".py",
   "mimetype": "text/x-python",
   "name": "python",
   "nbconvert_exporter": "python",
   "pygments_lexer": "ipython3",
   "version": "3.7.12"
  },
  "papermill": {
   "default_parameters": {},
   "duration": 89.688009,
   "end_time": "2023-01-08T09:19:11.890257",
   "environment_variables": {},
   "exception": null,
   "input_path": "__notebook__.ipynb",
   "output_path": "__notebook__.ipynb",
   "parameters": {},
   "start_time": "2023-01-08T09:17:42.202248",
   "version": "2.3.4"
  }
 },
 "nbformat": 4,
 "nbformat_minor": 5
}
