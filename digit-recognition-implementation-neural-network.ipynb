{
 "cells": [
  {
   "cell_type": "code",
   "execution_count": 1,
   "id": "7d2cbe5c",
   "metadata": {
    "_cell_guid": "b1076dfc-b9ad-4769-8c92-a6c4dae69d19",
    "_uuid": "8f2839f25d086af736a60e9eeb907d3b93b6e0e5",
    "execution": {
     "iopub.execute_input": "2023-01-04T11:59:30.172295Z",
     "iopub.status.busy": "2023-01-04T11:59:30.171327Z",
     "iopub.status.idle": "2023-01-04T11:59:30.187745Z",
     "shell.execute_reply": "2023-01-04T11:59:30.186562Z"
    },
    "papermill": {
     "duration": 0.026119,
     "end_time": "2023-01-04T11:59:30.190176",
     "exception": false,
     "start_time": "2023-01-04T11:59:30.164057",
     "status": "completed"
    },
    "tags": []
   },
   "outputs": [
    {
     "name": "stdout",
     "output_type": "stream",
     "text": [
      "/kaggle/input/digit-recognizer/sample_submission.csv\n",
      "/kaggle/input/digit-recognizer/train.csv\n",
      "/kaggle/input/digit-recognizer/test.csv\n"
     ]
    }
   ],
   "source": [
    "# This Python 3 environment comes with many helpful analytics libraries installed\n",
    "# It is defined by the kaggle/python Docker image: https://github.com/kaggle/docker-python\n",
    "# For example, here's several helpful packages to load\n",
    "\n",
    "import numpy as np # linear algebra\n",
    "import pandas as pd # data processing, CSV file I/O (e.g. pd.read_csv)\n",
    "from matplotlib import pyplot as plt\n",
    "\n",
    "# Input data files are available in the read-only \"../input/\" directory\n",
    "# For example, running this (by clicking run or pressing Shift+Enter) will list all files under the input directory\n",
    "\n",
    "import os\n",
    "for dirname, _, filenames in os.walk('/kaggle/input'):\n",
    "    for filename in filenames:\n",
    "        print(os.path.join(dirname, filename))\n",
    "\n",
    "# You can write up to 20GB to the current directory (/kaggle/working/) that gets preserved as output when you create a version using \"Save & Run All\" \n",
    "# You can also write temporary files to /kaggle/temp/, but they won't be saved outside of the current session"
   ]
  },
  {
   "cell_type": "markdown",
   "id": "6b9f7a53",
   "metadata": {
    "papermill": {
     "duration": 0.003854,
     "end_time": "2023-01-04T11:59:30.198536",
     "exception": false,
     "start_time": "2023-01-04T11:59:30.194682",
     "status": "completed"
    },
    "tags": []
   },
   "source": [
    "# DATA INPUT & SPLIT"
   ]
  },
  {
   "cell_type": "code",
   "execution_count": 2,
   "id": "9604282c",
   "metadata": {
    "execution": {
     "iopub.execute_input": "2023-01-04T11:59:30.208438Z",
     "iopub.status.busy": "2023-01-04T11:59:30.208062Z",
     "iopub.status.idle": "2023-01-04T11:59:30.213981Z",
     "shell.execute_reply": "2023-01-04T11:59:30.212754Z"
    },
    "papermill": {
     "duration": 0.013721,
     "end_time": "2023-01-04T11:59:30.216390",
     "exception": false,
     "start_time": "2023-01-04T11:59:30.202669",
     "status": "completed"
    },
    "tags": []
   },
   "outputs": [],
   "source": [
    "def one_hot(Y):\n",
    "    one_hot_Y = np.zeros((Y.size,Y.max()+1))\n",
    "    one_hot_Y[np.arange(Y.size),Y] = 1\n",
    "    one_hot_Y = one_hot_Y.T\n",
    "    return one_hot_Y"
   ]
  },
  {
   "cell_type": "code",
   "execution_count": 3,
   "id": "2379e35e",
   "metadata": {
    "execution": {
     "iopub.execute_input": "2023-01-04T11:59:30.226762Z",
     "iopub.status.busy": "2023-01-04T11:59:30.226363Z",
     "iopub.status.idle": "2023-01-04T11:59:34.738967Z",
     "shell.execute_reply": "2023-01-04T11:59:34.737998Z"
    },
    "papermill": {
     "duration": 4.520799,
     "end_time": "2023-01-04T11:59:34.741470",
     "exception": false,
     "start_time": "2023-01-04T11:59:30.220671",
     "status": "completed"
    },
    "tags": []
   },
   "outputs": [],
   "source": [
    "data = pd.read_csv('/kaggle/input/digit-recognizer/train.csv')\n",
    "data1 = data\n",
    "data = np.array(data)\n",
    "m, n = data.shape\n",
    "np.random.shuffle(data)\n",
    "\n",
    "\n",
    "data_train = data[:m].T\n",
    "Y_train = data_train[0]\n",
    "X_train = data_train[1:n]\n",
    "X_train = X_train / 255.\n",
    "#_,m_train = X_train.shape\n"
   ]
  },
  {
   "cell_type": "markdown",
   "id": "2ad377b1",
   "metadata": {
    "papermill": {
     "duration": 0.003903,
     "end_time": "2023-01-04T11:59:34.749633",
     "exception": false,
     "start_time": "2023-01-04T11:59:34.745730",
     "status": "completed"
    },
    "tags": []
   },
   "source": [
    "# Forward propagation\n",
    "\n",
    "$Z^{[1]} = W^{[1]} X + b^{[1]}$\n",
    "\n",
    "$A^{[1]} = ReLU(Z^{[1]}))$\n",
    "\n",
    "$Z^{[2]} = W^{[2]} A^{[1]} + b^{[2]}$\n",
    "\n",
    "$A^{[2]} = softmax(Z^{[2]})$"
   ]
  },
  {
   "cell_type": "markdown",
   "id": "a713b19e",
   "metadata": {
    "papermill": {
     "duration": 0.003765,
     "end_time": "2023-01-04T11:59:34.757412",
     "exception": false,
     "start_time": "2023-01-04T11:59:34.753647",
     "status": "completed"
    },
    "tags": []
   },
   "source": [
    "# Backward propagation\n",
    "\n",
    "$Loss = - \\Sigma[{y_{[k]} *log(a_{[k]})]}$\n",
    "\n",
    "$Cost = - \\frac{1}{m}\\Sigma\\Sigma[{y_{[k]} *log(a_{[k]})]}$\n",
    "\n",
    "$dZ^{[2]} = A^{[2]} - Y$  : Derivative of Loss Function with respect to Z\n",
    "\n",
    "$dW^{[2]} = \\frac{1}{m} dZ^{[2]} A^{[1]T}$ : Derivative of Cost Function with respect to W\n",
    "\n",
    "$dB^{[2]} = \\frac{1}{m} \\Sigma {dZ^{[2]}}$\n",
    "\n",
    "$dZ^{[1]} = W^{[2]T} dZ^{[2]} .* g^{[1]\\prime} (z^{[1]})$\n",
    "\n",
    "$dW^{[1]} = \\frac{1}{m} dZ^{[1]} A^{[0]T}$\n",
    "\n",
    "$dB^{[1]} = \\frac{1}{m} \\Sigma {dZ^{[1]}}$\n"
   ]
  },
  {
   "cell_type": "markdown",
   "id": "f2bd167c",
   "metadata": {
    "papermill": {
     "duration": 0.003674,
     "end_time": "2023-01-04T11:59:34.765007",
     "exception": false,
     "start_time": "2023-01-04T11:59:34.761333",
     "status": "completed"
    },
    "tags": []
   },
   "source": [
    "# Updating Parameters\n",
    "\n",
    "$alpha  : learning rate$\n",
    "\n",
    "$W^{[2]} := W^{[2]} - \\alpha dW^{[2]}$\n",
    "\n",
    "$b^{[2]} := b^{[2]} - \\alpha db^{[2]}$\n",
    "\n",
    "$W^{[1]} := W^{[1]} - \\alpha dW^{[1]}$\n",
    "\n",
    "$b^{[1]} := b^{[1]} - \\alpha db^{[1]}$"
   ]
  },
  {
   "cell_type": "code",
   "execution_count": 4,
   "id": "b57f19b0",
   "metadata": {
    "execution": {
     "iopub.execute_input": "2023-01-04T11:59:34.775539Z",
     "iopub.status.busy": "2023-01-04T11:59:34.774246Z",
     "iopub.status.idle": "2023-01-04T11:59:34.791967Z",
     "shell.execute_reply": "2023-01-04T11:59:34.790837Z"
    },
    "papermill": {
     "duration": 0.025977,
     "end_time": "2023-01-04T11:59:34.794923",
     "exception": false,
     "start_time": "2023-01-04T11:59:34.768946",
     "status": "completed"
    },
    "tags": []
   },
   "outputs": [],
   "source": [
    "def init_params():\n",
    "    W1 = np.random.rand(10,784) - 0.5\n",
    "    b1 = np.random.rand(10,1) - 0.5\n",
    "    W2 = np.random.rand(10,10) - 0.5\n",
    "    b2 = np.random.rand(10,1) - 0.5\n",
    "    return W1,b1,W2,b2\n",
    "\n",
    "def ReLU(Z):\n",
    "    return np.maximum(Z,0)\n",
    "\n",
    "def softmax(Z):\n",
    "    return np.exp(Z)/sum(np.exp(Z), 0)\n",
    "    \n",
    "\n",
    "def forward_prop(W1,b1,W2,b2,X):\n",
    "    Z1 = W1.dot(X) + b1\n",
    "    A1 = ReLU(Z1)\n",
    "    Z2 = W2.dot(A1) + b2\n",
    "    A2 = softmax(Z2)\n",
    "    return Z1,A1,Z2,A2\n",
    "\n",
    "#cost function\n",
    "def cost_function(A2,one_hot_Y):\n",
    "    m = Y.shape[1]\n",
    "    cost = -(1/m)*np.sum(Y*np.log(A2))\n",
    "    return cost\n",
    "\n",
    "\n",
    "def one_hot(Y):\n",
    "    one_hot_Y = np.zeros((Y.size,Y.max()+1))\n",
    "    one_hot_Y[np.arange(Y.size),Y] = 1       # for every observation(row), access to the column specified by the label in Y\n",
    "    one_hot_Y = one_hot_Y.T\n",
    "    return one_hot_Y\n",
    "    \n",
    "\n",
    "def deriv_ReLU(Z):\n",
    "    return Z>0\n",
    "    \n",
    "    \n",
    "def back_prop(Z1,A1,Z2,A2,W1,W2,X,Y):\n",
    "    #m = Y.size\n",
    "    one_hot_Y = one_hot(Y)\n",
    "    dZ2 = A2 - one_hot_Y\n",
    "    dW2 = 1 / m * dZ2.dot(A1.T)\n",
    "    db2 = 1 / m * np.sum(dZ2, axis = 1, keepdims = True)\n",
    "    dZ1 = W2.T.dot(dZ2)*deriv_ReLU(Z1)\n",
    "    dW1 = 1 / m * dZ1.dot(X.T)\n",
    "    db1 = 1 / m * np.sum(dZ1, axis = 1, keepdims = True)\n",
    "    \n",
    "    return dW1, db1, dW2, db2\n",
    "\n",
    "def update_params(W1, b1, W2, b2, dW1, db1, dW2, db2, alpha):\n",
    "        \n",
    "    W1 = W1 - alpha * dW1\n",
    "    b1 = b1 - alpha * db1\n",
    "    W2 = W2 - alpha * dW2\n",
    "    b2 = b2 - alpha * db2\n",
    "    return W1, b1, W2, b2\n",
    "\n",
    "\n",
    "\n",
    "    "
   ]
  },
  {
   "cell_type": "markdown",
   "id": "8520aef7",
   "metadata": {
    "papermill": {
     "duration": 0.003929,
     "end_time": "2023-01-04T11:59:34.803136",
     "exception": false,
     "start_time": "2023-01-04T11:59:34.799207",
     "status": "completed"
    },
    "tags": []
   },
   "source": [
    "# Performance"
   ]
  },
  {
   "cell_type": "code",
   "execution_count": 5,
   "id": "c7439060",
   "metadata": {
    "execution": {
     "iopub.execute_input": "2023-01-04T11:59:34.814044Z",
     "iopub.status.busy": "2023-01-04T11:59:34.813213Z",
     "iopub.status.idle": "2023-01-04T11:59:34.821888Z",
     "shell.execute_reply": "2023-01-04T11:59:34.821050Z"
    },
    "papermill": {
     "duration": 0.016928,
     "end_time": "2023-01-04T11:59:34.824180",
     "exception": false,
     "start_time": "2023-01-04T11:59:34.807252",
     "status": "completed"
    },
    "tags": []
   },
   "outputs": [],
   "source": [
    "def get_accuracy(predictions, Y):\n",
    "    print(predictions, Y)\n",
    "    return np.sum(predictions == Y) / Y.size\n",
    "\n",
    "def get_predictions(A2):\n",
    "    return np.argmax(A2, 0)\n",
    "\n",
    "def gradient_descent(X, Y, alpha,iterations):\n",
    "    W1, b1, W2, b2 = init_params()\n",
    "    for i in range(iterations):\n",
    "        Z1, A1, Z2, A2 = forward_prop(W1, b1, W2, b2, X)\n",
    "        dW1, db1, dW2, db2 = back_prop(Z1, A1, Z2, A2, W1, W2, X, Y)\n",
    "        W1, b1, W2, b2 = update_params(W1, b1, W2, b2, dW1, db1, dW2, db2, alpha)\n",
    "        if i % 20 == 0:\n",
    "            print('Iterations : ', i)\n",
    "            print('Accuracy : ', get_accuracy(get_predictions(A2),Y))\n",
    "    return W1, b1, W2, b2"
   ]
  },
  {
   "cell_type": "markdown",
   "id": "382e08b7",
   "metadata": {
    "papermill": {
     "duration": 0.003804,
     "end_time": "2023-01-04T11:59:34.832137",
     "exception": false,
     "start_time": "2023-01-04T11:59:34.828333",
     "status": "completed"
    },
    "tags": []
   },
   "source": [
    "# Train & Test"
   ]
  },
  {
   "cell_type": "code",
   "execution_count": 6,
   "id": "c4f06700",
   "metadata": {
    "execution": {
     "iopub.execute_input": "2023-01-04T11:59:34.842634Z",
     "iopub.status.busy": "2023-01-04T11:59:34.841439Z",
     "iopub.status.idle": "2023-01-04T11:59:34.849506Z",
     "shell.execute_reply": "2023-01-04T11:59:34.848761Z"
    },
    "papermill": {
     "duration": 0.015601,
     "end_time": "2023-01-04T11:59:34.851733",
     "exception": false,
     "start_time": "2023-01-04T11:59:34.836132",
     "status": "completed"
    },
    "tags": []
   },
   "outputs": [],
   "source": [
    "def make_predictions(X, W1, b1, W2, b2):\n",
    "    _, _, _, A2 = forward_prop(W1, b1, W2, b2, X)\n",
    "    predictions = get_predictions(A2)\n",
    "    return predictions\n",
    "\n",
    "def test_prediction(index, W1, b1, W2, b2):\n",
    "    current_image = X_train[:, index, None]\n",
    "    prediction = make_predictions(X_train[:, index, None], W1, b1, W2, b2)\n",
    "    label = Y_train[index]\n",
    "    print(\"Prediction: \", prediction)\n",
    "    print(\"Label: \", label)\n",
    "    \n",
    "    current_image = current_image.reshape((28, 28)) * 255\n",
    "    plt.gray()\n",
    "    plt.imshow(current_image, interpolation='nearest')\n",
    "    plt.show()"
   ]
  },
  {
   "cell_type": "code",
   "execution_count": 7,
   "id": "d6cee000",
   "metadata": {
    "execution": {
     "iopub.execute_input": "2023-01-04T11:59:34.862067Z",
     "iopub.status.busy": "2023-01-04T11:59:34.861309Z",
     "iopub.status.idle": "2023-01-04T12:00:52.430090Z",
     "shell.execute_reply": "2023-01-04T12:00:52.428364Z"
    },
    "papermill": {
     "duration": 77.578659,
     "end_time": "2023-01-04T12:00:52.434605",
     "exception": false,
     "start_time": "2023-01-04T11:59:34.855946",
     "status": "completed"
    },
    "tags": []
   },
   "outputs": [
    {
     "name": "stdout",
     "output_type": "stream",
     "text": [
      "Iterations :  0\n",
      "[7 7 1 ... 0 7 7] [6 2 0 ... 2 0 5]\n",
      "Accuracy :  0.07728571428571429\n",
      "Iterations :  20\n",
      "[6 2 0 ... 6 0 2] [6 2 0 ... 2 0 5]\n",
      "Accuracy :  0.34623809523809523\n",
      "Iterations :  40\n",
      "[6 2 0 ... 6 0 2] [6 2 0 ... 2 0 5]\n",
      "Accuracy :  0.523\n",
      "Iterations :  60\n",
      "[6 2 0 ... 6 0 2] [6 2 0 ... 2 0 5]\n",
      "Accuracy :  0.6204285714285714\n",
      "Iterations :  80\n",
      "[6 2 0 ... 6 0 2] [6 2 0 ... 2 0 5]\n",
      "Accuracy :  0.6812142857142857\n",
      "Iterations :  100\n",
      "[6 2 0 ... 6 0 2] [6 2 0 ... 2 0 5]\n",
      "Accuracy :  0.721\n",
      "Iterations :  120\n",
      "[6 2 0 ... 6 0 2] [6 2 0 ... 2 0 5]\n",
      "Accuracy :  0.7513095238095238\n",
      "Iterations :  140\n",
      "[6 2 0 ... 6 0 2] [6 2 0 ... 2 0 5]\n",
      "Accuracy :  0.7741428571428571\n",
      "Iterations :  160\n",
      "[6 2 0 ... 6 0 1] [6 2 0 ... 2 0 5]\n",
      "Accuracy :  0.7905952380952381\n",
      "Iterations :  180\n",
      "[6 2 0 ... 6 0 1] [6 2 0 ... 2 0 5]\n",
      "Accuracy :  0.8039047619047619\n",
      "Iterations :  200\n",
      "[6 2 0 ... 6 0 1] [6 2 0 ... 2 0 5]\n",
      "Accuracy :  0.8151666666666667\n",
      "Iterations :  220\n",
      "[6 2 0 ... 6 0 1] [6 2 0 ... 2 0 5]\n",
      "Accuracy :  0.8234285714285714\n",
      "Iterations :  240\n",
      "[6 2 0 ... 6 0 1] [6 2 0 ... 2 0 5]\n",
      "Accuracy :  0.8307619047619048\n",
      "Iterations :  260\n",
      "[6 2 0 ... 6 0 1] [6 2 0 ... 2 0 5]\n",
      "Accuracy :  0.8366666666666667\n",
      "Iterations :  280\n",
      "[6 2 0 ... 6 0 1] [6 2 0 ... 2 0 5]\n",
      "Accuracy :  0.8418809523809524\n",
      "Iterations :  300\n",
      "[6 2 0 ... 6 0 1] [6 2 0 ... 2 0 5]\n",
      "Accuracy :  0.8462380952380952\n",
      "Iterations :  320\n",
      "[6 2 0 ... 6 0 1] [6 2 0 ... 2 0 5]\n",
      "Accuracy :  0.8502857142857143\n",
      "Iterations :  340\n",
      "[6 2 0 ... 6 0 1] [6 2 0 ... 2 0 5]\n",
      "Accuracy :  0.8543333333333333\n",
      "Iterations :  360\n",
      "[6 2 0 ... 6 0 1] [6 2 0 ... 2 0 5]\n",
      "Accuracy :  0.8572380952380952\n",
      "Iterations :  380\n",
      "[6 2 0 ... 6 0 1] [6 2 0 ... 2 0 5]\n",
      "Accuracy :  0.860547619047619\n",
      "Iterations :  400\n",
      "[6 2 0 ... 6 0 1] [6 2 0 ... 2 0 5]\n",
      "Accuracy :  0.8633809523809524\n",
      "Iterations :  420\n",
      "[6 2 0 ... 6 0 1] [6 2 0 ... 2 0 5]\n",
      "Accuracy :  0.8655714285714285\n",
      "Iterations :  440\n",
      "[6 2 0 ... 6 0 1] [6 2 0 ... 2 0 5]\n",
      "Accuracy :  0.8681190476190476\n",
      "Iterations :  460\n",
      "[6 2 0 ... 6 0 1] [6 2 0 ... 2 0 5]\n",
      "Accuracy :  0.8702857142857143\n",
      "Iterations :  480\n",
      "[6 2 0 ... 6 0 1] [6 2 0 ... 2 0 5]\n",
      "Accuracy :  0.8723333333333333\n"
     ]
    }
   ],
   "source": [
    "W1, b1, W2, b2 = gradient_descent(X_train, Y_train, 0.15, 500)"
   ]
  },
  {
   "cell_type": "code",
   "execution_count": 8,
   "id": "903b1685",
   "metadata": {
    "execution": {
     "iopub.execute_input": "2023-01-04T12:00:52.466577Z",
     "iopub.status.busy": "2023-01-04T12:00:52.465818Z",
     "iopub.status.idle": "2023-01-04T12:00:53.848194Z",
     "shell.execute_reply": "2023-01-04T12:00:53.847430Z"
    },
    "papermill": {
     "duration": 1.401259,
     "end_time": "2023-01-04T12:00:53.850441",
     "exception": false,
     "start_time": "2023-01-04T12:00:52.449182",
     "status": "completed"
    },
    "tags": []
   },
   "outputs": [
    {
     "name": "stdout",
     "output_type": "stream",
     "text": [
      "Prediction:  [7]\n",
      "Label:  7\n"
     ]
    },
    {
     "data": {
      "image/png": "[encoded data removed]",
      "text/plain": [
       "<Figure size 432x288 with 1 Axes>"
      ]
     },
     "metadata": {
      "needs_background": "light"
     },
     "output_type": "display_data"
    },
    {
     "name": "stdout",
     "output_type": "stream",
     "text": [
      "Prediction:  [2]\n",
      "Label:  2\n"
     ]
    },
    {
     "data": {
      "image/png": "[encoded data removed]",
      "text/plain": [
       "<Figure size 432x288 with 1 Axes>"
      ]
     },
     "metadata": {
      "needs_background": "light"
     },
     "output_type": "display_data"
    },
    {
     "name": "stdout",
     "output_type": "stream",
     "text": [
      "Prediction:  [9]\n",
      "Label:  9\n"
     ]
    },
    {
     "data": {
      "image/png": "[encoded data removed]",
      "text/plain": [
       "<Figure size 432x288 with 1 Axes>"
      ]
     },
     "metadata": {
      "needs_background": "light"
     },
     "output_type": "display_data"
    },
    {
     "name": "stdout",
     "output_type": "stream",
     "text": [
      "Prediction:  [5]\n",
      "Label:  5\n"
     ]
    },
    {
     "data": {
      "image/png": "[encoded data removed]",
      "text/plain": [
       "<Figure size 432x288 with 1 Axes>"
      ]
     },
     "metadata": {
      "needs_background": "light"
     },
     "output_type": "display_data"
    },
    {
     "name": "stdout",
     "output_type": "stream",
     "text": [
      "Prediction:  [9]\n",
      "Label:  9\n"
     ]
    },
    {
     "data": {
      "image/png": "[encoded data removed]",
      "text/plain": [
       "<Figure size 432x288 with 1 Axes>"
      ]
     },
     "metadata": {
      "needs_background": "light"
     },
     "output_type": "display_data"
    },
    {
     "name": "stdout",
     "output_type": "stream",
     "text": [
      "Prediction:  [5]\n",
      "Label:  5\n"
     ]
    },
    {
     "data": {
      "image/png": "[encoded data removed]",
      "text/plain": [
       "<Figure size 432x288 with 1 Axes>"
      ]
     },
     "metadata": {
      "needs_background": "light"
     },
     "output_type": "display_data"
    },
    {
     "name": "stdout",
     "output_type": "stream",
     "text": [
      "Prediction:  [8]\n",
      "Label:  8\n"
     ]
    },
    {
     "data": {
      "image/png": "[encoded data removed]",
      "text/plain": [
       "<Figure size 432x288 with 1 Axes>"
      ]
     },
     "metadata": {
      "needs_background": "light"
     },
     "output_type": "display_data"
    }
   ],
   "source": [
    "test_prediction(37, W1, b1, W2, b2)\n",
    "test_prediction(1, W1, b1, W2, b2)\n",
    "test_prediction(7, W1, b1, W2, b2)\n",
    "test_prediction(34, W1, b1, W2, b2)\n",
    "test_prediction(24, W1, b1, W2, b2)\n",
    "test_prediction(6, W1, b1, W2, b2)\n",
    "test_prediction(97, W1, b1, W2, b2)"
   ]
  },
  {
   "cell_type": "markdown",
   "id": "6606ebdc",
   "metadata": {
    "papermill": {
     "duration": 0.007088,
     "end_time": "2023-01-04T12:00:53.866784",
     "exception": false,
     "start_time": "2023-01-04T12:00:53.859696",
     "status": "completed"
    },
    "tags": []
   },
   "source": [
    "# Limitations\n",
    "\n",
    "1. Few number of layers - it may have performed better with more hidden layers.\n",
    "\n",
    "2. Parameters(weights) Initialization - the optimal value depends on the initial value of W.\n",
    "\n",
    "3. Vanishing Gradient - vanishing gradient may have led to lack of training, even though the training dataset was large enough."
   ]
  },
  {
   "cell_type": "code",
   "execution_count": null,
   "id": "3821a00a",
   "metadata": {
    "papermill": {
     "duration": 0.006965,
     "end_time": "2023-01-04T12:00:53.881130",
     "exception": false,
     "start_time": "2023-01-04T12:00:53.874165",
     "status": "completed"
    },
    "tags": []
   },
   "outputs": [],
   "source": []
  }
 ],
 "metadata": {
  "kernelspec": {
   "display_name": "Python 3",
   "language": "python",
   "name": "python3"
  },
  "language_info": {
   "codemirror_mode": {
    "name": "ipython",
    "version": 3
   },
   "file_extension": ".py",
   "mimetype": "text/x-python",
   "name": "python",
   "nbconvert_exporter": "python",
   "pygments_lexer": "ipython3",
   "version": "3.7.12"
  },
  "papermill": {
   "default_parameters": {},
   "duration": 93.066324,
   "end_time": "2023-01-04T12:00:54.610063",
   "environment_variables": {},
   "exception": null,
   "input_path": "__notebook__.ipynb",
   "output_path": "__notebook__.ipynb",
   "parameters": {},
   "start_time": "2023-01-04T11:59:21.543739",
   "version": "2.3.4"
  }
 },
 "nbformat": 4,
 "nbformat_minor": 5
}
