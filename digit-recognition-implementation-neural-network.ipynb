{
 "cells": [
  {
   "cell_type": "code",
   "execution_count": 1,
   "id": "21375b0f",
   "metadata": {
    "_cell_guid": "b1076dfc-b9ad-4769-8c92-a6c4dae69d19",
    "_uuid": "8f2839f25d086af736a60e9eeb907d3b93b6e0e5",
    "execution": {
     "iopub.execute_input": "2023-01-08T09:02:43.988687Z",
     "iopub.status.busy": "2023-01-08T09:02:43.987667Z",
     "iopub.status.idle": "2023-01-08T09:02:44.004734Z",
     "shell.execute_reply": "2023-01-08T09:02:44.003470Z"
    },
    "papermill": {
     "duration": 0.027811,
     "end_time": "2023-01-08T09:02:44.007492",
     "exception": false,
     "start_time": "2023-01-08T09:02:43.979681",
     "status": "completed"
    },
    "tags": []
   },
   "outputs": [
    {
     "name": "stdout",
     "output_type": "stream",
     "text": [
      "/kaggle/input/digit-recognizer/sample_submission.csv\n",
      "/kaggle/input/digit-recognizer/train.csv\n",
      "/kaggle/input/digit-recognizer/test.csv\n"
     ]
    }
   ],
   "source": [
    "# This Python 3 environment comes with many helpful analytics libraries installed\n",
    "# It is defined by the kaggle/python Docker image: https://github.com/kaggle/docker-python\n",
    "# For example, here's several helpful packages to load\n",
    "\n",
    "import numpy as np # linear algebra\n",
    "import pandas as pd # data processing, CSV file I/O (e.g. pd.read_csv)\n",
    "from matplotlib import pyplot as plt\n",
    "\n",
    "# Input data files are available in the read-only \"../input/\" directory\n",
    "# For example, running this (by clicking run or pressing Shift+Enter) will list all files under the input directory\n",
    "\n",
    "import os\n",
    "for dirname, _, filenames in os.walk('/kaggle/input'):\n",
    "    for filename in filenames:\n",
    "        print(os.path.join(dirname, filename))\n",
    "\n",
    "# You can write up to 20GB to the current directory (/kaggle/working/) that gets preserved as output when you create a version using \"Save & Run All\" \n",
    "# You can also write temporary files to /kaggle/temp/, but they won't be saved outside of the current session"
   ]
  },
  {
   "cell_type": "markdown",
   "id": "bcf6ce58",
   "metadata": {
    "papermill": {
     "duration": 0.004278,
     "end_time": "2023-01-08T09:02:44.016592",
     "exception": false,
     "start_time": "2023-01-08T09:02:44.012314",
     "status": "completed"
    },
    "tags": []
   },
   "source": [
    "# Introductory Summary\n",
    "\n",
    "1. Dataset : MNIST \n",
    "\n",
    "2. Structure : Input Layer - Hidden Layer1 - Hidden Layer2 - Output Layer\n",
    "\n",
    "#### $$X \\longrightarrow 𝑍[1]=𝑊[1]𝑋+𝑏[1] \\longrightarrow 𝐴[1]=𝑅𝑒𝐿𝑈(𝑍[1])) \\longrightarrow 𝑍[2]=𝑊[2]𝐴[1]+𝑏[2] \\longrightarrow 𝐴[2]=𝑠𝑜𝑓𝑡𝑚𝑎𝑥(𝑍[2]) $$\n",
    "\n",
    "3. Activation Function : ReLU\n",
    "\n",
    "4. Framework : X (only pandas & numpy)"
   ]
  },
  {
   "cell_type": "markdown",
   "id": "a23115e2",
   "metadata": {
    "papermill": {
     "duration": 0.004309,
     "end_time": "2023-01-08T09:02:44.025481",
     "exception": false,
     "start_time": "2023-01-08T09:02:44.021172",
     "status": "completed"
    },
    "tags": []
   },
   "source": [
    "# Data Input & Split"
   ]
  },
  {
   "cell_type": "code",
   "execution_count": 2,
   "id": "a1b64b65",
   "metadata": {
    "execution": {
     "iopub.execute_input": "2023-01-08T09:02:44.037056Z",
     "iopub.status.busy": "2023-01-08T09:02:44.036133Z",
     "iopub.status.idle": "2023-01-08T09:02:44.042525Z",
     "shell.execute_reply": "2023-01-08T09:02:44.041580Z"
    },
    "papermill": {
     "duration": 0.014868,
     "end_time": "2023-01-08T09:02:44.044898",
     "exception": false,
     "start_time": "2023-01-08T09:02:44.030030",
     "status": "completed"
    },
    "tags": []
   },
   "outputs": [],
   "source": [
    "def one_hot(Y):\n",
    "    one_hot_Y = np.zeros((Y.size,Y.max()+1))\n",
    "    one_hot_Y[np.arange(Y.size),Y] = 1\n",
    "    one_hot_Y = one_hot_Y.T\n",
    "    return one_hot_Y"
   ]
  },
  {
   "cell_type": "code",
   "execution_count": 3,
   "id": "c29f800d",
   "metadata": {
    "execution": {
     "iopub.execute_input": "2023-01-08T09:02:44.056646Z",
     "iopub.status.busy": "2023-01-08T09:02:44.055988Z",
     "iopub.status.idle": "2023-01-08T09:02:48.446182Z",
     "shell.execute_reply": "2023-01-08T09:02:48.444869Z"
    },
    "papermill": {
     "duration": 4.399662,
     "end_time": "2023-01-08T09:02:48.449250",
     "exception": false,
     "start_time": "2023-01-08T09:02:44.049588",
     "status": "completed"
    },
    "tags": []
   },
   "outputs": [],
   "source": [
    "data = pd.read_csv('/kaggle/input/digit-recognizer/train.csv')\n",
    "data1 = data\n",
    "data = np.array(data)\n",
    "m, n = data.shape\n",
    "np.random.shuffle(data)\n",
    "\n",
    "\n",
    "data_train = data[:m].T\n",
    "Y_train = data_train[0]\n",
    "X_train = data_train[1:n]\n",
    "X_train = X_train / 255.\n",
    "#_,m_train = X_train.shape\n"
   ]
  },
  {
   "cell_type": "markdown",
   "id": "ea391b4a",
   "metadata": {
    "papermill": {
     "duration": 0.004452,
     "end_time": "2023-01-08T09:02:48.458592",
     "exception": false,
     "start_time": "2023-01-08T09:02:48.454140",
     "status": "completed"
    },
    "tags": []
   },
   "source": [
    "# Forward Propagation\n",
    "\n",
    "$Z^{[1]} = W^{[1]} X + b^{[1]}$\n",
    "\n",
    "$A^{[1]} = ReLU(Z^{[1]}))$\n",
    "\n",
    "$Z^{[2]} = W^{[2]} A^{[1]} + b^{[2]}$\n",
    "\n",
    "$A^{[2]} = softmax(Z^{[2]})$"
   ]
  },
  {
   "cell_type": "markdown",
   "id": "b3d00c6a",
   "metadata": {
    "papermill": {
     "duration": 0.004182,
     "end_time": "2023-01-08T09:02:48.467306",
     "exception": false,
     "start_time": "2023-01-08T09:02:48.463124",
     "status": "completed"
    },
    "tags": []
   },
   "source": [
    "# Backward Propagation\n",
    "\n",
    "$Loss = - \\Sigma[{y_{[k]} *log(a_{[k]})]}$\n",
    "\n",
    "$Cost = - \\frac{1}{m}\\Sigma\\Sigma[{y_{[k]} *log(a_{[k]})]}$\n",
    "\n",
    "$dZ^{[2]} = A^{[2]} - Y$  : Derivative of Loss Function with respect to Z\n",
    "\n",
    "$dW^{[2]} = \\frac{1}{m} dZ^{[2]} A^{[1]T}$ : Derivative of Cost Function with respect to W\n",
    "\n",
    "$dB^{[2]} = \\frac{1}{m} \\Sigma {dZ^{[2]}}$\n",
    "\n",
    "$dZ^{[1]} = W^{[2]T} dZ^{[2]} .* g^{[1]\\prime} (z^{[1]})$\n",
    "\n",
    "$dW^{[1]} = \\frac{1}{m} dZ^{[1]} A^{[0]T}$\n",
    "\n",
    "$dB^{[1]} = \\frac{1}{m} \\Sigma {dZ^{[1]}}$\n"
   ]
  },
  {
   "cell_type": "markdown",
   "id": "cfa8a211",
   "metadata": {
    "papermill": {
     "duration": 0.004183,
     "end_time": "2023-01-08T09:02:48.476204",
     "exception": false,
     "start_time": "2023-01-08T09:02:48.472021",
     "status": "completed"
    },
    "tags": []
   },
   "source": [
    "# Updating Parameters\n",
    "\n",
    "$\\alpha $  : learning  rate\n",
    "\n",
    "$W^{[2]} := W^{[2]} - \\alpha dW^{[2]}$\n",
    "\n",
    "$b^{[2]} := b^{[2]} - \\alpha db^{[2]}$\n",
    "\n",
    "$W^{[1]} := W^{[1]} - \\alpha dW^{[1]}$\n",
    "\n",
    "$b^{[1]} := b^{[1]} - \\alpha db^{[1]}$"
   ]
  },
  {
   "cell_type": "code",
   "execution_count": 4,
   "id": "256413d3",
   "metadata": {
    "execution": {
     "iopub.execute_input": "2023-01-08T09:02:48.487308Z",
     "iopub.status.busy": "2023-01-08T09:02:48.486861Z",
     "iopub.status.idle": "2023-01-08T09:02:48.502217Z",
     "shell.execute_reply": "2023-01-08T09:02:48.500855Z"
    },
    "papermill": {
     "duration": 0.024032,
     "end_time": "2023-01-08T09:02:48.505080",
     "exception": false,
     "start_time": "2023-01-08T09:02:48.481048",
     "status": "completed"
    },
    "tags": []
   },
   "outputs": [],
   "source": [
    "def init_params():\n",
    "    W1 = np.random.rand(10,784) - 0.5\n",
    "    b1 = np.random.rand(10,1) - 0.5\n",
    "    W2 = np.random.rand(10,10) - 0.5\n",
    "    b2 = np.random.rand(10,1) - 0.5\n",
    "    return W1,b1,W2,b2\n",
    "\n",
    "def ReLU(Z):\n",
    "    return np.maximum(Z,0)\n",
    "\n",
    "def softmax(Z):\n",
    "    return np.exp(Z)/sum(np.exp(Z), 0)\n",
    "    \n",
    "\n",
    "def forward_prop(W1,b1,W2,b2,X):\n",
    "    Z1 = W1.dot(X) + b1\n",
    "    A1 = ReLU(Z1)\n",
    "    Z2 = W2.dot(A1) + b2\n",
    "    A2 = softmax(Z2)\n",
    "    return Z1,A1,Z2,A2\n",
    "\n",
    "#cost function\n",
    "def cost_function(A2,one_hot_Y):\n",
    "    m = Y.shape[1]\n",
    "    cost = -(1/m)*np.sum(Y*np.log(A2))\n",
    "    return cost\n",
    "\n",
    "\n",
    "def one_hot(Y):\n",
    "    one_hot_Y = np.zeros((Y.size,Y.max()+1))\n",
    "    one_hot_Y[np.arange(Y.size),Y] = 1       # for every observation(row), access to the column specified by the label in Y\n",
    "    one_hot_Y = one_hot_Y.T\n",
    "    return one_hot_Y\n",
    "    \n",
    "\n",
    "def deriv_ReLU(Z):\n",
    "    return Z>0\n",
    "    \n",
    "    \n",
    "def back_prop(Z1,A1,Z2,A2,W1,W2,X,Y):\n",
    "    #m = Y.size\n",
    "    one_hot_Y = one_hot(Y)\n",
    "    dZ2 = A2 - one_hot_Y\n",
    "    dW2 = 1 / m * dZ2.dot(A1.T)\n",
    "    db2 = 1 / m * np.sum(dZ2, axis = 1, keepdims = True)\n",
    "    dZ1 = W2.T.dot(dZ2)*deriv_ReLU(Z1)\n",
    "    dW1 = 1 / m * dZ1.dot(X.T)\n",
    "    db1 = 1 / m * np.sum(dZ1, axis = 1, keepdims = True)\n",
    "    \n",
    "    return dW1, db1, dW2, db2\n",
    "\n",
    "def update_params(W1, b1, W2, b2, dW1, db1, dW2, db2, alpha):\n",
    "        \n",
    "    W1 = W1 - alpha * dW1\n",
    "    b1 = b1 - alpha * db1\n",
    "    W2 = W2 - alpha * dW2\n",
    "    b2 = b2 - alpha * db2\n",
    "    return W1, b1, W2, b2\n",
    "\n",
    "\n",
    "\n",
    "    "
   ]
  },
  {
   "cell_type": "markdown",
   "id": "24b91223",
   "metadata": {
    "papermill": {
     "duration": 0.004217,
     "end_time": "2023-01-08T09:02:48.513987",
     "exception": false,
     "start_time": "2023-01-08T09:02:48.509770",
     "status": "completed"
    },
    "tags": []
   },
   "source": [
    "# Performance"
   ]
  },
  {
   "cell_type": "code",
   "execution_count": 5,
   "id": "d8e920ad",
   "metadata": {
    "execution": {
     "iopub.execute_input": "2023-01-08T09:02:48.524692Z",
     "iopub.status.busy": "2023-01-08T09:02:48.524254Z",
     "iopub.status.idle": "2023-01-08T09:02:48.533804Z",
     "shell.execute_reply": "2023-01-08T09:02:48.532512Z"
    },
    "papermill": {
     "duration": 0.018012,
     "end_time": "2023-01-08T09:02:48.536553",
     "exception": false,
     "start_time": "2023-01-08T09:02:48.518541",
     "status": "completed"
    },
    "tags": []
   },
   "outputs": [],
   "source": [
    "def get_accuracy(predictions, Y):\n",
    "    print(predictions, Y)\n",
    "    return np.sum(predictions == Y) / Y.size\n",
    "\n",
    "def get_predictions(A2):\n",
    "    return np.argmax(A2, 0)\n",
    "\n",
    "def gradient_descent(X, Y, alpha,iterations):\n",
    "    W1, b1, W2, b2 = init_params()\n",
    "    for i in range(iterations):\n",
    "        Z1, A1, Z2, A2 = forward_prop(W1, b1, W2, b2, X)\n",
    "        dW1, db1, dW2, db2 = back_prop(Z1, A1, Z2, A2, W1, W2, X, Y)\n",
    "        W1, b1, W2, b2 = update_params(W1, b1, W2, b2, dW1, db1, dW2, db2, alpha)\n",
    "        if i % 20 == 0:\n",
    "            print('Iterations : ', i)\n",
    "            print('Accuracy : ', get_accuracy(get_predictions(A2),Y))\n",
    "    return W1, b1, W2, b2"
   ]
  },
  {
   "cell_type": "markdown",
   "id": "89a7f2ef",
   "metadata": {
    "papermill": {
     "duration": 0.004431,
     "end_time": "2023-01-08T09:02:48.545667",
     "exception": false,
     "start_time": "2023-01-08T09:02:48.541236",
     "status": "completed"
    },
    "tags": []
   },
   "source": [
    "# Train & Test"
   ]
  },
  {
   "cell_type": "code",
   "execution_count": 6,
   "id": "61049d07",
   "metadata": {
    "execution": {
     "iopub.execute_input": "2023-01-08T09:02:48.557964Z",
     "iopub.status.busy": "2023-01-08T09:02:48.557067Z",
     "iopub.status.idle": "2023-01-08T09:02:48.566083Z",
     "shell.execute_reply": "2023-01-08T09:02:48.564765Z"
    },
    "papermill": {
     "duration": 0.017781,
     "end_time": "2023-01-08T09:02:48.568584",
     "exception": false,
     "start_time": "2023-01-08T09:02:48.550803",
     "status": "completed"
    },
    "tags": []
   },
   "outputs": [],
   "source": [
    "def make_predictions(X, W1, b1, W2, b2):\n",
    "    _, _, _, A2 = forward_prop(W1, b1, W2, b2, X)\n",
    "    predictions = get_predictions(A2)\n",
    "    return predictions\n",
    "\n",
    "def test_prediction(index, W1, b1, W2, b2):\n",
    "    current_image = X_train[:, index, None]\n",
    "    prediction = make_predictions(X_train[:, index, None], W1, b1, W2, b2)\n",
    "    label = Y_train[index]\n",
    "    print(\"Prediction: \", prediction)\n",
    "    print(\"Label: \", label)\n",
    "    \n",
    "    current_image = current_image.reshape((28, 28)) * 255\n",
    "    plt.gray()\n",
    "    plt.imshow(current_image, interpolation='nearest')\n",
    "    plt.show()"
   ]
  },
  {
   "cell_type": "code",
   "execution_count": 7,
   "id": "5202a4c3",
   "metadata": {
    "execution": {
     "iopub.execute_input": "2023-01-08T09:02:48.579881Z",
     "iopub.status.busy": "2023-01-08T09:02:48.579473Z",
     "iopub.status.idle": "2023-01-08T09:03:58.166386Z",
     "shell.execute_reply": "2023-01-08T09:03:58.165024Z"
    },
    "papermill": {
     "duration": 69.596999,
     "end_time": "2023-01-08T09:03:58.170267",
     "exception": false,
     "start_time": "2023-01-08T09:02:48.573268",
     "status": "completed"
    },
    "tags": []
   },
   "outputs": [
    {
     "name": "stdout",
     "output_type": "stream",
     "text": [
      "Iterations :  0\n",
      "[9 9 9 ... 9 8 9] [5 7 6 ... 8 7 8]\n",
      "Accuracy :  0.07164285714285715\n",
      "Iterations :  20\n",
      "[2 7 2 ... 3 7 5] [5 7 6 ... 8 7 8]\n",
      "Accuracy :  0.32552380952380955\n",
      "Iterations :  40\n",
      "[0 7 7 ... 3 7 5] [5 7 6 ... 8 7 8]\n",
      "Accuracy :  0.4665\n",
      "Iterations :  60\n",
      "[3 7 7 ... 3 7 5] [5 7 6 ... 8 7 8]\n",
      "Accuracy :  0.5721428571428572\n",
      "Iterations :  80\n",
      "[5 7 9 ... 3 7 5] [5 7 6 ... 8 7 8]\n",
      "Accuracy :  0.6426190476190476\n",
      "Iterations :  100\n",
      "[5 7 9 ... 3 7 5] [5 7 6 ... 8 7 8]\n",
      "Accuracy :  0.6947380952380953\n",
      "Iterations :  120\n",
      "[5 7 9 ... 3 7 5] [5 7 6 ... 8 7 8]\n",
      "Accuracy :  0.7337619047619047\n",
      "Iterations :  140\n",
      "[5 7 9 ... 3 7 5] [5 7 6 ... 8 7 8]\n",
      "Accuracy :  0.7616904761904761\n",
      "Iterations :  160\n",
      "[5 7 9 ... 3 7 5] [5 7 6 ... 8 7 8]\n",
      "Accuracy :  0.7798333333333334\n",
      "Iterations :  180\n",
      "[5 7 4 ... 3 7 5] [5 7 6 ... 8 7 8]\n",
      "Accuracy :  0.7935\n",
      "Iterations :  200\n",
      "[5 7 4 ... 3 7 5] [5 7 6 ... 8 7 8]\n",
      "Accuracy :  0.805404761904762\n",
      "Iterations :  220\n",
      "[5 7 4 ... 3 7 5] [5 7 6 ... 8 7 8]\n",
      "Accuracy :  0.8145476190476191\n",
      "Iterations :  240\n",
      "[5 7 4 ... 3 7 5] [5 7 6 ... 8 7 8]\n",
      "Accuracy :  0.8224523809523809\n",
      "Iterations :  260\n",
      "[5 7 4 ... 3 7 5] [5 7 6 ... 8 7 8]\n",
      "Accuracy :  0.8290952380952381\n",
      "Iterations :  280\n",
      "[5 7 4 ... 3 7 5] [5 7 6 ... 8 7 8]\n",
      "Accuracy :  0.8347380952380953\n",
      "Iterations :  300\n",
      "[5 7 4 ... 3 7 5] [5 7 6 ... 8 7 8]\n",
      "Accuracy :  0.8395476190476191\n",
      "Iterations :  320\n",
      "[5 7 4 ... 3 7 5] [5 7 6 ... 8 7 8]\n",
      "Accuracy :  0.844047619047619\n",
      "Iterations :  340\n",
      "[5 7 4 ... 3 7 5] [5 7 6 ... 8 7 8]\n",
      "Accuracy :  0.8480714285714286\n",
      "Iterations :  360\n",
      "[5 7 4 ... 3 7 5] [5 7 6 ... 8 7 8]\n",
      "Accuracy :  0.8511190476190477\n",
      "Iterations :  380\n",
      "[5 7 4 ... 8 7 5] [5 7 6 ... 8 7 8]\n",
      "Accuracy :  0.8539761904761904\n",
      "Iterations :  400\n",
      "[5 7 4 ... 8 7 5] [5 7 6 ... 8 7 8]\n",
      "Accuracy :  0.8566428571428572\n",
      "Iterations :  420\n",
      "[5 7 4 ... 8 7 5] [5 7 6 ... 8 7 8]\n",
      "Accuracy :  0.859\n",
      "Iterations :  440\n",
      "[5 7 4 ... 8 7 5] [5 7 6 ... 8 7 8]\n",
      "Accuracy :  0.8606666666666667\n",
      "Iterations :  460\n",
      "[5 7 4 ... 8 7 5] [5 7 6 ... 8 7 8]\n",
      "Accuracy :  0.8628809523809524\n",
      "Iterations :  480\n",
      "[5 7 4 ... 8 7 5] [5 7 6 ... 8 7 8]\n",
      "Accuracy :  0.8653333333333333\n"
     ]
    }
   ],
   "source": [
    "W1, b1, W2, b2 = gradient_descent(X_train, Y_train, 0.15, 500)"
   ]
  },
  {
   "cell_type": "code",
   "execution_count": 8,
   "id": "d89c64b9",
   "metadata": {
    "execution": {
     "iopub.execute_input": "2023-01-08T09:03:58.193598Z",
     "iopub.status.busy": "2023-01-08T09:03:58.192917Z",
     "iopub.status.idle": "2023-01-08T09:03:59.412499Z",
     "shell.execute_reply": "2023-01-08T09:03:59.411227Z"
    },
    "papermill": {
     "duration": 1.234286,
     "end_time": "2023-01-08T09:03:59.415296",
     "exception": false,
     "start_time": "2023-01-08T09:03:58.181010",
     "status": "completed"
    },
    "tags": []
   },
   "outputs": [
    {
     "name": "stdout",
     "output_type": "stream",
     "text": [
      "Prediction:  [6]\n",
      "Label:  6\n"
     ]
    },
    {
     "data": {
      "image/png": "[encoded data removed]",
      "text/plain": [
       "<Figure size 432x288 with 1 Axes>"
      ]
     },
     "metadata": {
      "needs_background": "light"
     },
     "output_type": "display_data"
    },
    {
     "name": "stdout",
     "output_type": "stream",
     "text": [
      "Prediction:  [7]\n",
      "Label:  7\n"
     ]
    },
    {
     "data": {
      "image/png": "[encoded data removed]",
      "text/plain": [
       "<Figure size 432x288 with 1 Axes>"
      ]
     },
     "metadata": {
      "needs_background": "light"
     },
     "output_type": "display_data"
    },
    {
     "name": "stdout",
     "output_type": "stream",
     "text": [
      "Prediction:  [3]\n",
      "Label:  3\n"
     ]
    },
    {
     "data": {
      "image/png": "[encoded data removed]",
      "text/plain": [
       "<Figure size 432x288 with 1 Axes>"
      ]
     },
     "metadata": {
      "needs_background": "light"
     },
     "output_type": "display_data"
    },
    {
     "name": "stdout",
     "output_type": "stream",
     "text": [
      "Prediction:  [6]\n",
      "Label:  6\n"
     ]
    },
    {
     "data": {
      "image/png": "[encoded data removed]",
      "text/plain": [
       "<Figure size 432x288 with 1 Axes>"
      ]
     },
     "metadata": {
      "needs_background": "light"
     },
     "output_type": "display_data"
    },
    {
     "name": "stdout",
     "output_type": "stream",
     "text": [
      "Prediction:  [9]\n",
      "Label:  8\n"
     ]
    },
    {
     "data": {
      "image/png": "[encoded data removed]",
      "text/plain": [
       "<Figure size 432x288 with 1 Axes>"
      ]
     },
     "metadata": {
      "needs_background": "light"
     },
     "output_type": "display_data"
    },
    {
     "name": "stdout",
     "output_type": "stream",
     "text": [
      "Prediction:  [9]\n",
      "Label:  9\n"
     ]
    },
    {
     "data": {
      "image/png": "[encoded data removed]",
      "text/plain": [
       "<Figure size 432x288 with 1 Axes>"
      ]
     },
     "metadata": {
      "needs_background": "light"
     },
     "output_type": "display_data"
    },
    {
     "name": "stdout",
     "output_type": "stream",
     "text": [
      "Prediction:  [3]\n",
      "Label:  3\n"
     ]
    },
    {
     "data": {
      "image/png": "[encoded data removed]",
      "text/plain": [
       "<Figure size 432x288 with 1 Axes>"
      ]
     },
     "metadata": {
      "needs_background": "light"
     },
     "output_type": "display_data"
    }
   ],
   "source": [
    "test_prediction(37, W1, b1, W2, b2)\n",
    "test_prediction(1, W1, b1, W2, b2)\n",
    "test_prediction(7, W1, b1, W2, b2)\n",
    "test_prediction(34, W1, b1, W2, b2)\n",
    "test_prediction(24, W1, b1, W2, b2)\n",
    "test_prediction(6, W1, b1, W2, b2)\n",
    "test_prediction(97, W1, b1, W2, b2)"
   ]
  },
  {
   "cell_type": "markdown",
   "id": "bf3b384c",
   "metadata": {
    "papermill": {
     "duration": 0.007716,
     "end_time": "2023-01-08T09:03:59.431199",
     "exception": false,
     "start_time": "2023-01-08T09:03:59.423483",
     "status": "completed"
    },
    "tags": []
   },
   "source": [
    "# Insights\n",
    "\n",
    "1. Few number of layers - it would have performed better with more hidden layers.\n",
    "\n",
    "2. Parameters(weights) Initialization - the optimal value depends on the initial value of W.\n",
    "\n",
    "3. Vanishing Gradient - vanishing gradient may have led to lack of training, even though the training dataset was large enough."
   ]
  },
  {
   "cell_type": "code",
   "execution_count": null,
   "id": "e7b0eaa8",
   "metadata": {
    "papermill": {
     "duration": 0.007623,
     "end_time": "2023-01-08T09:03:59.446793",
     "exception": false,
     "start_time": "2023-01-08T09:03:59.439170",
     "status": "completed"
    },
    "tags": []
   },
   "outputs": [],
   "source": []
  }
 ],
 "metadata": {
  "kernelspec": {
   "display_name": "Python 3",
   "language": "python",
   "name": "python3"
  },
  "language_info": {
   "codemirror_mode": {
    "name": "ipython",
    "version": 3
   },
   "file_extension": ".py",
   "mimetype": "text/x-python",
   "name": "python",
   "nbconvert_exporter": "python",
   "pygments_lexer": "ipython3",
   "version": "3.7.12"
  },
  "papermill": {
   "default_parameters": {},
   "duration": 87.129052,
   "end_time": "2023-01-08T09:04:00.178285",
   "environment_variables": {},
   "exception": null,
   "input_path": "__notebook__.ipynb",
   "output_path": "__notebook__.ipynb",
   "parameters": {},
   "start_time": "2023-01-08T09:02:33.049233",
   "version": "2.3.4"
  }
 },
 "nbformat": 4,
 "nbformat_minor": 5
}
