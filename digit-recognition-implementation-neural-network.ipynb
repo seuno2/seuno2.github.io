{
 "cells": [
  {
   "cell_type": "code",
   "execution_count": 1,
   "id": "825111a2",
   "metadata": {
    "_cell_guid": "b1076dfc-b9ad-4769-8c92-a6c4dae69d19",
    "_uuid": "8f2839f25d086af736a60e9eeb907d3b93b6e0e5",
    "execution": {
     "iopub.execute_input": "2023-01-04T10:53:46.688391Z",
     "iopub.status.busy": "2023-01-04T10:53:46.687744Z",
     "iopub.status.idle": "2023-01-04T10:53:46.704812Z",
     "shell.execute_reply": "2023-01-04T10:53:46.703604Z"
    },
    "papermill": {
     "duration": 0.028284,
     "end_time": "2023-01-04T10:53:46.708320",
     "exception": false,
     "start_time": "2023-01-04T10:53:46.680036",
     "status": "completed"
    },
    "tags": []
   },
   "outputs": [
    {
     "name": "stdout",
     "output_type": "stream",
     "text": [
      "/kaggle/input/digit-recognizer/sample_submission.csv\n",
      "/kaggle/input/digit-recognizer/train.csv\n",
      "/kaggle/input/digit-recognizer/test.csv\n"
     ]
    }
   ],
   "source": [
    "# This Python 3 environment comes with many helpful analytics libraries installed\n",
    "# It is defined by the kaggle/python Docker image: https://github.com/kaggle/docker-python\n",
    "# For example, here's several helpful packages to load\n",
    "\n",
    "import numpy as np # linear algebra\n",
    "import pandas as pd # data processing, CSV file I/O (e.g. pd.read_csv)\n",
    "from matplotlib import pyplot as plt\n",
    "\n",
    "# Input data files are available in the read-only \"../input/\" directory\n",
    "# For example, running this (by clicking run or pressing Shift+Enter) will list all files under the input directory\n",
    "\n",
    "import os\n",
    "for dirname, _, filenames in os.walk('/kaggle/input'):\n",
    "    for filename in filenames:\n",
    "        print(os.path.join(dirname, filename))\n",
    "\n",
    "# You can write up to 20GB to the current directory (/kaggle/working/) that gets preserved as output when you create a version using \"Save & Run All\" \n",
    "# You can also write temporary files to /kaggle/temp/, but they won't be saved outside of the current session"
   ]
  },
  {
   "cell_type": "markdown",
   "id": "9da82a15",
   "metadata": {
    "papermill": {
     "duration": 0.003817,
     "end_time": "2023-01-04T10:53:46.716513",
     "exception": false,
     "start_time": "2023-01-04T10:53:46.712696",
     "status": "completed"
    },
    "tags": []
   },
   "source": [
    "# DATA INPUT & SPLIT"
   ]
  },
  {
   "cell_type": "code",
   "execution_count": 2,
   "id": "6509d792",
   "metadata": {
    "execution": {
     "iopub.execute_input": "2023-01-04T10:53:46.727448Z",
     "iopub.status.busy": "2023-01-04T10:53:46.726586Z",
     "iopub.status.idle": "2023-01-04T10:53:46.732510Z",
     "shell.execute_reply": "2023-01-04T10:53:46.731324Z"
    },
    "papermill": {
     "duration": 0.014393,
     "end_time": "2023-01-04T10:53:46.735134",
     "exception": false,
     "start_time": "2023-01-04T10:53:46.720741",
     "status": "completed"
    },
    "tags": []
   },
   "outputs": [],
   "source": [
    "def one_hot(Y):\n",
    "    one_hot_Y = np.zeros((Y.size,Y.max()+1))\n",
    "    one_hot_Y[np.arange(Y.size),Y] = 1\n",
    "    one_hot_Y = one_hot_Y.T\n",
    "    return one_hot_Y"
   ]
  },
  {
   "cell_type": "code",
   "execution_count": 3,
   "id": "26d5aa59",
   "metadata": {
    "execution": {
     "iopub.execute_input": "2023-01-04T10:53:46.745377Z",
     "iopub.status.busy": "2023-01-04T10:53:46.744930Z",
     "iopub.status.idle": "2023-01-04T10:53:51.422182Z",
     "shell.execute_reply": "2023-01-04T10:53:51.421023Z"
    },
    "papermill": {
     "duration": 4.685729,
     "end_time": "2023-01-04T10:53:51.425068",
     "exception": false,
     "start_time": "2023-01-04T10:53:46.739339",
     "status": "completed"
    },
    "tags": []
   },
   "outputs": [],
   "source": [
    "data = pd.read_csv('/kaggle/input/digit-recognizer/train.csv')\n",
    "data1 = data\n",
    "data = np.array(data)\n",
    "m, n = data.shape\n",
    "np.random.shuffle(data)\n",
    "\n",
    "\n",
    "data_train = data[:m].T\n",
    "Y_train = data_train[0]\n",
    "X_train = data_train[1:n]\n",
    "X_train = X_train / 255.\n",
    "#_,m_train = X_train.shape\n"
   ]
  },
  {
   "cell_type": "markdown",
   "id": "54e97cef",
   "metadata": {
    "papermill": {
     "duration": 0.004051,
     "end_time": "2023-01-04T10:53:51.433397",
     "exception": false,
     "start_time": "2023-01-04T10:53:51.429346",
     "status": "completed"
    },
    "tags": []
   },
   "source": [
    "# Forward propagation\n",
    "\n",
    "$Z^{[1]} = W^{[1]} X + b^{[1]}$\n",
    "\n",
    "$A^{[1]} = ReLU(Z^{[1]}))$\n",
    "\n",
    "$Z^{[2]} = W^{[2]} A^{[1]} + b^{[2]}$\n",
    "\n",
    "$A^{[2]} = softmax(Z^{[2]})$"
   ]
  },
  {
   "cell_type": "markdown",
   "id": "8907ec73",
   "metadata": {
    "papermill": {
     "duration": 0.003645,
     "end_time": "2023-01-04T10:53:51.441055",
     "exception": false,
     "start_time": "2023-01-04T10:53:51.437410",
     "status": "completed"
    },
    "tags": []
   },
   "source": [
    "# Backward propagation\n",
    "\n",
    "$Loss = - \\Sigma[{y_{[k]} *log(a_{[k]})]}$\n",
    "\n",
    "$Cost = - \\frac{1}{m}\\Sigma\\Sigma[{y_{[k]} *log(a_{[k]})]}$\n",
    "\n",
    "$dZ^{[2]} = A^{[2]} - Y$  : Derivative of Loss Function with respect to Z\n",
    "\n",
    "$dW^{[2]} = \\frac{1}{m} dZ^{[2]} A^{[1]T}$ : Derivative of Cost Function with respect to W\n",
    "\n",
    "$dB^{[2]} = \\frac{1}{m} \\Sigma {dZ^{[2]}}$\n",
    "\n",
    "$dZ^{[1]} = W^{[2]T} dZ^{[2]} .* g^{[1]\\prime} (z^{[1]})$\n",
    "\n",
    "$dW^{[1]} = \\frac{1}{m} dZ^{[1]} A^{[0]T}$\n",
    "\n",
    "$dB^{[1]} = \\frac{1}{m} \\Sigma {dZ^{[1]}}$\n"
   ]
  },
  {
   "cell_type": "markdown",
   "id": "85573524",
   "metadata": {
    "papermill": {
     "duration": 0.00359,
     "end_time": "2023-01-04T10:53:51.448690",
     "exception": false,
     "start_time": "2023-01-04T10:53:51.445100",
     "status": "completed"
    },
    "tags": []
   },
   "source": [
    "# Updating Parameters\n",
    "\n",
    "$alpha  : learning rate$\n",
    "\n",
    "$W^{[2]} := W^{[2]} - \\alpha dW^{[2]}$\n",
    "\n",
    "$b^{[2]} := b^{[2]} - \\alpha db^{[2]}$\n",
    "\n",
    "$W^{[1]} := W^{[1]} - \\alpha dW^{[1]}$\n",
    "\n",
    "$b^{[1]} := b^{[1]} - \\alpha db^{[1]}$"
   ]
  },
  {
   "cell_type": "code",
   "execution_count": 4,
   "id": "45d0c223",
   "metadata": {
    "execution": {
     "iopub.execute_input": "2023-01-04T10:53:51.458111Z",
     "iopub.status.busy": "2023-01-04T10:53:51.457726Z",
     "iopub.status.idle": "2023-01-04T10:53:51.481214Z",
     "shell.execute_reply": "2023-01-04T10:53:51.479961Z"
    },
    "papermill": {
     "duration": 0.032445,
     "end_time": "2023-01-04T10:53:51.484994",
     "exception": false,
     "start_time": "2023-01-04T10:53:51.452549",
     "status": "completed"
    },
    "tags": []
   },
   "outputs": [],
   "source": [
    "def init_params():\n",
    "    W1 = np.random.rand(10,784) - 0.5\n",
    "    b1 = np.random.rand(10,1) - 0.5\n",
    "    W2 = np.random.rand(10,10) - 0.5\n",
    "    b2 = np.random.rand(10,1) - 0.5\n",
    "    return W1,b1,W2,b2\n",
    "\n",
    "def ReLU(Z):\n",
    "    return np.maximum(Z,0)\n",
    "\n",
    "def softmax(Z):\n",
    "    return np.exp(Z)/sum(np.exp(Z), 0)\n",
    "    \n",
    "\n",
    "def forward_prop(W1,b1,W2,b2,X):\n",
    "    Z1 = W1.dot(X) + b1\n",
    "    A1 = ReLU(Z1)\n",
    "    Z2 = W2.dot(A1) + b2\n",
    "    A2 = softmax(Z2)\n",
    "    return Z1,A1,Z2,A2\n",
    "\n",
    "#cost function\n",
    "def cost_function(A2,one_hot_Y):\n",
    "    m = Y.shape[1]\n",
    "    cost = -(1/m)*np.sum(Y*np.log(A2))\n",
    "    return cost\n",
    "\n",
    "\n",
    "def one_hot(Y):\n",
    "    one_hot_Y = np.zeros((Y.size,Y.max()+1))\n",
    "    one_hot_Y[np.arange(Y.size),Y] = 1       # for every observation(row), access to the column specified by the label in Y\n",
    "    one_hot_Y = one_hot_Y.T\n",
    "    return one_hot_Y\n",
    "    \n",
    "\n",
    "def deriv_ReLU(Z):\n",
    "    return Z>0\n",
    "    \n",
    "    \n",
    "def back_prop(Z1,A1,Z2,A2,W1,W2,X,Y):\n",
    "    #m = Y.size\n",
    "    one_hot_Y = one_hot(Y)\n",
    "    dZ2 = A2 - one_hot_Y\n",
    "    dW2 = 1 / m * dZ2.dot(A1.T)\n",
    "    db2 = 1 / m * np.sum(dZ2, axis = 1, keepdims = True)\n",
    "    dZ1 = W2.T.dot(dZ2)*deriv_ReLU(Z1)\n",
    "    dW1 = 1 / m * dZ1.dot(X.T)\n",
    "    db1 = 1 / m * np.sum(dZ1, axis = 1, keepdims = True)\n",
    "    \n",
    "    return dW1, db1, dW2, db2\n",
    "\n",
    "def update_params(W1, b1, W2, b2, dW1, db1, dW2, db2, alpha):\n",
    "        \n",
    "    W1 = W1 - alpha * dW1\n",
    "    b1 = b1 - alpha * db1\n",
    "    W2 = W2 - alpha * dW2\n",
    "    b2 = b2 - alpha * db2\n",
    "    return W1, b1, W2, b2\n",
    "\n",
    "\n",
    "\n",
    "    "
   ]
  },
  {
   "cell_type": "markdown",
   "id": "eca3f92b",
   "metadata": {
    "papermill": {
     "duration": 0.005398,
     "end_time": "2023-01-04T10:53:51.495270",
     "exception": false,
     "start_time": "2023-01-04T10:53:51.489872",
     "status": "completed"
    },
    "tags": []
   },
   "source": [
    "# Performance"
   ]
  },
  {
   "cell_type": "code",
   "execution_count": 5,
   "id": "c4150fd3",
   "metadata": {
    "execution": {
     "iopub.execute_input": "2023-01-04T10:53:51.514756Z",
     "iopub.status.busy": "2023-01-04T10:53:51.514225Z",
     "iopub.status.idle": "2023-01-04T10:53:51.523868Z",
     "shell.execute_reply": "2023-01-04T10:53:51.522710Z"
    },
    "papermill": {
     "duration": 0.027135,
     "end_time": "2023-01-04T10:53:51.529730",
     "exception": false,
     "start_time": "2023-01-04T10:53:51.502595",
     "status": "completed"
    },
    "tags": []
   },
   "outputs": [],
   "source": [
    "def get_accuracy(predictions, Y):\n",
    "    print(predictions, Y)\n",
    "    return np.sum(predictions == Y) / Y.size\n",
    "\n",
    "def get_predictions(A2):\n",
    "    return np.argmax(A2, 0)\n",
    "\n",
    "def gradient_descent(X, Y, alpha,iterations):\n",
    "    W1, b1, W2, b2 = init_params()\n",
    "    for i in range(iterations):\n",
    "        Z1, A1, Z2, A2 = forward_prop(W1, b1, W2, b2, X)\n",
    "        dW1, db1, dW2, db2 = back_prop(Z1, A1, Z2, A2, W1, W2, X, Y)\n",
    "        W1, b1, W2, b2 = update_params(W1, b1, W2, b2, dW1, db1, dW2, db2, alpha)\n",
    "        if i % 20 == 0:\n",
    "            print('Iterations : ', i)\n",
    "            print('Accuracy : ', get_accuracy(get_predictions(A2),Y))\n",
    "    return W1, b1, W2, b2"
   ]
  },
  {
   "cell_type": "markdown",
   "id": "978d7f40",
   "metadata": {
    "papermill": {
     "duration": 0.004606,
     "end_time": "2023-01-04T10:53:51.538579",
     "exception": false,
     "start_time": "2023-01-04T10:53:51.533973",
     "status": "completed"
    },
    "tags": []
   },
   "source": [
    "# Train & Test"
   ]
  },
  {
   "cell_type": "code",
   "execution_count": 6,
   "id": "d1c311fd",
   "metadata": {
    "execution": {
     "iopub.execute_input": "2023-01-04T10:53:51.548770Z",
     "iopub.status.busy": "2023-01-04T10:53:51.548194Z",
     "iopub.status.idle": "2023-01-04T10:53:51.556345Z",
     "shell.execute_reply": "2023-01-04T10:53:51.555587Z"
    },
    "papermill": {
     "duration": 0.015693,
     "end_time": "2023-01-04T10:53:51.558722",
     "exception": false,
     "start_time": "2023-01-04T10:53:51.543029",
     "status": "completed"
    },
    "tags": []
   },
   "outputs": [],
   "source": [
    "def make_predictions(X, W1, b1, W2, b2):\n",
    "    _, _, _, A2 = forward_prop(W1, b1, W2, b2, X)\n",
    "    predictions = get_predictions(A2)\n",
    "    return predictions\n",
    "\n",
    "def test_prediction(index, W1, b1, W2, b2):\n",
    "    current_image = X_train[:, index, None]\n",
    "    prediction = make_predictions(X_train[:, index, None], W1, b1, W2, b2)\n",
    "    label = Y_train[index]\n",
    "    print(\"Prediction: \", prediction)\n",
    "    print(\"Label: \", label)\n",
    "    \n",
    "    current_image = current_image.reshape((28, 28)) * 255\n",
    "    plt.gray()\n",
    "    plt.imshow(current_image, interpolation='nearest')\n",
    "    plt.show()"
   ]
  },
  {
   "cell_type": "code",
   "execution_count": 7,
   "id": "a321cf6d",
   "metadata": {
    "execution": {
     "iopub.execute_input": "2023-01-04T10:53:51.576965Z",
     "iopub.status.busy": "2023-01-04T10:53:51.576129Z",
     "iopub.status.idle": "2023-01-04T10:55:07.707851Z",
     "shell.execute_reply": "2023-01-04T10:55:07.706262Z"
    },
    "papermill": {
     "duration": 76.149935,
     "end_time": "2023-01-04T10:55:07.712776",
     "exception": false,
     "start_time": "2023-01-04T10:53:51.562841",
     "status": "completed"
    },
    "tags": []
   },
   "outputs": [
    {
     "name": "stdout",
     "output_type": "stream",
     "text": [
      "Iterations :  0\n",
      "[2 4 4 ... 4 9 4] [7 7 6 ... 8 0 3]\n",
      "Accuracy :  0.10152380952380953\n",
      "Iterations :  20\n",
      "[2 6 0 ... 0 5 1] [7 7 6 ... 8 0 3]\n",
      "Accuracy :  0.32504761904761903\n",
      "Iterations :  40\n",
      "[1 9 0 ... 5 3 8] [7 7 6 ... 8 0 3]\n",
      "Accuracy :  0.5531904761904762\n",
      "Iterations :  60\n",
      "[1 9 6 ... 5 5 8] [7 7 6 ... 8 0 3]\n",
      "Accuracy :  0.6485714285714286\n",
      "Iterations :  80\n",
      "[1 9 6 ... 5 5 8] [7 7 6 ... 8 0 3]\n",
      "Accuracy :  0.7001666666666667\n",
      "Iterations :  100\n",
      "[7 9 6 ... 6 0 8] [7 7 6 ... 8 0 3]\n",
      "Accuracy :  0.733\n",
      "Iterations :  120\n",
      "[7 9 6 ... 8 0 3] [7 7 6 ... 8 0 3]\n",
      "Accuracy :  0.7584761904761905\n",
      "Iterations :  140\n",
      "[7 9 6 ... 8 0 3] [7 7 6 ... 8 0 3]\n",
      "Accuracy :  0.7762619047619047\n",
      "Iterations :  160\n",
      "[7 9 6 ... 8 0 3] [7 7 6 ... 8 0 3]\n",
      "Accuracy :  0.7897619047619048\n",
      "Iterations :  180\n",
      "[7 9 6 ... 8 0 3] [7 7 6 ... 8 0 3]\n",
      "Accuracy :  0.8005\n",
      "Iterations :  200\n",
      "[7 9 6 ... 8 0 3] [7 7 6 ... 8 0 3]\n",
      "Accuracy :  0.809404761904762\n",
      "Iterations :  220\n",
      "[7 9 6 ... 8 0 3] [7 7 6 ... 8 0 3]\n",
      "Accuracy :  0.8174761904761905\n",
      "Iterations :  240\n",
      "[7 9 6 ... 8 0 3] [7 7 6 ... 8 0 3]\n",
      "Accuracy :  0.8244761904761905\n",
      "Iterations :  260\n",
      "[7 9 6 ... 6 0 3] [7 7 6 ... 8 0 3]\n",
      "Accuracy :  0.83\n",
      "Iterations :  280\n",
      "[7 9 6 ... 6 0 3] [7 7 6 ... 8 0 3]\n",
      "Accuracy :  0.8353571428571429\n",
      "Iterations :  300\n",
      "[7 9 6 ... 6 0 3] [7 7 6 ... 8 0 3]\n",
      "Accuracy :  0.8399285714285715\n",
      "Iterations :  320\n",
      "[7 9 6 ... 6 0 3] [7 7 6 ... 8 0 3]\n",
      "Accuracy :  0.844\n",
      "Iterations :  340\n",
      "[7 9 6 ... 6 0 3] [7 7 6 ... 8 0 3]\n",
      "Accuracy :  0.8474761904761905\n",
      "Iterations :  360\n",
      "[7 9 6 ... 6 0 3] [7 7 6 ... 8 0 3]\n",
      "Accuracy :  0.8509523809523809\n",
      "Iterations :  380\n",
      "[7 9 6 ... 6 0 3] [7 7 6 ... 8 0 3]\n",
      "Accuracy :  0.8538571428571429\n",
      "Iterations :  400\n",
      "[7 9 6 ... 6 0 3] [7 7 6 ... 8 0 3]\n",
      "Accuracy :  0.8568095238095238\n",
      "Iterations :  420\n",
      "[7 9 6 ... 6 0 3] [7 7 6 ... 8 0 3]\n",
      "Accuracy :  0.8596666666666667\n",
      "Iterations :  440\n",
      "[7 9 6 ... 6 0 3] [7 7 6 ... 8 0 3]\n",
      "Accuracy :  0.861547619047619\n",
      "Iterations :  460\n",
      "[7 9 6 ... 6 0 3] [7 7 6 ... 8 0 3]\n",
      "Accuracy :  0.8638095238095238\n",
      "Iterations :  480\n",
      "[7 9 6 ... 6 0 3] [7 7 6 ... 8 0 3]\n",
      "Accuracy :  0.8661428571428571\n"
     ]
    }
   ],
   "source": [
    "W1, b1, W2, b2 = gradient_descent(X_train, Y_train, 0.15, 500)"
   ]
  },
  {
   "cell_type": "code",
   "execution_count": 8,
   "id": "a8370ecc",
   "metadata": {
    "execution": {
     "iopub.execute_input": "2023-01-04T10:55:07.743890Z",
     "iopub.status.busy": "2023-01-04T10:55:07.742981Z",
     "iopub.status.idle": "2023-01-04T10:55:09.204461Z",
     "shell.execute_reply": "2023-01-04T10:55:09.203494Z"
    },
    "papermill": {
     "duration": 1.479698,
     "end_time": "2023-01-04T10:55:09.206917",
     "exception": false,
     "start_time": "2023-01-04T10:55:07.727219",
     "status": "completed"
    },
    "tags": []
   },
   "outputs": [
    {
     "name": "stdout",
     "output_type": "stream",
     "text": [
      "Prediction:  [0]\n",
      "Label:  0\n"
     ]
    },
    {
     "data": {
      "image/png": "[encoded data removed]",
      "text/plain": [
       "<Figure size 432x288 with 1 Axes>"
      ]
     },
     "metadata": {
      "needs_background": "light"
     },
     "output_type": "display_data"
    },
    {
     "name": "stdout",
     "output_type": "stream",
     "text": [
      "Prediction:  [9]\n",
      "Label:  7\n"
     ]
    },
    {
     "data": {
      "image/png": "[encoded data removed]",
      "text/plain": [
       "<Figure size 432x288 with 1 Axes>"
      ]
     },
     "metadata": {
      "needs_background": "light"
     },
     "output_type": "display_data"
    },
    {
     "name": "stdout",
     "output_type": "stream",
     "text": [
      "Prediction:  [4]\n",
      "Label:  9\n"
     ]
    },
    {
     "data": {
      "image/png": "[encoded data removed]",
      "text/plain": [
       "<Figure size 432x288 with 1 Axes>"
      ]
     },
     "metadata": {
      "needs_background": "light"
     },
     "output_type": "display_data"
    },
    {
     "name": "stdout",
     "output_type": "stream",
     "text": [
      "Prediction:  [2]\n",
      "Label:  2\n"
     ]
    },
    {
     "data": {
      "image/png": "[encoded data removed]",
      "text/plain": [
       "<Figure size 432x288 with 1 Axes>"
      ]
     },
     "metadata": {
      "needs_background": "light"
     },
     "output_type": "display_data"
    },
    {
     "name": "stdout",
     "output_type": "stream",
     "text": [
      "Prediction:  [4]\n",
      "Label:  4\n"
     ]
    },
    {
     "data": {
      "image/png": "[encoded data removed]",
      "text/plain": [
       "<Figure size 432x288 with 1 Axes>"
      ]
     },
     "metadata": {
      "needs_background": "light"
     },
     "output_type": "display_data"
    },
    {
     "name": "stdout",
     "output_type": "stream",
     "text": [
      "Prediction:  [9]\n",
      "Label:  9\n"
     ]
    },
    {
     "data": {
      "image/png": "[encoded data removed]",
      "text/plain": [
       "<Figure size 432x288 with 1 Axes>"
      ]
     },
     "metadata": {
      "needs_background": "light"
     },
     "output_type": "display_data"
    },
    {
     "name": "stdout",
     "output_type": "stream",
     "text": [
      "Prediction:  [8]\n",
      "Label:  1\n"
     ]
    },
    {
     "data": {
      "image/png": "[encoded data removed]",
      "text/plain": [
       "<Figure size 432x288 with 1 Axes>"
      ]
     },
     "metadata": {
      "needs_background": "light"
     },
     "output_type": "display_data"
    }
   ],
   "source": [
    "test_prediction(37, W1, b1, W2, b2)\n",
    "test_prediction(1, W1, b1, W2, b2)\n",
    "test_prediction(7, W1, b1, W2, b2)\n",
    "test_prediction(34, W1, b1, W2, b2)\n",
    "test_prediction(24, W1, b1, W2, b2)\n",
    "test_prediction(6, W1, b1, W2, b2)\n",
    "test_prediction(97, W1, b1, W2, b2)"
   ]
  },
  {
   "cell_type": "code",
   "execution_count": null,
   "id": "57f65675",
   "metadata": {
    "papermill": {
     "duration": 0.00695,
     "end_time": "2023-01-04T10:55:09.222949",
     "exception": false,
     "start_time": "2023-01-04T10:55:09.215999",
     "status": "completed"
    },
    "tags": []
   },
   "outputs": [],
   "source": []
  }
 ],
 "metadata": {
  "kernelspec": {
   "display_name": "Python 3",
   "language": "python",
   "name": "python3"
  },
  "language_info": {
   "codemirror_mode": {
    "name": "ipython",
    "version": 3
   },
   "file_extension": ".py",
   "mimetype": "text/x-python",
   "name": "python",
   "nbconvert_exporter": "python",
   "pygments_lexer": "ipython3",
   "version": "3.7.12"
  },
  "papermill": {
   "default_parameters": {},
   "duration": 91.692323,
   "end_time": "2023-01-04T10:55:09.953901",
   "environment_variables": {},
   "exception": null,
   "input_path": "__notebook__.ipynb",
   "output_path": "__notebook__.ipynb",
   "parameters": {},
   "start_time": "2023-01-04T10:53:38.261578",
   "version": "2.3.4"
  }
 },
 "nbformat": 4,
 "nbformat_minor": 5
}
