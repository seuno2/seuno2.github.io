{
 "cells": [
  {
   "cell_type": "code",
   "execution_count": 1,
   "id": "dd6584c8",
   "metadata": {
    "_cell_guid": "b1076dfc-b9ad-4769-8c92-a6c4dae69d19",
    "_uuid": "8f2839f25d086af736a60e9eeb907d3b93b6e0e5",
    "execution": {
     "iopub.execute_input": "2023-01-05T05:19:05.773368Z",
     "iopub.status.busy": "2023-01-05T05:19:05.772691Z",
     "iopub.status.idle": "2023-01-05T05:19:05.787271Z",
     "shell.execute_reply": "2023-01-05T05:19:05.786052Z"
    },
    "papermill": {
     "duration": 0.02446,
     "end_time": "2023-01-05T05:19:05.789993",
     "exception": false,
     "start_time": "2023-01-05T05:19:05.765533",
     "status": "completed"
    },
    "tags": []
   },
   "outputs": [
    {
     "name": "stdout",
     "output_type": "stream",
     "text": [
      "/kaggle/input/digit-recognizer/sample_submission.csv\n",
      "/kaggle/input/digit-recognizer/train.csv\n",
      "/kaggle/input/digit-recognizer/test.csv\n"
     ]
    }
   ],
   "source": [
    "# This Python 3 environment comes with many helpful analytics libraries installed\n",
    "# It is defined by the kaggle/python Docker image: https://github.com/kaggle/docker-python\n",
    "# For example, here's several helpful packages to load\n",
    "\n",
    "import numpy as np # linear algebra\n",
    "import pandas as pd # data processing, CSV file I/O (e.g. pd.read_csv)\n",
    "from matplotlib import pyplot as plt\n",
    "\n",
    "# Input data files are available in the read-only \"../input/\" directory\n",
    "# For example, running this (by clicking run or pressing Shift+Enter) will list all files under the input directory\n",
    "\n",
    "import os\n",
    "for dirname, _, filenames in os.walk('/kaggle/input'):\n",
    "    for filename in filenames:\n",
    "        print(os.path.join(dirname, filename))\n",
    "\n",
    "# You can write up to 20GB to the current directory (/kaggle/working/) that gets preserved as output when you create a version using \"Save & Run All\" \n",
    "# You can also write temporary files to /kaggle/temp/, but they won't be saved outside of the current session"
   ]
  },
  {
   "cell_type": "markdown",
   "id": "f47c8da7",
   "metadata": {
    "papermill": {
     "duration": 0.00399,
     "end_time": "2023-01-05T05:19:05.798628",
     "exception": false,
     "start_time": "2023-01-05T05:19:05.794638",
     "status": "completed"
    },
    "tags": []
   },
   "source": [
    "# DATA INPUT & SPLIT"
   ]
  },
  {
   "cell_type": "code",
   "execution_count": 2,
   "id": "dba8a8ec",
   "metadata": {
    "execution": {
     "iopub.execute_input": "2023-01-05T05:19:05.809366Z",
     "iopub.status.busy": "2023-01-05T05:19:05.808909Z",
     "iopub.status.idle": "2023-01-05T05:19:05.814592Z",
     "shell.execute_reply": "2023-01-05T05:19:05.813376Z"
    },
    "papermill": {
     "duration": 0.014032,
     "end_time": "2023-01-05T05:19:05.817038",
     "exception": false,
     "start_time": "2023-01-05T05:19:05.803006",
     "status": "completed"
    },
    "tags": []
   },
   "outputs": [],
   "source": [
    "def one_hot(Y):\n",
    "    one_hot_Y = np.zeros((Y.size,Y.max()+1))\n",
    "    one_hot_Y[np.arange(Y.size),Y] = 1\n",
    "    one_hot_Y = one_hot_Y.T\n",
    "    return one_hot_Y"
   ]
  },
  {
   "cell_type": "code",
   "execution_count": 3,
   "id": "e2b53072",
   "metadata": {
    "execution": {
     "iopub.execute_input": "2023-01-05T05:19:05.828099Z",
     "iopub.status.busy": "2023-01-05T05:19:05.827332Z",
     "iopub.status.idle": "2023-01-05T05:19:10.381294Z",
     "shell.execute_reply": "2023-01-05T05:19:10.380061Z"
    },
    "papermill": {
     "duration": 4.563118,
     "end_time": "2023-01-05T05:19:10.384585",
     "exception": false,
     "start_time": "2023-01-05T05:19:05.821467",
     "status": "completed"
    },
    "tags": []
   },
   "outputs": [],
   "source": [
    "data = pd.read_csv('/kaggle/input/digit-recognizer/train.csv')\n",
    "data1 = data\n",
    "data = np.array(data)\n",
    "m, n = data.shape\n",
    "np.random.shuffle(data)\n",
    "\n",
    "\n",
    "data_train = data[:m].T\n",
    "Y_train = data_train[0]\n",
    "X_train = data_train[1:n]\n",
    "X_train = X_train / 255.\n",
    "#_,m_train = X_train.shape\n"
   ]
  },
  {
   "cell_type": "markdown",
   "id": "39ef3062",
   "metadata": {
    "papermill": {
     "duration": 0.004219,
     "end_time": "2023-01-05T05:19:10.393357",
     "exception": false,
     "start_time": "2023-01-05T05:19:10.389138",
     "status": "completed"
    },
    "tags": []
   },
   "source": [
    "# Forward propagation\n",
    "\n",
    "$Z^{[1]} = W^{[1]} X + b^{[1]}$\n",
    "\n",
    "$A^{[1]} = ReLU(Z^{[1]}))$\n",
    "\n",
    "$Z^{[2]} = W^{[2]} A^{[1]} + b^{[2]}$\n",
    "\n",
    "$A^{[2]} = softmax(Z^{[2]})$"
   ]
  },
  {
   "cell_type": "markdown",
   "id": "f74c8ebc",
   "metadata": {
    "papermill": {
     "duration": 0.004021,
     "end_time": "2023-01-05T05:19:10.401799",
     "exception": false,
     "start_time": "2023-01-05T05:19:10.397778",
     "status": "completed"
    },
    "tags": []
   },
   "source": [
    "# Backward propagation\n",
    "\n",
    "$Loss = - \\Sigma[{y_{[k]} *log(a_{[k]})]}$\n",
    "\n",
    "$Cost = - \\frac{1}{m}\\Sigma\\Sigma[{y_{[k]} *log(a_{[k]})]}$\n",
    "\n",
    "$dZ^{[2]} = A^{[2]} - Y$  : Derivative of Loss Function with respect to Z\n",
    "\n",
    "$dW^{[2]} = \\frac{1}{m} dZ^{[2]} A^{[1]T}$ : Derivative of Cost Function with respect to W\n",
    "\n",
    "$dB^{[2]} = \\frac{1}{m} \\Sigma {dZ^{[2]}}$\n",
    "\n",
    "$dZ^{[1]} = W^{[2]T} dZ^{[2]} .* g^{[1]\\prime} (z^{[1]})$\n",
    "\n",
    "$dW^{[1]} = \\frac{1}{m} dZ^{[1]} A^{[0]T}$\n",
    "\n",
    "$dB^{[1]} = \\frac{1}{m} \\Sigma {dZ^{[1]}}$\n"
   ]
  },
  {
   "cell_type": "markdown",
   "id": "70225373",
   "metadata": {
    "papermill": {
     "duration": 0.004266,
     "end_time": "2023-01-05T05:19:10.410758",
     "exception": false,
     "start_time": "2023-01-05T05:19:10.406492",
     "status": "completed"
    },
    "tags": []
   },
   "source": [
    "# Updating Parameters\n",
    "\n",
    "$alpha  : learning rate$\n",
    "\n",
    "$W^{[2]} := W^{[2]} - \\alpha dW^{[2]}$\n",
    "\n",
    "$b^{[2]} := b^{[2]} - \\alpha db^{[2]}$\n",
    "\n",
    "$W^{[1]} := W^{[1]} - \\alpha dW^{[1]}$\n",
    "\n",
    "$b^{[1]} := b^{[1]} - \\alpha db^{[1]}$"
   ]
  },
  {
   "cell_type": "code",
   "execution_count": 4,
   "id": "8a1f07ac",
   "metadata": {
    "execution": {
     "iopub.execute_input": "2023-01-05T05:19:10.423467Z",
     "iopub.status.busy": "2023-01-05T05:19:10.422700Z",
     "iopub.status.idle": "2023-01-05T05:19:10.439160Z",
     "shell.execute_reply": "2023-01-05T05:19:10.438008Z"
    },
    "papermill": {
     "duration": 0.025757,
     "end_time": "2023-01-05T05:19:10.441909",
     "exception": false,
     "start_time": "2023-01-05T05:19:10.416152",
     "status": "completed"
    },
    "tags": []
   },
   "outputs": [],
   "source": [
    "def init_params():\n",
    "    W1 = np.random.rand(10,784) - 0.5\n",
    "    b1 = np.random.rand(10,1) - 0.5\n",
    "    W2 = np.random.rand(10,10) - 0.5\n",
    "    b2 = np.random.rand(10,1) - 0.5\n",
    "    return W1,b1,W2,b2\n",
    "\n",
    "def ReLU(Z):\n",
    "    return np.maximum(Z,0)\n",
    "\n",
    "def softmax(Z):\n",
    "    return np.exp(Z)/sum(np.exp(Z), 0)\n",
    "    \n",
    "\n",
    "def forward_prop(W1,b1,W2,b2,X):\n",
    "    Z1 = W1.dot(X) + b1\n",
    "    A1 = ReLU(Z1)\n",
    "    Z2 = W2.dot(A1) + b2\n",
    "    A2 = softmax(Z2)\n",
    "    return Z1,A1,Z2,A2\n",
    "\n",
    "#cost function\n",
    "def cost_function(A2,one_hot_Y):\n",
    "    m = Y.shape[1]\n",
    "    cost = -(1/m)*np.sum(Y*np.log(A2))\n",
    "    return cost\n",
    "\n",
    "\n",
    "def one_hot(Y):\n",
    "    one_hot_Y = np.zeros((Y.size,Y.max()+1))\n",
    "    one_hot_Y[np.arange(Y.size),Y] = 1       # for every observation(row), access to the column specified by the label in Y\n",
    "    one_hot_Y = one_hot_Y.T\n",
    "    return one_hot_Y\n",
    "    \n",
    "\n",
    "def deriv_ReLU(Z):\n",
    "    return Z>0\n",
    "    \n",
    "    \n",
    "def back_prop(Z1,A1,Z2,A2,W1,W2,X,Y):\n",
    "    #m = Y.size\n",
    "    one_hot_Y = one_hot(Y)\n",
    "    dZ2 = A2 - one_hot_Y\n",
    "    dW2 = 1 / m * dZ2.dot(A1.T)\n",
    "    db2 = 1 / m * np.sum(dZ2, axis = 1, keepdims = True)\n",
    "    dZ1 = W2.T.dot(dZ2)*deriv_ReLU(Z1)\n",
    "    dW1 = 1 / m * dZ1.dot(X.T)\n",
    "    db1 = 1 / m * np.sum(dZ1, axis = 1, keepdims = True)\n",
    "    \n",
    "    return dW1, db1, dW2, db2\n",
    "\n",
    "def update_params(W1, b1, W2, b2, dW1, db1, dW2, db2, alpha):\n",
    "        \n",
    "    W1 = W1 - alpha * dW1\n",
    "    b1 = b1 - alpha * db1\n",
    "    W2 = W2 - alpha * dW2\n",
    "    b2 = b2 - alpha * db2\n",
    "    return W1, b1, W2, b2\n",
    "\n",
    "\n",
    "\n",
    "    "
   ]
  },
  {
   "cell_type": "markdown",
   "id": "a7e3aa45",
   "metadata": {
    "papermill": {
     "duration": 0.005541,
     "end_time": "2023-01-05T05:19:10.452096",
     "exception": false,
     "start_time": "2023-01-05T05:19:10.446555",
     "status": "completed"
    },
    "tags": []
   },
   "source": [
    "# Performance"
   ]
  },
  {
   "cell_type": "code",
   "execution_count": 5,
   "id": "9ccca784",
   "metadata": {
    "execution": {
     "iopub.execute_input": "2023-01-05T05:19:10.464525Z",
     "iopub.status.busy": "2023-01-05T05:19:10.463476Z",
     "iopub.status.idle": "2023-01-05T05:19:10.473174Z",
     "shell.execute_reply": "2023-01-05T05:19:10.472138Z"
    },
    "papermill": {
     "duration": 0.018876,
     "end_time": "2023-01-05T05:19:10.476299",
     "exception": false,
     "start_time": "2023-01-05T05:19:10.457423",
     "status": "completed"
    },
    "tags": []
   },
   "outputs": [],
   "source": [
    "def get_accuracy(predictions, Y):\n",
    "    print(predictions, Y)\n",
    "    return np.sum(predictions == Y) / Y.size\n",
    "\n",
    "def get_predictions(A2):\n",
    "    return np.argmax(A2, 0)\n",
    "\n",
    "def gradient_descent(X, Y, alpha,iterations):\n",
    "    W1, b1, W2, b2 = init_params()\n",
    "    for i in range(iterations):\n",
    "        Z1, A1, Z2, A2 = forward_prop(W1, b1, W2, b2, X)\n",
    "        dW1, db1, dW2, db2 = back_prop(Z1, A1, Z2, A2, W1, W2, X, Y)\n",
    "        W1, b1, W2, b2 = update_params(W1, b1, W2, b2, dW1, db1, dW2, db2, alpha)\n",
    "        if i % 20 == 0:\n",
    "            print('Iterations : ', i)\n",
    "            print('Accuracy : ', get_accuracy(get_predictions(A2),Y))\n",
    "    return W1, b1, W2, b2"
   ]
  },
  {
   "cell_type": "markdown",
   "id": "757e49fd",
   "metadata": {
    "papermill": {
     "duration": 0.00415,
     "end_time": "2023-01-05T05:19:10.485298",
     "exception": false,
     "start_time": "2023-01-05T05:19:10.481148",
     "status": "completed"
    },
    "tags": []
   },
   "source": [
    "# Train & Test"
   ]
  },
  {
   "cell_type": "code",
   "execution_count": 6,
   "id": "4382013e",
   "metadata": {
    "execution": {
     "iopub.execute_input": "2023-01-05T05:19:10.499960Z",
     "iopub.status.busy": "2023-01-05T05:19:10.498737Z",
     "iopub.status.idle": "2023-01-05T05:19:10.509833Z",
     "shell.execute_reply": "2023-01-05T05:19:10.507549Z"
    },
    "papermill": {
     "duration": 0.021907,
     "end_time": "2023-01-05T05:19:10.512710",
     "exception": false,
     "start_time": "2023-01-05T05:19:10.490803",
     "status": "completed"
    },
    "tags": []
   },
   "outputs": [],
   "source": [
    "def make_predictions(X, W1, b1, W2, b2):\n",
    "    _, _, _, A2 = forward_prop(W1, b1, W2, b2, X)\n",
    "    predictions = get_predictions(A2)\n",
    "    return predictions\n",
    "\n",
    "def test_prediction(index, W1, b1, W2, b2):\n",
    "    current_image = X_train[:, index, None]\n",
    "    prediction = make_predictions(X_train[:, index, None], W1, b1, W2, b2)\n",
    "    label = Y_train[index]\n",
    "    print(\"Prediction: \", prediction)\n",
    "    print(\"Label: \", label)\n",
    "    \n",
    "    current_image = current_image.reshape((28, 28)) * 255\n",
    "    plt.gray()\n",
    "    plt.imshow(current_image, interpolation='nearest')\n",
    "    plt.show()"
   ]
  },
  {
   "cell_type": "code",
   "execution_count": 7,
   "id": "6e59cc26",
   "metadata": {
    "execution": {
     "iopub.execute_input": "2023-01-05T05:19:10.525908Z",
     "iopub.status.busy": "2023-01-05T05:19:10.524778Z",
     "iopub.status.idle": "2023-01-05T05:20:28.552316Z",
     "shell.execute_reply": "2023-01-05T05:20:28.550625Z"
    },
    "papermill": {
     "duration": 78.038736,
     "end_time": "2023-01-05T05:20:28.556703",
     "exception": false,
     "start_time": "2023-01-05T05:19:10.517967",
     "status": "completed"
    },
    "tags": []
   },
   "outputs": [
    {
     "name": "stdout",
     "output_type": "stream",
     "text": [
      "Iterations :  0\n",
      "[2 7 6 ... 9 2 7] [1 8 4 ... 3 4 8]\n",
      "Accuracy :  0.06576190476190476\n",
      "Iterations :  20\n",
      "[1 4 4 ... 8 4 0] [1 8 4 ... 3 4 8]\n",
      "Accuracy :  0.29892857142857143\n",
      "Iterations :  40\n",
      "[1 4 4 ... 1 4 0] [1 8 4 ... 3 4 8]\n",
      "Accuracy :  0.4949047619047619\n",
      "Iterations :  60\n",
      "[1 9 4 ... 1 4 0] [1 8 4 ... 3 4 8]\n",
      "Accuracy :  0.6053333333333333\n",
      "Iterations :  80\n",
      "[1 9 4 ... 1 4 0] [1 8 4 ... 3 4 8]\n",
      "Accuracy :  0.667\n",
      "Iterations :  100\n",
      "[1 9 4 ... 1 4 8] [1 8 4 ... 3 4 8]\n",
      "Accuracy :  0.7055\n",
      "Iterations :  120\n",
      "[1 9 4 ... 1 4 8] [1 8 4 ... 3 4 8]\n",
      "Accuracy :  0.7353809523809524\n",
      "Iterations :  140\n",
      "[1 9 4 ... 3 4 8] [1 8 4 ... 3 4 8]\n",
      "Accuracy :  0.7567619047619047\n",
      "Iterations :  160\n",
      "[1 8 4 ... 3 4 8] [1 8 4 ... 3 4 8]\n",
      "Accuracy :  0.7736428571428572\n",
      "Iterations :  180\n",
      "[1 8 4 ... 3 4 8] [1 8 4 ... 3 4 8]\n",
      "Accuracy :  0.7877142857142857\n",
      "Iterations :  200\n",
      "[1 8 4 ... 3 4 8] [1 8 4 ... 3 4 8]\n",
      "Accuracy :  0.7997619047619048\n",
      "Iterations :  220\n",
      "[1 8 4 ... 3 4 8] [1 8 4 ... 3 4 8]\n",
      "Accuracy :  0.8096904761904762\n",
      "Iterations :  240\n",
      "[1 8 4 ... 3 4 8] [1 8 4 ... 3 4 8]\n",
      "Accuracy :  0.8176904761904762\n",
      "Iterations :  260\n",
      "[1 8 4 ... 3 4 8] [1 8 4 ... 3 4 8]\n",
      "Accuracy :  0.8242142857142857\n",
      "Iterations :  280\n",
      "[1 8 4 ... 3 4 8] [1 8 4 ... 3 4 8]\n",
      "Accuracy :  0.8299761904761904\n",
      "Iterations :  300\n",
      "[1 8 4 ... 3 4 8] [1 8 4 ... 3 4 8]\n",
      "Accuracy :  0.8349047619047619\n",
      "Iterations :  320\n",
      "[1 8 4 ... 3 4 8] [1 8 4 ... 3 4 8]\n",
      "Accuracy :  0.8395476190476191\n",
      "Iterations :  340\n",
      "[1 8 4 ... 3 4 8] [1 8 4 ... 3 4 8]\n",
      "Accuracy :  0.843452380952381\n",
      "Iterations :  360\n",
      "[1 8 4 ... 3 4 8] [1 8 4 ... 3 4 8]\n",
      "Accuracy :  0.847047619047619\n",
      "Iterations :  380\n",
      "[1 8 4 ... 3 4 8] [1 8 4 ... 3 4 8]\n",
      "Accuracy :  0.8501190476190477\n",
      "Iterations :  400\n",
      "[1 8 4 ... 3 4 8] [1 8 4 ... 3 4 8]\n",
      "Accuracy :  0.8529761904761904\n",
      "Iterations :  420\n",
      "[1 8 4 ... 3 4 8] [1 8 4 ... 3 4 8]\n",
      "Accuracy :  0.856\n",
      "Iterations :  440\n",
      "[1 8 4 ... 3 4 8] [1 8 4 ... 3 4 8]\n",
      "Accuracy :  0.8585952380952381\n",
      "Iterations :  460\n",
      "[1 8 4 ... 3 4 8] [1 8 4 ... 3 4 8]\n",
      "Accuracy :  0.8609523809523809\n",
      "Iterations :  480\n",
      "[1 8 4 ... 3 4 8] [1 8 4 ... 3 4 8]\n",
      "Accuracy :  0.8632619047619048\n"
     ]
    }
   ],
   "source": [
    "W1, b1, W2, b2 = gradient_descent(X_train, Y_train, 0.15, 500)"
   ]
  },
  {
   "cell_type": "code",
   "execution_count": 8,
   "id": "57826421",
   "metadata": {
    "execution": {
     "iopub.execute_input": "2023-01-05T05:20:28.588508Z",
     "iopub.status.busy": "2023-01-05T05:20:28.587784Z",
     "iopub.status.idle": "2023-01-05T05:20:30.085804Z",
     "shell.execute_reply": "2023-01-05T05:20:30.084667Z"
    },
    "papermill": {
     "duration": 1.516867,
     "end_time": "2023-01-05T05:20:30.088500",
     "exception": false,
     "start_time": "2023-01-05T05:20:28.571633",
     "status": "completed"
    },
    "tags": []
   },
   "outputs": [
    {
     "name": "stdout",
     "output_type": "stream",
     "text": [
      "Prediction:  [6]\n",
      "Label:  2\n"
     ]
    },
    {
     "data": {
      "image/png": "[encoded data removed]",
      "text/plain": [
       "<Figure size 432x288 with 1 Axes>"
      ]
     },
     "metadata": {
      "needs_background": "light"
     },
     "output_type": "display_data"
    },
    {
     "name": "stdout",
     "output_type": "stream",
     "text": [
      "Prediction:  [8]\n",
      "Label:  8\n"
     ]
    },
    {
     "data": {
      "image/png": "[encoded data removed]",
      "text/plain": [
       "<Figure size 432x288 with 1 Axes>"
      ]
     },
     "metadata": {
      "needs_background": "light"
     },
     "output_type": "display_data"
    },
    {
     "name": "stdout",
     "output_type": "stream",
     "text": [
      "Prediction:  [6]\n",
      "Label:  6\n"
     ]
    },
    {
     "data": {
      "image/png": "[encoded data removed]",
      "text/plain": [
       "<Figure size 432x288 with 1 Axes>"
      ]
     },
     "metadata": {
      "needs_background": "light"
     },
     "output_type": "display_data"
    },
    {
     "name": "stdout",
     "output_type": "stream",
     "text": [
      "Prediction:  [7]\n",
      "Label:  7\n"
     ]
    },
    {
     "data": {
      "image/png": "[encoded data removed]",
      "text/plain": [
       "<Figure size 432x288 with 1 Axes>"
      ]
     },
     "metadata": {
      "needs_background": "light"
     },
     "output_type": "display_data"
    },
    {
     "name": "stdout",
     "output_type": "stream",
     "text": [
      "Prediction:  [9]\n",
      "Label:  9\n"
     ]
    },
    {
     "data": {
      "image/png": "[encoded data removed]",
      "text/plain": [
       "<Figure size 432x288 with 1 Axes>"
      ]
     },
     "metadata": {
      "needs_background": "light"
     },
     "output_type": "display_data"
    },
    {
     "name": "stdout",
     "output_type": "stream",
     "text": [
      "Prediction:  [0]\n",
      "Label:  0\n"
     ]
    },
    {
     "data": {
      "image/png": "[encoded data removed]",
      "text/plain": [
       "<Figure size 432x288 with 1 Axes>"
      ]
     },
     "metadata": {
      "needs_background": "light"
     },
     "output_type": "display_data"
    },
    {
     "name": "stdout",
     "output_type": "stream",
     "text": [
      "Prediction:  [9]\n",
      "Label:  7\n"
     ]
    },
    {
     "data": {
      "image/png": "[encoded data removed]",
      "text/plain": [
       "<Figure size 432x288 with 1 Axes>"
      ]
     },
     "metadata": {
      "needs_background": "light"
     },
     "output_type": "display_data"
    }
   ],
   "source": [
    "test_prediction(37, W1, b1, W2, b2)\n",
    "test_prediction(1, W1, b1, W2, b2)\n",
    "test_prediction(7, W1, b1, W2, b2)\n",
    "test_prediction(34, W1, b1, W2, b2)\n",
    "test_prediction(24, W1, b1, W2, b2)\n",
    "test_prediction(6, W1, b1, W2, b2)\n",
    "test_prediction(97, W1, b1, W2, b2)"
   ]
  },
  {
   "cell_type": "markdown",
   "id": "2a1be9d4",
   "metadata": {
    "papermill": {
     "duration": 0.00714,
     "end_time": "2023-01-05T05:20:30.104500",
     "exception": false,
     "start_time": "2023-01-05T05:20:30.097360",
     "status": "completed"
    },
    "tags": []
   },
   "source": [
    "# Limitations\n",
    "\n",
    "1. Few number of layers - it may have performed better with more hidden layers.\n",
    "\n",
    "2. Parameters(weights) Initialization - the optimal value depends on the initial value of W.\n",
    "\n",
    "3. Vanishing Gradient - vanishing gradient may have led to lack of training, even though the training dataset was large enough."
   ]
  },
  {
   "cell_type": "code",
   "execution_count": null,
   "id": "d1cf4053",
   "metadata": {
    "papermill": {
     "duration": 0.007123,
     "end_time": "2023-01-05T05:20:30.119108",
     "exception": false,
     "start_time": "2023-01-05T05:20:30.111985",
     "status": "completed"
    },
    "tags": []
   },
   "outputs": [],
   "source": []
  }
 ],
 "metadata": {
  "kernelspec": {
   "display_name": "Python 3",
   "language": "python",
   "name": "python3"
  },
  "language_info": {
   "codemirror_mode": {
    "name": "ipython",
    "version": 3
   },
   "file_extension": ".py",
   "mimetype": "text/x-python",
   "name": "python",
   "nbconvert_exporter": "python",
   "pygments_lexer": "ipython3",
   "version": "3.7.12"
  },
  "papermill": {
   "default_parameters": {},
   "duration": 95.124796,
   "end_time": "2023-01-05T05:20:30.848941",
   "environment_variables": {},
   "exception": null,
   "input_path": "__notebook__.ipynb",
   "output_path": "__notebook__.ipynb",
   "parameters": {},
   "start_time": "2023-01-05T05:18:55.724145",
   "version": "2.3.4"
  }
 },
 "nbformat": 4,
 "nbformat_minor": 5
}
